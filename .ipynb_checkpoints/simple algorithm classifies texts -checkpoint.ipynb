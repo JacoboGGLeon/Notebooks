{
 "cells": [
  {
   "cell_type": "code",
   "execution_count": 3,
   "metadata": {},
   "outputs": [
    {
     "name": "stdout",
     "output_type": "stream",
     "text": [
      "Columns:  Index(['Id', 'ProductId', 'UserId', 'ProfileName', 'HelpfulnessNumerator',\n",
      "       'HelpfulnessDenominator', 'Score', 'Time', 'Summary', 'Text'],\n",
      "      dtype='object')\n",
      "Rows:  568454  Cols:  10\n"
     ]
    }
   ],
   "source": [
    "\"\"\"\n",
    "Data exploration\n",
    "\"\"\"\n",
    "#Magic function: %matplotlib inline\n",
    "%matplotlib inline\n",
    "\n",
    "import pandas as pd\n",
    "import numpy as np\n",
    "import matplotlib.pyplot as plt\n",
    "import seaborn as sns\n",
    "\n",
    "#Set aesthetic parameters in one step\n",
    "sns.set()\n",
    "\n",
    "csv = '../datasets/Reviews.csv'\n",
    "data = pd.read_csv(csv)\n",
    "\n",
    "print(\"Columns: \", data.columns)\n",
    "print(\"Rows: \", data.shape[0], \" Cols: \", data.shape[1])"
   ]
  },
  {
   "cell_type": "code",
   "execution_count": 4,
   "metadata": {},
   "outputs": [
    {
     "name": "stdout",
     "output_type": "stream",
     "text": [
      "Score          1         2        3         4         5\n",
      "scores  0.091948  0.052368  0.07501  0.141885  0.638789\n",
      "70& of total reviews is comprised of score 4 and 5\n"
     ]
    },
    {
     "data": {
      "image/png": "[encoded data removed]",
      "text/plain": [
       "<matplotlib.figure.Figure at 0x1a0c7c6358>"
      ]
     },
     "metadata": {},
     "output_type": "display_data"
    }
   ],
   "source": [
    "score_pct = np.bincount(data['Score']) / data.shape[0]\n",
    "\n",
    "scores = pd.DataFrame(np.random.rand(1,5),\n",
    "                     index=['scores'],\n",
    "                     columns=pd.Index([1,2,3,4,5],\n",
    "                                     name='Score'))\n",
    "\n",
    "scores.iloc[0] = score_pct[1:]\n",
    "scores.plot.bar()\n",
    "\n",
    "print(scores)\n",
    "print('70& of total reviews is comprised of score 4 and 5')\n",
    "\n"
   ]
  },
  {
   "cell_type": "code",
   "execution_count": 5,
   "metadata": {},
   "outputs": [
    {
     "name": "stdout",
     "output_type": "stream",
     "text": [
      "sentiment  negative  positive\n",
      "count      0.218401  0.781599\n",
      "78% of reviews is positive\n"
     ]
    },
    {
     "data": {
      "image/png": "[encoded data removed]",
      "text/plain": [
       "<matplotlib.figure.Figure at 0x1a0ed3fac8>"
      ]
     },
     "metadata": {},
     "output_type": "display_data"
    }
   ],
   "source": [
    "\"\"\"\n",
    "Training classier and prediction\n",
    "Categorized every review as either positive or negative, \n",
    "and will train a classifier to predict these two values.\n",
    "\"\"\"\n",
    "\n",
    "#We suffle the rows and extract an % of the rows\n",
    "df_reduced = data.sample(frac=0.04, random_state=7)\n",
    "reduced_data_size = df_reduced.shape[0]\n",
    "\n",
    "#scores >= 4 positive, < negative \n",
    "reduced_labels = np.array([df_reduced['Score'] >= 4])[0][:].astype(int)\n",
    "reduced_texts = df_reduced['Text'].values\n",
    "\n",
    "#Percentage value of each sentiment \n",
    "reduced_sentiment_pct = np.bincount(reduced_labels) / reduced_data_size\n",
    "\n",
    "sentiment = pd.DataFrame(np.random.rand(1,2),\n",
    "                        index=['count'],\n",
    "                        columns=pd.Index([\"negative\", \"positive\"],\n",
    "                                        name='sentiment'))\n",
    "sentiment.iloc[0] = reduced_sentiment_pct\n",
    "sentiment.plot.bar(title=\"Ratio of each sentiment\")\n",
    "\n",
    "print(sentiment)\n",
    "print('78% of reviews is positive')\n"
   ]
  },
  {
   "cell_type": "code",
   "execution_count": 6,
   "metadata": {},
   "outputs": [
    {
     "name": "stdout",
     "output_type": "stream",
     "text": [
      "text_train:  18190\n",
      "text_test:  4548\n"
     ]
    }
   ],
   "source": [
    "#using 80% of data as training set and 20 as set test\n",
    "train_size = int(reduced_data_size*0.8)\n",
    "\n",
    "text_train = reduced_texts[:train_size]\n",
    "\n",
    "y_train = reduced_labels[:train_size]\n",
    "\n",
    "text_test = reduced_texts[train_size:]\n",
    "\n",
    "y_test = reduced_labels[train_size:]\n",
    "\n",
    "print('text_train: ', text_train.shape[0])\n",
    "print('text_test: ', text_test.shape[0])"
   ]
  },
  {
   "cell_type": "code",
   "execution_count": 7,
   "metadata": {},
   "outputs": [
    {
     "data": {
      "text/html": [
       "<img src=\"https://cdn-images-1.medium.com/max/800/1*YB7gbpsylW5rJu7ZkL5Iww.png\"/>"
      ],
      "text/plain": [
       "<IPython.core.display.Image object>"
      ]
     },
     "execution_count": 7,
     "metadata": {},
     "output_type": "execute_result"
    }
   ],
   "source": [
    "\"\"\"\n",
    "tranform the texts into an appropiate format (numerical values)\n",
    "so that a classifier can be trained on them, using two methods:\n",
    "    *Bag-of-words (tokenization text-> numerical)\n",
    "    *TFIDF\n",
    "\"\"\"\n",
    "from IPython.display import Image\n",
    "from IPython.core.display import HTML \n",
    "Image(url= \"https://cdn-images-1.medium.com/max/800/1*YB7gbpsylW5rJu7ZkL5Iww.png\")\n",
    "\n"
   ]
  },
  {
   "cell_type": "code",
   "execution_count": 8,
   "metadata": {},
   "outputs": [
    {
     "name": "stderr",
     "output_type": "stream",
     "text": [
      "/Users/jacoboleon/.pyenv/versions/anaconda3-5.0.1/lib/python3.6/importlib/_bootstrap.py:219: RuntimeWarning: numpy.dtype size changed, may indicate binary incompatibility. Expected 96, got 88\n",
      "  return f(*args, **kwds)\n"
     ]
    },
    {
     "name": "stdout",
     "output_type": "stream",
     "text": [
      "Xtrain:  (18190, 27093) sparse matrix\n",
      "Xtest:  (4548, 27093) sparse matrix\n"
     ]
    }
   ],
   "source": [
    "from sklearn.feature_extraction.text import CountVectorizer\n",
    "vect = CountVectorizer().fit(text_train)\n",
    "\n",
    "X_train = vect.transform(text_train)\n",
    "print(\"Xtrain: \", X_train.shape, \"sparse matrix\")\n",
    "\n",
    "X_test = vect.transform(text_test)\n",
    "print(\"Xtest: \", X_test.shape, \"sparse matrix\")\n",
    "\n",
    "# a sparse matrix is a matrix that contains only non-zero entries"
   ]
  },
  {
   "cell_type": "code",
   "execution_count": 9,
   "metadata": {},
   "outputs": [
    {
     "data": {
      "text/plain": [
       "'\\nFit a logistic regression\\n\\nNote:\\n\\nI use class_weigtht=”balanced” in instantiation below.\\nThis has the effect of penalizing the mistakes on minority \\nclass, negative class in this dataset.\\n\\nI use GridSearchCV with “roc_auc”, not “classification \\naccuracy”. Justification of this is written in the below \\nsection.\\n\\n'"
      ]
     },
     "execution_count": 9,
     "metadata": {},
     "output_type": "execute_result"
    }
   ],
   "source": [
    "\"\"\"\n",
    "Fit a logistic regression\n",
    "\n",
    "Note:\n",
    "\n",
    "I use class_weigtht=”balanced” in instantiation below.\n",
    "This has the effect of penalizing the mistakes on minority \n",
    "class, negative class in this dataset.\n",
    "\n",
    "I use GridSearchCV with “roc_auc”, not “classification \n",
    "accuracy”. Justification of this is written in the below \n",
    "section.\n",
    "\n",
    "\"\"\""
   ]
  },
  {
   "cell_type": "code",
   "execution_count": 10,
   "metadata": {},
   "outputs": [
    {
     "name": "stderr",
     "output_type": "stream",
     "text": [
      "/Users/jacoboleon/.pyenv/versions/anaconda3-5.0.1/lib/python3.6/importlib/_bootstrap.py:219: RuntimeWarning: numpy.dtype size changed, may indicate binary incompatibility. Expected 96, got 88\n",
      "  return f(*args, **kwds)\n"
     ]
    },
    {
     "name": "stdout",
     "output_type": "stream",
     "text": [
      "[[ 811  199]\n",
      " [ 432 3106]]\n",
      "Classification accuracy is:  0.86125769569\n"
     ]
    }
   ],
   "source": [
    "from sklearn.pipeline import make_pipeline\n",
    "from sklearn.model_selection import GridSearchCV\n",
    "from sklearn.metrics import confusion_matrix\n",
    "from sklearn.linear_model import LogisticRegression\n",
    "\n",
    "logreg = LogisticRegression(class_weight=\"balanced\",\n",
    "                           random_state=0)\n",
    "param_grid = {'C': [0.01, 0.1, 1, 10, 100]}\n",
    "\n",
    "grid = GridSearchCV(logreg, param_grid, scoring=\"roc_auc\",\n",
    "                   cv=5)\n",
    "\n",
    "logreg_train = grid.fit(X_train, y_train)\n",
    "\n",
    "pred_logreg = logreg_train.predict(X_test)\n",
    "\n",
    "confusion = confusion_matrix(y_test, pred_logreg)\n",
    "\n",
    "print(confusion)\n",
    "\n",
    "print(\"Classification accuracy is: \", (confusion[0][0] + confusion[1][1]) / np.sum(confusion))"
   ]
  },
  {
   "cell_type": "code",
   "execution_count": 11,
   "metadata": {},
   "outputs": [
    {
     "name": "stdout",
     "output_type": "stream",
     "text": [
      "True Negatives:  811\n",
      "True Positives:  199\n",
      "False Negatives:  432\n",
      "False Positives:  3106\n"
     ]
    },
    {
     "data": {
      "text/html": [
       "<img src=\"https://cdn-images-1.medium.com/max/800/1*GpAqhezaMuldOt5i4PvdkQ.png\"/>"
      ],
      "text/plain": [
       "<IPython.core.display.Image object>"
      ]
     },
     "execution_count": 11,
     "metadata": {},
     "output_type": "execute_result"
    }
   ],
   "source": [
    "\"\"\"\n",
    "In general, we want to increase the number of True Negatives and that of True Positives. \n",
    "while minimizing the number of False Negatives and False Positives\n",
    "\n",
    "Classification accuracy is calculated as : (TN+TP) / (TN+TP+FP + FN).\n",
    "\n",
    "\"\"\"\n",
    "print(\"True Negatives: \", confusion[0][0])\n",
    "print(\"True Positives: \", confusion[0][1])\n",
    "print(\"False Negatives: \", confusion[1][0])\n",
    "print(\"False Positives: \", confusion[1][1])\n",
    "\n",
    "\n",
    "from IPython.display import Image\n",
    "from IPython.core.display import HTML \n",
    "Image(url= \"https://cdn-images-1.medium.com/max/800/1*GpAqhezaMuldOt5i4PvdkQ.png\")\n"
   ]
  },
  {
   "cell_type": "code",
   "execution_count": 16,
   "metadata": {},
   "outputs": [
    {
     "data": {
      "text/plain": [
       "'\\nROC & AUC\\n\\nROC: a curve plotted against False Positive Rate (FPR) and\\nTrue Positive Rate (TPR) and it considers all thresholds of a classifier.\\n(TPR is also called Recall.)\\nThe best point is a top-left corner where the lowest FPR \\nand the highest TPR can be achieved.\\n(Best point: min FPR & max TPR)\\n\\nAUC: Area Under the ROC Curve. Possibles values it can take\\ncalled Range of AUC is [0,1] (worst, best).\\nRandom prediction always results in 0.5 AUC score.\\nAUC is the probability that a randomly selected sample from\\npositive class gives higher score than a sample from negative class,\\nor degree of condifence in positive class.\\nThus  AUC gives traditional information about the prediction, \\nnamely information about both a comparision of models \\n(e.g. some model might be a random classifier) and a appropiate threshold\\nwich may produce a higher classification rate. That is why\\nI used AUC as a metric in GridSearch\\n'"
      ]
     },
     "execution_count": 16,
     "metadata": {},
     "output_type": "execute_result"
    }
   ],
   "source": [
    "\"\"\"\n",
    "ROC & AUC\n",
    "\n",
    "ROC: a curve plotted against False Positive Rate (FPR) and\n",
    "True Positive Rate (TPR) and it considers all thresholds of a classifier.\n",
    "(TPR is also called Recall.)\n",
    "The best point is a top-left corner where the lowest FPR \n",
    "and the highest TPR can be achieved.\n",
    "(Best point: min FPR & max TPR)\n",
    "\n",
    "AUC: Area Under the ROC Curve. Possibles values it can take\n",
    "called Range of AUC is [0,1] (worst, best).\n",
    "Random prediction always results in 0.5 AUC score.\n",
    "AUC is the probability that a randomly selected sample from\n",
    "positive class gives higher score than a sample from negative class,\n",
    "or degree of condifence in positive class.\n",
    "Thus  AUC gives traditional information about the prediction, \n",
    "namely information about both a comparision of models \n",
    "(e.g. some model might be a random classifier) and a appropiate threshold\n",
    "wich may produce a higher classification rate. That is why\n",
    "I used AUC as a metric in GridSearch\n",
    "\"\"\""
   ]
  },
  {
   "cell_type": "code",
   "execution_count": 15,
   "metadata": {},
   "outputs": [
    {
     "name": "stdout",
     "output_type": "stream",
     "text": [
      "AUC score is:  0.905772965652\n"
     ]
    },
    {
     "data": {
      "image/png": "[encoded data removed]",
      "text/plain": [
       "<matplotlib.figure.Figure at 0x1a107a1828>"
      ]
     },
     "metadata": {},
     "output_type": "display_data"
    }
   ],
   "source": [
    "from sklearn.metrics import roc_curve\n",
    "from sklearn.metrics import auc\n",
    "\n",
    "fpr, tpr, thresholds = roc_curve(y_test, \n",
    "                                 grid.decision_function(X_test))\n",
    "#find threshold closest to zero\n",
    "close_zero = np.argmin(np.abs(thresholds))\n",
    "\n",
    "plt.plot(fpr[close_zero], tpr[close_zero], 'o', \n",
    "         markersize=10, label=\"threshold zero (default)\",\n",
    "        fillstyle=\"none\", c='k', mew=2)\n",
    "\n",
    "plt.plot([0,1], linestyle='-', color='r', label='random',\n",
    "        alpha=0.8)\n",
    "\n",
    "plt.legend(loc=4)\n",
    "\n",
    "plt.plot(fpr, tpr, label=\"ROC Curve\")\n",
    "\n",
    "plt.xlabel(\"False Positive Rate\")\n",
    "\n",
    "plt.ylabel(\"True Positive Rate (Recall)\")\n",
    "\n",
    "plt.title(\"Roc Curve\")\n",
    "\n",
    "print(\"AUC score is: \", auc(fpr, tpr))\n"
   ]
  },
  {
   "cell_type": "code",
   "execution_count": 21,
   "metadata": {},
   "outputs": [
    {
     "data": {
      "text/plain": [
       "<matplotlib.legend.Legend at 0x1a11720a20>"
      ]
     },
     "execution_count": 21,
     "metadata": {},
     "output_type": "execute_result"
    },
    {
     "data": {
      "image/png": "[encoded data removed]",
      "text/plain": [
       "<matplotlib.figure.Figure at 0x1a11859c50>"
      ]
     },
     "metadata": {},
     "output_type": "display_data"
    }
   ],
   "source": [
    "from sklearn.metrics import precision_recall_curve\n",
    "\n",
    "precision, recall, thresholds = \\\n",
    "precision_recall_curve(y_test, \n",
    "                       logreg_train.decision_function(X_test))\n",
    "\n",
    "close_zero = np.argmin(np.abs(thresholds))\n",
    "\n",
    "plt.plot(precision[close_zero], recall[close_zero], 'o',\n",
    "        markersize=10, label=\"Threshold zero\", fillstyle=\"none\",\n",
    "        c=\"k\", mew=2)\n",
    "\n",
    "plt.plot(precision, recall, label=\"Precision Recall Curve\")\n",
    "plt.xlabel(\"Precision\")\n",
    "plt.ylabel(\"Recall\")\n",
    "plt.title(\"Precision Recall Curve\")\n",
    "plt.legend(loc=\"best\")\n"
   ]
  },
  {
   "cell_type": "code",
   "execution_count": null,
   "metadata": {},
   "outputs": [],
   "source": [
    "https://towardsdatascience.com/how-a-simple-algorithm-classifies-texts-with-moderate-accuracy-79f0cd9eb47"
   ]
  }
 ],
 "metadata": {
  "kernelspec": {
   "display_name": "Python 3",
   "language": "python",
   "name": "python3"
  },
  "language_info": {
   "codemirror_mode": {
    "name": "ipython",
    "version": 3
   },
   "file_extension": ".py",
   "mimetype": "text/x-python",
   "name": "python",
   "nbconvert_exporter": "python",
   "pygments_lexer": "ipython3",
   "version": "3.6.3"
  }
 },
 "nbformat": 4,
 "nbformat_minor": 2
}
