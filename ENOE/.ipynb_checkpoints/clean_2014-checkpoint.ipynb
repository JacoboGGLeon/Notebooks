{
 "cells": [
  {
   "cell_type": "code",
   "execution_count": 132,
   "metadata": {},
   "outputs": [],
   "source": [
    "import pandas as pd\n",
    "import numpy as np"
   ]
  },
  {
   "cell_type": "markdown",
   "metadata": {},
   "source": [
    "# Encuesta Nacional de Ocupación y Empleo\n",
    "## Estructura de la tabla de datos de SOCIODEMOGRÁFICO\n",
    "### Nombre de la tabla de datos: SDEMT<PERIODO>.csv"
   ]
  },
  {
   "cell_type": "markdown",
   "metadata": {},
   "source": [
    "# Carga de Datos"
   ]
  },
  {
   "cell_type": "code",
   "execution_count": 2,
   "metadata": {},
   "outputs": [
    {
     "data": {
      "text/html": [
       "<div>\n",
       "<style scoped>\n",
       "    .dataframe tbody tr th:only-of-type {\n",
       "        vertical-align: middle;\n",
       "    }\n",
       "\n",
       "    .dataframe tbody tr th {\n",
       "        vertical-align: top;\n",
       "    }\n",
       "\n",
       "    .dataframe thead th {\n",
       "        text-align: right;\n",
       "    }\n",
       "</style>\n",
       "<table border=\"1\" class=\"dataframe\">\n",
       "  <thead>\n",
       "    <tr style=\"text-align: right;\">\n",
       "      <th></th>\n",
       "      <th>Unnamed: 0</th>\n",
       "      <th>r_def</th>\n",
       "      <th>loc</th>\n",
       "      <th>mun</th>\n",
       "      <th>est</th>\n",
       "      <th>est_d</th>\n",
       "      <th>ageb</th>\n",
       "      <th>t_loc</th>\n",
       "      <th>cd_a</th>\n",
       "      <th>ent</th>\n",
       "      <th>...</th>\n",
       "      <th>ma48me1sm</th>\n",
       "      <th>p14apoyos</th>\n",
       "      <th>scian</th>\n",
       "      <th>t_tra</th>\n",
       "      <th>emp_ppal</th>\n",
       "      <th>tue_ppal</th>\n",
       "      <th>trans_ppal</th>\n",
       "      <th>mh_fil2</th>\n",
       "      <th>mh_col</th>\n",
       "      <th>sec_ins</th>\n",
       "    </tr>\n",
       "  </thead>\n",
       "  <tbody>\n",
       "    <tr>\n",
       "      <th>0</th>\n",
       "      <td>0</td>\n",
       "      <td>0</td>\n",
       "      <td>1</td>\n",
       "      <td>2</td>\n",
       "      <td>10</td>\n",
       "      <td>103</td>\n",
       "      <td>0</td>\n",
       "      <td>1</td>\n",
       "      <td>1</td>\n",
       "      <td>9</td>\n",
       "      <td>...</td>\n",
       "      <td>0</td>\n",
       "      <td>2</td>\n",
       "      <td>19</td>\n",
       "      <td>1</td>\n",
       "      <td>1</td>\n",
       "      <td>1</td>\n",
       "      <td>0</td>\n",
       "      <td>1</td>\n",
       "      <td>1</td>\n",
       "      <td>8</td>\n",
       "    </tr>\n",
       "    <tr>\n",
       "      <th>1</th>\n",
       "      <td>1</td>\n",
       "      <td>0</td>\n",
       "      <td>1</td>\n",
       "      <td>2</td>\n",
       "      <td>10</td>\n",
       "      <td>103</td>\n",
       "      <td>0</td>\n",
       "      <td>1</td>\n",
       "      <td>1</td>\n",
       "      <td>9</td>\n",
       "      <td>...</td>\n",
       "      <td>0</td>\n",
       "      <td>2</td>\n",
       "      <td>7</td>\n",
       "      <td>1</td>\n",
       "      <td>1</td>\n",
       "      <td>1</td>\n",
       "      <td>0</td>\n",
       "      <td>1</td>\n",
       "      <td>1</td>\n",
       "      <td>8</td>\n",
       "    </tr>\n",
       "    <tr>\n",
       "      <th>2</th>\n",
       "      <td>2</td>\n",
       "      <td>0</td>\n",
       "      <td>1</td>\n",
       "      <td>2</td>\n",
       "      <td>10</td>\n",
       "      <td>103</td>\n",
       "      <td>0</td>\n",
       "      <td>1</td>\n",
       "      <td>1</td>\n",
       "      <td>9</td>\n",
       "      <td>...</td>\n",
       "      <td>0</td>\n",
       "      <td>2</td>\n",
       "      <td>19</td>\n",
       "      <td>1</td>\n",
       "      <td>1</td>\n",
       "      <td>2</td>\n",
       "      <td>0</td>\n",
       "      <td>2</td>\n",
       "      <td>1</td>\n",
       "      <td>9</td>\n",
       "    </tr>\n",
       "    <tr>\n",
       "      <th>3</th>\n",
       "      <td>3</td>\n",
       "      <td>0</td>\n",
       "      <td>1</td>\n",
       "      <td>2</td>\n",
       "      <td>30</td>\n",
       "      <td>105</td>\n",
       "      <td>0</td>\n",
       "      <td>1</td>\n",
       "      <td>1</td>\n",
       "      <td>9</td>\n",
       "      <td>...</td>\n",
       "      <td>0</td>\n",
       "      <td>2</td>\n",
       "      <td>0</td>\n",
       "      <td>1</td>\n",
       "      <td>0</td>\n",
       "      <td>0</td>\n",
       "      <td>0</td>\n",
       "      <td>0</td>\n",
       "      <td>0</td>\n",
       "      <td>0</td>\n",
       "    </tr>\n",
       "    <tr>\n",
       "      <th>4</th>\n",
       "      <td>4</td>\n",
       "      <td>0</td>\n",
       "      <td>1</td>\n",
       "      <td>2</td>\n",
       "      <td>30</td>\n",
       "      <td>105</td>\n",
       "      <td>0</td>\n",
       "      <td>1</td>\n",
       "      <td>1</td>\n",
       "      <td>9</td>\n",
       "      <td>...</td>\n",
       "      <td>0</td>\n",
       "      <td>2</td>\n",
       "      <td>0</td>\n",
       "      <td>1</td>\n",
       "      <td>0</td>\n",
       "      <td>0</td>\n",
       "      <td>0</td>\n",
       "      <td>0</td>\n",
       "      <td>0</td>\n",
       "      <td>0</td>\n",
       "    </tr>\n",
       "  </tbody>\n",
       "</table>\n",
       "<p>5 rows × 105 columns</p>\n",
       "</div>"
      ],
      "text/plain": [
       "   Unnamed: 0  r_def  loc  mun  est  est_d  ageb  t_loc  cd_a  ent   ...     \\\n",
       "0           0      0    1    2   10    103     0      1     1    9   ...      \n",
       "1           1      0    1    2   10    103     0      1     1    9   ...      \n",
       "2           2      0    1    2   10    103     0      1     1    9   ...      \n",
       "3           3      0    1    2   30    105     0      1     1    9   ...      \n",
       "4           4      0    1    2   30    105     0      1     1    9   ...      \n",
       "\n",
       "   ma48me1sm  p14apoyos  scian  t_tra  emp_ppal  tue_ppal  trans_ppal  \\\n",
       "0          0          2     19      1         1         1           0   \n",
       "1          0          2      7      1         1         1           0   \n",
       "2          0          2     19      1         1         2           0   \n",
       "3          0          2      0      1         0         0           0   \n",
       "4          0          2      0      1         0         0           0   \n",
       "\n",
       "   mh_fil2  mh_col  sec_ins  \n",
       "0        1       1        8  \n",
       "1        1       1        8  \n",
       "2        2       1        9  \n",
       "3        0       0        0  \n",
       "4        0       0        0  \n",
       "\n",
       "[5 rows x 105 columns]"
      ]
     },
     "execution_count": 2,
     "metadata": {},
     "output_type": "execute_result"
    }
   ],
   "source": [
    "path_df_sdemt_2014 = '../../Datasets/ENOE/dataframes/sdemt_2014.csv'\n",
    "\n",
    "df_sdemt_2014 = pd.read_csv(path_df_sdemt_2014, low_memory=False)\n",
    "\n",
    "df_sdemt_2014.head()"
   ]
  },
  {
   "cell_type": "code",
   "execution_count": 4,
   "metadata": {},
   "outputs": [
    {
     "data": {
      "text/plain": [
       "(1620545, 105)"
      ]
     },
     "execution_count": 4,
     "metadata": {},
     "output_type": "execute_result"
    }
   ],
   "source": [
    "df_sdemt_2014.shape"
   ]
  },
  {
   "cell_type": "code",
   "execution_count": 53,
   "metadata": {},
   "outputs": [],
   "source": [
    "df_copy_sdemt_2014 = df_sdemt_2014.copy()"
   ]
  },
  {
   "cell_type": "code",
   "execution_count": 54,
   "metadata": {},
   "outputs": [
    {
     "data": {
      "text/plain": [
       "(1620545, 105)"
      ]
     },
     "execution_count": 54,
     "metadata": {},
     "output_type": "execute_result"
    }
   ],
   "source": [
    "df_copy_sdemt_2014.shape"
   ]
  },
  {
   "cell_type": "markdown",
   "metadata": {},
   "source": [
    "# Limpieza de datos"
   ]
  },
  {
   "cell_type": "markdown",
   "metadata": {},
   "source": [
    "## Resultado definitivo de la entrevista `r_def`\n",
    "+ `00`: Entrevista completa\n",
    "+ `15`: Entrevista suspendida"
   ]
  },
  {
   "cell_type": "code",
   "execution_count": 55,
   "metadata": {},
   "outputs": [
    {
     "data": {
      "text/plain": [
       "0     1620303\n",
       "15        242\n",
       "Name: r_def, dtype: int64"
      ]
     },
     "execution_count": 55,
     "metadata": {},
     "output_type": "execute_result"
    }
   ],
   "source": [
    "df_copy_sdemt_2014.r_def.value_counts()"
   ]
  },
  {
   "cell_type": "code",
   "execution_count": 56,
   "metadata": {},
   "outputs": [],
   "source": [
    "df_copy_sdemt_2014.drop(df_copy_sdemt_2014[(df_copy_sdemt_2014['r_def'] == 15)].index, inplace=True)"
   ]
  },
  {
   "cell_type": "code",
   "execution_count": 57,
   "metadata": {},
   "outputs": [
    {
     "data": {
      "text/plain": [
       "0    1620303\n",
       "Name: r_def, dtype: int64"
      ]
     },
     "execution_count": 57,
     "metadata": {},
     "output_type": "execute_result"
    }
   ],
   "source": [
    "df_copy_sdemt_2014.r_def.value_counts()"
   ]
  },
  {
   "cell_type": "markdown",
   "metadata": {},
   "source": [
    "## Número de la localidad `loc`\n",
    "+ `0001-9998`"
   ]
  },
  {
   "cell_type": "code",
   "execution_count": 58,
   "metadata": {},
   "outputs": [
    {
     "data": {
      "text/plain": [
       "1       1198136\n",
       "2         12894\n",
       "3         10411\n",
       "8          9831\n",
       "14         9289\n",
       "5          9160\n",
       "7          8878\n",
       "6          8276\n",
       "11         7715\n",
       "37         6763\n",
       "17         6647\n",
       "4          6607\n",
       "13         6569\n",
       "10         5578\n",
       "12         5497\n",
       "16         5465\n",
       "122        5370\n",
       "9          5317\n",
       "25         4384\n",
       "24         4319\n",
       "26         4278\n",
       "34         4247\n",
       "18         4220\n",
       "23         4089\n",
       "44         4029\n",
       "20         3970\n",
       "21         3889\n",
       "19         3713\n",
       "30         3491\n",
       "35         3455\n",
       "         ...   \n",
       "361           4\n",
       "1432          4\n",
       "1286          3\n",
       "1518          3\n",
       "189           3\n",
       "2234          3\n",
       "287           3\n",
       "1401          3\n",
       "641           3\n",
       "692           2\n",
       "981           2\n",
       "2628          2\n",
       "1034          2\n",
       "1150          2\n",
       "776           2\n",
       "1284          2\n",
       "1345          2\n",
       "643           2\n",
       "1837          2\n",
       "276           2\n",
       "2626          2\n",
       "334           2\n",
       "463           2\n",
       "1269          2\n",
       "166           1\n",
       "929           1\n",
       "182           1\n",
       "606           1\n",
       "328           1\n",
       "1130          1\n",
       "Name: loc, Length: 625, dtype: int64"
      ]
     },
     "execution_count": 58,
     "metadata": {},
     "output_type": "execute_result"
    }
   ],
   "source": [
    "df_copy_sdemt_2014['loc'].value_counts()"
   ]
  },
  {
   "cell_type": "markdown",
   "metadata": {},
   "source": [
    "## Número de municipio según entidad `mun`\n",
    "+ `001-575`"
   ]
  },
  {
   "cell_type": "code",
   "execution_count": 59,
   "metadata": {},
   "outputs": [
    {
     "data": {
      "text/plain": [
       "1      87230\n",
       "4      81078\n",
       "5      79982\n",
       "2      67735\n",
       "6      57705\n",
       "17     57102\n",
       "30     55911\n",
       "3      55676\n",
       "20     51261\n",
       "7      41363\n",
       "39     36292\n",
       "101    34833\n",
       "114    32634\n",
       "53     32197\n",
       "14     32191\n",
       "10     31499\n",
       "28     31173\n",
       "19     29416\n",
       "50     27540\n",
       "8      25782\n",
       "48     25187\n",
       "9      23906\n",
       "11     23030\n",
       "18     21096\n",
       "106    20910\n",
       "35     20541\n",
       "193    18943\n",
       "67     17654\n",
       "38     17126\n",
       "33     15869\n",
       "       ...  \n",
       "253      242\n",
       "554      237\n",
       "559      236\n",
       "473      233\n",
       "95       233\n",
       "151      221\n",
       "317      218\n",
       "150      218\n",
       "191      217\n",
       "333      214\n",
       "456      210\n",
       "519      201\n",
       "492      192\n",
       "439      178\n",
       "470      177\n",
       "420      172\n",
       "427      170\n",
       "307      157\n",
       "211      155\n",
       "213      148\n",
       "209      147\n",
       "545      144\n",
       "136      136\n",
       "500      135\n",
       "403      119\n",
       "422      110\n",
       "234       92\n",
       "186       89\n",
       "431       79\n",
       "334       75\n",
       "Name: mun, Length: 239, dtype: int64"
      ]
     },
     "execution_count": 59,
     "metadata": {},
     "output_type": "execute_result"
    }
   ],
   "source": [
    "df_copy_sdemt_2014['mun'].value_counts()"
   ]
  },
  {
   "cell_type": "markdown",
   "metadata": {},
   "source": [
    "## Estrato `est`\n",
    "+ Primer dígito `1-4`: El primer Carácter es la clave del estrato nacional \n",
    "+ Segundo dígito `0-4`: El segundo se usa para el subestrato o estrato estatal"
   ]
  },
  {
   "cell_type": "code",
   "execution_count": 60,
   "metadata": {},
   "outputs": [
    {
     "data": {
      "text/plain": [
       "20    802676\n",
       "30    418390\n",
       "10    224363\n",
       "40    174874\n",
       "Name: est, dtype: int64"
      ]
     },
     "execution_count": 60,
     "metadata": {},
     "output_type": "execute_result"
    }
   ],
   "source": [
    "df_copy_sdemt_2014['est'].value_counts()"
   ]
  },
  {
   "cell_type": "markdown",
   "metadata": {},
   "source": [
    "## Tamaño de localidad `t_loc`\n",
    "+ `1`: Localidades mayores de 100 000 habitantes \n",
    "+ `2`: Localidades de 15 000 a 99 999 habitantes \n",
    "+ `3`: Localidades de 2 500 a 14 999 habitantes \n",
    "+ `4`: Localidades menores de 2 500 habitantes"
   ]
  },
  {
   "cell_type": "code",
   "execution_count": 61,
   "metadata": {},
   "outputs": [
    {
     "data": {
      "text/plain": [
       "1    943938\n",
       "4    257150\n",
       "2    214404\n",
       "3    204811\n",
       "Name: t_loc, dtype: int64"
      ]
     },
     "execution_count": 61,
     "metadata": {},
     "output_type": "execute_result"
    }
   ],
   "source": [
    "df_copy_sdemt_2014['t_loc'].value_counts()"
   ]
  },
  {
   "cell_type": "markdown",
   "metadata": {},
   "source": [
    "## Entidad `ent`\n",
    "+ `01-32`: "
   ]
  },
  {
   "cell_type": "code",
   "execution_count": 62,
   "metadata": {},
   "outputs": [
    {
     "data": {
      "text/plain": [
       "15    73872\n",
       "11    70703\n",
       "21    62247\n",
       "14    60416\n",
       "7     59292\n",
       "20    57816\n",
       "19    55730\n",
       "30    55138\n",
       "12    53925\n",
       "1     52055\n",
       "32    51749\n",
       "24    51298\n",
       "27    50554\n",
       "5     50418\n",
       "16    50151\n",
       "2     50148\n",
       "29    48543\n",
       "18    48375\n",
       "25    47990\n",
       "10    47209\n",
       "31    46721\n",
       "22    46706\n",
       "4     45954\n",
       "8     45770\n",
       "28    45313\n",
       "26    44638\n",
       "17    44575\n",
       "6     43713\n",
       "13    43575\n",
       "23    41327\n",
       "9     39946\n",
       "3     34436\n",
       "Name: ent, dtype: int64"
      ]
     },
     "execution_count": 62,
     "metadata": {},
     "output_type": "execute_result"
    }
   ],
   "source": [
    "df_copy_sdemt_2014['ent'].value_counts()"
   ]
  },
  {
   "cell_type": "markdown",
   "metadata": {},
   "source": [
    "## Periodo `per`\n",
    "+ Primer dígito Trimestre de año:\n",
    "    + `1`:  Enero-Marzo\n",
    "    + `2`: Abril-Junio \n",
    "    + `3`: Julio-Septiembre \n",
    "    + `4`: Octubre-Diciembre\n",
    "+ Segundo y tercer dígito:\n",
    "    + `05-99`: Año en curso"
   ]
  },
  {
   "cell_type": "code",
   "execution_count": 63,
   "metadata": {},
   "outputs": [
    {
     "data": {
      "text/plain": [
       "214    406047\n",
       "314    405750\n",
       "414    404573\n",
       "114    403933\n",
       "Name: per, dtype: int64"
      ]
     },
     "execution_count": 63,
     "metadata": {},
     "output_type": "execute_result"
    }
   ],
   "source": [
    "df_copy_sdemt_2014['per'].value_counts()"
   ]
  },
  {
   "cell_type": "markdown",
   "metadata": {},
   "source": [
    "## Sexo `sex`\n",
    "+ `1`: Hombre\n",
    "+ `2`: Mujer"
   ]
  },
  {
   "cell_type": "code",
   "execution_count": 64,
   "metadata": {},
   "outputs": [
    {
     "data": {
      "text/plain": [
       "2    820928\n",
       "1    769820\n",
       "      29555\n",
       "Name: sex, dtype: int64"
      ]
     },
     "execution_count": 64,
     "metadata": {},
     "output_type": "execute_result"
    }
   ],
   "source": [
    "df_copy_sdemt_2014['sex'].value_counts()"
   ]
  },
  {
   "cell_type": "code",
   "execution_count": 65,
   "metadata": {},
   "outputs": [],
   "source": [
    "df_copy_sdemt_2014.drop(df_copy_sdemt_2014[(df_copy_sdemt_2014['sex'] == ' ')].index, inplace=True) "
   ]
  },
  {
   "cell_type": "code",
   "execution_count": 66,
   "metadata": {},
   "outputs": [
    {
     "data": {
      "text/plain": [
       "2    820928\n",
       "1    769820\n",
       "Name: sex, dtype: int64"
      ]
     },
     "execution_count": 66,
     "metadata": {},
     "output_type": "execute_result"
    }
   ],
   "source": [
    "df_copy_sdemt_2014['sex'].value_counts()"
   ]
  },
  {
   "cell_type": "markdown",
   "metadata": {},
   "source": [
    "## Edad `eda`\n",
    "+ `0`: Menores de 1 año\n",
    "+ `01-96`: Número de años cumplidos del integrante del hogar\n",
    "+ `97`: 97 años y más\n",
    "+ `98`: Edad no especificada para mayores (12 años y más)\n",
    "+ `99`: Edad no especificada para menores (00 a 11 años)"
   ]
  },
  {
   "cell_type": "code",
   "execution_count": 67,
   "metadata": {},
   "outputs": [
    {
     "data": {
      "text/plain": [
       "13    31028\n",
       "18    30907\n",
       "12    30659\n",
       "14    30607\n",
       "11    29970\n",
       "10    29926\n",
       "15    29679\n",
       "19    29610\n",
       "16    29482\n",
       "7     29363\n",
       "9     29345\n",
       "17    29271\n",
       "20    29159\n",
       "8     29049\n",
       "6     28924\n",
       "21    28636\n",
       "22    28375\n",
       "5     28345\n",
       "3     27905\n",
       "4     27884\n",
       "23    27791\n",
       "2     27059\n",
       "24    26564\n",
       "1     26225\n",
       "25    25200\n",
       "40    24682\n",
       "30    24077\n",
       "26    24032\n",
       "28    23604\n",
       "27    23540\n",
       "      ...  \n",
       "69     6613\n",
       "71     6173\n",
       "73     5993\n",
       "72     5387\n",
       "74     5221\n",
       "75     5000\n",
       "76     4471\n",
       "78     3973\n",
       "77     3886\n",
       "79     3491\n",
       "80     3459\n",
       "81     2850\n",
       "84     2540\n",
       "83     2421\n",
       "82     2216\n",
       "85     2034\n",
       "86     1540\n",
       "87     1285\n",
       "88     1140\n",
       "89     1064\n",
       "90      936\n",
       "91      707\n",
       "97      571\n",
       "98      503\n",
       "93      477\n",
       "92      467\n",
       "94      416\n",
       "95      277\n",
       "96      219\n",
       "99       55\n",
       "Name: eda, Length: 100, dtype: int64"
      ]
     },
     "execution_count": 67,
     "metadata": {},
     "output_type": "execute_result"
    }
   ],
   "source": [
    "df_copy_sdemt_2014['eda'] = df_copy_sdemt_2014['eda'].astype('int64')\n",
    "df_copy_sdemt_2014['eda'].value_counts()"
   ]
  },
  {
   "cell_type": "markdown",
   "metadata": {},
   "source": [
    "## Día de nacimiento `nac_dia`\n",
    "+ `0-31`: Día de la fecha de nacimiento\n",
    "+ `99`: No sabe/no contesta"
   ]
  },
  {
   "cell_type": "code",
   "execution_count": 68,
   "metadata": {},
   "outputs": [
    {
     "data": {
      "text/plain": [
       "99    83904\n",
       "15    54910\n",
       "10    53639\n",
       "20    53083\n",
       "1     51972\n",
       "2     51728\n",
       "12    51327\n",
       "8     50385\n",
       "3     50243\n",
       "5     49865\n",
       "24    49830\n",
       "4     49697\n",
       "17    49646\n",
       "6     49516\n",
       "28    49471\n",
       "13    49459\n",
       "16    49368\n",
       "18    49146\n",
       "7     48998\n",
       "19    48769\n",
       "22    48654\n",
       "11    48229\n",
       "9     48134\n",
       "25    47979\n",
       "27    47858\n",
       "21    47838\n",
       "14    47812\n",
       "23    47272\n",
       "26    46749\n",
       "30    45761\n",
       "29    43724\n",
       "31    25782\n",
       "Name: nac_dia, dtype: int64"
      ]
     },
     "execution_count": 68,
     "metadata": {},
     "output_type": "execute_result"
    }
   ],
   "source": [
    "df_copy_sdemt_2014['nac_dia'] = df_copy_sdemt_2014['nac_dia'].astype('int64')\n",
    "df_copy_sdemt_2014['nac_dia'].value_counts()"
   ]
  },
  {
   "cell_type": "markdown",
   "metadata": {},
   "source": [
    "## Mes de nacimiento `nac_mes`\n",
    "+ `1-12`: Día de la fecha de nacimiento\n",
    "+ `99`: No sabe/no contesta"
   ]
  },
  {
   "cell_type": "code",
   "execution_count": 69,
   "metadata": {},
   "outputs": [
    {
     "data": {
      "text/plain": [
       "8     135785\n",
       "9     133984\n",
       "10    133354\n",
       "12    130132\n",
       "7     129125\n",
       "1     127497\n",
       "11    126313\n",
       "5     125771\n",
       "6     123906\n",
       "3     123396\n",
       "4     120021\n",
       "2     115806\n",
       "99     65658\n",
       "Name: nac_mes, dtype: int64"
      ]
     },
     "execution_count": 69,
     "metadata": {},
     "output_type": "execute_result"
    }
   ],
   "source": [
    "df_copy_sdemt_2014['nac_mes'] = df_copy_sdemt_2014['nac_mes'].astype('int64')\n",
    "df_copy_sdemt_2014['nac_mes'].value_counts()"
   ]
  },
  {
   "cell_type": "markdown",
   "metadata": {},
   "source": [
    "## Año de nacimiento `nac_anio`\n",
    "+ `1900-9999`: Día de la fecha de nacimiento\n",
    "+ `99`: No sabe/no contesta"
   ]
  },
  {
   "cell_type": "code",
   "execution_count": 70,
   "metadata": {},
   "outputs": [
    {
     "data": {
      "text/plain": [
       "2000    31306\n",
       "1995    30809\n",
       "2001    30660\n",
       "2002    30424\n",
       "1999    30040\n",
       "1996    30016\n",
       "2004    29935\n",
       "2003    29709\n",
       "1998    29556\n",
       "1994    29309\n",
       "2006    29286\n",
       "1997    29271\n",
       "2007    29036\n",
       "2008    28982\n",
       "2005    28889\n",
       "1993    28842\n",
       "1992    28565\n",
       "1991    28268\n",
       "2009    28028\n",
       "2010    27902\n",
       "2011    27473\n",
       "1990    27269\n",
       "2012    26578\n",
       "1989    25853\n",
       "2013    25720\n",
       "1988    24433\n",
       "1973    24272\n",
       "1986    23802\n",
       "1974    23708\n",
       "1983    23624\n",
       "        ...  \n",
       "1929     2250\n",
       "1931     2219\n",
       "1928     1725\n",
       "1927     1343\n",
       "1926     1223\n",
       "1925     1103\n",
       "1924      984\n",
       "1923      856\n",
       "9999      560\n",
       "1922      540\n",
       "1920      479\n",
       "1921      440\n",
       "1919      351\n",
       "1918      249\n",
       "1917      189\n",
       "1916      149\n",
       "1915      101\n",
       "1914       76\n",
       "1913       40\n",
       "1912       30\n",
       "1910       20\n",
       "1909       16\n",
       "1911       11\n",
       "1906        6\n",
       "1905        5\n",
       "1908        3\n",
       "1907        2\n",
       "1904        2\n",
       "1900        2\n",
       "1903        1\n",
       "Name: nac_anio, Length: 114, dtype: int64"
      ]
     },
     "execution_count": 70,
     "metadata": {},
     "output_type": "execute_result"
    }
   ],
   "source": [
    "df_copy_sdemt_2014['nac_anio'] = df_copy_sdemt_2014['nac_anio'].astype('int64')\n",
    "df_copy_sdemt_2014['nac_anio'].value_counts()"
   ]
  },
  {
   "cell_type": "markdown",
   "metadata": {},
   "source": [
    "## Clave de lugar de nacimiento `l_nac_c`\n",
    "+ `1900-9999`: Día de la fecha de nacimiento\n",
    "+ `99`: No sabe/no contesta"
   ]
  },
  {
   "cell_type": "code",
   "execution_count": 72,
   "metadata": {},
   "outputs": [
    {
     "data": {
      "text/plain": [
       "9      76413\n",
       "11     71622\n",
       "14     70998\n",
       "30     70975\n",
       "15     67183\n",
       "21     66504\n",
       "7      64250\n",
       "20     62043\n",
       "12     61071\n",
       "16     56204\n",
       "24     53772\n",
       "32     53294\n",
       "25     52622\n",
       "31     51446\n",
       "27     50662\n",
       "10     48582\n",
       "5      47993\n",
       "19     47661\n",
       "1      44888\n",
       "8      43088\n",
       "29     42709\n",
       "26     41803\n",
       "18     41255\n",
       "28     39158\n",
       "4      39103\n",
       "13     38918\n",
       "22     36484\n",
       "17     33982\n",
       "6      32141\n",
       "2      30236\n",
       "3      22340\n",
       "23     19535\n",
       "221     9042\n",
       "200     1546\n",
       "225      371\n",
       "400      320\n",
       "300      285\n",
       "415      176\n",
       "33        34\n",
       "100       31\n",
       "500        8\n",
       "Name: l_nac_c, dtype: int64"
      ]
     },
     "execution_count": 72,
     "metadata": {},
     "output_type": "execute_result"
    }
   ],
   "source": [
    "df_copy_sdemt_2014['l_nac_c'] = df_copy_sdemt_2014['l_nac_c'].astype('int64')\n",
    "df_copy_sdemt_2014['l_nac_c'].value_counts()"
   ]
  },
  {
   "cell_type": "markdown",
   "metadata": {},
   "source": [
    "## Pregunta 12 ¿Sabe leer y escri- bir un recado ... ? `cs_p12`\n",
    "+ `1`: Sí\n",
    "+ `2`: No\n",
    "+ `9`: No sabe/no contesta"
   ]
  },
  {
   "cell_type": "code",
   "execution_count": 74,
   "metadata": {},
   "outputs": [
    {
     "data": {
      "text/plain": [
       "1    1356501\n",
       "      132354\n",
       "2     101728\n",
       "9        165\n",
       "Name: cs_p12, dtype: int64"
      ]
     },
     "execution_count": 74,
     "metadata": {},
     "output_type": "execute_result"
    }
   ],
   "source": [
    "#df_copy_sdemt_2014['cs_p12'] = df_copy_sdemt_2014['cs_p12'].astype('int64')\n",
    "df_copy_sdemt_2014['cs_p12'].value_counts()"
   ]
  },
  {
   "cell_type": "code",
   "execution_count": 127,
   "metadata": {},
   "outputs": [
    {
     "data": {
      "text/plain": [
       "1    1356501\n",
       "9     132519\n",
       "2     101728\n",
       "Name: cs_p12, dtype: int64"
      ]
     },
     "execution_count": 127,
     "metadata": {},
     "output_type": "execute_result"
    }
   ],
   "source": [
    "df_copy_sdemt_2014['cs_p12'] = df_copy_sdemt_2014['cs_p12'].astype('str')\n",
    "df_copy_sdemt_2014.cs_p12.replace({' ': 9, '9':9}, inplace=True)\n",
    "df_copy_sdemt_2014['cs_p12'] = df_copy_sdemt_2014['cs_p12'].astype('int64')\n",
    "df_copy_sdemt_2014['cs_p12'].value_counts()"
   ]
  },
  {
   "cell_type": "markdown",
   "metadata": {},
   "source": [
    "## Pregunta 13.1 ¿Hasta qué grado aprobó ...en la escuela? `cs_p13_1`\n",
    "+ `00`: Ninguno\n",
    "+ `01`: Prescolar\n",
    "+ `02`: Primaria\n",
    "+ `03`: Secundaria\n",
    "+ `04`: Preparatoria o bachillerto\n",
    "+ `05`: Normal\n",
    "+ `06`: Carrera técnica\n",
    "+ `07`: Profesional\n",
    "+ `08`: Maestría\n",
    "+ `09` Doctorado\n",
    "+ `99`: No sabe"
   ]
  },
  {
   "cell_type": "code",
   "execution_count": 119,
   "metadata": {},
   "outputs": [],
   "source": [
    "#df_copy_sdemt_2014['cs_p13_1'][(df_copy_sdemt_2014['cs_p13_1']) == 'nan'].head()"
   ]
  },
  {
   "cell_type": "code",
   "execution_count": 113,
   "metadata": {},
   "outputs": [
    {
     "data": {
      "text/plain": [
       "2.0     467592\n",
       "3.0     364807\n",
       "4.0     223333\n",
       "7.0     194966\n",
       "nan     132354\n",
       "1.0      66495\n",
       "0.0      64687\n",
       "6.0      54141\n",
       "8.0      13080\n",
       "5.0       6663\n",
       "9.0       1884\n",
       "99.0       746\n",
       "Name: cs_p13_1, dtype: int64"
      ]
     },
     "execution_count": 113,
     "metadata": {},
     "output_type": "execute_result"
    }
   ],
   "source": [
    "#df_copy_sdemt_2014['cs_p13_1'].dtypes\n",
    "#df_copy_sdemt_2014['cs_p13_1'].fillna('10.0')\n",
    "df_copy_sdemt_2014['cs_p13_1'] = df_copy_sdemt_2014['cs_p13_1'].astype('str')\n",
    "df_copy_sdemt_2014['cs_p13_1'].value_counts()"
   ]
  },
  {
   "cell_type": "code",
   "execution_count": 116,
   "metadata": {},
   "outputs": [],
   "source": [
    "dicc_cs_p13_1 = {0.0: 0, '0.0': 0, \n",
    "                 1.0: 1, '1.0': 1, \n",
    "                2.0: 2, '2.0': 2,\n",
    "                3.0: 3, '3.0': 3,\n",
    "                4.0: 4, '4.0': 4,\n",
    "                5.0: 5, '5.0': 5,\n",
    "                6.0: 6, '6.0': 6,\n",
    "                7.0: 7, '7.0': 7,\n",
    "                8.0: 8, '8.0': 8,\n",
    "                9.0: 9, '9.0': 9,\n",
    "                99.0: 99, '99.0': 99,\n",
    "                'nan': 99}"
   ]
  },
  {
   "cell_type": "code",
   "execution_count": 117,
   "metadata": {},
   "outputs": [
    {
     "data": {
      "text/plain": [
       "2     467592\n",
       "3     364807\n",
       "4     223333\n",
       "7     194966\n",
       "99    133100\n",
       "1      66495\n",
       "0      64687\n",
       "6      54141\n",
       "8      13080\n",
       "5       6663\n",
       "9       1884\n",
       "Name: cs_p13_1, dtype: int64"
      ]
     },
     "execution_count": 117,
     "metadata": {},
     "output_type": "execute_result"
    }
   ],
   "source": [
    "df_copy_sdemt_2014.cs_p13_1.replace(dicc_cs_p13_1, inplace=True)\n",
    "df_copy_sdemt_2014.cs_p13_1.value_counts()"
   ]
  },
  {
   "cell_type": "markdown",
   "metadata": {},
   "source": [
    "## Pregunta 13.2 ¿Hasta qué grado aprobó ...en la escuela? `cs_p13_2`\n",
    "+ `0-9`: Años aprobados"
   ]
  },
  {
   "cell_type": "code",
   "execution_count": 128,
   "metadata": {},
   "outputs": [
    {
     "data": {
      "text/plain": [
       "3    572327\n",
       "2    217957\n",
       "6    205485\n",
       "1    155291\n",
       "     132354\n",
       "5    127060\n",
       "4    113564\n",
       "0     64687\n",
       "9      1654\n",
       "7       347\n",
       "8        22\n",
       "Name: cs_p13_2, dtype: int64"
      ]
     },
     "execution_count": 128,
     "metadata": {},
     "output_type": "execute_result"
    }
   ],
   "source": [
    "df_copy_sdemt_2014.cs_p13_2.value_counts()"
   ]
  },
  {
   "cell_type": "code",
   "execution_count": 129,
   "metadata": {},
   "outputs": [
    {
     "data": {
      "text/plain": [
       "3    572327\n",
       "2    217957\n",
       "6    205485\n",
       "1    155291\n",
       "9    134008\n",
       "5    127060\n",
       "4    113564\n",
       "0     64687\n",
       "7       347\n",
       "8        22\n",
       "Name: cs_p13_2, dtype: int64"
      ]
     },
     "execution_count": 129,
     "metadata": {},
     "output_type": "execute_result"
    }
   ],
   "source": [
    "df_copy_sdemt_2014['cs_p13_2'] = df_copy_sdemt_2014['cs_p13_2'].astype('str')\n",
    "df_copy_sdemt_2014.cs_p13_2.replace({' ': '9'}, inplace=True)\n",
    "df_copy_sdemt_2014['cs_p13_2'] = df_copy_sdemt_2014['cs_p13_2'].astype('int64')\n",
    "df_copy_sdemt_2014['cs_p13_2'].value_counts()"
   ]
  },
  {
   "cell_type": "markdown",
   "metadata": {},
   "source": [
    "## Pregunta 14 Clave de la carrera `CS_P14_C`\n",
    "+ Catálogo"
   ]
  },
  {
   "cell_type": "code",
   "execution_count": 130,
   "metadata": {},
   "outputs": [
    {
     "data": {
      "text/plain": [
       "5335    21691\n",
       "5334    18497\n",
       "5341    18326\n",
       "2814    14424\n",
       "5122     7503\n",
       "2334     7282\n",
       "5510     7065\n",
       "5311     6514\n",
       "5517     6466\n",
       "5712     6346\n",
       "5711     6060\n",
       "5441     5981\n",
       "5511     5730\n",
       "5532     5659\n",
       "5531     5524\n",
       "1800     4967\n",
       "2712     4445\n",
       "5321     4402\n",
       "5121     3955\n",
       "5331     3595\n",
       "5611     3435\n",
       "5713     3378\n",
       "5332     3349\n",
       "5330     3329\n",
       "5514     3117\n",
       "5411     3019\n",
       "N122     2938\n",
       "5213     2803\n",
       "N120     2793\n",
       "2441     2706\n",
       "        ...  \n",
       "N128        3\n",
       "4122        3\n",
       "0513        3\n",
       "4613        3\n",
       "2812        3\n",
       "4110        3\n",
       "7322        3\n",
       "8210        3\n",
       "7523        3\n",
       "4621        3\n",
       "4342        3\n",
       "8621        2\n",
       "8213        2\n",
       "8221        2\n",
       "0512        2\n",
       "2842        2\n",
       "2342        1\n",
       "7610        1\n",
       "4341        1\n",
       "2223        1\n",
       "8212        1\n",
       "8322        1\n",
       "8127        1\n",
       "0334        1\n",
       "0517        1\n",
       "8332        1\n",
       "4322        1\n",
       "8315        1\n",
       "8520        1\n",
       "0332        1\n",
       "Name: cs_p14_c, Length: 395, dtype: int64"
      ]
     },
     "execution_count": 130,
     "metadata": {},
     "output_type": "execute_result"
    }
   ],
   "source": [
    "df_copy_sdemt_2014.cs_p14_c.value_counts()"
   ]
  },
  {
   "cell_type": "code",
   "execution_count": null,
   "metadata": {},
   "outputs": [],
   "source": []
  }
 ],
 "metadata": {
  "kernelspec": {
   "display_name": "Python 3",
   "language": "python",
   "name": "python3"
  },
  "language_info": {
   "codemirror_mode": {
    "name": "ipython",
    "version": 3
   },
   "file_extension": ".py",
   "mimetype": "text/x-python",
   "name": "python",
   "nbconvert_exporter": "python",
   "pygments_lexer": "ipython3",
   "version": "3.6.4"
  }
 },
 "nbformat": 4,
 "nbformat_minor": 2
}
