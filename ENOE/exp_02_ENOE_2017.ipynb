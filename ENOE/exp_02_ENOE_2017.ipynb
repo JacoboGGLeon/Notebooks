{
 "cells": [
  {
   "cell_type": "code",
   "execution_count": null,
   "metadata": {},
   "outputs": [],
   "source": [
    "#Conjunto de datos de la Tabla Vivienda del trimestre 1 del 2017\n",
    "path_test = '../../Datasets/ENOE/dataframes/residentes_117.csv'\n",
    "\n",
    "#df_test = pd.read_csv(path_test, low_memory=False, index_col=0, encoding='latin1')\n",
    "\n",
    "df_test = pd.read_csv(path_test, low_memory=False, index_col=0)\n",
    "\n",
    "df_test.head()"
   ]
  },
  {
   "cell_type": "markdown",
   "metadata": {},
   "source": [
    "### Reconstrucción de variables de la ENOE: GRUPOS PRINCIPALES\n",
    "\n",
    "#### I. Población de 15 años y más\n",
    "+ Población Económicamente Activa Ocupados + Desocupados \n",
    "+ Población No Económicamente Activa Disponibles + No disponibles"
   ]
  },
  {
   "cell_type": "markdown",
   "metadata": {},
   "source": [
    "#### II. Condición de actividad\n",
    "##### Ocupados\n",
    "+ Ocupado pleno P1=1\n",
    "+ Ocupado sin pago P1a1=1 ó (P1a1=blanco y P1a2=2)\n",
    "+ Ocupado ausente con nexo laboral (P1c= 01 ó 02 ó 03 ó 04) ó P1d=1\n",
    "+ Ocupado ausente con retorno segurado (P1d=2 ó 9) y P1e=1"
   ]
  },
  {
   "cell_type": "code",
   "execution_count": null,
   "metadata": {},
   "outputs": [],
   "source": []
  }
 ],
 "metadata": {
  "kernelspec": {
   "display_name": "Python 3",
   "language": "python",
   "name": "python3"
  },
  "language_info": {
   "codemirror_mode": {
    "name": "ipython",
    "version": 3
   },
   "file_extension": ".py",
   "mimetype": "text/x-python",
   "name": "python",
   "nbconvert_exporter": "python",
   "pygments_lexer": "ipython3",
   "version": "3.6.4"
  }
 },
 "nbformat": 4,
 "nbformat_minor": 2
}
