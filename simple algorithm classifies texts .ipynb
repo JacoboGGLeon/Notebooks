{
 "cells": [
  {
   "cell_type": "code",
   "execution_count": 140,
   "metadata": {},
   "outputs": [
    {
     "name": "stdout",
     "output_type": "stream",
     "text": [
      "Head:  Index(['Id', 'ProductId', 'UserId', 'ProfileName', 'HelpfulnessNumerator',\n",
      "       'HelpfulnessDenominator', 'Score', 'Time', 'Summary', 'Text'],\n",
      "      dtype='object')\n",
      "row:  568454  col:  10\n"
     ]
    }
   ],
   "source": [
    "\"\"\"\n",
    "Data exploration\n",
    "\"\"\"\n",
    "#Magic function: %matplotlib inline\n",
    "%matplotlib inline\n",
    "\n",
    "import pandas as pd\n",
    "import numpy as np\n",
    "import matplotlib.pyplot as plt\n",
    "import seaborn as sns\n",
    "\n",
    "#Set aesthetic parameters in one step\n",
    "sns.set()\n",
    "\n",
    "csv = '../datasets/Reviews.csv'\n",
    "data = pd.read_csv(csv)\n",
    "\n",
    "print(\"Head: \", data.columns)\n",
    "print(\"row: \", data.shape[0], \" col: \", data.shape[1])"
   ]
  },
  {
   "cell_type": "code",
   "execution_count": 141,
   "metadata": {},
   "outputs": [
    {
     "name": "stdout",
     "output_type": "stream",
     "text": [
      "Score          1         2        3         4         5\n",
      "scores  0.091948  0.052368  0.07501  0.141885  0.638789\n",
      "70& of total reviews is comprised of score 4 and 5\n"
     ]
    },
    {
     "data": {
      "image/png": "[encoded data removed]",
      "text/plain": [
       "<matplotlib.figure.Figure at 0x1a287b4518>"
      ]
     },
     "metadata": {},
     "output_type": "display_data"
    }
   ],
   "source": [
    "score_pct = np.bincount(data['Score']) / data.shape[0]\n",
    "\n",
    "scores = pd.DataFrame(np.random.rand(1,5),\n",
    "                     index=['scores'],\n",
    "                     columns=pd.Index([1,2,3,4,5],\n",
    "                                     name='Score'))\n",
    "\n",
    "scores.iloc[0] = score_pct[1:]\n",
    "scores.plot.bar()\n",
    "\n",
    "print(scores)\n",
    "print('70& of total reviews is comprised of score 4 and 5')\n",
    "\n"
   ]
  },
  {
   "cell_type": "code",
   "execution_count": 160,
   "metadata": {},
   "outputs": [
    {
     "name": "stdout",
     "output_type": "stream",
     "text": [
      "sentiment  negative  positive\n",
      "count      0.218401  0.781599\n",
      "78% of reviews is positive\n"
     ]
    },
    {
     "data": {
      "image/png": "[encoded data removed]",
      "text/plain": [
       "<matplotlib.figure.Figure at 0x1a17604cf8>"
      ]
     },
     "metadata": {},
     "output_type": "display_data"
    }
   ],
   "source": [
    "\"\"\"\n",
    "Training classier and prediction\n",
    "Categorized every review as either positive or negative, \n",
    "and will train a classifier to predict these two values.\n",
    "\"\"\"\n",
    "\n",
    "#We suffle the rows and extract an % of the rows\n",
    "df_reduced = data.sample(frac=0.04, random_state=7)\n",
    "reduced_data_size = df_reduced.shape[0]\n",
    "\n",
    "#scores >= 4 positive, < negative \n",
    "reduced_labels = np.array([df_reduced['Score'] >= 4])[0][:].astype(int)\n",
    "reduced_texts = df_reduced['Text'].values\n",
    "\n",
    "#Percentage value of each sentiment \n",
    "reduced_sentiment_pct = np.bincount(reduced_labels) / reduced_data_size\n",
    "\n",
    "sentiment = pd.DataFrame(np.random.rand(1,2),\n",
    "                        index=['count'],\n",
    "                        columns=pd.Index([\"negative\", \"positive\"],\n",
    "                                        name='sentiment'))\n",
    "sentiment.iloc[0] = reduced_sentiment_pct\n",
    "sentiment.plot.bar(title=\"Ratio of each sentiment\")\n",
    "\n",
    "print(sentiment)\n",
    "print('78% of reviews is positive')\n"
   ]
  },
  {
   "cell_type": "code",
   "execution_count": 166,
   "metadata": {},
   "outputs": [
    {
     "name": "stdout",
     "output_type": "stream",
     "text": [
      "text_train:  18190\n",
      "text_test:  4548\n"
     ]
    }
   ],
   "source": [
    "#using 80% of data as training set and 20 as set test\n",
    "train_size = int(reduced_data_size*0.8)\n",
    "\n",
    "text_train = reduced_texts[:train_size]\n",
    "\n",
    "y_train = reduced_labels[:train_size]\n",
    "\n",
    "text_test = reduced_texts[train_size:]\n",
    "\n",
    "y_test = reduced_labels[train_size:]\n",
    "\n",
    "print('text_train: ', text_train.shape[0])\n",
    "print('text_test: ', text_test.shape[0])"
   ]
  },
  {
   "cell_type": "code",
   "execution_count": 162,
   "metadata": {},
   "outputs": [
    {
     "data": {
      "text/html": [
       "<img src=\"https://cdn-images-1.medium.com/max/800/1*YB7gbpsylW5rJu7ZkL5Iww.png\"/>"
      ],
      "text/plain": [
       "<IPython.core.display.Image object>"
      ]
     },
     "execution_count": 162,
     "metadata": {},
     "output_type": "execute_result"
    }
   ],
   "source": [
    "\"\"\"\n",
    "tranform the texts into an appropiate format (numerical values)\n",
    "so that a classifier can be trained on them, using two methods:\n",
    "    *Bag-of-words (tokenization text-> numerical)\n",
    "    *TFIDF\n",
    "\"\"\"\n",
    "from IPython.display import Image\n",
    "from IPython.core.display import HTML \n",
    "Image(url= \"https://cdn-images-1.medium.com/max/800/1*YB7gbpsylW5rJu7ZkL5Iww.png\")\n",
    "\n"
   ]
  },
  {
   "cell_type": "code",
   "execution_count": 163,
   "metadata": {},
   "outputs": [
    {
     "name": "stdout",
     "output_type": "stream",
     "text": [
      "(18190, 27093)\n",
      "(4548, 27093)\n"
     ]
    }
   ],
   "source": [
    "from sklearn.feature_extraction.text import CountVectorizer\n",
    "vect = CountVectorizer().fit(text_train)\n",
    "\n",
    "X_train = vect.transform(text_train)\n",
    "print(X_train.shape)\n",
    "\n",
    "X_test = vect.transform(text_test)\n",
    "print(X_test.shape)\n",
    "\n",
    "# a sparse matrix is a matrix that contains only non-zero entries"
   ]
  },
  {
   "cell_type": "code",
   "execution_count": 167,
   "metadata": {},
   "outputs": [
    {
     "name": "stdout",
     "output_type": "stream",
     "text": [
      "<18190x27093 sparse matrix of type '<class 'numpy.int64'>'\n",
      "\twith 982694 stored elements in Compressed Sparse Row format>\n",
      "<4548x27093 sparse matrix of type '<class 'numpy.int64'>'\n",
      "\twith 241162 stored elements in Compressed Sparse Row format>\n"
     ]
    }
   ],
   "source": [
    "\n",
    "\n"
   ]
  },
  {
   "cell_type": "code",
   "execution_count": null,
   "metadata": {},
   "outputs": [],
   "source": []
  }
 ],
 "metadata": {
  "kernelspec": {
   "display_name": "Python 3",
   "language": "python",
   "name": "python3"
  },
  "language_info": {
   "codemirror_mode": {
    "name": "ipython",
    "version": 3
   },
   "file_extension": ".py",
   "mimetype": "text/x-python",
   "name": "python",
   "nbconvert_exporter": "python",
   "pygments_lexer": "ipython3",
   "version": "3.6.3"
  }
 },
 "nbformat": 4,
 "nbformat_minor": 2
}
