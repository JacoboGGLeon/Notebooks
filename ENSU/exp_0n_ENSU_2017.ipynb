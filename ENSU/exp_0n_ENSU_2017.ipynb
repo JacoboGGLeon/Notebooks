{
 "cells": [
  {
   "cell_type": "code",
   "execution_count": null,
   "metadata": {},
   "outputs": [],
   "source": [
    "df_copy_ENSU_CB_0317 = df_ENSU_CB_0317.copy()\n",
    "df_copy_ENSU_CB_0617 = df_ENSU_CB_0617.copy()\n",
    "df_copy_ENSU_CB_0917 = df_ENSU_CB_0917.copy()\n",
    "df_copy_ENSU_CB_1217 = df_ENSU_CB_1217.copy()"
   ]
  },
  {
   "cell_type": "code",
   "execution_count": null,
   "metadata": {},
   "outputs": [],
   "source": [
    "print(df_copy_ENSU_CB_0317.shape)\n",
    "print(df_copy_ENSU_CB_0617.shape)\n",
    "print(df_copy_ENSU_CB_0917.shape)\n",
    "print(df_copy_ENSU_CB_1217.shape)\n",
    "print(df_copy_ENSU_CB_0317.shape[0] + df_copy_ENSU_CB_0617.shape[0] + df_copy_ENSU_CB_0917.shape[0] + df_copy_ENSU_CB_1217.shape[0])"
   ]
  }
 ],
 "metadata": {
  "kernelspec": {
   "display_name": "Python 3",
   "language": "python",
   "name": "python3"
  },
  "language_info": {
   "codemirror_mode": {
    "name": "ipython",
    "version": 3
   },
   "file_extension": ".py",
   "mimetype": "text/x-python",
   "name": "python",
   "nbconvert_exporter": "python",
   "pygments_lexer": "ipython3",
   "version": "3.6.4"
  }
 },
 "nbformat": 4,
 "nbformat_minor": 2
}
