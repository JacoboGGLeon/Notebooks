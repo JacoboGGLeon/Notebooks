{
 "cells": [
  {
   "cell_type": "code",
   "execution_count": 104,
   "metadata": {},
   "outputs": [],
   "source": [
    "import pandas as pd\n",
    "import numpy as np"
   ]
  },
  {
   "cell_type": "code",
   "execution_count": 105,
   "metadata": {
    "scrolled": false
   },
   "outputs": [
    {
     "data": {
      "text/html": [
       "<div>\n",
       "<style scoped>\n",
       "    .dataframe tbody tr th:only-of-type {\n",
       "        vertical-align: middle;\n",
       "    }\n",
       "\n",
       "    .dataframe tbody tr th {\n",
       "        vertical-align: top;\n",
       "    }\n",
       "\n",
       "    .dataframe thead th {\n",
       "        text-align: right;\n",
       "    }\n",
       "</style>\n",
       "<table border=\"1\" class=\"dataframe\">\n",
       "  <thead>\n",
       "    <tr style=\"text-align: right;\">\n",
       "      <th></th>\n",
       "      <th>level_0</th>\n",
       "      <th>index</th>\n",
       "      <th>AGEB</th>\n",
       "      <th>BP1_1</th>\n",
       "      <th>BP1_2_01</th>\n",
       "      <th>BP1_2_02</th>\n",
       "      <th>BP1_2_03</th>\n",
       "      <th>BP1_2_04</th>\n",
       "      <th>BP1_2_05</th>\n",
       "      <th>BP1_2_06</th>\n",
       "      <th>...</th>\n",
       "      <th>PER</th>\n",
       "      <th>PRO_VIV</th>\n",
       "      <th>R_DEF</th>\n",
       "      <th>R_SEL</th>\n",
       "      <th>SEL_SUST</th>\n",
       "      <th>TIPO_CUEST</th>\n",
       "      <th>UPM</th>\n",
       "      <th>UPM_DIS</th>\n",
       "      <th>Unnamed: 0.1</th>\n",
       "      <th>VIV_SEL</th>\n",
       "    </tr>\n",
       "  </thead>\n",
       "  <tbody>\n",
       "    <tr>\n",
       "      <th>0</th>\n",
       "      <td>0</td>\n",
       "      <td>0</td>\n",
       "      <td>&amp;</td>\n",
       "      <td>1</td>\n",
       "      <td>1</td>\n",
       "      <td>1</td>\n",
       "      <td>1</td>\n",
       "      <td>3</td>\n",
       "      <td>1</td>\n",
       "      <td>1</td>\n",
       "      <td>...</td>\n",
       "      <td>117</td>\n",
       "      <td>&amp;</td>\n",
       "      <td>1</td>\n",
       "      <td>2</td>\n",
       "      <td>A</td>\n",
       "      <td>-</td>\n",
       "      <td>100105</td>\n",
       "      <td>10</td>\n",
       "      <td>&amp;</td>\n",
       "      <td>1</td>\n",
       "    </tr>\n",
       "    <tr>\n",
       "      <th>1</th>\n",
       "      <td>1</td>\n",
       "      <td>1</td>\n",
       "      <td>&amp;</td>\n",
       "      <td>2</td>\n",
       "      <td>2</td>\n",
       "      <td>3</td>\n",
       "      <td>2</td>\n",
       "      <td>3</td>\n",
       "      <td>2</td>\n",
       "      <td>2</td>\n",
       "      <td>...</td>\n",
       "      <td>117</td>\n",
       "      <td>&amp;</td>\n",
       "      <td>1</td>\n",
       "      <td>2</td>\n",
       "      <td>A</td>\n",
       "      <td>-</td>\n",
       "      <td>100105</td>\n",
       "      <td>10</td>\n",
       "      <td>&amp;</td>\n",
       "      <td>2</td>\n",
       "    </tr>\n",
       "    <tr>\n",
       "      <th>2</th>\n",
       "      <td>2</td>\n",
       "      <td>2</td>\n",
       "      <td>&amp;</td>\n",
       "      <td>1</td>\n",
       "      <td>1</td>\n",
       "      <td>2</td>\n",
       "      <td>1</td>\n",
       "      <td>3</td>\n",
       "      <td>1</td>\n",
       "      <td>1</td>\n",
       "      <td>...</td>\n",
       "      <td>117</td>\n",
       "      <td>&amp;</td>\n",
       "      <td>1</td>\n",
       "      <td>2</td>\n",
       "      <td>A</td>\n",
       "      <td>-</td>\n",
       "      <td>100105</td>\n",
       "      <td>10</td>\n",
       "      <td>&amp;</td>\n",
       "      <td>3</td>\n",
       "    </tr>\n",
       "    <tr>\n",
       "      <th>3</th>\n",
       "      <td>3</td>\n",
       "      <td>3</td>\n",
       "      <td>&amp;</td>\n",
       "      <td>2</td>\n",
       "      <td>1</td>\n",
       "      <td>3</td>\n",
       "      <td>2</td>\n",
       "      <td>3</td>\n",
       "      <td>1</td>\n",
       "      <td>1</td>\n",
       "      <td>...</td>\n",
       "      <td>117</td>\n",
       "      <td>&amp;</td>\n",
       "      <td>1</td>\n",
       "      <td>1</td>\n",
       "      <td>A</td>\n",
       "      <td>-</td>\n",
       "      <td>100105</td>\n",
       "      <td>10</td>\n",
       "      <td>&amp;</td>\n",
       "      <td>4</td>\n",
       "    </tr>\n",
       "    <tr>\n",
       "      <th>4</th>\n",
       "      <td>4</td>\n",
       "      <td>4</td>\n",
       "      <td>&amp;</td>\n",
       "      <td>1</td>\n",
       "      <td>1</td>\n",
       "      <td>1</td>\n",
       "      <td>1</td>\n",
       "      <td>3</td>\n",
       "      <td>1</td>\n",
       "      <td>1</td>\n",
       "      <td>...</td>\n",
       "      <td>117</td>\n",
       "      <td>&amp;</td>\n",
       "      <td>1</td>\n",
       "      <td>1</td>\n",
       "      <td>A</td>\n",
       "      <td>-</td>\n",
       "      <td>100105</td>\n",
       "      <td>10</td>\n",
       "      <td>&amp;</td>\n",
       "      <td>5</td>\n",
       "    </tr>\n",
       "  </tbody>\n",
       "</table>\n",
       "<p>5 rows × 165 columns</p>\n",
       "</div>"
      ],
      "text/plain": [
       "   level_0  index AGEB  BP1_1 BP1_2_01 BP1_2_02 BP1_2_03 BP1_2_04 BP1_2_05  \\\n",
       "0        0      0    &      1        1        1        1        3        1   \n",
       "1        1      1    &      2        2        3        2        3        2   \n",
       "2        2      2    &      1        1        2        1        3        1   \n",
       "3        3      3    &      2        1        3        2        3        1   \n",
       "4        4      4    &      1        1        1        1        3        1   \n",
       "\n",
       "  BP1_2_06   ...    PER PRO_VIV R_DEF R_SEL  SEL_SUST  TIPO_CUEST     UPM  \\\n",
       "0        1   ...    117       &     1     2         A           -  100105   \n",
       "1        2   ...    117       &     1     2         A           -  100105   \n",
       "2        1   ...    117       &     1     2         A           -  100105   \n",
       "3        1   ...    117       &     1     1         A           -  100105   \n",
       "4        1   ...    117       &     1     1         A           -  100105   \n",
       "\n",
       "  UPM_DIS Unnamed: 0.1 VIV_SEL  \n",
       "0      10            &       1  \n",
       "1      10            &       2  \n",
       "2      10            &       3  \n",
       "3      10            &       4  \n",
       "4      10            &       5  \n",
       "\n",
       "[5 rows x 165 columns]"
      ]
     },
     "execution_count": 105,
     "metadata": {},
     "output_type": "execute_result"
    }
   ],
   "source": [
    "ensu_cb = '../../Datasets/ENSU/dataframes/ensu_cb_MUN.csv'\n",
    "\n",
    "df_ensu_cb = pd.read_csv(ensu_cb, low_memory=False, index_col=0)\n",
    "\n",
    "df_ensu_cb.head()"
   ]
  },
  {
   "cell_type": "code",
   "execution_count": 106,
   "metadata": {},
   "outputs": [
    {
     "data": {
      "text/plain": [
       "(161810, 165)"
      ]
     },
     "execution_count": 106,
     "metadata": {},
     "output_type": "execute_result"
    }
   ],
   "source": [
    "df_ensu_cb.shape"
   ]
  },
  {
   "cell_type": "code",
   "execution_count": 107,
   "metadata": {},
   "outputs": [
    {
     "data": {
      "text/html": [
       "<div>\n",
       "<style scoped>\n",
       "    .dataframe tbody tr th:only-of-type {\n",
       "        vertical-align: middle;\n",
       "    }\n",
       "\n",
       "    .dataframe tbody tr th {\n",
       "        vertical-align: top;\n",
       "    }\n",
       "\n",
       "    .dataframe thead th {\n",
       "        text-align: right;\n",
       "    }\n",
       "</style>\n",
       "<table border=\"1\" class=\"dataframe\">\n",
       "  <thead>\n",
       "    <tr style=\"text-align: right;\">\n",
       "      <th></th>\n",
       "      <th>level_0</th>\n",
       "      <th>index</th>\n",
       "      <th>AGEB</th>\n",
       "      <th>BP1_1</th>\n",
       "      <th>BP1_2_01</th>\n",
       "      <th>BP1_2_02</th>\n",
       "      <th>BP1_2_03</th>\n",
       "      <th>BP1_2_04</th>\n",
       "      <th>BP1_2_05</th>\n",
       "      <th>BP1_2_06</th>\n",
       "      <th>...</th>\n",
       "      <th>PER</th>\n",
       "      <th>PRO_VIV</th>\n",
       "      <th>R_DEF</th>\n",
       "      <th>R_SEL</th>\n",
       "      <th>SEL_SUST</th>\n",
       "      <th>TIPO_CUEST</th>\n",
       "      <th>UPM</th>\n",
       "      <th>UPM_DIS</th>\n",
       "      <th>Unnamed: 0.1</th>\n",
       "      <th>VIV_SEL</th>\n",
       "    </tr>\n",
       "  </thead>\n",
       "  <tbody>\n",
       "    <tr>\n",
       "      <th>0</th>\n",
       "      <td>0</td>\n",
       "      <td>0</td>\n",
       "      <td>&amp;</td>\n",
       "      <td>1</td>\n",
       "      <td>1</td>\n",
       "      <td>1</td>\n",
       "      <td>1</td>\n",
       "      <td>3</td>\n",
       "      <td>1</td>\n",
       "      <td>1</td>\n",
       "      <td>...</td>\n",
       "      <td>117</td>\n",
       "      <td>&amp;</td>\n",
       "      <td>1</td>\n",
       "      <td>2</td>\n",
       "      <td>A</td>\n",
       "      <td>-</td>\n",
       "      <td>100105</td>\n",
       "      <td>10</td>\n",
       "      <td>&amp;</td>\n",
       "      <td>1</td>\n",
       "    </tr>\n",
       "    <tr>\n",
       "      <th>1</th>\n",
       "      <td>1</td>\n",
       "      <td>1</td>\n",
       "      <td>&amp;</td>\n",
       "      <td>2</td>\n",
       "      <td>2</td>\n",
       "      <td>3</td>\n",
       "      <td>2</td>\n",
       "      <td>3</td>\n",
       "      <td>2</td>\n",
       "      <td>2</td>\n",
       "      <td>...</td>\n",
       "      <td>117</td>\n",
       "      <td>&amp;</td>\n",
       "      <td>1</td>\n",
       "      <td>2</td>\n",
       "      <td>A</td>\n",
       "      <td>-</td>\n",
       "      <td>100105</td>\n",
       "      <td>10</td>\n",
       "      <td>&amp;</td>\n",
       "      <td>2</td>\n",
       "    </tr>\n",
       "    <tr>\n",
       "      <th>2</th>\n",
       "      <td>2</td>\n",
       "      <td>2</td>\n",
       "      <td>&amp;</td>\n",
       "      <td>1</td>\n",
       "      <td>1</td>\n",
       "      <td>2</td>\n",
       "      <td>1</td>\n",
       "      <td>3</td>\n",
       "      <td>1</td>\n",
       "      <td>1</td>\n",
       "      <td>...</td>\n",
       "      <td>117</td>\n",
       "      <td>&amp;</td>\n",
       "      <td>1</td>\n",
       "      <td>2</td>\n",
       "      <td>A</td>\n",
       "      <td>-</td>\n",
       "      <td>100105</td>\n",
       "      <td>10</td>\n",
       "      <td>&amp;</td>\n",
       "      <td>3</td>\n",
       "    </tr>\n",
       "    <tr>\n",
       "      <th>3</th>\n",
       "      <td>3</td>\n",
       "      <td>3</td>\n",
       "      <td>&amp;</td>\n",
       "      <td>2</td>\n",
       "      <td>1</td>\n",
       "      <td>3</td>\n",
       "      <td>2</td>\n",
       "      <td>3</td>\n",
       "      <td>1</td>\n",
       "      <td>1</td>\n",
       "      <td>...</td>\n",
       "      <td>117</td>\n",
       "      <td>&amp;</td>\n",
       "      <td>1</td>\n",
       "      <td>1</td>\n",
       "      <td>A</td>\n",
       "      <td>-</td>\n",
       "      <td>100105</td>\n",
       "      <td>10</td>\n",
       "      <td>&amp;</td>\n",
       "      <td>4</td>\n",
       "    </tr>\n",
       "    <tr>\n",
       "      <th>4</th>\n",
       "      <td>4</td>\n",
       "      <td>4</td>\n",
       "      <td>&amp;</td>\n",
       "      <td>1</td>\n",
       "      <td>1</td>\n",
       "      <td>1</td>\n",
       "      <td>1</td>\n",
       "      <td>3</td>\n",
       "      <td>1</td>\n",
       "      <td>1</td>\n",
       "      <td>...</td>\n",
       "      <td>117</td>\n",
       "      <td>&amp;</td>\n",
       "      <td>1</td>\n",
       "      <td>1</td>\n",
       "      <td>A</td>\n",
       "      <td>-</td>\n",
       "      <td>100105</td>\n",
       "      <td>10</td>\n",
       "      <td>&amp;</td>\n",
       "      <td>5</td>\n",
       "    </tr>\n",
       "  </tbody>\n",
       "</table>\n",
       "<p>5 rows × 165 columns</p>\n",
       "</div>"
      ],
      "text/plain": [
       "   level_0  index AGEB  BP1_1 BP1_2_01 BP1_2_02 BP1_2_03 BP1_2_04 BP1_2_05  \\\n",
       "0        0      0    &      1        1        1        1        3        1   \n",
       "1        1      1    &      2        2        3        2        3        2   \n",
       "2        2      2    &      1        1        2        1        3        1   \n",
       "3        3      3    &      2        1        3        2        3        1   \n",
       "4        4      4    &      1        1        1        1        3        1   \n",
       "\n",
       "  BP1_2_06   ...    PER PRO_VIV R_DEF R_SEL  SEL_SUST  TIPO_CUEST     UPM  \\\n",
       "0        1   ...    117       &     1     2         A           -  100105   \n",
       "1        2   ...    117       &     1     2         A           -  100105   \n",
       "2        1   ...    117       &     1     2         A           -  100105   \n",
       "3        1   ...    117       &     1     1         A           -  100105   \n",
       "4        1   ...    117       &     1     1         A           -  100105   \n",
       "\n",
       "  UPM_DIS Unnamed: 0.1 VIV_SEL  \n",
       "0      10            &       1  \n",
       "1      10            &       2  \n",
       "2      10            &       3  \n",
       "3      10            &       4  \n",
       "4      10            &       5  \n",
       "\n",
       "[5 rows x 165 columns]"
      ]
     },
     "execution_count": 107,
     "metadata": {},
     "output_type": "execute_result"
    }
   ],
   "source": [
    "df_copy_ensu_cb = df_ensu_cb.copy()\n",
    "df_copy_ensu_cb.head()"
   ]
  },
  {
   "cell_type": "markdown",
   "metadata": {},
   "source": [
    "## Análisis"
   ]
  },
  {
   "cell_type": "code",
   "execution_count": 108,
   "metadata": {},
   "outputs": [
    {
     "data": {
      "text/html": [
       "<div>\n",
       "<style scoped>\n",
       "    .dataframe tbody tr th:only-of-type {\n",
       "        vertical-align: middle;\n",
       "    }\n",
       "\n",
       "    .dataframe tbody tr th {\n",
       "        vertical-align: top;\n",
       "    }\n",
       "\n",
       "    .dataframe thead th {\n",
       "        text-align: right;\n",
       "    }\n",
       "</style>\n",
       "<table border=\"1\" class=\"dataframe\">\n",
       "  <thead>\n",
       "    <tr style=\"text-align: right;\">\n",
       "      <th></th>\n",
       "      <th>AGEB</th>\n",
       "      <th>BP1_1</th>\n",
       "      <th>BP1_2_01</th>\n",
       "      <th>BP1_2_02</th>\n",
       "      <th>BP1_2_03</th>\n",
       "      <th>BP1_2_04</th>\n",
       "      <th>BP1_2_05</th>\n",
       "      <th>BP1_2_06</th>\n",
       "      <th>BP1_2_07</th>\n",
       "      <th>BP1_2_08</th>\n",
       "      <th>...</th>\n",
       "      <th>PER</th>\n",
       "      <th>PRO_VIV</th>\n",
       "      <th>R_DEF</th>\n",
       "      <th>R_SEL</th>\n",
       "      <th>SEL_SUST</th>\n",
       "      <th>TIPO_CUEST</th>\n",
       "      <th>UPM</th>\n",
       "      <th>UPM_DIS</th>\n",
       "      <th>Unnamed: 0.1</th>\n",
       "      <th>VIV_SEL</th>\n",
       "    </tr>\n",
       "  </thead>\n",
       "  <tbody>\n",
       "    <tr>\n",
       "      <th>0</th>\n",
       "      <td>&amp;</td>\n",
       "      <td>1</td>\n",
       "      <td>1</td>\n",
       "      <td>1</td>\n",
       "      <td>1</td>\n",
       "      <td>3</td>\n",
       "      <td>1</td>\n",
       "      <td>1</td>\n",
       "      <td>1</td>\n",
       "      <td>1</td>\n",
       "      <td>...</td>\n",
       "      <td>117</td>\n",
       "      <td>&amp;</td>\n",
       "      <td>1</td>\n",
       "      <td>2</td>\n",
       "      <td>A</td>\n",
       "      <td>-</td>\n",
       "      <td>100105</td>\n",
       "      <td>10</td>\n",
       "      <td>&amp;</td>\n",
       "      <td>1</td>\n",
       "    </tr>\n",
       "    <tr>\n",
       "      <th>1</th>\n",
       "      <td>&amp;</td>\n",
       "      <td>2</td>\n",
       "      <td>2</td>\n",
       "      <td>3</td>\n",
       "      <td>2</td>\n",
       "      <td>3</td>\n",
       "      <td>2</td>\n",
       "      <td>2</td>\n",
       "      <td>2</td>\n",
       "      <td>2</td>\n",
       "      <td>...</td>\n",
       "      <td>117</td>\n",
       "      <td>&amp;</td>\n",
       "      <td>1</td>\n",
       "      <td>2</td>\n",
       "      <td>A</td>\n",
       "      <td>-</td>\n",
       "      <td>100105</td>\n",
       "      <td>10</td>\n",
       "      <td>&amp;</td>\n",
       "      <td>2</td>\n",
       "    </tr>\n",
       "    <tr>\n",
       "      <th>2</th>\n",
       "      <td>&amp;</td>\n",
       "      <td>1</td>\n",
       "      <td>1</td>\n",
       "      <td>2</td>\n",
       "      <td>1</td>\n",
       "      <td>3</td>\n",
       "      <td>1</td>\n",
       "      <td>1</td>\n",
       "      <td>2</td>\n",
       "      <td>2</td>\n",
       "      <td>...</td>\n",
       "      <td>117</td>\n",
       "      <td>&amp;</td>\n",
       "      <td>1</td>\n",
       "      <td>2</td>\n",
       "      <td>A</td>\n",
       "      <td>-</td>\n",
       "      <td>100105</td>\n",
       "      <td>10</td>\n",
       "      <td>&amp;</td>\n",
       "      <td>3</td>\n",
       "    </tr>\n",
       "    <tr>\n",
       "      <th>3</th>\n",
       "      <td>&amp;</td>\n",
       "      <td>2</td>\n",
       "      <td>1</td>\n",
       "      <td>3</td>\n",
       "      <td>2</td>\n",
       "      <td>3</td>\n",
       "      <td>1</td>\n",
       "      <td>1</td>\n",
       "      <td>1</td>\n",
       "      <td>1</td>\n",
       "      <td>...</td>\n",
       "      <td>117</td>\n",
       "      <td>&amp;</td>\n",
       "      <td>1</td>\n",
       "      <td>1</td>\n",
       "      <td>A</td>\n",
       "      <td>-</td>\n",
       "      <td>100105</td>\n",
       "      <td>10</td>\n",
       "      <td>&amp;</td>\n",
       "      <td>4</td>\n",
       "    </tr>\n",
       "    <tr>\n",
       "      <th>4</th>\n",
       "      <td>&amp;</td>\n",
       "      <td>1</td>\n",
       "      <td>1</td>\n",
       "      <td>1</td>\n",
       "      <td>1</td>\n",
       "      <td>3</td>\n",
       "      <td>1</td>\n",
       "      <td>1</td>\n",
       "      <td>2</td>\n",
       "      <td>2</td>\n",
       "      <td>...</td>\n",
       "      <td>117</td>\n",
       "      <td>&amp;</td>\n",
       "      <td>1</td>\n",
       "      <td>1</td>\n",
       "      <td>A</td>\n",
       "      <td>-</td>\n",
       "      <td>100105</td>\n",
       "      <td>10</td>\n",
       "      <td>&amp;</td>\n",
       "      <td>5</td>\n",
       "    </tr>\n",
       "  </tbody>\n",
       "</table>\n",
       "<p>5 rows × 162 columns</p>\n",
       "</div>"
      ],
      "text/plain": [
       "  AGEB  BP1_1 BP1_2_01 BP1_2_02 BP1_2_03 BP1_2_04 BP1_2_05 BP1_2_06 BP1_2_07  \\\n",
       "0    &      1        1        1        1        3        1        1        1   \n",
       "1    &      2        2        3        2        3        2        2        2   \n",
       "2    &      1        1        2        1        3        1        1        2   \n",
       "3    &      2        1        3        2        3        1        1        1   \n",
       "4    &      1        1        1        1        3        1        1        2   \n",
       "\n",
       "  BP1_2_08   ...    PER PRO_VIV  R_DEF  R_SEL  SEL_SUST TIPO_CUEST     UPM  \\\n",
       "0        1   ...    117       &      1      2         A          -  100105   \n",
       "1        2   ...    117       &      1      2         A          -  100105   \n",
       "2        2   ...    117       &      1      2         A          -  100105   \n",
       "3        1   ...    117       &      1      1         A          -  100105   \n",
       "4        2   ...    117       &      1      1         A          -  100105   \n",
       "\n",
       "  UPM_DIS Unnamed: 0.1 VIV_SEL  \n",
       "0      10            &       1  \n",
       "1      10            &       2  \n",
       "2      10            &       3  \n",
       "3      10            &       4  \n",
       "4      10            &       5  \n",
       "\n",
       "[5 rows x 162 columns]"
      ]
     },
     "execution_count": 108,
     "metadata": {},
     "output_type": "execute_result"
    }
   ],
   "source": [
    "df_copy_ensu_cb.drop(axis=0, columns=['level_0', 'index', 'CD'], inplace=True)\n",
    "df_copy_ensu_cb.head()"
   ]
  },
  {
   "cell_type": "markdown",
   "metadata": {},
   "source": [
    "### Periodo `PER`\n",
    "Periodo de la entrevista:\n",
    "+ `semestre` + `año`"
   ]
  },
  {
   "cell_type": "code",
   "execution_count": 109,
   "metadata": {},
   "outputs": [
    {
     "data": {
      "text/plain": [
       "417    60588\n",
       "317    15303\n",
       "217    15272\n",
       "117    14497\n",
       "416    13976\n",
       "316    12894\n",
       "216    11776\n",
       "116     9712\n",
       "1       7792\n",
       "Name: PER, dtype: int64"
      ]
     },
     "execution_count": 109,
     "metadata": {},
     "output_type": "execute_result"
    }
   ],
   "source": [
    "df_copy_ensu_cb.PER.value_counts()"
   ]
  },
  {
   "cell_type": "code",
   "execution_count": 110,
   "metadata": {},
   "outputs": [
    {
     "data": {
      "text/plain": [
       "{1: 116}"
      ]
     },
     "execution_count": 110,
     "metadata": {},
     "output_type": "execute_result"
    }
   ],
   "source": [
    "dir_PER = {1:116\n",
    "    }\n",
    "\n",
    "dir_PER"
   ]
  },
  {
   "cell_type": "code",
   "execution_count": 111,
   "metadata": {},
   "outputs": [
    {
     "data": {
      "text/plain": [
       "417    60588\n",
       "116    17504\n",
       "317    15303\n",
       "217    15272\n",
       "117    14497\n",
       "416    13976\n",
       "316    12894\n",
       "216    11776\n",
       "Name: PER, dtype: int64"
      ]
     },
     "execution_count": 111,
     "metadata": {},
     "output_type": "execute_result"
    }
   ],
   "source": [
    "df_copy_ensu_cb.PER.replace(dir_PER, inplace=True)\n",
    "df_copy_ensu_cb.PER.value_counts()"
   ]
  },
  {
   "cell_type": "markdown",
   "metadata": {},
   "source": [
    "### Resultado definitivo `R_DEF`\n",
    "Periodo de la entrevista:\n",
    "+ `01`: Entrevista completa\n",
    "+ `02`: Entrevista pendiente del seleccionado(a)\n",
    "+ `03`: Entrevista incompleta\n",
    "+ `04`: Entrevista concertada (cita) \n",
    "+ `05`: Informante inadecuado \n",
    "+ `06`: Ausencia de ocupantes \n",
    "+ `07`: Negativa\n",
    "+ `08`: Vivienda deshabitada \n",
    "+ `09`: Vivienda de uso temporal\n",
    "+ `10`: Vivienda con uso diferente al habitacional, demolida o en ruinas\n",
    "+ `11`: Área insegura \n",
    "+ `12`:Otra situación"
   ]
  },
  {
   "cell_type": "code",
   "execution_count": 112,
   "metadata": {},
   "outputs": [
    {
     "data": {
      "text/plain": [
       "1    154214\n",
       "0      7596\n",
       "Name: R_DEF, dtype: int64"
      ]
     },
     "execution_count": 112,
     "metadata": {},
     "output_type": "execute_result"
    }
   ],
   "source": [
    "df_copy_ensu_cb.R_DEF.value_counts()"
   ]
  },
  {
   "cell_type": "markdown",
   "metadata": {},
   "source": [
    "### Hogar mudado `H_MUD`\n",
    "\n",
    "Número de hogar mudado:\n",
    "+ 0-4"
   ]
  },
  {
   "cell_type": "code",
   "execution_count": 113,
   "metadata": {},
   "outputs": [
    {
     "data": {
      "text/plain": [
       "0      133715\n",
       "0.0     13341\n",
       "A        7405\n",
       "1        5744\n",
       "1.0       595\n",
       "2         539\n",
       "B         351\n",
       "3          39\n",
       "2.0        37\n",
       "D          30\n",
       "C           6\n",
       "4           5\n",
       "3.0         3\n",
       "Name: H_MUD, dtype: int64"
      ]
     },
     "execution_count": 113,
     "metadata": {},
     "output_type": "execute_result"
    }
   ],
   "source": [
    "df_copy_ensu_cb.H_MUD.value_counts()"
   ]
  },
  {
   "cell_type": "code",
   "execution_count": 114,
   "metadata": {},
   "outputs": [
    {
     "data": {
      "text/plain": [
       "{'0': 0,\n",
       " 0.0: 0,\n",
       " '0.0': 0,\n",
       " '1': 1,\n",
       " 1.0: 1,\n",
       " '1.0': 1,\n",
       " '2': 2,\n",
       " 2.0: 2,\n",
       " '2.0': 2,\n",
       " '3': 3,\n",
       " 3.0: 3,\n",
       " '3.0': 3,\n",
       " '4': 4,\n",
       " 4.0: 4,\n",
       " '4.0': 4,\n",
       " 'A': 0,\n",
       " 'B': 1,\n",
       " 'C': 2,\n",
       " 'D': 3,\n",
       " 'E': 4}"
      ]
     },
     "execution_count": 114,
     "metadata": {},
     "output_type": "execute_result"
    }
   ],
   "source": [
    "dir_H_MUD = {0.0: 0, '0.0': 0, '0': 0, 'A': 0,\n",
    "             1.0: 1, '1.0': 1, '1': 1, 'B': 1,\n",
    "             2.0: 2, '2.0': 2, '2': 2, 'C': 2,\n",
    "             3.0: 3, '3.0': 3, '3': 3, 'D': 3,\n",
    "             4.0: 4, '4.0': 4, '4': 4, 'E': 4\n",
    "    }\n",
    "\n",
    "dir_H_MUD"
   ]
  },
  {
   "cell_type": "code",
   "execution_count": 115,
   "metadata": {},
   "outputs": [
    {
     "data": {
      "text/plain": [
       "0    154461\n",
       "1      6690\n",
       "2       582\n",
       "3        72\n",
       "4         5\n",
       "Name: H_MUD, dtype: int64"
      ]
     },
     "execution_count": 115,
     "metadata": {},
     "output_type": "execute_result"
    }
   ],
   "source": [
    "df_copy_ensu_cb.H_MUD.replace(dir_H_MUD, inplace=True)\n",
    "df_copy_ensu_cb.H_MUD.value_counts()"
   ]
  },
  {
   "cell_type": "markdown",
   "metadata": {},
   "source": [
    "### Tipo de Levantamiento del Cuestionario`TIPO_CUEST`\n",
    "\n",
    "Número de veces que el informante seleccionado se ha cambiado:\n",
    "+ 0-4"
   ]
  },
  {
   "cell_type": "code",
   "execution_count": 116,
   "metadata": {},
   "outputs": [
    {
     "data": {
      "text/plain": [
       "-      154018\n",
       "5.0      1595\n",
       "3.0      1581\n",
       "1.0      1561\n",
       "4.0      1544\n",
       "2.0      1511\n",
       "Name: TIPO_CUEST, dtype: int64"
      ]
     },
     "execution_count": 116,
     "metadata": {},
     "output_type": "execute_result"
    }
   ],
   "source": [
    "df_copy_ensu_cb.TIPO_CUEST.value_counts()"
   ]
  },
  {
   "cell_type": "code",
   "execution_count": 117,
   "metadata": {},
   "outputs": [
    {
     "data": {
      "text/html": [
       "<div>\n",
       "<style scoped>\n",
       "    .dataframe tbody tr th:only-of-type {\n",
       "        vertical-align: middle;\n",
       "    }\n",
       "\n",
       "    .dataframe tbody tr th {\n",
       "        vertical-align: top;\n",
       "    }\n",
       "\n",
       "    .dataframe thead th {\n",
       "        text-align: right;\n",
       "    }\n",
       "</style>\n",
       "<table border=\"1\" class=\"dataframe\">\n",
       "  <thead>\n",
       "    <tr style=\"text-align: right;\">\n",
       "      <th></th>\n",
       "      <th>AGEB</th>\n",
       "      <th>BP1_1</th>\n",
       "      <th>BP1_2_01</th>\n",
       "      <th>BP1_2_02</th>\n",
       "      <th>BP1_2_03</th>\n",
       "      <th>BP1_2_04</th>\n",
       "      <th>BP1_2_05</th>\n",
       "      <th>BP1_2_06</th>\n",
       "      <th>BP1_2_07</th>\n",
       "      <th>BP1_2_08</th>\n",
       "      <th>...</th>\n",
       "      <th>N_ENT</th>\n",
       "      <th>PER</th>\n",
       "      <th>PRO_VIV</th>\n",
       "      <th>R_DEF</th>\n",
       "      <th>R_SEL</th>\n",
       "      <th>SEL_SUST</th>\n",
       "      <th>UPM</th>\n",
       "      <th>UPM_DIS</th>\n",
       "      <th>Unnamed: 0.1</th>\n",
       "      <th>VIV_SEL</th>\n",
       "    </tr>\n",
       "  </thead>\n",
       "  <tbody>\n",
       "    <tr>\n",
       "      <th>0</th>\n",
       "      <td>&amp;</td>\n",
       "      <td>1</td>\n",
       "      <td>1</td>\n",
       "      <td>1</td>\n",
       "      <td>1</td>\n",
       "      <td>3</td>\n",
       "      <td>1</td>\n",
       "      <td>1</td>\n",
       "      <td>1</td>\n",
       "      <td>1</td>\n",
       "      <td>...</td>\n",
       "      <td>4</td>\n",
       "      <td>117</td>\n",
       "      <td>&amp;</td>\n",
       "      <td>1</td>\n",
       "      <td>2</td>\n",
       "      <td>A</td>\n",
       "      <td>100105</td>\n",
       "      <td>10</td>\n",
       "      <td>&amp;</td>\n",
       "      <td>1</td>\n",
       "    </tr>\n",
       "    <tr>\n",
       "      <th>1</th>\n",
       "      <td>&amp;</td>\n",
       "      <td>2</td>\n",
       "      <td>2</td>\n",
       "      <td>3</td>\n",
       "      <td>2</td>\n",
       "      <td>3</td>\n",
       "      <td>2</td>\n",
       "      <td>2</td>\n",
       "      <td>2</td>\n",
       "      <td>2</td>\n",
       "      <td>...</td>\n",
       "      <td>4</td>\n",
       "      <td>117</td>\n",
       "      <td>&amp;</td>\n",
       "      <td>1</td>\n",
       "      <td>2</td>\n",
       "      <td>A</td>\n",
       "      <td>100105</td>\n",
       "      <td>10</td>\n",
       "      <td>&amp;</td>\n",
       "      <td>2</td>\n",
       "    </tr>\n",
       "    <tr>\n",
       "      <th>2</th>\n",
       "      <td>&amp;</td>\n",
       "      <td>1</td>\n",
       "      <td>1</td>\n",
       "      <td>2</td>\n",
       "      <td>1</td>\n",
       "      <td>3</td>\n",
       "      <td>1</td>\n",
       "      <td>1</td>\n",
       "      <td>2</td>\n",
       "      <td>2</td>\n",
       "      <td>...</td>\n",
       "      <td>4</td>\n",
       "      <td>117</td>\n",
       "      <td>&amp;</td>\n",
       "      <td>1</td>\n",
       "      <td>2</td>\n",
       "      <td>A</td>\n",
       "      <td>100105</td>\n",
       "      <td>10</td>\n",
       "      <td>&amp;</td>\n",
       "      <td>3</td>\n",
       "    </tr>\n",
       "    <tr>\n",
       "      <th>3</th>\n",
       "      <td>&amp;</td>\n",
       "      <td>2</td>\n",
       "      <td>1</td>\n",
       "      <td>3</td>\n",
       "      <td>2</td>\n",
       "      <td>3</td>\n",
       "      <td>1</td>\n",
       "      <td>1</td>\n",
       "      <td>1</td>\n",
       "      <td>1</td>\n",
       "      <td>...</td>\n",
       "      <td>4</td>\n",
       "      <td>117</td>\n",
       "      <td>&amp;</td>\n",
       "      <td>1</td>\n",
       "      <td>1</td>\n",
       "      <td>A</td>\n",
       "      <td>100105</td>\n",
       "      <td>10</td>\n",
       "      <td>&amp;</td>\n",
       "      <td>4</td>\n",
       "    </tr>\n",
       "    <tr>\n",
       "      <th>4</th>\n",
       "      <td>&amp;</td>\n",
       "      <td>1</td>\n",
       "      <td>1</td>\n",
       "      <td>1</td>\n",
       "      <td>1</td>\n",
       "      <td>3</td>\n",
       "      <td>1</td>\n",
       "      <td>1</td>\n",
       "      <td>2</td>\n",
       "      <td>2</td>\n",
       "      <td>...</td>\n",
       "      <td>4</td>\n",
       "      <td>117</td>\n",
       "      <td>&amp;</td>\n",
       "      <td>1</td>\n",
       "      <td>1</td>\n",
       "      <td>A</td>\n",
       "      <td>100105</td>\n",
       "      <td>10</td>\n",
       "      <td>&amp;</td>\n",
       "      <td>5</td>\n",
       "    </tr>\n",
       "  </tbody>\n",
       "</table>\n",
       "<p>5 rows × 161 columns</p>\n",
       "</div>"
      ],
      "text/plain": [
       "  AGEB  BP1_1 BP1_2_01 BP1_2_02 BP1_2_03 BP1_2_04 BP1_2_05 BP1_2_06 BP1_2_07  \\\n",
       "0    &      1        1        1        1        3        1        1        1   \n",
       "1    &      2        2        3        2        3        2        2        2   \n",
       "2    &      1        1        2        1        3        1        1        2   \n",
       "3    &      2        1        3        2        3        1        1        1   \n",
       "4    &      1        1        1        1        3        1        1        2   \n",
       "\n",
       "  BP1_2_08   ...   N_ENT  PER  PRO_VIV  R_DEF  R_SEL SEL_SUST     UPM UPM_DIS  \\\n",
       "0        1   ...       4  117        &      1      2        A  100105      10   \n",
       "1        2   ...       4  117        &      1      2        A  100105      10   \n",
       "2        2   ...       4  117        &      1      2        A  100105      10   \n",
       "3        1   ...       4  117        &      1      1        A  100105      10   \n",
       "4        2   ...       4  117        &      1      1        A  100105      10   \n",
       "\n",
       "  Unnamed: 0.1 VIV_SEL  \n",
       "0            &       1  \n",
       "1            &       2  \n",
       "2            &       3  \n",
       "3            &       4  \n",
       "4            &       5  \n",
       "\n",
       "[5 rows x 161 columns]"
      ]
     },
     "execution_count": 117,
     "metadata": {},
     "output_type": "execute_result"
    }
   ],
   "source": [
    "df_copy_ensu_cb.drop(axis=0, columns=['TIPO_CUEST'], inplace=True)\n",
    "df_copy_ensu_cb.head()"
   ]
  },
  {
   "cell_type": "markdown",
   "metadata": {},
   "source": [
    "### Número de entrevista `N_ENT`\n",
    "\n",
    "Número de Entrevista:\n",
    "+ 1-5"
   ]
  },
  {
   "cell_type": "code",
   "execution_count": 118,
   "metadata": {},
   "outputs": [
    {
     "data": {
      "text/plain": [
       "2      28892\n",
       "1      25836\n",
       "5      24124\n",
       "4      23744\n",
       "3      23714\n",
       "&       9712\n",
       "5.0     5194\n",
       "3.0     5180\n",
       "1.0     5153\n",
       "4.0     5131\n",
       "2.0     5094\n",
       "9         36\n",
       "Name: N_ENT, dtype: int64"
      ]
     },
     "execution_count": 118,
     "metadata": {},
     "output_type": "execute_result"
    }
   ],
   "source": [
    "df_copy_ensu_cb.N_ENT.value_counts()"
   ]
  },
  {
   "cell_type": "code",
   "execution_count": 119,
   "metadata": {},
   "outputs": [],
   "source": [
    "dir_N_ENT = {0.0: 0, '0.0': 0, '0': 0, 'A': 0,\n",
    "             1.0: 1, '1.0': 1, '1': 1, 'B': 1,\n",
    "             2.0: 2, '2.0': 2, '2': 2, 'C': 2,\n",
    "             3.0: 3, '3.0': 3, '3': 3, 'D': 3,\n",
    "             4.0: 4, '4.0': 4, '4': 4, 'E': 4,\n",
    "             5.0: 5, '5.0': 5, '5': 5, 'F': 5,\n",
    "             9.0: '&', '9.0': '&', '9': '&',\n",
    "    }"
   ]
  },
  {
   "cell_type": "code",
   "execution_count": 120,
   "metadata": {},
   "outputs": [
    {
     "data": {
      "text/plain": [
       "2    33986\n",
       "1    30989\n",
       "5    29318\n",
       "3    28894\n",
       "4    28875\n",
       "&     9748\n",
       "Name: N_ENT, dtype: int64"
      ]
     },
     "execution_count": 120,
     "metadata": {},
     "output_type": "execute_result"
    }
   ],
   "source": [
    "df_copy_ensu_cb.N_ENT.replace(dir_N_ENT, inplace=True)\n",
    "df_copy_ensu_cb.N_ENT.value_counts()"
   ]
  },
  {
   "cell_type": "markdown",
   "metadata": {},
   "source": [
    "### Percepción de seguridad en la ciudad `BP1_1`\n",
    "En términos de la delincuencia, ¿considera que vivir actualmente en (CIUDAD), es...\n",
    "+ `1`: seguro \n",
    "+ `2`: inseguro\n",
    "+ `&`: No sabe / no responde"
   ]
  },
  {
   "cell_type": "code",
   "execution_count": 121,
   "metadata": {},
   "outputs": [
    {
     "data": {
      "text/plain": [
       "2    112480\n",
       "1     48992\n",
       "9       338\n",
       "Name: BP1_1, dtype: int64"
      ]
     },
     "execution_count": 121,
     "metadata": {},
     "output_type": "execute_result"
    }
   ],
   "source": [
    "df_copy_ensu_cb.BP1_1.value_counts()"
   ]
  },
  {
   "cell_type": "code",
   "execution_count": 122,
   "metadata": {},
   "outputs": [],
   "source": [
    "dir_BP1_1 = {9: '&'\n",
    "    }"
   ]
  },
  {
   "cell_type": "code",
   "execution_count": 123,
   "metadata": {},
   "outputs": [
    {
     "ename": "ValueError",
     "evalue": "Buffer dtype mismatch, expected 'Python object' but got 'long'",
     "output_type": "error",
     "traceback": [
      "\u001b[0;31m---------------------------------------------------------------------------\u001b[0m",
      "\u001b[0;31mValueError\u001b[0m                                Traceback (most recent call last)",
      "\u001b[0;31mValueError\u001b[0m: Buffer dtype mismatch, expected 'Python object' but got 'long'"
     ]
    },
    {
     "name": "stderr",
     "output_type": "stream",
     "text": [
      "Exception ignored in: 'pandas._libs.lib.is_bool_array'\n",
      "ValueError: Buffer dtype mismatch, expected 'Python object' but got 'long'\n"
     ]
    },
    {
     "data": {
      "text/plain": [
       "2    112480\n",
       "1     48992\n",
       "&       338\n",
       "Name: BP1_1, dtype: int64"
      ]
     },
     "execution_count": 123,
     "metadata": {},
     "output_type": "execute_result"
    }
   ],
   "source": [
    "df_copy_ensu_cb.BP1_1 = df_copy_ensu_cb.BP1_1.astype('category')\n",
    "df_copy_ensu_cb.BP1_1.replace(dir_BP1_1, inplace=True)\n",
    "df_copy_ensu_cb.BP1_1.value_counts()"
   ]
  },
  {
   "cell_type": "markdown",
   "metadata": {},
   "source": [
    "### Percepción de seguridad en casa `BP1_2_01`\n",
    "En términos de delincuencia, dígame si en (LUGAR) se siente seguro(a) o inseguro(a).\n",
    "+ `1`: seguro \n",
    "+ `2`: inseguro\n",
    "+ `&`: No sabe / no responde"
   ]
  },
  {
   "cell_type": "code",
   "execution_count": 124,
   "metadata": {},
   "outputs": [
    {
     "data": {
      "text/plain": [
       "1    103893\n",
       "2     45913\n",
       "&      9712\n",
       "3      2226\n",
       "9        66\n",
       "Name: BP1_2_01, dtype: int64"
      ]
     },
     "execution_count": 124,
     "metadata": {},
     "output_type": "execute_result"
    }
   ],
   "source": [
    "df_copy_ensu_cb.BP1_2_01.value_counts()"
   ]
  },
  {
   "cell_type": "code",
   "execution_count": 125,
   "metadata": {},
   "outputs": [],
   "source": [
    "dir_BP2 = {9: '&', 3: '&', 4: '&',\n",
    "           '9': '&', '3': '&', '4': '&'\n",
    "    }"
   ]
  },
  {
   "cell_type": "code",
   "execution_count": 126,
   "metadata": {},
   "outputs": [
    {
     "data": {
      "text/plain": [
       "1    103893\n",
       "2     45913\n",
       "&     12004\n",
       "Name: BP1_2_01, dtype: int64"
      ]
     },
     "execution_count": 126,
     "metadata": {},
     "output_type": "execute_result"
    }
   ],
   "source": [
    "df_copy_ensu_cb.BP1_2_01.replace(dir_BP2, inplace=True)\n",
    "df_copy_ensu_cb.BP1_2_01.value_counts()"
   ]
  },
  {
   "cell_type": "markdown",
   "metadata": {},
   "source": [
    "### Percepción de seguridad en trabajo `BP1_2_02`\n",
    "En términos de delincuencia, dígame si en (LUGAR) se siente seguro(a) o inseguro(a).\n",
    "+ `1`: seguro \n",
    "+ `2`: inseguro\n",
    "+ `&`: No sabe / no responde"
   ]
  },
  {
   "cell_type": "code",
   "execution_count": 127,
   "metadata": {},
   "outputs": [
    {
     "data": {
      "text/plain": [
       "1    66781\n",
       "2    43480\n",
       "3    41768\n",
       "&     9712\n",
       "9       69\n",
       "Name: BP1_2_02, dtype: int64"
      ]
     },
     "execution_count": 127,
     "metadata": {},
     "output_type": "execute_result"
    }
   ],
   "source": [
    "df_copy_ensu_cb.BP1_2_02.value_counts()"
   ]
  },
  {
   "cell_type": "code",
   "execution_count": 128,
   "metadata": {},
   "outputs": [
    {
     "data": {
      "text/plain": [
       "1    66781\n",
       "&    51549\n",
       "2    43480\n",
       "Name: BP1_2_02, dtype: int64"
      ]
     },
     "execution_count": 128,
     "metadata": {},
     "output_type": "execute_result"
    }
   ],
   "source": [
    "df_copy_ensu_cb.BP1_2_02.replace(dir_BP2, inplace=True)\n",
    "df_copy_ensu_cb.BP1_2_02.value_counts()"
   ]
  },
  {
   "cell_type": "markdown",
   "metadata": {},
   "source": [
    "### Percepción de seguridad en las calles que habitualmente usa `BP1_2_03`\n",
    "En términos de delincuencia, dígame si en (LUGAR) se siente seguro(a) o inseguro(a).\n",
    "+ `1`: seguro \n",
    "+ `2`: inseguro\n",
    "+ `&`: No sabe / no responde"
   ]
  },
  {
   "cell_type": "code",
   "execution_count": 129,
   "metadata": {},
   "outputs": [
    {
     "data": {
      "text/plain": [
       "2    91967\n",
       "1    51806\n",
       "&     9712\n",
       "3     8233\n",
       "9       92\n",
       "Name: BP1_2_03, dtype: int64"
      ]
     },
     "execution_count": 129,
     "metadata": {},
     "output_type": "execute_result"
    }
   ],
   "source": [
    "df_copy_ensu_cb.BP1_2_03.value_counts()"
   ]
  },
  {
   "cell_type": "code",
   "execution_count": 130,
   "metadata": {},
   "outputs": [
    {
     "data": {
      "text/plain": [
       "2    91967\n",
       "1    51806\n",
       "&    18037\n",
       "Name: BP1_2_03, dtype: int64"
      ]
     },
     "execution_count": 130,
     "metadata": {},
     "output_type": "execute_result"
    }
   ],
   "source": [
    "df_copy_ensu_cb.BP1_2_03.replace(dir_BP2, inplace=True)\n",
    "df_copy_ensu_cb.BP1_2_03.value_counts()"
   ]
  },
  {
   "cell_type": "markdown",
   "metadata": {},
   "source": [
    "### Percepción de seguridad en la escuela `BP1_2_04`\n",
    "En términos de delincuencia, dígame si en (LUGAR) se siente seguro(a) o inseguro(a).\n",
    "+ `1`: seguro \n",
    "+ `2`: inseguro\n",
    "+ `&`: No sabe / no responde"
   ]
  },
  {
   "cell_type": "code",
   "execution_count": 131,
   "metadata": {},
   "outputs": [
    {
     "data": {
      "text/plain": [
       "3    133345\n",
       "1     11713\n",
       "&      9712\n",
       "2      6976\n",
       "9        64\n",
       "Name: BP1_2_04, dtype: int64"
      ]
     },
     "execution_count": 131,
     "metadata": {},
     "output_type": "execute_result"
    }
   ],
   "source": [
    "df_copy_ensu_cb.BP1_2_04.value_counts()"
   ]
  },
  {
   "cell_type": "code",
   "execution_count": 132,
   "metadata": {},
   "outputs": [
    {
     "data": {
      "text/plain": [
       "&    143121\n",
       "1     11713\n",
       "2      6976\n",
       "Name: BP1_2_04, dtype: int64"
      ]
     },
     "execution_count": 132,
     "metadata": {},
     "output_type": "execute_result"
    }
   ],
   "source": [
    "df_copy_ensu_cb.BP1_2_04.replace(dir_BP2, inplace=True)\n",
    "df_copy_ensu_cb.BP1_2_04.value_counts()"
   ]
  },
  {
   "cell_type": "markdown",
   "metadata": {},
   "source": [
    "### Percepción de seguridad en el mercado `BP1_2_05`\n",
    "En términos de delincuencia, dígame si en (LUGAR) se siente seguro(a) o inseguro(a).\n",
    "+ `1`: seguro \n",
    "+ `2`: inseguro\n",
    "+ `&`: No sabe / no responde"
   ]
  },
  {
   "cell_type": "code",
   "execution_count": 133,
   "metadata": {},
   "outputs": [
    {
     "data": {
      "text/plain": [
       "2    76636\n",
       "1    53895\n",
       "3    21359\n",
       "&     9712\n",
       "9      208\n",
       "Name: BP1_2_05, dtype: int64"
      ]
     },
     "execution_count": 133,
     "metadata": {},
     "output_type": "execute_result"
    }
   ],
   "source": [
    "df_copy_ensu_cb.BP1_2_05.value_counts()"
   ]
  },
  {
   "cell_type": "code",
   "execution_count": 134,
   "metadata": {},
   "outputs": [
    {
     "data": {
      "text/plain": [
       "2    76636\n",
       "1    53895\n",
       "&    31279\n",
       "Name: BP1_2_05, dtype: int64"
      ]
     },
     "execution_count": 134,
     "metadata": {},
     "output_type": "execute_result"
    }
   ],
   "source": [
    "df_copy_ensu_cb.BP1_2_05.replace(dir_BP2, inplace=True)\n",
    "df_copy_ensu_cb.BP1_2_05.value_counts()"
   ]
  },
  {
   "cell_type": "markdown",
   "metadata": {},
   "source": [
    "### Percepción de seguridad en el centro comercial `BP1_2_06`\n",
    "En términos de delincuencia, dígame si en (LUGAR) se siente seguro(a) o inseguro(a).\n",
    "+ `1`: seguro \n",
    "+ `2`: inseguro\n",
    "+ `&`: No sabe / no responde"
   ]
  },
  {
   "cell_type": "code",
   "execution_count": 135,
   "metadata": {},
   "outputs": [
    {
     "data": {
      "text/plain": [
       "1    76572\n",
       "2    65960\n",
       "&     9712\n",
       "3     9392\n",
       "9      174\n",
       "Name: BP1_2_06, dtype: int64"
      ]
     },
     "execution_count": 135,
     "metadata": {},
     "output_type": "execute_result"
    }
   ],
   "source": [
    "df_copy_ensu_cb.BP1_2_06.value_counts()"
   ]
  },
  {
   "cell_type": "code",
   "execution_count": 136,
   "metadata": {},
   "outputs": [
    {
     "data": {
      "text/plain": [
       "1    76572\n",
       "2    65960\n",
       "&    19278\n",
       "Name: BP1_2_06, dtype: int64"
      ]
     },
     "execution_count": 136,
     "metadata": {},
     "output_type": "execute_result"
    }
   ],
   "source": [
    "df_copy_ensu_cb.BP1_2_06.replace(dir_BP2, inplace=True)\n",
    "df_copy_ensu_cb.BP1_2_06.value_counts()"
   ]
  },
  {
   "cell_type": "markdown",
   "metadata": {},
   "source": [
    "### Percepción de seguridad en el banco `BP1_2_07`\n",
    "En términos de delincuencia, dígame si en (LUGAR) se siente seguro(a) o inseguro(a).\n",
    "+ `1`: seguro \n",
    "+ `2`: inseguro\n",
    "+ `&`: No sabe / no responde"
   ]
  },
  {
   "cell_type": "code",
   "execution_count": 137,
   "metadata": {},
   "outputs": [
    {
     "data": {
      "text/plain": [
       "2    86550\n",
       "1    41999\n",
       "3    23390\n",
       "&     9712\n",
       "9      159\n",
       "Name: BP1_2_07, dtype: int64"
      ]
     },
     "execution_count": 137,
     "metadata": {},
     "output_type": "execute_result"
    }
   ],
   "source": [
    "df_copy_ensu_cb.BP1_2_07.value_counts()"
   ]
  },
  {
   "cell_type": "code",
   "execution_count": 138,
   "metadata": {},
   "outputs": [
    {
     "data": {
      "text/plain": [
       "2    86550\n",
       "1    41999\n",
       "&    33261\n",
       "Name: BP1_2_07, dtype: int64"
      ]
     },
     "execution_count": 138,
     "metadata": {},
     "output_type": "execute_result"
    }
   ],
   "source": [
    "df_copy_ensu_cb.BP1_2_07.replace(dir_BP2, inplace=True)\n",
    "df_copy_ensu_cb.BP1_2_07.value_counts()"
   ]
  },
  {
   "cell_type": "markdown",
   "metadata": {},
   "source": [
    "### Percepción de seguridad en el cajero automático localizado en la vía pública `BP1_2_08`\n",
    "En términos de delincuencia, dígame si en (LUGAR) se siente seguro(a) o inseguro(a).\n",
    "+ `1`: seguro \n",
    "+ `2`: inseguro\n",
    "+ `&`: No sabe / no responde"
   ]
  },
  {
   "cell_type": "code",
   "execution_count": 139,
   "metadata": {},
   "outputs": [
    {
     "data": {
      "text/plain": [
       "2    97282\n",
       "1    27430\n",
       "3    27228\n",
       "&     9712\n",
       "9      158\n",
       "Name: BP1_2_08, dtype: int64"
      ]
     },
     "execution_count": 139,
     "metadata": {},
     "output_type": "execute_result"
    }
   ],
   "source": [
    "df_copy_ensu_cb.BP1_2_08.value_counts()"
   ]
  },
  {
   "cell_type": "code",
   "execution_count": 140,
   "metadata": {},
   "outputs": [
    {
     "data": {
      "text/plain": [
       "2    97282\n",
       "&    37098\n",
       "1    27430\n",
       "Name: BP1_2_08, dtype: int64"
      ]
     },
     "execution_count": 140,
     "metadata": {},
     "output_type": "execute_result"
    }
   ],
   "source": [
    "df_copy_ensu_cb.BP1_2_08.replace(dir_BP2, inplace=True)\n",
    "df_copy_ensu_cb.BP1_2_08.value_counts()"
   ]
  },
  {
   "cell_type": "markdown",
   "metadata": {},
   "source": [
    "### Percepción de seguridad en el transporte público `BP1_2_09`\n",
    "En términos de delincuencia, dígame si en (LUGAR) se siente seguro(a) o inseguro(a).\n",
    "+ `1`: seguro \n",
    "+ `2`: inseguro\n",
    "+ `&`: No sabe / no responde"
   ]
  },
  {
   "cell_type": "code",
   "execution_count": 141,
   "metadata": {},
   "outputs": [
    {
     "data": {
      "text/plain": [
       "2    78533\n",
       "1    42078\n",
       "3    31327\n",
       "&     9712\n",
       "9      160\n",
       "Name: BP1_2_09, dtype: int64"
      ]
     },
     "execution_count": 141,
     "metadata": {},
     "output_type": "execute_result"
    }
   ],
   "source": [
    "df_copy_ensu_cb.BP1_2_09.value_counts()"
   ]
  },
  {
   "cell_type": "code",
   "execution_count": 142,
   "metadata": {},
   "outputs": [
    {
     "data": {
      "text/plain": [
       "2    78533\n",
       "1    42078\n",
       "&    41199\n",
       "Name: BP1_2_09, dtype: int64"
      ]
     },
     "execution_count": 142,
     "metadata": {},
     "output_type": "execute_result"
    }
   ],
   "source": [
    "df_copy_ensu_cb.BP1_2_09.replace(dir_BP2, inplace=True)\n",
    "df_copy_ensu_cb.BP1_2_09.value_counts()"
   ]
  },
  {
   "cell_type": "markdown",
   "metadata": {},
   "source": [
    "### Percepción de seguridad en el automóvil `BP1_2_10`\n",
    "En términos de delincuencia, dígame si en (LUGAR) se siente seguro(a) o inseguro(a).\n",
    "+ `1`: seguro \n",
    "+ `2`: inseguro\n",
    "+ `&`: No sabe / no responde"
   ]
  },
  {
   "cell_type": "code",
   "execution_count": 143,
   "metadata": {},
   "outputs": [
    {
     "data": {
      "text/plain": [
       "1    78125\n",
       "2    60463\n",
       "3    23077\n",
       "9      145\n",
       "Name: BP1_2_10, dtype: int64"
      ]
     },
     "execution_count": 143,
     "metadata": {},
     "output_type": "execute_result"
    }
   ],
   "source": [
    "df_copy_ensu_cb.BP1_2_10.value_counts()"
   ]
  },
  {
   "cell_type": "code",
   "execution_count": 144,
   "metadata": {},
   "outputs": [
    {
     "data": {
      "text/plain": [
       "1    78125\n",
       "2    60463\n",
       "&    23222\n",
       "Name: BP1_2_10, dtype: int64"
      ]
     },
     "execution_count": 144,
     "metadata": {},
     "output_type": "execute_result"
    }
   ],
   "source": [
    "df_copy_ensu_cb.BP1_2_10 = df_copy_ensu_cb.BP1_2_10.astype('str')\n",
    "df_copy_ensu_cb.BP1_2_10.replace(dir_BP2, inplace=True)\n",
    "df_copy_ensu_cb.BP1_2_10.value_counts()"
   ]
  },
  {
   "cell_type": "markdown",
   "metadata": {},
   "source": [
    "### Percepción de seguridad en la carretera `BP1_2_11`\n",
    "En términos de delincuencia, dígame si en (LUGAR) se siente seguro(a) o inseguro(a).\n",
    "+ `1`: seguro \n",
    "+ `2`: inseguro\n",
    "+ `&`: No sabe / no responde"
   ]
  },
  {
   "cell_type": "code",
   "execution_count": 145,
   "metadata": {},
   "outputs": [
    {
     "data": {
      "text/plain": [
       "2    83652\n",
       "1    60990\n",
       "3    16930\n",
       "9      238\n",
       "Name: BP1_2_11, dtype: int64"
      ]
     },
     "execution_count": 145,
     "metadata": {},
     "output_type": "execute_result"
    }
   ],
   "source": [
    "df_copy_ensu_cb.BP1_2_11.value_counts()"
   ]
  },
  {
   "cell_type": "code",
   "execution_count": 146,
   "metadata": {},
   "outputs": [
    {
     "data": {
      "text/plain": [
       "2    83652\n",
       "1    60990\n",
       "&    17168\n",
       "Name: BP1_2_11, dtype: int64"
      ]
     },
     "execution_count": 146,
     "metadata": {},
     "output_type": "execute_result"
    }
   ],
   "source": [
    "df_copy_ensu_cb.BP1_2_11 = df_copy_ensu_cb.BP1_2_11.astype('str')\n",
    "df_copy_ensu_cb.BP1_2_11.replace(dir_BP2, inplace=True)\n",
    "df_copy_ensu_cb.BP1_2_11.value_counts()"
   ]
  },
  {
   "cell_type": "markdown",
   "metadata": {},
   "source": [
    "### Percepción de seguridad en el parque recreativo o centro recreativo `BP1_2_12`\n",
    "En términos de delincuencia, dígame si en (LUGAR) se siente seguro(a) o inseguro(a).\n",
    "+ `1`: seguro \n",
    "+ `2`: inseguro\n",
    "+ `&`: No sabe / no responde"
   ]
  },
  {
   "cell_type": "code",
   "execution_count": 147,
   "metadata": {},
   "outputs": [
    {
     "data": {
      "text/plain": [
       "2    66597\n",
       "1    59601\n",
       "3    32817\n",
       "4     2342\n",
       "9      453\n",
       "Name: BP1_2_12, dtype: int64"
      ]
     },
     "execution_count": 147,
     "metadata": {},
     "output_type": "execute_result"
    }
   ],
   "source": [
    "df_copy_ensu_cb.BP1_2_12.value_counts()"
   ]
  },
  {
   "cell_type": "code",
   "execution_count": 148,
   "metadata": {},
   "outputs": [
    {
     "data": {
      "text/plain": [
       "2    66597\n",
       "1    59601\n",
       "&    35612\n",
       "Name: BP1_2_12, dtype: int64"
      ]
     },
     "execution_count": 148,
     "metadata": {},
     "output_type": "execute_result"
    }
   ],
   "source": [
    "df_copy_ensu_cb.BP1_2_12 = df_copy_ensu_cb.BP1_2_12.astype('str')\n",
    "df_copy_ensu_cb.BP1_2_12.replace(dir_BP2, inplace=True)\n",
    "df_copy_ensu_cb.BP1_2_12.value_counts()"
   ]
  },
  {
   "cell_type": "markdown",
   "metadata": {},
   "source": [
    "### Condiciones de delincuencia en su ciudad `BP1_3`\n",
    "Pensando en las condiciones de delincuencia en (CIUDAD), ¿considera que en los próximos 12 meses...\n",
    "+ `1`: mejorará?\n",
    "+ `2`: seguirá igual de bien? \n",
    "+ `3`: seguirá igual de mal? \n",
    "+ `4`: empeorará?\n",
    "+ `&`: No sabe / no responde"
   ]
  },
  {
   "cell_type": "code",
   "execution_count": 149,
   "metadata": {},
   "outputs": [
    {
     "data": {
      "text/plain": [
       "4    55141\n",
       "3    51694\n",
       "1    33570\n",
       "2    19494\n",
       "9     1911\n",
       "Name: BP1_3, dtype: int64"
      ]
     },
     "execution_count": 149,
     "metadata": {},
     "output_type": "execute_result"
    }
   ],
   "source": [
    "df_copy_ensu_cb.BP1_3.value_counts()"
   ]
  },
  {
   "cell_type": "code",
   "execution_count": 150,
   "metadata": {},
   "outputs": [],
   "source": [
    "dir_BP1_3 = {9: '&','9': '&'\n",
    "    }"
   ]
  },
  {
   "cell_type": "code",
   "execution_count": 151,
   "metadata": {},
   "outputs": [
    {
     "data": {
      "text/plain": [
       "4    55141\n",
       "3    51694\n",
       "1    33570\n",
       "2    19494\n",
       "&     1911\n",
       "Name: BP1_3, dtype: int64"
      ]
     },
     "execution_count": 151,
     "metadata": {},
     "output_type": "execute_result"
    }
   ],
   "source": [
    "df_copy_ensu_cb.BP1_3 = df_copy_ensu_cb.BP1_3.astype('str')\n",
    "df_copy_ensu_cb.BP1_3.replace(dir_BP1_3, inplace=True)\n",
    "df_copy_ensu_cb.BP1_3.value_counts()"
   ]
  },
  {
   "cell_type": "markdown",
   "metadata": {},
   "source": [
    "### Situaciones de vandalismo (grafitis, pintas, vidrios quebrados o daños) en las viviendas o negocios? `BP1_4_1`\n",
    "En los últimos tres meses, ¿ha escuchado o ha visto en los alrededores de su vivienda situaciones como...\n",
    "+ `1`: sí \n",
    "+ `2`: no\n",
    "+ `&`: No sabe / no responde"
   ]
  },
  {
   "cell_type": "code",
   "execution_count": 154,
   "metadata": {},
   "outputs": [
    {
     "data": {
      "text/plain": [
       "2    81650\n",
       "1    79870\n",
       "9      290\n",
       "Name: BP1_4_1, dtype: int64"
      ]
     },
     "execution_count": 154,
     "metadata": {},
     "output_type": "execute_result"
    }
   ],
   "source": [
    "df_copy_ensu_cb.BP1_4_1.value_counts()"
   ]
  },
  {
   "cell_type": "code",
   "execution_count": 155,
   "metadata": {},
   "outputs": [],
   "source": [
    "dir_BP1_4 = {9: '&','9': '&'\n",
    "    }"
   ]
  },
  {
   "cell_type": "code",
   "execution_count": 157,
   "metadata": {},
   "outputs": [
    {
     "data": {
      "text/plain": [
       "2    81650\n",
       "1    79870\n",
       "&      290\n",
       "Name: BP1_4_1, dtype: int64"
      ]
     },
     "execution_count": 157,
     "metadata": {},
     "output_type": "execute_result"
    }
   ],
   "source": [
    "df_copy_ensu_cb.BP1_4_1 = df_copy_ensu_cb.BP1_4_1.astype('str')\n",
    "df_copy_ensu_cb.BP1_4_1.replace(dir_BP1_4, inplace=True)\n",
    "df_copy_ensu_cb.BP1_4_1.value_counts()"
   ]
  },
  {
   "cell_type": "markdown",
   "metadata": {},
   "source": [
    "### Situaciones de consumo de alcohol en las calles? `BP1_4_2`\n",
    "En los últimos tres meses, ¿ha escuchado o ha visto en los alrededores de su vivienda situaciones como...\n",
    "+ `1`: sí \n",
    "+ `2`: no\n",
    "+ `&`: No sabe / no responde"
   ]
  },
  {
   "cell_type": "code",
   "execution_count": 158,
   "metadata": {},
   "outputs": [
    {
     "data": {
      "text/plain": [
       "1    102010\n",
       "2     59502\n",
       "9       298\n",
       "Name: BP1_4_2, dtype: int64"
      ]
     },
     "execution_count": 158,
     "metadata": {},
     "output_type": "execute_result"
    }
   ],
   "source": [
    "df_copy_ensu_cb.BP1_4_2.value_counts()"
   ]
  },
  {
   "cell_type": "code",
   "execution_count": 159,
   "metadata": {},
   "outputs": [
    {
     "data": {
      "text/plain": [
       "1    102010\n",
       "2     59502\n",
       "&       298\n",
       "Name: BP1_4_2, dtype: int64"
      ]
     },
     "execution_count": 159,
     "metadata": {},
     "output_type": "execute_result"
    }
   ],
   "source": [
    "df_copy_ensu_cb.BP1_4_2 = df_copy_ensu_cb.BP1_4_2.astype('str')\n",
    "df_copy_ensu_cb.BP1_4_2.replace(dir_BP1_4, inplace=True)\n",
    "df_copy_ensu_cb.BP1_4_2.value_counts()"
   ]
  },
  {
   "cell_type": "markdown",
   "metadata": {},
   "source": [
    "### Situaciones de robos o asaltos? `BP1_4_3`\n",
    "En los últimos tres meses, ¿ha escuchado o ha visto en los alrededores de su vivienda situaciones como...\n",
    "+ `1`: sí \n",
    "+ `2`: no\n",
    "+ `&`: No sabe / no responde"
   ]
  },
  {
   "cell_type": "code",
   "execution_count": 160,
   "metadata": {},
   "outputs": [
    {
     "data": {
      "text/plain": [
       "1    92860\n",
       "2    68626\n",
       "9      324\n",
       "Name: BP1_4_3, dtype: int64"
      ]
     },
     "execution_count": 160,
     "metadata": {},
     "output_type": "execute_result"
    }
   ],
   "source": [
    "df_copy_ensu_cb.BP1_4_3.value_counts()"
   ]
  },
  {
   "cell_type": "code",
   "execution_count": 161,
   "metadata": {},
   "outputs": [
    {
     "data": {
      "text/plain": [
       "1    92860\n",
       "2    68626\n",
       "&      324\n",
       "Name: BP1_4_3, dtype: int64"
      ]
     },
     "execution_count": 161,
     "metadata": {},
     "output_type": "execute_result"
    }
   ],
   "source": [
    "df_copy_ensu_cb.BP1_4_3 = df_copy_ensu_cb.BP1_4_3.astype('str')\n",
    "df_copy_ensu_cb.BP1_4_3.replace(dir_BP1_4, inplace=True)\n",
    "df_copy_ensu_cb.BP1_4_3.value_counts()"
   ]
  },
  {
   "cell_type": "markdown",
   "metadata": {},
   "source": [
    "### Situaciones de venta o consumo de droga? `BP1_4_4`\n",
    "En los últimos tres meses, ¿ha escuchado o ha visto en los alrededores de su vivienda situaciones como...\n",
    "+ `1`: sí \n",
    "+ `2`: no\n",
    "+ `&`: No sabe / no responde"
   ]
  },
  {
   "cell_type": "code",
   "execution_count": 162,
   "metadata": {},
   "outputs": [
    {
     "data": {
      "text/plain": [
       "2    108805\n",
       "1     52338\n",
       "9       667\n",
       "Name: BP1_4_4, dtype: int64"
      ]
     },
     "execution_count": 162,
     "metadata": {},
     "output_type": "execute_result"
    }
   ],
   "source": [
    "df_copy_ensu_cb.BP1_4_4.value_counts()"
   ]
  },
  {
   "cell_type": "code",
   "execution_count": 163,
   "metadata": {},
   "outputs": [
    {
     "data": {
      "text/plain": [
       "2    108805\n",
       "1     52338\n",
       "&       667\n",
       "Name: BP1_4_4, dtype: int64"
      ]
     },
     "execution_count": 163,
     "metadata": {},
     "output_type": "execute_result"
    }
   ],
   "source": [
    "df_copy_ensu_cb.BP1_4_4 = df_copy_ensu_cb.BP1_4_4.astype('str')\n",
    "df_copy_ensu_cb.BP1_4_4.replace(dir_BP1_4, inplace=True)\n",
    "df_copy_ensu_cb.BP1_4_4.value_counts()"
   ]
  },
  {
   "cell_type": "markdown",
   "metadata": {},
   "source": [
    "### Situaciones de disparos frecuentes con armas? `BP1_4_5`\n",
    "En los últimos tres meses, ¿ha escuchado o ha visto en los alrededores de su vivienda situaciones como...\n",
    "+ `1`: sí \n",
    "+ `2`: no\n",
    "+ `&`: No sabe / no responde"
   ]
  },
  {
   "cell_type": "code",
   "execution_count": 165,
   "metadata": {},
   "outputs": [
    {
     "data": {
      "text/plain": [
       "2    98610\n",
       "1    60902\n",
       "&     2298\n",
       "Name: BP1_4_5, dtype: int64"
      ]
     },
     "execution_count": 165,
     "metadata": {},
     "output_type": "execute_result"
    }
   ],
   "source": [
    "df_copy_ensu_cb.BP1_4_5.value_counts()"
   ]
  },
  {
   "cell_type": "code",
   "execution_count": 164,
   "metadata": {},
   "outputs": [
    {
     "data": {
      "text/plain": [
       "2    98610\n",
       "1    60902\n",
       "&     2298\n",
       "Name: BP1_4_5, dtype: int64"
      ]
     },
     "execution_count": 164,
     "metadata": {},
     "output_type": "execute_result"
    }
   ],
   "source": [
    "df_copy_ensu_cb.BP1_4_5 = df_copy_ensu_cb.BP1_4_5.astype('str')\n",
    "df_copy_ensu_cb.BP1_4_5.replace(dir_BP1_4, inplace=True)\n",
    "df_copy_ensu_cb.BP1_4_5.value_counts()"
   ]
  },
  {
   "cell_type": "markdown",
   "metadata": {},
   "source": [
    "### Cambiar el hábito de llevar cosas de valor como joyas, dinero, o tarjetas de crédito?  `BP1_5_1`\n",
    "En este mismo periodo de tres meses, por temor a sufrir algún delito (robo, asalto, secuestro, entre otros), ¿usted cambió sus hábitos respecto a ...\n",
    "+ `1`: sí \n",
    "+ `2`: no\n",
    "+ `&`: No sabe / no responde"
   ]
  },
  {
   "cell_type": "code",
   "execution_count": 166,
   "metadata": {},
   "outputs": [
    {
     "data": {
      "text/plain": [
       "1    91587\n",
       "2    61558\n",
       "3     8620\n",
       "9       45\n",
       "Name: BP1_5_1, dtype: int64"
      ]
     },
     "execution_count": 166,
     "metadata": {},
     "output_type": "execute_result"
    }
   ],
   "source": [
    "df_copy_ensu_cb.BP1_5_1.value_counts()"
   ]
  },
  {
   "cell_type": "code",
   "execution_count": 167,
   "metadata": {},
   "outputs": [],
   "source": [
    "dir_BP1_5 = {9: '&','9': '&',\n",
    "             3: '&','3': '&'\n",
    "    }"
   ]
  },
  {
   "cell_type": "code",
   "execution_count": 168,
   "metadata": {},
   "outputs": [
    {
     "data": {
      "text/plain": [
       "1    91587\n",
       "2    61558\n",
       "&     8665\n",
       "Name: BP1_5_1, dtype: int64"
      ]
     },
     "execution_count": 168,
     "metadata": {},
     "output_type": "execute_result"
    }
   ],
   "source": [
    "df_copy_ensu_cb.BP1_5_1 = df_copy_ensu_cb.BP1_5_1.astype('str')\n",
    "df_copy_ensu_cb.BP1_5_1.replace(dir_BP1_5, inplace=True)\n",
    "df_copy_ensu_cb.BP1_5_1.value_counts()"
   ]
  },
  {
   "cell_type": "markdown",
   "metadata": {},
   "source": [
    "### Cambiar el hábito de caminar por los alrededores de su vivienda, pasadas las ocho de la noche?  `BP1_5_2`\n",
    "En este mismo periodo de tres meses, por temor a sufrir algún delito (robo, asalto, secuestro, entre otros), ¿usted cambió sus hábitos respecto a ...\n",
    "+ `1`: sí \n",
    "+ `2`: no\n",
    "+ `&`: No sabe / no responde"
   ]
  },
  {
   "cell_type": "code",
   "execution_count": 169,
   "metadata": {},
   "outputs": [
    {
     "data": {
      "text/plain": [
       "1    79756\n",
       "2    76334\n",
       "3     5671\n",
       "9       49\n",
       "Name: BP1_5_2, dtype: int64"
      ]
     },
     "execution_count": 169,
     "metadata": {},
     "output_type": "execute_result"
    }
   ],
   "source": [
    "df_copy_ensu_cb.BP1_5_2.value_counts()"
   ]
  },
  {
   "cell_type": "code",
   "execution_count": 170,
   "metadata": {},
   "outputs": [
    {
     "data": {
      "text/plain": [
       "1    79756\n",
       "2    76334\n",
       "&     5720\n",
       "Name: BP1_5_2, dtype: int64"
      ]
     },
     "execution_count": 170,
     "metadata": {},
     "output_type": "execute_result"
    }
   ],
   "source": [
    "df_copy_ensu_cb.BP1_5_2 = df_copy_ensu_cb.BP1_5_2.astype('str')\n",
    "df_copy_ensu_cb.BP1_5_2.replace(dir_BP1_5, inplace=True)\n",
    "df_copy_ensu_cb.BP1_5_2.value_counts()"
   ]
  },
  {
   "cell_type": "markdown",
   "metadata": {},
   "source": [
    "### Cambiar visitar a parientes o amigos? `BP1_5_3`\n",
    "En este mismo periodo de tres meses, por temor a sufrir algún delito (robo, asalto, secuestro, entre otros), ¿usted cambió sus hábitos respecto a ...\n",
    "+ `1`: sí \n",
    "+ `2`: no\n",
    "+ `&`: No sabe / no responde"
   ]
  },
  {
   "cell_type": "code",
   "execution_count": 171,
   "metadata": {},
   "outputs": [
    {
     "data": {
      "text/plain": [
       "2    98500\n",
       "1    55438\n",
       "3     7824\n",
       "9       48\n",
       "Name: BP1_5_3, dtype: int64"
      ]
     },
     "execution_count": 171,
     "metadata": {},
     "output_type": "execute_result"
    }
   ],
   "source": [
    "df_copy_ensu_cb.BP1_5_3.value_counts()"
   ]
  },
  {
   "cell_type": "code",
   "execution_count": 172,
   "metadata": {},
   "outputs": [
    {
     "data": {
      "text/plain": [
       "2    98500\n",
       "1    55438\n",
       "&     7872\n",
       "Name: BP1_5_3, dtype: int64"
      ]
     },
     "execution_count": 172,
     "metadata": {},
     "output_type": "execute_result"
    }
   ],
   "source": [
    "df_copy_ensu_cb.BP1_5_3 = df_copy_ensu_cb.BP1_5_3.astype('str')\n",
    "df_copy_ensu_cb.BP1_5_3.replace(dir_BP1_5, inplace=True)\n",
    "df_copy_ensu_cb.BP1_5_3.value_counts()"
   ]
  },
  {
   "cell_type": "markdown",
   "metadata": {},
   "source": [
    "### Cambiar el hábito de permitir que salgan de su vivienda sus hijos menores? `BP1_5_4`\n",
    "En este mismo periodo de tres meses, por temor a sufrir algún delito (robo, asalto, secuestro, entre otros), ¿usted cambió sus hábitos respecto a ...\n",
    "+ `1`: sí \n",
    "+ `2`: no\n",
    "+ `&`: No sabe / no responde"
   ]
  },
  {
   "cell_type": "code",
   "execution_count": 174,
   "metadata": {},
   "outputs": [
    {
     "data": {
      "text/plain": [
       "&    73637\n",
       "1    47870\n",
       "2    40303\n",
       "Name: BP1_5_4, dtype: int64"
      ]
     },
     "execution_count": 174,
     "metadata": {},
     "output_type": "execute_result"
    }
   ],
   "source": [
    "df_copy_ensu_cb.BP1_5_4.value_counts()"
   ]
  },
  {
   "cell_type": "code",
   "execution_count": 173,
   "metadata": {},
   "outputs": [
    {
     "data": {
      "text/plain": [
       "&    73637\n",
       "1    47870\n",
       "2    40303\n",
       "Name: BP1_5_4, dtype: int64"
      ]
     },
     "execution_count": 173,
     "metadata": {},
     "output_type": "execute_result"
    }
   ],
   "source": [
    "df_copy_ensu_cb.BP1_5_4 = df_copy_ensu_cb.BP1_5_4.astype('str')\n",
    "df_copy_ensu_cb.BP1_5_4.replace(dir_BP1_5, inplace=True)\n",
    "df_copy_ensu_cb.BP1_5_4.value_counts()"
   ]
  },
  {
   "cell_type": "markdown",
   "metadata": {},
   "source": [
    "Se retiran las columnas `BP1_5_5` y `BP1_5_5E` por tipo de datos (texto)"
   ]
  },
  {
   "cell_type": "code",
   "execution_count": 177,
   "metadata": {},
   "outputs": [
    {
     "data": {
      "text/html": [
       "<div>\n",
       "<style scoped>\n",
       "    .dataframe tbody tr th:only-of-type {\n",
       "        vertical-align: middle;\n",
       "    }\n",
       "\n",
       "    .dataframe tbody tr th {\n",
       "        vertical-align: top;\n",
       "    }\n",
       "\n",
       "    .dataframe thead th {\n",
       "        text-align: right;\n",
       "    }\n",
       "</style>\n",
       "<table border=\"1\" class=\"dataframe\">\n",
       "  <thead>\n",
       "    <tr style=\"text-align: right;\">\n",
       "      <th></th>\n",
       "      <th>AGEB</th>\n",
       "      <th>BP1_1</th>\n",
       "      <th>BP1_2_01</th>\n",
       "      <th>BP1_2_02</th>\n",
       "      <th>BP1_2_03</th>\n",
       "      <th>BP1_2_04</th>\n",
       "      <th>BP1_2_05</th>\n",
       "      <th>BP1_2_06</th>\n",
       "      <th>BP1_2_07</th>\n",
       "      <th>BP1_2_08</th>\n",
       "      <th>...</th>\n",
       "      <th>N_ENT</th>\n",
       "      <th>PER</th>\n",
       "      <th>PRO_VIV</th>\n",
       "      <th>R_DEF</th>\n",
       "      <th>R_SEL</th>\n",
       "      <th>SEL_SUST</th>\n",
       "      <th>UPM</th>\n",
       "      <th>UPM_DIS</th>\n",
       "      <th>Unnamed: 0.1</th>\n",
       "      <th>VIV_SEL</th>\n",
       "    </tr>\n",
       "  </thead>\n",
       "  <tbody>\n",
       "    <tr>\n",
       "      <th>0</th>\n",
       "      <td>&amp;</td>\n",
       "      <td>1</td>\n",
       "      <td>1</td>\n",
       "      <td>1</td>\n",
       "      <td>1</td>\n",
       "      <td>&amp;</td>\n",
       "      <td>1</td>\n",
       "      <td>1</td>\n",
       "      <td>1</td>\n",
       "      <td>1</td>\n",
       "      <td>...</td>\n",
       "      <td>4</td>\n",
       "      <td>117</td>\n",
       "      <td>&amp;</td>\n",
       "      <td>1</td>\n",
       "      <td>2</td>\n",
       "      <td>A</td>\n",
       "      <td>100105</td>\n",
       "      <td>10</td>\n",
       "      <td>&amp;</td>\n",
       "      <td>1</td>\n",
       "    </tr>\n",
       "    <tr>\n",
       "      <th>1</th>\n",
       "      <td>&amp;</td>\n",
       "      <td>2</td>\n",
       "      <td>2</td>\n",
       "      <td>&amp;</td>\n",
       "      <td>2</td>\n",
       "      <td>&amp;</td>\n",
       "      <td>2</td>\n",
       "      <td>2</td>\n",
       "      <td>2</td>\n",
       "      <td>2</td>\n",
       "      <td>...</td>\n",
       "      <td>4</td>\n",
       "      <td>117</td>\n",
       "      <td>&amp;</td>\n",
       "      <td>1</td>\n",
       "      <td>2</td>\n",
       "      <td>A</td>\n",
       "      <td>100105</td>\n",
       "      <td>10</td>\n",
       "      <td>&amp;</td>\n",
       "      <td>2</td>\n",
       "    </tr>\n",
       "    <tr>\n",
       "      <th>2</th>\n",
       "      <td>&amp;</td>\n",
       "      <td>1</td>\n",
       "      <td>1</td>\n",
       "      <td>2</td>\n",
       "      <td>1</td>\n",
       "      <td>&amp;</td>\n",
       "      <td>1</td>\n",
       "      <td>1</td>\n",
       "      <td>2</td>\n",
       "      <td>2</td>\n",
       "      <td>...</td>\n",
       "      <td>4</td>\n",
       "      <td>117</td>\n",
       "      <td>&amp;</td>\n",
       "      <td>1</td>\n",
       "      <td>2</td>\n",
       "      <td>A</td>\n",
       "      <td>100105</td>\n",
       "      <td>10</td>\n",
       "      <td>&amp;</td>\n",
       "      <td>3</td>\n",
       "    </tr>\n",
       "    <tr>\n",
       "      <th>3</th>\n",
       "      <td>&amp;</td>\n",
       "      <td>2</td>\n",
       "      <td>1</td>\n",
       "      <td>&amp;</td>\n",
       "      <td>2</td>\n",
       "      <td>&amp;</td>\n",
       "      <td>1</td>\n",
       "      <td>1</td>\n",
       "      <td>1</td>\n",
       "      <td>1</td>\n",
       "      <td>...</td>\n",
       "      <td>4</td>\n",
       "      <td>117</td>\n",
       "      <td>&amp;</td>\n",
       "      <td>1</td>\n",
       "      <td>1</td>\n",
       "      <td>A</td>\n",
       "      <td>100105</td>\n",
       "      <td>10</td>\n",
       "      <td>&amp;</td>\n",
       "      <td>4</td>\n",
       "    </tr>\n",
       "    <tr>\n",
       "      <th>4</th>\n",
       "      <td>&amp;</td>\n",
       "      <td>1</td>\n",
       "      <td>1</td>\n",
       "      <td>1</td>\n",
       "      <td>1</td>\n",
       "      <td>&amp;</td>\n",
       "      <td>1</td>\n",
       "      <td>1</td>\n",
       "      <td>2</td>\n",
       "      <td>2</td>\n",
       "      <td>...</td>\n",
       "      <td>4</td>\n",
       "      <td>117</td>\n",
       "      <td>&amp;</td>\n",
       "      <td>1</td>\n",
       "      <td>1</td>\n",
       "      <td>A</td>\n",
       "      <td>100105</td>\n",
       "      <td>10</td>\n",
       "      <td>&amp;</td>\n",
       "      <td>5</td>\n",
       "    </tr>\n",
       "  </tbody>\n",
       "</table>\n",
       "<p>5 rows × 159 columns</p>\n",
       "</div>"
      ],
      "text/plain": [
       "  AGEB BP1_1 BP1_2_01 BP1_2_02 BP1_2_03 BP1_2_04 BP1_2_05 BP1_2_06 BP1_2_07  \\\n",
       "0    &     1        1        1        1        &        1        1        1   \n",
       "1    &     2        2        &        2        &        2        2        2   \n",
       "2    &     1        1        2        1        &        1        1        2   \n",
       "3    &     2        1        &        2        &        1        1        1   \n",
       "4    &     1        1        1        1        &        1        1        2   \n",
       "\n",
       "  BP1_2_08   ...   N_ENT  PER PRO_VIV R_DEF R_SEL SEL_SUST     UPM UPM_DIS  \\\n",
       "0        1   ...       4  117       &     1     2        A  100105      10   \n",
       "1        2   ...       4  117       &     1     2        A  100105      10   \n",
       "2        2   ...       4  117       &     1     2        A  100105      10   \n",
       "3        1   ...       4  117       &     1     1        A  100105      10   \n",
       "4        2   ...       4  117       &     1     1        A  100105      10   \n",
       "\n",
       "  Unnamed: 0.1 VIV_SEL  \n",
       "0            &       1  \n",
       "1            &       2  \n",
       "2            &       3  \n",
       "3            &       4  \n",
       "4            &       5  \n",
       "\n",
       "[5 rows x 159 columns]"
      ]
     },
     "execution_count": 177,
     "metadata": {},
     "output_type": "execute_result"
    }
   ],
   "source": [
    "df_copy_ensu_cb.drop(axis=0, columns=['BP1_5_5', 'BP1_5_5E'], inplace=True)\n",
    "df_copy_ensu_cb.head()"
   ]
  },
  {
   "cell_type": "markdown",
   "metadata": {},
   "source": [
    "### Formas de enterarse de noticias: Platicando con familiares, vecinos o conocidos en los alrededores de su vivienda `BP1_6_1`\n",
    "En los últimos tres meses, ¿cuáles han sido las tres principales formas de enterarse sobre la situación que guarda la seguridad pública, el narcotráfico y/o la delincuencia en (CIUDAD)?\n",
    "+ `1`: sí \n",
    "+ `2`: no\n",
    "+ `&`: No sabe / no responde"
   ]
  },
  {
   "cell_type": "code",
   "execution_count": 178,
   "metadata": {},
   "outputs": [
    {
     "data": {
      "text/plain": [
       "1    94969\n",
       "0    50069\n",
       "2    11601\n",
       "3     5088\n",
       "9       83\n",
       "Name: BP1_6_1, dtype: int64"
      ]
     },
     "execution_count": 178,
     "metadata": {},
     "output_type": "execute_result"
    }
   ],
   "source": [
    "df_copy_ensu_cb.BP1_6_1.value_counts()"
   ]
  },
  {
   "cell_type": "code",
   "execution_count": 179,
   "metadata": {},
   "outputs": [],
   "source": [
    "dir_BP1_6 = {9: '&', '9': '&', 3: '&','3': '&',\n",
    "             0: '2', '0': '2', 2: '2', '2': '2'\n",
    "    }"
   ]
  },
  {
   "cell_type": "code",
   "execution_count": 180,
   "metadata": {},
   "outputs": [
    {
     "data": {
      "text/plain": [
       "1    94969\n",
       "2    61670\n",
       "&     5171\n",
       "Name: BP1_6_1, dtype: int64"
      ]
     },
     "execution_count": 180,
     "metadata": {},
     "output_type": "execute_result"
    }
   ],
   "source": [
    "df_copy_ensu_cb.BP1_6_1 = df_copy_ensu_cb.BP1_6_1.astype('str')\n",
    "df_copy_ensu_cb.BP1_6_1.replace(dir_BP1_6, inplace=True)\n",
    "df_copy_ensu_cb.BP1_6_1.value_counts()"
   ]
  },
  {
   "cell_type": "markdown",
   "metadata": {},
   "source": [
    "### Formas de enterarse de noticias: Platicando con compañeros de su trabajo o escuela `BP1_6_2`\n",
    "En los últimos tres meses, ¿cuáles han sido las tres principales formas de enterarse sobre la situación que guarda la seguridad pública, el narcotráfico y/o la delincuencia en (CIUDAD)?\n",
    "+ `1`: sí \n",
    "+ `2`: no\n",
    "+ `&`: No sabe / no responde"
   ]
  },
  {
   "cell_type": "code",
   "execution_count": 181,
   "metadata": {},
   "outputs": [
    {
     "data": {
      "text/plain": [
       "0    83730\n",
       "1    65056\n",
       "2    12936\n",
       "9       88\n",
       "Name: BP1_6_2, dtype: int64"
      ]
     },
     "execution_count": 181,
     "metadata": {},
     "output_type": "execute_result"
    }
   ],
   "source": [
    "df_copy_ensu_cb.BP1_6_2.value_counts()"
   ]
  },
  {
   "cell_type": "code",
   "execution_count": 183,
   "metadata": {},
   "outputs": [
    {
     "data": {
      "text/plain": [
       "2    96666\n",
       "1    65056\n",
       "&       88\n",
       "Name: BP1_6_2, dtype: int64"
      ]
     },
     "execution_count": 183,
     "metadata": {},
     "output_type": "execute_result"
    }
   ],
   "source": [
    "df_copy_ensu_cb.BP1_6_2 = df_copy_ensu_cb.BP1_6_2.astype('str')\n",
    "df_copy_ensu_cb.BP1_6_2.replace(dir_BP1_6, inplace=True)\n",
    "df_copy_ensu_cb.BP1_6_2.value_counts()"
   ]
  },
  {
   "cell_type": "markdown",
   "metadata": {},
   "source": [
    "### Formas de enterarse de noticias: Por Facebook `BP1_6_3`\n",
    "En los últimos tres meses, ¿cuáles han sido las tres principales formas de enterarse sobre la situación que guarda la seguridad pública, el narcotráfico y/o la delincuencia en (CIUDAD)?\n",
    "+ `1`: sí \n",
    "+ `2`: no\n",
    "+ `&`: No sabe / no responde"
   ]
  },
  {
   "cell_type": "code",
   "execution_count": 184,
   "metadata": {},
   "outputs": [
    {
     "data": {
      "text/plain": [
       "1    90723\n",
       "0    55823\n",
       "2    15177\n",
       "9       87\n",
       "Name: BP1_6_3, dtype: int64"
      ]
     },
     "execution_count": 184,
     "metadata": {},
     "output_type": "execute_result"
    }
   ],
   "source": [
    "df_copy_ensu_cb.BP1_6_3.value_counts()"
   ]
  },
  {
   "cell_type": "code",
   "execution_count": 185,
   "metadata": {},
   "outputs": [
    {
     "data": {
      "text/plain": [
       "1    90723\n",
       "2    71000\n",
       "&       87\n",
       "Name: BP1_6_3, dtype: int64"
      ]
     },
     "execution_count": 185,
     "metadata": {},
     "output_type": "execute_result"
    }
   ],
   "source": [
    "df_copy_ensu_cb.BP1_6_3 = df_copy_ensu_cb.BP1_6_3.astype('str')\n",
    "df_copy_ensu_cb.BP1_6_3.replace(dir_BP1_6, inplace=True)\n",
    "df_copy_ensu_cb.BP1_6_3.value_counts()"
   ]
  },
  {
   "cell_type": "markdown",
   "metadata": {},
   "source": [
    "### Formas de enterarse de noticias: Por Twitter `BP1_6_4`\n",
    "En los últimos tres meses, ¿cuáles han sido las tres principales formas de enterarse sobre la situación que guarda la seguridad pública, el narcotráfico y/o la delincuencia en (CIUDAD)?\n",
    "+ `1`: sí \n",
    "+ `2`: no\n",
    "+ `&`: No sabe / no responde"
   ]
  },
  {
   "cell_type": "code",
   "execution_count": 186,
   "metadata": {},
   "outputs": [
    {
     "data": {
      "text/plain": [
       "0    103119\n",
       "2     30917\n",
       "1     21871\n",
       "&      2597\n",
       "3      1998\n",
       "4      1006\n",
       "9       302\n",
       "Name: BP1_6_4, dtype: int64"
      ]
     },
     "execution_count": 186,
     "metadata": {},
     "output_type": "execute_result"
    }
   ],
   "source": [
    "df_copy_ensu_cb.BP1_6_4.value_counts()"
   ]
  },
  {
   "cell_type": "code",
   "execution_count": 179,
   "metadata": {},
   "outputs": [],
   "source": [
    "dir_BP1_6 = {9: '&', '9': '&', 3: '&','3': '&',\n",
    "             0: '2', '0': '2', 2: '2', '2': '2'\n",
    "    }"
   ]
  },
  {
   "cell_type": "code",
   "execution_count": 185,
   "metadata": {},
   "outputs": [
    {
     "data": {
      "text/plain": [
       "1    90723\n",
       "2    71000\n",
       "&       87\n",
       "Name: BP1_6_3, dtype: int64"
      ]
     },
     "execution_count": 185,
     "metadata": {},
     "output_type": "execute_result"
    }
   ],
   "source": [
    "df_copy_ensu_cb.BP1_6_3 = df_copy_ensu_cb.BP1_6_3.astype('str')\n",
    "df_copy_ensu_cb.BP1_6_3.replace(dir_BP1_6, inplace=True)\n",
    "df_copy_ensu_cb.BP1_6_3.value_counts()"
   ]
  },
  {
   "cell_type": "code",
   "execution_count": null,
   "metadata": {},
   "outputs": [],
   "source": []
  }
 ],
 "metadata": {
  "kernelspec": {
   "display_name": "Python 3",
   "language": "python",
   "name": "python3"
  },
  "language_info": {
   "codemirror_mode": {
    "name": "ipython",
    "version": 3
   },
   "file_extension": ".py",
   "mimetype": "text/x-python",
   "name": "python",
   "nbconvert_exporter": "python",
   "pygments_lexer": "ipython3",
   "version": "3.6.4"
  }
 },
 "nbformat": 4,
 "nbformat_minor": 2
}
