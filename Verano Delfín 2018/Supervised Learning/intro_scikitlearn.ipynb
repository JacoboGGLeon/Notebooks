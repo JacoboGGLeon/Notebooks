{
 "cells": [
  {
   "cell_type": "code",
   "execution_count": 1,
   "metadata": {},
   "outputs": [],
   "source": [
    "import matplotlib.pyplot as plt\n",
    "import numpy as np"
   ]
  },
  {
   "cell_type": "code",
   "execution_count": 2,
   "metadata": {},
   "outputs": [
    {
     "data": {
      "image/png": "[encoded data removed]",
      "text/plain": [
       "<matplotlib.figure.Figure at 0x1a11b47b70>"
      ]
     },
     "metadata": {},
     "output_type": "display_data"
    }
   ],
   "source": [
    "from sklearn.datasets import make_blobs\n",
    "X, y = make_blobs(n_samples=50, \n",
    "                  n_features=2, \n",
    "                  centers=2, \n",
    "                  cluster_std=0.5,\n",
    "                  shuffle=True,\n",
    "                  random_state=0)\n",
    "\n",
    "plt.scatter(X[:,0], X[:,1],\n",
    "            c='white',\n",
    "            marker='o',\n",
    "            edgecolor='black',\n",
    "            s=50)\n",
    "\n",
    "plt.grid()\n",
    "plt.show()"
   ]
  },
  {
   "cell_type": "code",
   "execution_count": 3,
   "metadata": {},
   "outputs": [
    {
     "data": {
      "text/plain": [
       "array([ 1.51989121,  1.85367905,  1.35678894,  1.72330962,  2.08852613,\n",
       "        2.62496786,  2.99684287,  2.06051753,  2.04117641,  0.12313498,\n",
       "        1.59141542,  0.3498724 ,  1.05374379,  1.61986895,  1.40848818,\n",
       "        1.13280393,  0.78260667,  2.25643834,  0.5323772 ,  0.92466065,\n",
       "        1.73810647,  2.23345072,  1.60161834,  1.7190373 ,  2.4198128 ,\n",
       "        2.11114739,  0.72144399, -0.30022483,  2.14398059,  1.91004907,\n",
       "        2.15940501,  0.5285368 ,  1.19820169,  0.16932115,  1.74265969,\n",
       "        1.89949126,  2.11872357,  1.04829186,  2.28809874,  0.72086751,\n",
       "        1.24016835,  1.45131429,  1.64869438,  1.4726926 ,  0.99914934,\n",
       "        1.42002502,  2.79939362,  0.4519936 ,  2.64465731,  0.802314  ])"
      ]
     },
     "execution_count": 3,
     "metadata": {},
     "output_type": "execute_result"
    }
   ],
   "source": [
    "X[:,0]"
   ]
  },
  {
   "cell_type": "code",
   "execution_count": 4,
   "metadata": {},
   "outputs": [
    {
     "data": {
      "text/plain": [
       "array([ 1.42488952,  1.5088862 ,  4.36462484,  4.2012082 ,  1.04889961,\n",
       "        0.28025075,  0.22378413,  1.79059891,  1.1118296 ,  5.27917503,\n",
       "        4.90497725,  4.69253251,  4.49286859,  0.60823883,  3.93270482,\n",
       "        3.87673946,  4.15263595,  0.55525861,  3.31338909,  4.50908658,\n",
       "        0.71629308,  1.25095024,  0.92363636,  0.71788708,  0.96215512,\n",
       "        3.57660449,  4.08475018,  4.63059663,  0.69677319,  3.81514839,\n",
       "        1.38598318,  4.49723858,  4.47062449,  4.19741719,  5.03846671,\n",
       "        0.92574633,  1.09865834,  5.03092408,  0.12954182,  3.71347124,\n",
       "        1.12905479,  4.22810872,  0.03452236,  1.3480769 ,  4.2101954 ,\n",
       "        1.38236201,  1.84560825,  3.59377836,  0.80770124,  4.38196181])"
      ]
     },
     "execution_count": 4,
     "metadata": {},
     "output_type": "execute_result"
    }
   ],
   "source": [
    "X[:,1]"
   ]
  },
  {
   "cell_type": "code",
   "execution_count": 5,
   "metadata": {},
   "outputs": [
    {
     "data": {
      "text/plain": [
       "LinearDiscriminantAnalysis(n_components=None, priors=None, shrinkage=None,\n",
       "              solver='svd', store_covariance=False, tol=0.0001)"
      ]
     },
     "execution_count": 5,
     "metadata": {},
     "output_type": "execute_result"
    }
   ],
   "source": [
    "from sklearn.discriminant_analysis import LinearDiscriminantAnalysis\n",
    "model = LinearDiscriminantAnalysis()\n",
    "model.fit(X, y)"
   ]
  },
  {
   "cell_type": "code",
   "execution_count": 6,
   "metadata": {},
   "outputs": [
    {
     "data": {
      "text/plain": [
       "array([1])"
      ]
     },
     "execution_count": 6,
     "metadata": {},
     "output_type": "execute_result"
    }
   ],
   "source": [
    "new_point = np.array([[1, 0.5]])\n",
    "model.predict(new_point)"
   ]
  },
  {
   "cell_type": "code",
   "execution_count": 7,
   "metadata": {},
   "outputs": [
    {
     "data": {
      "text/plain": [
       "LogisticRegression(C=1.0, class_weight=None, dual=False, fit_intercept=True,\n",
       "          intercept_scaling=1, max_iter=100, multi_class='ovr', n_jobs=1,\n",
       "          penalty='l2', random_state=None, solver='liblinear', tol=0.0001,\n",
       "          verbose=0, warm_start=False)"
      ]
     },
     "execution_count": 7,
     "metadata": {},
     "output_type": "execute_result"
    }
   ],
   "source": [
    "from sklearn.linear_model import LogisticRegression\n",
    "model = LogisticRegression()\n",
    "model.fit(X, y)"
   ]
  },
  {
   "cell_type": "code",
   "execution_count": 8,
   "metadata": {},
   "outputs": [
    {
     "data": {
      "text/plain": [
       "array([1])"
      ]
     },
     "execution_count": 8,
     "metadata": {},
     "output_type": "execute_result"
    }
   ],
   "source": [
    "new_point = np.array([[1, 0.5]])\n",
    "model.predict(new_point)"
   ]
  },
  {
   "cell_type": "code",
   "execution_count": 9,
   "metadata": {},
   "outputs": [
    {
     "data": {
      "text/plain": [
       "RandomForestClassifier(bootstrap=True, class_weight=None, criterion='gini',\n",
       "            max_depth=2, max_features='auto', max_leaf_nodes=None,\n",
       "            min_impurity_decrease=0.0, min_impurity_split=None,\n",
       "            min_samples_leaf=1, min_samples_split=2,\n",
       "            min_weight_fraction_leaf=0.0, n_estimators=10, n_jobs=1,\n",
       "            oob_score=False, random_state=0, verbose=0, warm_start=False)"
      ]
     },
     "execution_count": 9,
     "metadata": {},
     "output_type": "execute_result"
    }
   ],
   "source": [
    "from sklearn.ensemble import RandomForestClassifier\n",
    "classifier = RandomForestClassifier(max_depth=2, random_state=0)\n",
    "classifier.fit(X, y)"
   ]
  },
  {
   "cell_type": "code",
   "execution_count": 10,
   "metadata": {},
   "outputs": [
    {
     "data": {
      "text/plain": [
       "array([1])"
      ]
     },
     "execution_count": 10,
     "metadata": {},
     "output_type": "execute_result"
    }
   ],
   "source": [
    "new_point = np.array([[1, 0.5]])\n",
    "classifier.predict(new_point) "
   ]
  },
  {
   "cell_type": "code",
   "execution_count": 11,
   "metadata": {},
   "outputs": [
    {
     "data": {
      "text/plain": [
       "array([1, 1, 2, 2, 1, 1, 1, 1, 1, 0, 2, 0, 2, 1, 2, 2, 0, 1, 0, 2, 1, 1, 1,\n",
       "       1, 1, 2, 0, 0, 1, 2, 1, 0, 2, 0, 2, 1, 1, 2, 1, 0, 1, 2, 1, 1, 2, 1,\n",
       "       1, 0, 1, 0], dtype=int32)"
      ]
     },
     "execution_count": 11,
     "metadata": {},
     "output_type": "execute_result"
    }
   ],
   "source": [
    "from sklearn.cluster import KMeans\n",
    "clusters = KMeans(n_clusters=3, # set the number of desired clusters to 3\n",
    "            init='random',\n",
    "            n_init=10, # run independently with different random centroids to choose the final model as the one with the lowest SSE\n",
    "            max_iter=300, # maximum number of iterations for each single run \n",
    "            tol=1e-04, # parameter that controls the tolerance with regard to the changes in the WC SSE to declare convergence\n",
    "            random_state=0)\n",
    "clusters.fit_predict(X)"
   ]
  }
 ],
 "metadata": {
  "kernelspec": {
   "display_name": "Python 3",
   "language": "python",
   "name": "python3"
  },
  "language_info": {
   "codemirror_mode": {
    "name": "ipython",
    "version": 3
   },
   "file_extension": ".py",
   "mimetype": "text/x-python",
   "name": "python",
   "nbconvert_exporter": "python",
   "pygments_lexer": "ipython3",
   "version": "3.6.4"
  }
 },
 "nbformat": 4,
 "nbformat_minor": 2
}
