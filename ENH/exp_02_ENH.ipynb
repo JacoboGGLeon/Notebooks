{
 "cells": [
  {
   "cell_type": "code",
   "execution_count": 1,
   "metadata": {},
   "outputs": [],
   "source": [
    "import pandas as pd\n",
    "import numpy as np"
   ]
  },
  {
   "cell_type": "code",
   "execution_count": 2,
   "metadata": {},
   "outputs": [
    {
     "data": {
      "text/html": [
       "<div>\n",
       "<style scoped>\n",
       "    .dataframe tbody tr th:only-of-type {\n",
       "        vertical-align: middle;\n",
       "    }\n",
       "\n",
       "    .dataframe tbody tr th {\n",
       "        vertical-align: top;\n",
       "    }\n",
       "\n",
       "    .dataframe thead th {\n",
       "        text-align: right;\n",
       "    }\n",
       "</style>\n",
       "<table border=\"1\" class=\"dataframe\">\n",
       "  <thead>\n",
       "    <tr style=\"text-align: right;\">\n",
       "      <th></th>\n",
       "      <th>index</th>\n",
       "      <th>folioviv</th>\n",
       "      <th>tipo_viv</th>\n",
       "      <th>condominio</th>\n",
       "      <th>elevador</th>\n",
       "      <th>mat_pared</th>\n",
       "      <th>mat_techos</th>\n",
       "      <th>mat_pisos</th>\n",
       "      <th>ais_techos</th>\n",
       "      <th>ais_pared</th>\n",
       "      <th>...</th>\n",
       "      <th>ubica_geo</th>\n",
       "      <th>ageb</th>\n",
       "      <th>tam_loc</th>\n",
       "      <th>est_socio</th>\n",
       "      <th>est_dis</th>\n",
       "      <th>upm</th>\n",
       "      <th>factor</th>\n",
       "      <th>CVE_LOC</th>\n",
       "      <th>CVE_MUN</th>\n",
       "      <th>CVE_ENT</th>\n",
       "    </tr>\n",
       "  </thead>\n",
       "  <tbody>\n",
       "    <tr>\n",
       "      <th>0</th>\n",
       "      <td>0</td>\n",
       "      <td>100006018</td>\n",
       "      <td>1</td>\n",
       "      <td></td>\n",
       "      <td></td>\n",
       "      <td>8</td>\n",
       "      <td>9</td>\n",
       "      <td>3</td>\n",
       "      <td>2</td>\n",
       "      <td>2</td>\n",
       "      <td>...</td>\n",
       "      <td>10010001</td>\n",
       "      <td>028-6</td>\n",
       "      <td>1</td>\n",
       "      <td>3</td>\n",
       "      <td>1</td>\n",
       "      <td>1</td>\n",
       "      <td>165</td>\n",
       "      <td>1</td>\n",
       "      <td>35</td>\n",
       "      <td>32</td>\n",
       "    </tr>\n",
       "    <tr>\n",
       "      <th>1</th>\n",
       "      <td>1</td>\n",
       "      <td>100006037</td>\n",
       "      <td>1</td>\n",
       "      <td></td>\n",
       "      <td></td>\n",
       "      <td>8</td>\n",
       "      <td>9</td>\n",
       "      <td>3</td>\n",
       "      <td>2</td>\n",
       "      <td>2</td>\n",
       "      <td>...</td>\n",
       "      <td>10010001</td>\n",
       "      <td>028-6</td>\n",
       "      <td>1</td>\n",
       "      <td>3</td>\n",
       "      <td>1</td>\n",
       "      <td>1</td>\n",
       "      <td>165</td>\n",
       "      <td>1</td>\n",
       "      <td>35</td>\n",
       "      <td>32</td>\n",
       "    </tr>\n",
       "    <tr>\n",
       "      <th>2</th>\n",
       "      <td>2</td>\n",
       "      <td>100006055</td>\n",
       "      <td>1</td>\n",
       "      <td></td>\n",
       "      <td></td>\n",
       "      <td>8</td>\n",
       "      <td>9</td>\n",
       "      <td>3</td>\n",
       "      <td>2</td>\n",
       "      <td>2</td>\n",
       "      <td>...</td>\n",
       "      <td>10010001</td>\n",
       "      <td>028-6</td>\n",
       "      <td>1</td>\n",
       "      <td>3</td>\n",
       "      <td>1</td>\n",
       "      <td>1</td>\n",
       "      <td>165</td>\n",
       "      <td>1</td>\n",
       "      <td>35</td>\n",
       "      <td>32</td>\n",
       "    </tr>\n",
       "    <tr>\n",
       "      <th>3</th>\n",
       "      <td>3</td>\n",
       "      <td>100006068</td>\n",
       "      <td>1</td>\n",
       "      <td></td>\n",
       "      <td></td>\n",
       "      <td>8</td>\n",
       "      <td>9</td>\n",
       "      <td>3</td>\n",
       "      <td>2</td>\n",
       "      <td>2</td>\n",
       "      <td>...</td>\n",
       "      <td>10010001</td>\n",
       "      <td>028-6</td>\n",
       "      <td>1</td>\n",
       "      <td>3</td>\n",
       "      <td>1</td>\n",
       "      <td>1</td>\n",
       "      <td>165</td>\n",
       "      <td>1</td>\n",
       "      <td>35</td>\n",
       "      <td>32</td>\n",
       "    </tr>\n",
       "    <tr>\n",
       "      <th>4</th>\n",
       "      <td>4</td>\n",
       "      <td>100006085</td>\n",
       "      <td>1</td>\n",
       "      <td></td>\n",
       "      <td></td>\n",
       "      <td>8</td>\n",
       "      <td>9</td>\n",
       "      <td>2</td>\n",
       "      <td>2</td>\n",
       "      <td>2</td>\n",
       "      <td>...</td>\n",
       "      <td>10010001</td>\n",
       "      <td>028-6</td>\n",
       "      <td>1</td>\n",
       "      <td>3</td>\n",
       "      <td>1</td>\n",
       "      <td>1</td>\n",
       "      <td>165</td>\n",
       "      <td>1</td>\n",
       "      <td>35</td>\n",
       "      <td>32</td>\n",
       "    </tr>\n",
       "  </tbody>\n",
       "</table>\n",
       "<p>5 rows × 113 columns</p>\n",
       "</div>"
      ],
      "text/plain": [
       "   index   folioviv tipo_viv condominio elevador  mat_pared  mat_techos  \\\n",
       "0      0  100006018        1                              8           9   \n",
       "1      1  100006037        1                              8           9   \n",
       "2      2  100006055        1                              8           9   \n",
       "3      3  100006068        1                              8           9   \n",
       "4      4  100006085        1                              8           9   \n",
       "\n",
       "   mat_pisos  ais_techos  ais_pared   ...     ubica_geo   ageb tam_loc  \\\n",
       "0          3           2          2   ...      10010001  028-6       1   \n",
       "1          3           2          2   ...      10010001  028-6       1   \n",
       "2          3           2          2   ...      10010001  028-6       1   \n",
       "3          3           2          2   ...      10010001  028-6       1   \n",
       "4          2           2          2   ...      10010001  028-6       1   \n",
       "\n",
       "   est_socio est_dis  upm  factor  CVE_LOC CVE_MUN  CVE_ENT  \n",
       "0          3       1    1     165        1      35       32  \n",
       "1          3       1    1     165        1      35       32  \n",
       "2          3       1    1     165        1      35       32  \n",
       "3          3       1    1     165        1      35       32  \n",
       "4          3       1    1     165        1      35       32  \n",
       "\n",
       "[5 rows x 113 columns]"
      ]
     },
     "execution_count": 2,
     "metadata": {},
     "output_type": "execute_result"
    }
   ],
   "source": [
    "#Conjunto de datos de la Tabla Vivienda de 2016\n",
    "vivienda_2016 = '../../Datasets/ENH/dataframes/vivienda_2016.csv'\n",
    "\n",
    "df_vivienda_2016 = pd.read_csv(vivienda_2016, low_memory=False, index_col=0)\n",
    "\n",
    "df_vivienda_2016.reset_index(inplace=True)\n",
    "\n",
    "df_vivienda_2016.head()"
   ]
  },
  {
   "cell_type": "code",
   "execution_count": 3,
   "metadata": {},
   "outputs": [
    {
     "data": {
      "text/html": [
       "<div>\n",
       "<style scoped>\n",
       "    .dataframe tbody tr th:only-of-type {\n",
       "        vertical-align: middle;\n",
       "    }\n",
       "\n",
       "    .dataframe tbody tr th {\n",
       "        vertical-align: top;\n",
       "    }\n",
       "\n",
       "    .dataframe thead th {\n",
       "        text-align: right;\n",
       "    }\n",
       "</style>\n",
       "<table border=\"1\" class=\"dataframe\">\n",
       "  <thead>\n",
       "    <tr style=\"text-align: right;\">\n",
       "      <th></th>\n",
       "      <th>index</th>\n",
       "      <th>folioviv</th>\n",
       "      <th>tipo_viv</th>\n",
       "      <th>mat_pared</th>\n",
       "      <th>mat_techos</th>\n",
       "      <th>mat_pisos</th>\n",
       "      <th>antiguedad</th>\n",
       "      <th>cocina</th>\n",
       "      <th>cocina_dor</th>\n",
       "      <th>cuart_dorm</th>\n",
       "      <th>...</th>\n",
       "      <th>ubica_geo</th>\n",
       "      <th>ageb</th>\n",
       "      <th>tam_loc</th>\n",
       "      <th>est_socio</th>\n",
       "      <th>est_dis</th>\n",
       "      <th>upm</th>\n",
       "      <th>factor_viv</th>\n",
       "      <th>CVE_LOC</th>\n",
       "      <th>CVE_MUN</th>\n",
       "      <th>CVE_ENT</th>\n",
       "    </tr>\n",
       "  </thead>\n",
       "  <tbody>\n",
       "    <tr>\n",
       "      <th>0</th>\n",
       "      <td>0</td>\n",
       "      <td>10000601</td>\n",
       "      <td>1</td>\n",
       "      <td>8</td>\n",
       "      <td>9</td>\n",
       "      <td>3</td>\n",
       "      <td></td>\n",
       "      <td>1</td>\n",
       "      <td>2</td>\n",
       "      <td>2</td>\n",
       "      <td>...</td>\n",
       "      <td>10010001</td>\n",
       "      <td>028-6</td>\n",
       "      <td>1</td>\n",
       "      <td>3</td>\n",
       "      <td>5</td>\n",
       "      <td>10</td>\n",
       "      <td>163</td>\n",
       "      <td>1</td>\n",
       "      <td>37</td>\n",
       "      <td>32</td>\n",
       "    </tr>\n",
       "    <tr>\n",
       "      <th>1</th>\n",
       "      <td>1</td>\n",
       "      <td>10000602</td>\n",
       "      <td>1</td>\n",
       "      <td>8</td>\n",
       "      <td>9</td>\n",
       "      <td>3</td>\n",
       "      <td>25</td>\n",
       "      <td>1</td>\n",
       "      <td>2</td>\n",
       "      <td>1</td>\n",
       "      <td>...</td>\n",
       "      <td>10010001</td>\n",
       "      <td>028-6</td>\n",
       "      <td>1</td>\n",
       "      <td>3</td>\n",
       "      <td>5</td>\n",
       "      <td>10</td>\n",
       "      <td>163</td>\n",
       "      <td>1</td>\n",
       "      <td>37</td>\n",
       "      <td>32</td>\n",
       "    </tr>\n",
       "    <tr>\n",
       "      <th>2</th>\n",
       "      <td>2</td>\n",
       "      <td>10000603</td>\n",
       "      <td>1</td>\n",
       "      <td>8</td>\n",
       "      <td>9</td>\n",
       "      <td>3</td>\n",
       "      <td></td>\n",
       "      <td>1</td>\n",
       "      <td>2</td>\n",
       "      <td>4</td>\n",
       "      <td>...</td>\n",
       "      <td>10010001</td>\n",
       "      <td>028-6</td>\n",
       "      <td>1</td>\n",
       "      <td>3</td>\n",
       "      <td>5</td>\n",
       "      <td>10</td>\n",
       "      <td>163</td>\n",
       "      <td>1</td>\n",
       "      <td>37</td>\n",
       "      <td>32</td>\n",
       "    </tr>\n",
       "    <tr>\n",
       "      <th>3</th>\n",
       "      <td>3</td>\n",
       "      <td>10000604</td>\n",
       "      <td>1</td>\n",
       "      <td>8</td>\n",
       "      <td>9</td>\n",
       "      <td>3</td>\n",
       "      <td></td>\n",
       "      <td>1</td>\n",
       "      <td>2</td>\n",
       "      <td>2</td>\n",
       "      <td>...</td>\n",
       "      <td>10010001</td>\n",
       "      <td>028-6</td>\n",
       "      <td>1</td>\n",
       "      <td>3</td>\n",
       "      <td>5</td>\n",
       "      <td>10</td>\n",
       "      <td>163</td>\n",
       "      <td>1</td>\n",
       "      <td>37</td>\n",
       "      <td>32</td>\n",
       "    </tr>\n",
       "    <tr>\n",
       "      <th>4</th>\n",
       "      <td>4</td>\n",
       "      <td>10000605</td>\n",
       "      <td>1</td>\n",
       "      <td>8</td>\n",
       "      <td>9</td>\n",
       "      <td>3</td>\n",
       "      <td>40</td>\n",
       "      <td>1</td>\n",
       "      <td>2</td>\n",
       "      <td>2</td>\n",
       "      <td>...</td>\n",
       "      <td>10010001</td>\n",
       "      <td>028-6</td>\n",
       "      <td>1</td>\n",
       "      <td>3</td>\n",
       "      <td>5</td>\n",
       "      <td>10</td>\n",
       "      <td>163</td>\n",
       "      <td>1</td>\n",
       "      <td>37</td>\n",
       "      <td>32</td>\n",
       "    </tr>\n",
       "  </tbody>\n",
       "</table>\n",
       "<p>5 rows × 89 columns</p>\n",
       "</div>"
      ],
      "text/plain": [
       "   index  folioviv tipo_viv  mat_pared  mat_techos mat_pisos antiguedad  \\\n",
       "0      0  10000601        1          8           9         3              \n",
       "1      1  10000602        1          8           9         3         25   \n",
       "2      2  10000603        1          8           9         3              \n",
       "3      3  10000604        1          8           9         3              \n",
       "4      4  10000605        1          8           9         3         40   \n",
       "\n",
       "   cocina cocina_dor  cuart_dorm   ...     ubica_geo   ageb tam_loc  \\\n",
       "0       1          2           2   ...      10010001  028-6       1   \n",
       "1       1          2           1   ...      10010001  028-6       1   \n",
       "2       1          2           4   ...      10010001  028-6       1   \n",
       "3       1          2           2   ...      10010001  028-6       1   \n",
       "4       1          2           2   ...      10010001  028-6       1   \n",
       "\n",
       "   est_socio est_dis upm factor_viv CVE_LOC CVE_MUN  CVE_ENT  \n",
       "0          3       5  10        163       1      37       32  \n",
       "1          3       5  10        163       1      37       32  \n",
       "2          3       5  10        163       1      37       32  \n",
       "3          3       5  10        163       1      37       32  \n",
       "4          3       5  10        163       1      37       32  \n",
       "\n",
       "[5 rows x 89 columns]"
      ]
     },
     "execution_count": 3,
     "metadata": {},
     "output_type": "execute_result"
    }
   ],
   "source": [
    "#Conjunto de datos de la Tabla Vivienda de 2015\n",
    "vivienda_2015 = '../../Datasets/ENH/dataframes/vivienda_2015.csv'\n",
    "\n",
    "df_vivienda_2015 = pd.read_csv(vivienda_2015, low_memory=False, index_col=0)\n",
    "\n",
    "df_vivienda_2015.reset_index(inplace=True)\n",
    "\n",
    "df_vivienda_2015.head()"
   ]
  },
  {
   "cell_type": "code",
   "execution_count": 4,
   "metadata": {},
   "outputs": [
    {
     "data": {
      "text/html": [
       "<div>\n",
       "<style scoped>\n",
       "    .dataframe tbody tr th:only-of-type {\n",
       "        vertical-align: middle;\n",
       "    }\n",
       "\n",
       "    .dataframe tbody tr th {\n",
       "        vertical-align: top;\n",
       "    }\n",
       "\n",
       "    .dataframe thead th {\n",
       "        text-align: right;\n",
       "    }\n",
       "</style>\n",
       "<table border=\"1\" class=\"dataframe\">\n",
       "  <thead>\n",
       "    <tr style=\"text-align: right;\">\n",
       "      <th></th>\n",
       "      <th>index</th>\n",
       "      <th>folioviv</th>\n",
       "      <th>tipo_viv</th>\n",
       "      <th>mat_pared</th>\n",
       "      <th>mat_techos</th>\n",
       "      <th>mat_pisos</th>\n",
       "      <th>antiguedad</th>\n",
       "      <th>cocina</th>\n",
       "      <th>cocina_dor</th>\n",
       "      <th>cuart_dorm</th>\n",
       "      <th>...</th>\n",
       "      <th>ubica_geo</th>\n",
       "      <th>ageb</th>\n",
       "      <th>tam_loc</th>\n",
       "      <th>est_socio</th>\n",
       "      <th>est_dis</th>\n",
       "      <th>upm</th>\n",
       "      <th>factor_viv</th>\n",
       "      <th>CVE_LOC</th>\n",
       "      <th>CVE_MUN</th>\n",
       "      <th>CVE_ENT</th>\n",
       "    </tr>\n",
       "  </thead>\n",
       "  <tbody>\n",
       "    <tr>\n",
       "      <th>0</th>\n",
       "      <td>0</td>\n",
       "      <td>10001801</td>\n",
       "      <td>1</td>\n",
       "      <td>8</td>\n",
       "      <td>9</td>\n",
       "      <td>3</td>\n",
       "      <td>30</td>\n",
       "      <td>1</td>\n",
       "      <td>2.0</td>\n",
       "      <td>3</td>\n",
       "      <td>...</td>\n",
       "      <td>10010001</td>\n",
       "      <td>029-0</td>\n",
       "      <td>1</td>\n",
       "      <td>3</td>\n",
       "      <td>9</td>\n",
       "      <td>710</td>\n",
       "      <td>243</td>\n",
       "      <td>1</td>\n",
       "      <td>37</td>\n",
       "      <td>32</td>\n",
       "    </tr>\n",
       "    <tr>\n",
       "      <th>1</th>\n",
       "      <td>1</td>\n",
       "      <td>10001803</td>\n",
       "      <td>1</td>\n",
       "      <td>8</td>\n",
       "      <td>9</td>\n",
       "      <td>3</td>\n",
       "      <td>26</td>\n",
       "      <td>1</td>\n",
       "      <td>2.0</td>\n",
       "      <td>3</td>\n",
       "      <td>...</td>\n",
       "      <td>10010001</td>\n",
       "      <td>029-0</td>\n",
       "      <td>1</td>\n",
       "      <td>3</td>\n",
       "      <td>9</td>\n",
       "      <td>710</td>\n",
       "      <td>243</td>\n",
       "      <td>1</td>\n",
       "      <td>37</td>\n",
       "      <td>32</td>\n",
       "    </tr>\n",
       "    <tr>\n",
       "      <th>2</th>\n",
       "      <td>2</td>\n",
       "      <td>10001804</td>\n",
       "      <td>1</td>\n",
       "      <td>8</td>\n",
       "      <td>9</td>\n",
       "      <td>3</td>\n",
       "      <td>23</td>\n",
       "      <td>1</td>\n",
       "      <td>2.0</td>\n",
       "      <td>2</td>\n",
       "      <td>...</td>\n",
       "      <td>10010001</td>\n",
       "      <td>029-0</td>\n",
       "      <td>1</td>\n",
       "      <td>3</td>\n",
       "      <td>9</td>\n",
       "      <td>710</td>\n",
       "      <td>243</td>\n",
       "      <td>1</td>\n",
       "      <td>37</td>\n",
       "      <td>32</td>\n",
       "    </tr>\n",
       "    <tr>\n",
       "      <th>3</th>\n",
       "      <td>3</td>\n",
       "      <td>10001805</td>\n",
       "      <td>1</td>\n",
       "      <td>8</td>\n",
       "      <td>9</td>\n",
       "      <td>3</td>\n",
       "      <td>10</td>\n",
       "      <td>1</td>\n",
       "      <td>2.0</td>\n",
       "      <td>4</td>\n",
       "      <td>...</td>\n",
       "      <td>10010001</td>\n",
       "      <td>029-0</td>\n",
       "      <td>1</td>\n",
       "      <td>3</td>\n",
       "      <td>9</td>\n",
       "      <td>710</td>\n",
       "      <td>243</td>\n",
       "      <td>1</td>\n",
       "      <td>37</td>\n",
       "      <td>32</td>\n",
       "    </tr>\n",
       "    <tr>\n",
       "      <th>4</th>\n",
       "      <td>4</td>\n",
       "      <td>10002201</td>\n",
       "      <td>1</td>\n",
       "      <td>8</td>\n",
       "      <td>9</td>\n",
       "      <td>3</td>\n",
       "      <td>1.79769313486232e+308</td>\n",
       "      <td>1</td>\n",
       "      <td>2.0</td>\n",
       "      <td>1</td>\n",
       "      <td>...</td>\n",
       "      <td>10010001</td>\n",
       "      <td>030-3</td>\n",
       "      <td>1</td>\n",
       "      <td>3</td>\n",
       "      <td>2</td>\n",
       "      <td>1450</td>\n",
       "      <td>262</td>\n",
       "      <td>1</td>\n",
       "      <td>37</td>\n",
       "      <td>32</td>\n",
       "    </tr>\n",
       "  </tbody>\n",
       "</table>\n",
       "<p>5 rows × 69 columns</p>\n",
       "</div>"
      ],
      "text/plain": [
       "   index  folioviv tipo_viv  mat_pared  mat_techos  mat_pisos  \\\n",
       "0      0  10001801        1          8           9          3   \n",
       "1      1  10001803        1          8           9          3   \n",
       "2      2  10001804        1          8           9          3   \n",
       "3      3  10001805        1          8           9          3   \n",
       "4      4  10002201        1          8           9          3   \n",
       "\n",
       "              antiguedad  cocina  cocina_dor  cuart_dorm   ...     ubica_geo  \\\n",
       "0                     30       1         2.0           3   ...      10010001   \n",
       "1                     26       1         2.0           3   ...      10010001   \n",
       "2                     23       1         2.0           2   ...      10010001   \n",
       "3                     10       1         2.0           4   ...      10010001   \n",
       "4  1.79769313486232e+308       1         2.0           1   ...      10010001   \n",
       "\n",
       "    ageb  tam_loc  est_socio  est_dis   upm factor_viv CVE_LOC CVE_MUN  \\\n",
       "0  029-0        1          3        9   710        243       1      37   \n",
       "1  029-0        1          3        9   710        243       1      37   \n",
       "2  029-0        1          3        9   710        243       1      37   \n",
       "3  029-0        1          3        9   710        243       1      37   \n",
       "4  030-3        1          3        2  1450        262       1      37   \n",
       "\n",
       "   CVE_ENT  \n",
       "0       32  \n",
       "1       32  \n",
       "2       32  \n",
       "3       32  \n",
       "4       32  \n",
       "\n",
       "[5 rows x 69 columns]"
      ]
     },
     "execution_count": 4,
     "metadata": {},
     "output_type": "execute_result"
    }
   ],
   "source": [
    "#Conjunto de datos de la Tabla Vivienda de 2014\n",
    "vivienda_2014 = '../../Datasets/ENH/dataframes/vivienda_2014.csv'\n",
    "\n",
    "df_vivienda_2014 = pd.read_csv(vivienda_2014, low_memory=False, index_col=0)\n",
    "\n",
    "df_vivienda_2014.reset_index(inplace=True)\n",
    "\n",
    "df_vivienda_2014.head()"
   ]
  },
  {
   "cell_type": "code",
   "execution_count": 5,
   "metadata": {},
   "outputs": [],
   "source": [
    "frames_to_concat = [df_vivienda_2014, df_vivienda_2015, df_vivienda_2016]"
   ]
  },
  {
   "cell_type": "code",
   "execution_count": 6,
   "metadata": {},
   "outputs": [
    {
     "data": {
      "text/html": [
       "<div>\n",
       "<style scoped>\n",
       "    .dataframe tbody tr th:only-of-type {\n",
       "        vertical-align: middle;\n",
       "    }\n",
       "\n",
       "    .dataframe tbody tr th {\n",
       "        vertical-align: top;\n",
       "    }\n",
       "\n",
       "    .dataframe thead th {\n",
       "        text-align: right;\n",
       "    }\n",
       "</style>\n",
       "<table border=\"1\" class=\"dataframe\">\n",
       "  <thead>\n",
       "    <tr style=\"text-align: right;\">\n",
       "      <th></th>\n",
       "      <th>CVE_ENT</th>\n",
       "      <th>CVE_LOC</th>\n",
       "      <th>CVE_MUN</th>\n",
       "      <th>ageb</th>\n",
       "      <th>aire_acond</th>\n",
       "      <th>ais_otro</th>\n",
       "      <th>ais_pared</th>\n",
       "      <th>ais_techos</th>\n",
       "      <th>ais_ventan</th>\n",
       "      <th>anio_panel</th>\n",
       "      <th>...</th>\n",
       "      <th>tipo_viv</th>\n",
       "      <th>tot_hog</th>\n",
       "      <th>tot_resid</th>\n",
       "      <th>tv_paga</th>\n",
       "      <th>ubica_geo</th>\n",
       "      <th>upm</th>\n",
       "      <th>uso_compar</th>\n",
       "      <th>valor_viv</th>\n",
       "      <th>vend_hered</th>\n",
       "      <th>viv_usada</th>\n",
       "    </tr>\n",
       "  </thead>\n",
       "  <tbody>\n",
       "    <tr>\n",
       "      <th>0</th>\n",
       "      <td>32</td>\n",
       "      <td>1</td>\n",
       "      <td>37</td>\n",
       "      <td>029-0</td>\n",
       "      <td>2</td>\n",
       "      <td>NaN</td>\n",
       "      <td>NaN</td>\n",
       "      <td>NaN</td>\n",
       "      <td>NaN</td>\n",
       "      <td>NaN</td>\n",
       "      <td>...</td>\n",
       "      <td>1</td>\n",
       "      <td>1</td>\n",
       "      <td>4</td>\n",
       "      <td>NaN</td>\n",
       "      <td>10010001</td>\n",
       "      <td>710</td>\n",
       "      <td>2</td>\n",
       "      <td>NaN</td>\n",
       "      <td>NaN</td>\n",
       "      <td>NaN</td>\n",
       "    </tr>\n",
       "    <tr>\n",
       "      <th>1</th>\n",
       "      <td>32</td>\n",
       "      <td>1</td>\n",
       "      <td>37</td>\n",
       "      <td>029-0</td>\n",
       "      <td>2</td>\n",
       "      <td>NaN</td>\n",
       "      <td>NaN</td>\n",
       "      <td>NaN</td>\n",
       "      <td>NaN</td>\n",
       "      <td>NaN</td>\n",
       "      <td>...</td>\n",
       "      <td>1</td>\n",
       "      <td>1</td>\n",
       "      <td>4</td>\n",
       "      <td>NaN</td>\n",
       "      <td>10010001</td>\n",
       "      <td>710</td>\n",
       "      <td>2</td>\n",
       "      <td>NaN</td>\n",
       "      <td>NaN</td>\n",
       "      <td>NaN</td>\n",
       "    </tr>\n",
       "    <tr>\n",
       "      <th>2</th>\n",
       "      <td>32</td>\n",
       "      <td>1</td>\n",
       "      <td>37</td>\n",
       "      <td>029-0</td>\n",
       "      <td>2</td>\n",
       "      <td>NaN</td>\n",
       "      <td>NaN</td>\n",
       "      <td>NaN</td>\n",
       "      <td>NaN</td>\n",
       "      <td>NaN</td>\n",
       "      <td>...</td>\n",
       "      <td>1</td>\n",
       "      <td>1</td>\n",
       "      <td>2</td>\n",
       "      <td>NaN</td>\n",
       "      <td>10010001</td>\n",
       "      <td>710</td>\n",
       "      <td>2</td>\n",
       "      <td>NaN</td>\n",
       "      <td>NaN</td>\n",
       "      <td>2</td>\n",
       "    </tr>\n",
       "    <tr>\n",
       "      <th>3</th>\n",
       "      <td>32</td>\n",
       "      <td>1</td>\n",
       "      <td>37</td>\n",
       "      <td>029-0</td>\n",
       "      <td>2</td>\n",
       "      <td>NaN</td>\n",
       "      <td>NaN</td>\n",
       "      <td>NaN</td>\n",
       "      <td>NaN</td>\n",
       "      <td>NaN</td>\n",
       "      <td>...</td>\n",
       "      <td>1</td>\n",
       "      <td>1</td>\n",
       "      <td>6</td>\n",
       "      <td>NaN</td>\n",
       "      <td>10010001</td>\n",
       "      <td>710</td>\n",
       "      <td>2</td>\n",
       "      <td>NaN</td>\n",
       "      <td>NaN</td>\n",
       "      <td>NaN</td>\n",
       "    </tr>\n",
       "    <tr>\n",
       "      <th>4</th>\n",
       "      <td>32</td>\n",
       "      <td>1</td>\n",
       "      <td>37</td>\n",
       "      <td>030-3</td>\n",
       "      <td>2</td>\n",
       "      <td>NaN</td>\n",
       "      <td>NaN</td>\n",
       "      <td>NaN</td>\n",
       "      <td>NaN</td>\n",
       "      <td>NaN</td>\n",
       "      <td>...</td>\n",
       "      <td>1</td>\n",
       "      <td>1</td>\n",
       "      <td>4</td>\n",
       "      <td>NaN</td>\n",
       "      <td>10010001</td>\n",
       "      <td>1450</td>\n",
       "      <td>2</td>\n",
       "      <td>NaN</td>\n",
       "      <td>NaN</td>\n",
       "      <td>1</td>\n",
       "    </tr>\n",
       "  </tbody>\n",
       "</table>\n",
       "<p>5 rows × 116 columns</p>\n",
       "</div>"
      ],
      "text/plain": [
       "   CVE_ENT  CVE_LOC  CVE_MUN   ageb  aire_acond  ais_otro  ais_pared  \\\n",
       "0       32        1       37  029-0           2       NaN        NaN   \n",
       "1       32        1       37  029-0           2       NaN        NaN   \n",
       "2       32        1       37  029-0           2       NaN        NaN   \n",
       "3       32        1       37  029-0           2       NaN        NaN   \n",
       "4       32        1       37  030-3           2       NaN        NaN   \n",
       "\n",
       "   ais_techos  ais_ventan anio_panel    ...     tipo_viv  tot_hog tot_resid  \\\n",
       "0         NaN         NaN        NaN    ...            1        1         4   \n",
       "1         NaN         NaN        NaN    ...            1        1         4   \n",
       "2         NaN         NaN        NaN    ...            1        1         2   \n",
       "3         NaN         NaN        NaN    ...            1        1         6   \n",
       "4         NaN         NaN        NaN    ...            1        1         4   \n",
       "\n",
       "  tv_paga ubica_geo   upm  uso_compar  valor_viv  vend_hered  viv_usada  \n",
       "0     NaN  10010001   710           2        NaN         NaN        NaN  \n",
       "1     NaN  10010001   710           2        NaN         NaN        NaN  \n",
       "2     NaN  10010001   710           2        NaN         NaN          2  \n",
       "3     NaN  10010001   710           2        NaN         NaN        NaN  \n",
       "4     NaN  10010001  1450           2        NaN         NaN          1  \n",
       "\n",
       "[5 rows x 116 columns]"
      ]
     },
     "execution_count": 6,
     "metadata": {},
     "output_type": "execute_result"
    }
   ],
   "source": [
    "df_vivienda = pd.concat(frames_to_concat, ignore_index=True)\n",
    "df_vivienda.head()"
   ]
  },
  {
   "cell_type": "code",
   "execution_count": 121,
   "metadata": {},
   "outputs": [
    {
     "data": {
      "text/html": [
       "<div>\n",
       "<style scoped>\n",
       "    .dataframe tbody tr th:only-of-type {\n",
       "        vertical-align: middle;\n",
       "    }\n",
       "\n",
       "    .dataframe tbody tr th {\n",
       "        vertical-align: top;\n",
       "    }\n",
       "\n",
       "    .dataframe thead th {\n",
       "        text-align: right;\n",
       "    }\n",
       "</style>\n",
       "<table border=\"1\" class=\"dataframe\">\n",
       "  <thead>\n",
       "    <tr style=\"text-align: right;\">\n",
       "      <th></th>\n",
       "      <th>CVE_ENT</th>\n",
       "      <th>CVE_LOC</th>\n",
       "      <th>CVE_MUN</th>\n",
       "      <th>ageb</th>\n",
       "      <th>aire_acond</th>\n",
       "      <th>ais_otro</th>\n",
       "      <th>ais_pared</th>\n",
       "      <th>ais_techos</th>\n",
       "      <th>ais_ventan</th>\n",
       "      <th>anio_panel</th>\n",
       "      <th>...</th>\n",
       "      <th>tipo_viv</th>\n",
       "      <th>tot_hog</th>\n",
       "      <th>tot_resid</th>\n",
       "      <th>tv_paga</th>\n",
       "      <th>ubica_geo</th>\n",
       "      <th>upm</th>\n",
       "      <th>uso_compar</th>\n",
       "      <th>valor_viv</th>\n",
       "      <th>vend_hered</th>\n",
       "      <th>viv_usada</th>\n",
       "    </tr>\n",
       "  </thead>\n",
       "  <tbody>\n",
       "    <tr>\n",
       "      <th>0</th>\n",
       "      <td>32</td>\n",
       "      <td>1</td>\n",
       "      <td>37</td>\n",
       "      <td>029-0</td>\n",
       "      <td>2</td>\n",
       "      <td>NaN</td>\n",
       "      <td>NaN</td>\n",
       "      <td>NaN</td>\n",
       "      <td>NaN</td>\n",
       "      <td>NaN</td>\n",
       "      <td>...</td>\n",
       "      <td>1</td>\n",
       "      <td>1</td>\n",
       "      <td>4</td>\n",
       "      <td>NaN</td>\n",
       "      <td>10010001</td>\n",
       "      <td>710</td>\n",
       "      <td>2</td>\n",
       "      <td>NaN</td>\n",
       "      <td>NaN</td>\n",
       "      <td>NaN</td>\n",
       "    </tr>\n",
       "    <tr>\n",
       "      <th>1</th>\n",
       "      <td>32</td>\n",
       "      <td>1</td>\n",
       "      <td>37</td>\n",
       "      <td>029-0</td>\n",
       "      <td>2</td>\n",
       "      <td>NaN</td>\n",
       "      <td>NaN</td>\n",
       "      <td>NaN</td>\n",
       "      <td>NaN</td>\n",
       "      <td>NaN</td>\n",
       "      <td>...</td>\n",
       "      <td>1</td>\n",
       "      <td>1</td>\n",
       "      <td>4</td>\n",
       "      <td>NaN</td>\n",
       "      <td>10010001</td>\n",
       "      <td>710</td>\n",
       "      <td>2</td>\n",
       "      <td>NaN</td>\n",
       "      <td>NaN</td>\n",
       "      <td>NaN</td>\n",
       "    </tr>\n",
       "    <tr>\n",
       "      <th>2</th>\n",
       "      <td>32</td>\n",
       "      <td>1</td>\n",
       "      <td>37</td>\n",
       "      <td>029-0</td>\n",
       "      <td>2</td>\n",
       "      <td>NaN</td>\n",
       "      <td>NaN</td>\n",
       "      <td>NaN</td>\n",
       "      <td>NaN</td>\n",
       "      <td>NaN</td>\n",
       "      <td>...</td>\n",
       "      <td>1</td>\n",
       "      <td>1</td>\n",
       "      <td>2</td>\n",
       "      <td>NaN</td>\n",
       "      <td>10010001</td>\n",
       "      <td>710</td>\n",
       "      <td>2</td>\n",
       "      <td>NaN</td>\n",
       "      <td>NaN</td>\n",
       "      <td>2</td>\n",
       "    </tr>\n",
       "    <tr>\n",
       "      <th>3</th>\n",
       "      <td>32</td>\n",
       "      <td>1</td>\n",
       "      <td>37</td>\n",
       "      <td>029-0</td>\n",
       "      <td>2</td>\n",
       "      <td>NaN</td>\n",
       "      <td>NaN</td>\n",
       "      <td>NaN</td>\n",
       "      <td>NaN</td>\n",
       "      <td>NaN</td>\n",
       "      <td>...</td>\n",
       "      <td>1</td>\n",
       "      <td>1</td>\n",
       "      <td>6</td>\n",
       "      <td>NaN</td>\n",
       "      <td>10010001</td>\n",
       "      <td>710</td>\n",
       "      <td>2</td>\n",
       "      <td>NaN</td>\n",
       "      <td>NaN</td>\n",
       "      <td>NaN</td>\n",
       "    </tr>\n",
       "    <tr>\n",
       "      <th>4</th>\n",
       "      <td>32</td>\n",
       "      <td>1</td>\n",
       "      <td>37</td>\n",
       "      <td>030-3</td>\n",
       "      <td>2</td>\n",
       "      <td>NaN</td>\n",
       "      <td>NaN</td>\n",
       "      <td>NaN</td>\n",
       "      <td>NaN</td>\n",
       "      <td>NaN</td>\n",
       "      <td>...</td>\n",
       "      <td>1</td>\n",
       "      <td>1</td>\n",
       "      <td>4</td>\n",
       "      <td>NaN</td>\n",
       "      <td>10010001</td>\n",
       "      <td>1450</td>\n",
       "      <td>2</td>\n",
       "      <td>NaN</td>\n",
       "      <td>NaN</td>\n",
       "      <td>1</td>\n",
       "    </tr>\n",
       "  </tbody>\n",
       "</table>\n",
       "<p>5 rows × 116 columns</p>\n",
       "</div>"
      ],
      "text/plain": [
       "   CVE_ENT  CVE_LOC  CVE_MUN   ageb  aire_acond  ais_otro  ais_pared  \\\n",
       "0       32        1       37  029-0           2       NaN        NaN   \n",
       "1       32        1       37  029-0           2       NaN        NaN   \n",
       "2       32        1       37  029-0           2       NaN        NaN   \n",
       "3       32        1       37  029-0           2       NaN        NaN   \n",
       "4       32        1       37  030-3           2       NaN        NaN   \n",
       "\n",
       "   ais_techos  ais_ventan anio_panel    ...     tipo_viv  tot_hog tot_resid  \\\n",
       "0         NaN         NaN        NaN    ...            1        1         4   \n",
       "1         NaN         NaN        NaN    ...            1        1         4   \n",
       "2         NaN         NaN        NaN    ...            1        1         2   \n",
       "3         NaN         NaN        NaN    ...            1        1         6   \n",
       "4         NaN         NaN        NaN    ...            1        1         4   \n",
       "\n",
       "  tv_paga ubica_geo   upm  uso_compar  valor_viv  vend_hered  viv_usada  \n",
       "0     NaN  10010001   710           2        NaN         NaN        NaN  \n",
       "1     NaN  10010001   710           2        NaN         NaN        NaN  \n",
       "2     NaN  10010001   710           2        NaN         NaN          2  \n",
       "3     NaN  10010001   710           2        NaN         NaN        NaN  \n",
       "4     NaN  10010001  1450           2        NaN         NaN          1  \n",
       "\n",
       "[5 rows x 116 columns]"
      ]
     },
     "execution_count": 121,
     "metadata": {},
     "output_type": "execute_result"
    }
   ],
   "source": [
    "df_copy_vivienda = df_vivienda.copy()\n",
    "df_copy_vivienda.head()"
   ]
  },
  {
   "cell_type": "code",
   "execution_count": 166,
   "metadata": {},
   "outputs": [
    {
     "data": {
      "text/html": [
       "<div>\n",
       "<style scoped>\n",
       "    .dataframe tbody tr th:only-of-type {\n",
       "        vertical-align: middle;\n",
       "    }\n",
       "\n",
       "    .dataframe tbody tr th {\n",
       "        vertical-align: top;\n",
       "    }\n",
       "\n",
       "    .dataframe thead th {\n",
       "        text-align: right;\n",
       "    }\n",
       "</style>\n",
       "<table border=\"1\" class=\"dataframe\">\n",
       "  <thead>\n",
       "    <tr style=\"text-align: right;\">\n",
       "      <th></th>\n",
       "      <th>CVE_ENT</th>\n",
       "      <th>CVE_LOC</th>\n",
       "      <th>CVE_MUN</th>\n",
       "      <th>ageb</th>\n",
       "      <th>aire_acond</th>\n",
       "      <th>ais_otro</th>\n",
       "      <th>ais_pared</th>\n",
       "      <th>ais_techos</th>\n",
       "      <th>ais_ventan</th>\n",
       "      <th>anio_panel</th>\n",
       "      <th>...</th>\n",
       "      <th>tipo_viv</th>\n",
       "      <th>tot_hog</th>\n",
       "      <th>tot_resid</th>\n",
       "      <th>tv_paga</th>\n",
       "      <th>ubica_geo</th>\n",
       "      <th>upm</th>\n",
       "      <th>uso_compar</th>\n",
       "      <th>valor_viv</th>\n",
       "      <th>vend_hered</th>\n",
       "      <th>viv_usada</th>\n",
       "    </tr>\n",
       "  </thead>\n",
       "  <tbody>\n",
       "    <tr>\n",
       "      <th>0</th>\n",
       "      <td>32</td>\n",
       "      <td>1</td>\n",
       "      <td>37</td>\n",
       "      <td>029-0</td>\n",
       "      <td>2</td>\n",
       "      <td>&amp;</td>\n",
       "      <td>&amp;</td>\n",
       "      <td>&amp;</td>\n",
       "      <td>&amp;</td>\n",
       "      <td>&amp;</td>\n",
       "      <td>...</td>\n",
       "      <td>1</td>\n",
       "      <td>1</td>\n",
       "      <td>4</td>\n",
       "      <td>&amp;</td>\n",
       "      <td>10010001</td>\n",
       "      <td>710</td>\n",
       "      <td>2</td>\n",
       "      <td>&amp;</td>\n",
       "      <td>&amp;</td>\n",
       "      <td>&amp;</td>\n",
       "    </tr>\n",
       "    <tr>\n",
       "      <th>1</th>\n",
       "      <td>32</td>\n",
       "      <td>1</td>\n",
       "      <td>37</td>\n",
       "      <td>029-0</td>\n",
       "      <td>2</td>\n",
       "      <td>&amp;</td>\n",
       "      <td>&amp;</td>\n",
       "      <td>&amp;</td>\n",
       "      <td>&amp;</td>\n",
       "      <td>&amp;</td>\n",
       "      <td>...</td>\n",
       "      <td>1</td>\n",
       "      <td>1</td>\n",
       "      <td>4</td>\n",
       "      <td>&amp;</td>\n",
       "      <td>10010001</td>\n",
       "      <td>710</td>\n",
       "      <td>2</td>\n",
       "      <td>&amp;</td>\n",
       "      <td>&amp;</td>\n",
       "      <td>&amp;</td>\n",
       "    </tr>\n",
       "    <tr>\n",
       "      <th>2</th>\n",
       "      <td>32</td>\n",
       "      <td>1</td>\n",
       "      <td>37</td>\n",
       "      <td>029-0</td>\n",
       "      <td>2</td>\n",
       "      <td>&amp;</td>\n",
       "      <td>&amp;</td>\n",
       "      <td>&amp;</td>\n",
       "      <td>&amp;</td>\n",
       "      <td>&amp;</td>\n",
       "      <td>...</td>\n",
       "      <td>1</td>\n",
       "      <td>1</td>\n",
       "      <td>2</td>\n",
       "      <td>&amp;</td>\n",
       "      <td>10010001</td>\n",
       "      <td>710</td>\n",
       "      <td>2</td>\n",
       "      <td>&amp;</td>\n",
       "      <td>&amp;</td>\n",
       "      <td>2</td>\n",
       "    </tr>\n",
       "    <tr>\n",
       "      <th>3</th>\n",
       "      <td>32</td>\n",
       "      <td>1</td>\n",
       "      <td>37</td>\n",
       "      <td>029-0</td>\n",
       "      <td>2</td>\n",
       "      <td>&amp;</td>\n",
       "      <td>&amp;</td>\n",
       "      <td>&amp;</td>\n",
       "      <td>&amp;</td>\n",
       "      <td>&amp;</td>\n",
       "      <td>...</td>\n",
       "      <td>1</td>\n",
       "      <td>1</td>\n",
       "      <td>6</td>\n",
       "      <td>&amp;</td>\n",
       "      <td>10010001</td>\n",
       "      <td>710</td>\n",
       "      <td>2</td>\n",
       "      <td>&amp;</td>\n",
       "      <td>&amp;</td>\n",
       "      <td>&amp;</td>\n",
       "    </tr>\n",
       "    <tr>\n",
       "      <th>4</th>\n",
       "      <td>32</td>\n",
       "      <td>1</td>\n",
       "      <td>37</td>\n",
       "      <td>030-3</td>\n",
       "      <td>2</td>\n",
       "      <td>&amp;</td>\n",
       "      <td>&amp;</td>\n",
       "      <td>&amp;</td>\n",
       "      <td>&amp;</td>\n",
       "      <td>&amp;</td>\n",
       "      <td>...</td>\n",
       "      <td>1</td>\n",
       "      <td>1</td>\n",
       "      <td>4</td>\n",
       "      <td>&amp;</td>\n",
       "      <td>10010001</td>\n",
       "      <td>1450</td>\n",
       "      <td>2</td>\n",
       "      <td>&amp;</td>\n",
       "      <td>&amp;</td>\n",
       "      <td>1</td>\n",
       "    </tr>\n",
       "  </tbody>\n",
       "</table>\n",
       "<p>5 rows × 116 columns</p>\n",
       "</div>"
      ],
      "text/plain": [
       "  CVE_ENT  CVE_LOC  CVE_MUN   ageb  aire_acond ais_otro ais_pared ais_techos  \\\n",
       "0      32        1       37  029-0           2        &         &          &   \n",
       "1      32        1       37  029-0           2        &         &          &   \n",
       "2      32        1       37  029-0           2        &         &          &   \n",
       "3      32        1       37  029-0           2        &         &          &   \n",
       "4      32        1       37  030-3           2        &         &          &   \n",
       "\n",
       "  ais_ventan anio_panel    ...    tipo_viv tot_hog tot_resid tv_paga  \\\n",
       "0          &          &    ...           1       1         4       &   \n",
       "1          &          &    ...           1       1         4       &   \n",
       "2          &          &    ...           1       1         2       &   \n",
       "3          &          &    ...           1       1         6       &   \n",
       "4          &          &    ...           1       1         4       &   \n",
       "\n",
       "  ubica_geo   upm  uso_compar valor_viv vend_hered viv_usada  \n",
       "0  10010001   710           2         &          &         &  \n",
       "1  10010001   710           2         &          &         &  \n",
       "2  10010001   710           2         &          &         2  \n",
       "3  10010001   710           2         &          &         &  \n",
       "4  10010001  1450           2         &          &         1  \n",
       "\n",
       "[5 rows x 116 columns]"
      ]
     },
     "execution_count": 166,
     "metadata": {},
     "output_type": "execute_result"
    }
   ],
   "source": [
    "for col in df_copy_vivienda.columns:\n",
    "    try:\n",
    "        df_copy_vivienda[col].fillna(value='&', inplace=True)\n",
    "    except:\n",
    "        pass\n",
    "    \n",
    "df_copy_vivienda.head()"
   ]
  },
  {
   "cell_type": "code",
   "execution_count": 178,
   "metadata": {},
   "outputs": [
    {
     "data": {
      "text/html": [
       "<div>\n",
       "<style scoped>\n",
       "    .dataframe tbody tr th:only-of-type {\n",
       "        vertical-align: middle;\n",
       "    }\n",
       "\n",
       "    .dataframe tbody tr th {\n",
       "        vertical-align: top;\n",
       "    }\n",
       "\n",
       "    .dataframe thead th {\n",
       "        text-align: right;\n",
       "    }\n",
       "</style>\n",
       "<table border=\"1\" class=\"dataframe\">\n",
       "  <thead>\n",
       "    <tr style=\"text-align: right;\">\n",
       "      <th></th>\n",
       "      <th>CVE_ENT</th>\n",
       "      <th>CVE_LOC</th>\n",
       "      <th>CVE_MUN</th>\n",
       "      <th>ageb</th>\n",
       "      <th>aire_acond</th>\n",
       "      <th>ais_otro</th>\n",
       "      <th>ais_pared</th>\n",
       "      <th>ais_techos</th>\n",
       "      <th>ais_ventan</th>\n",
       "      <th>anio_panel</th>\n",
       "      <th>...</th>\n",
       "      <th>tipo_viv</th>\n",
       "      <th>tot_hog</th>\n",
       "      <th>tot_resid</th>\n",
       "      <th>tv_paga</th>\n",
       "      <th>ubica_geo</th>\n",
       "      <th>upm</th>\n",
       "      <th>uso_compar</th>\n",
       "      <th>valor_viv</th>\n",
       "      <th>vend_hered</th>\n",
       "      <th>viv_usada</th>\n",
       "    </tr>\n",
       "  </thead>\n",
       "  <tbody>\n",
       "    <tr>\n",
       "      <th>0</th>\n",
       "      <td>32</td>\n",
       "      <td>1</td>\n",
       "      <td>37</td>\n",
       "      <td>029-0</td>\n",
       "      <td>2</td>\n",
       "      <td>&amp;</td>\n",
       "      <td>&amp;</td>\n",
       "      <td>&amp;</td>\n",
       "      <td>&amp;</td>\n",
       "      <td>&amp;</td>\n",
       "      <td>...</td>\n",
       "      <td>1</td>\n",
       "      <td>1</td>\n",
       "      <td>4</td>\n",
       "      <td>&amp;</td>\n",
       "      <td>10010001</td>\n",
       "      <td>710</td>\n",
       "      <td>2</td>\n",
       "      <td>&amp;</td>\n",
       "      <td>&amp;</td>\n",
       "      <td>&amp;</td>\n",
       "    </tr>\n",
       "    <tr>\n",
       "      <th>1</th>\n",
       "      <td>32</td>\n",
       "      <td>1</td>\n",
       "      <td>37</td>\n",
       "      <td>029-0</td>\n",
       "      <td>2</td>\n",
       "      <td>&amp;</td>\n",
       "      <td>&amp;</td>\n",
       "      <td>&amp;</td>\n",
       "      <td>&amp;</td>\n",
       "      <td>&amp;</td>\n",
       "      <td>...</td>\n",
       "      <td>1</td>\n",
       "      <td>1</td>\n",
       "      <td>4</td>\n",
       "      <td>&amp;</td>\n",
       "      <td>10010001</td>\n",
       "      <td>710</td>\n",
       "      <td>2</td>\n",
       "      <td>&amp;</td>\n",
       "      <td>&amp;</td>\n",
       "      <td>&amp;</td>\n",
       "    </tr>\n",
       "    <tr>\n",
       "      <th>2</th>\n",
       "      <td>32</td>\n",
       "      <td>1</td>\n",
       "      <td>37</td>\n",
       "      <td>029-0</td>\n",
       "      <td>2</td>\n",
       "      <td>&amp;</td>\n",
       "      <td>&amp;</td>\n",
       "      <td>&amp;</td>\n",
       "      <td>&amp;</td>\n",
       "      <td>&amp;</td>\n",
       "      <td>...</td>\n",
       "      <td>1</td>\n",
       "      <td>1</td>\n",
       "      <td>2</td>\n",
       "      <td>&amp;</td>\n",
       "      <td>10010001</td>\n",
       "      <td>710</td>\n",
       "      <td>2</td>\n",
       "      <td>&amp;</td>\n",
       "      <td>&amp;</td>\n",
       "      <td>2</td>\n",
       "    </tr>\n",
       "    <tr>\n",
       "      <th>3</th>\n",
       "      <td>32</td>\n",
       "      <td>1</td>\n",
       "      <td>37</td>\n",
       "      <td>029-0</td>\n",
       "      <td>2</td>\n",
       "      <td>&amp;</td>\n",
       "      <td>&amp;</td>\n",
       "      <td>&amp;</td>\n",
       "      <td>&amp;</td>\n",
       "      <td>&amp;</td>\n",
       "      <td>...</td>\n",
       "      <td>1</td>\n",
       "      <td>1</td>\n",
       "      <td>6</td>\n",
       "      <td>&amp;</td>\n",
       "      <td>10010001</td>\n",
       "      <td>710</td>\n",
       "      <td>2</td>\n",
       "      <td>&amp;</td>\n",
       "      <td>&amp;</td>\n",
       "      <td>&amp;</td>\n",
       "    </tr>\n",
       "    <tr>\n",
       "      <th>4</th>\n",
       "      <td>32</td>\n",
       "      <td>1</td>\n",
       "      <td>37</td>\n",
       "      <td>030-3</td>\n",
       "      <td>2</td>\n",
       "      <td>&amp;</td>\n",
       "      <td>&amp;</td>\n",
       "      <td>&amp;</td>\n",
       "      <td>&amp;</td>\n",
       "      <td>&amp;</td>\n",
       "      <td>...</td>\n",
       "      <td>1</td>\n",
       "      <td>1</td>\n",
       "      <td>4</td>\n",
       "      <td>&amp;</td>\n",
       "      <td>10010001</td>\n",
       "      <td>1450</td>\n",
       "      <td>2</td>\n",
       "      <td>&amp;</td>\n",
       "      <td>&amp;</td>\n",
       "      <td>1</td>\n",
       "    </tr>\n",
       "  </tbody>\n",
       "</table>\n",
       "<p>5 rows × 116 columns</p>\n",
       "</div>"
      ],
      "text/plain": [
       "  CVE_ENT  CVE_LOC  CVE_MUN   ageb aire_acond ais_otro ais_pared ais_techos  \\\n",
       "0      32        1       37  029-0          2        &         &          &   \n",
       "1      32        1       37  029-0          2        &         &          &   \n",
       "2      32        1       37  029-0          2        &         &          &   \n",
       "3      32        1       37  029-0          2        &         &          &   \n",
       "4      32        1       37  030-3          2        &         &          &   \n",
       "\n",
       "  ais_ventan anio_panel    ...    tipo_viv tot_hog tot_resid tv_paga  \\\n",
       "0          &          &    ...           1       1         4       &   \n",
       "1          &          &    ...           1       1         4       &   \n",
       "2          &          &    ...           1       1         2       &   \n",
       "3          &          &    ...           1       1         6       &   \n",
       "4          &          &    ...           1       1         4       &   \n",
       "\n",
       "  ubica_geo   upm uso_compar valor_viv vend_hered viv_usada  \n",
       "0  10010001   710          2         &          &         &  \n",
       "1  10010001   710          2         &          &         &  \n",
       "2  10010001   710          2         &          &         2  \n",
       "3  10010001   710          2         &          &         &  \n",
       "4  10010001  1450          2         &          &         1  \n",
       "\n",
       "[5 rows x 116 columns]"
      ]
     },
     "execution_count": 178,
     "metadata": {},
     "output_type": "execute_result"
    }
   ],
   "source": [
    "for col in df_copy_vivienda.columns:\n",
    "    try:\n",
    "        df_copy_vivienda[col].replace({' ' : '&'}, inplace=True)\n",
    "    except:\n",
    "        pass\n",
    "    \n",
    "df_copy_vivienda.head()"
   ]
  },
  {
   "cell_type": "code",
   "execution_count": 180,
   "metadata": {},
   "outputs": [
    {
     "data": {
      "text/html": [
       "<div>\n",
       "<style scoped>\n",
       "    .dataframe tbody tr th:only-of-type {\n",
       "        vertical-align: middle;\n",
       "    }\n",
       "\n",
       "    .dataframe tbody tr th {\n",
       "        vertical-align: top;\n",
       "    }\n",
       "\n",
       "    .dataframe thead th {\n",
       "        text-align: right;\n",
       "    }\n",
       "</style>\n",
       "<table border=\"1\" class=\"dataframe\">\n",
       "  <thead>\n",
       "    <tr style=\"text-align: right;\">\n",
       "      <th></th>\n",
       "      <th>CVE_ENT</th>\n",
       "      <th>CVE_LOC</th>\n",
       "      <th>CVE_MUN</th>\n",
       "      <th>ageb</th>\n",
       "      <th>aire_acond</th>\n",
       "      <th>ais_otro</th>\n",
       "      <th>ais_pared</th>\n",
       "      <th>ais_techos</th>\n",
       "      <th>ais_ventan</th>\n",
       "      <th>anio_panel</th>\n",
       "      <th>...</th>\n",
       "      <th>tipo_viv</th>\n",
       "      <th>tot_hog</th>\n",
       "      <th>tot_resid</th>\n",
       "      <th>tv_paga</th>\n",
       "      <th>ubica_geo</th>\n",
       "      <th>upm</th>\n",
       "      <th>uso_compar</th>\n",
       "      <th>valor_viv</th>\n",
       "      <th>vend_hered</th>\n",
       "      <th>viv_usada</th>\n",
       "    </tr>\n",
       "  </thead>\n",
       "  <tbody>\n",
       "    <tr>\n",
       "      <th>0</th>\n",
       "      <td>32</td>\n",
       "      <td>1</td>\n",
       "      <td>37</td>\n",
       "      <td>029-0</td>\n",
       "      <td>2</td>\n",
       "      <td>&amp;</td>\n",
       "      <td>&amp;</td>\n",
       "      <td>&amp;</td>\n",
       "      <td>&amp;</td>\n",
       "      <td>&amp;</td>\n",
       "      <td>...</td>\n",
       "      <td>1</td>\n",
       "      <td>1</td>\n",
       "      <td>4</td>\n",
       "      <td>&amp;</td>\n",
       "      <td>10010001</td>\n",
       "      <td>710</td>\n",
       "      <td>2</td>\n",
       "      <td>&amp;</td>\n",
       "      <td>&amp;</td>\n",
       "      <td>&amp;</td>\n",
       "    </tr>\n",
       "    <tr>\n",
       "      <th>1</th>\n",
       "      <td>32</td>\n",
       "      <td>1</td>\n",
       "      <td>37</td>\n",
       "      <td>029-0</td>\n",
       "      <td>2</td>\n",
       "      <td>&amp;</td>\n",
       "      <td>&amp;</td>\n",
       "      <td>&amp;</td>\n",
       "      <td>&amp;</td>\n",
       "      <td>&amp;</td>\n",
       "      <td>...</td>\n",
       "      <td>1</td>\n",
       "      <td>1</td>\n",
       "      <td>4</td>\n",
       "      <td>&amp;</td>\n",
       "      <td>10010001</td>\n",
       "      <td>710</td>\n",
       "      <td>2</td>\n",
       "      <td>&amp;</td>\n",
       "      <td>&amp;</td>\n",
       "      <td>&amp;</td>\n",
       "    </tr>\n",
       "    <tr>\n",
       "      <th>2</th>\n",
       "      <td>32</td>\n",
       "      <td>1</td>\n",
       "      <td>37</td>\n",
       "      <td>029-0</td>\n",
       "      <td>2</td>\n",
       "      <td>&amp;</td>\n",
       "      <td>&amp;</td>\n",
       "      <td>&amp;</td>\n",
       "      <td>&amp;</td>\n",
       "      <td>&amp;</td>\n",
       "      <td>...</td>\n",
       "      <td>1</td>\n",
       "      <td>1</td>\n",
       "      <td>2</td>\n",
       "      <td>&amp;</td>\n",
       "      <td>10010001</td>\n",
       "      <td>710</td>\n",
       "      <td>2</td>\n",
       "      <td>&amp;</td>\n",
       "      <td>&amp;</td>\n",
       "      <td>2</td>\n",
       "    </tr>\n",
       "    <tr>\n",
       "      <th>3</th>\n",
       "      <td>32</td>\n",
       "      <td>1</td>\n",
       "      <td>37</td>\n",
       "      <td>029-0</td>\n",
       "      <td>2</td>\n",
       "      <td>&amp;</td>\n",
       "      <td>&amp;</td>\n",
       "      <td>&amp;</td>\n",
       "      <td>&amp;</td>\n",
       "      <td>&amp;</td>\n",
       "      <td>...</td>\n",
       "      <td>1</td>\n",
       "      <td>1</td>\n",
       "      <td>6</td>\n",
       "      <td>&amp;</td>\n",
       "      <td>10010001</td>\n",
       "      <td>710</td>\n",
       "      <td>2</td>\n",
       "      <td>&amp;</td>\n",
       "      <td>&amp;</td>\n",
       "      <td>&amp;</td>\n",
       "    </tr>\n",
       "    <tr>\n",
       "      <th>4</th>\n",
       "      <td>32</td>\n",
       "      <td>1</td>\n",
       "      <td>37</td>\n",
       "      <td>030-3</td>\n",
       "      <td>2</td>\n",
       "      <td>&amp;</td>\n",
       "      <td>&amp;</td>\n",
       "      <td>&amp;</td>\n",
       "      <td>&amp;</td>\n",
       "      <td>&amp;</td>\n",
       "      <td>...</td>\n",
       "      <td>1</td>\n",
       "      <td>1</td>\n",
       "      <td>4</td>\n",
       "      <td>&amp;</td>\n",
       "      <td>10010001</td>\n",
       "      <td>1450</td>\n",
       "      <td>2</td>\n",
       "      <td>&amp;</td>\n",
       "      <td>&amp;</td>\n",
       "      <td>1</td>\n",
       "    </tr>\n",
       "  </tbody>\n",
       "</table>\n",
       "<p>5 rows × 116 columns</p>\n",
       "</div>"
      ],
      "text/plain": [
       "  CVE_ENT  CVE_LOC  CVE_MUN   ageb aire_acond ais_otro ais_pared ais_techos  \\\n",
       "0      32        1       37  029-0          2        &         &          &   \n",
       "1      32        1       37  029-0          2        &         &          &   \n",
       "2      32        1       37  029-0          2        &         &          &   \n",
       "3      32        1       37  029-0          2        &         &          &   \n",
       "4      32        1       37  030-3          2        &         &          &   \n",
       "\n",
       "  ais_ventan anio_panel    ...    tipo_viv tot_hog tot_resid tv_paga  \\\n",
       "0          &          &    ...           1       1         4       &   \n",
       "1          &          &    ...           1       1         4       &   \n",
       "2          &          &    ...           1       1         2       &   \n",
       "3          &          &    ...           1       1         6       &   \n",
       "4          &          &    ...           1       1         4       &   \n",
       "\n",
       "  ubica_geo   upm uso_compar valor_viv vend_hered viv_usada  \n",
       "0  10010001   710          2         &          &         &  \n",
       "1  10010001   710          2         &          &         &  \n",
       "2  10010001   710          2         &          &         2  \n",
       "3  10010001   710          2         &          &         &  \n",
       "4  10010001  1450          2         &          &         1  \n",
       "\n",
       "[5 rows x 116 columns]"
      ]
     },
     "execution_count": 180,
     "metadata": {},
     "output_type": "execute_result"
    }
   ],
   "source": [
    "for col in df_copy_vivienda.columns:\n",
    "    try:\n",
    "        df_copy_vivienda[col].replace({'1.79769313486232e+308' : '&'}, inplace=True)\n",
    "    except:\n",
    "        pass\n",
    "    \n",
    "df_copy_vivienda.head()"
   ]
  },
  {
   "cell_type": "markdown",
   "metadata": {},
   "source": [
    "## Análisis"
   ]
  },
  {
   "cell_type": "markdown",
   "metadata": {},
   "source": [
    "#### Tipo de Vivienda `tipo_viv`\n",
    "Definición: Clase de vivienda particular\n",
    "\n",
    "Valor Etiqueta:\n",
    "+ 1 Casa independiente\n",
    "+ 2 Departamento en edificio\n",
    "+ 3 Vivienda en vecindad\n",
    "+ 4 Vivienda en cuarto de azotea\n",
    "+ 5 Local no construido para habitación\n",
    "+ & representa un dato “No especificado”\n"
   ]
  },
  {
   "cell_type": "code",
   "execution_count": 50,
   "metadata": {},
   "outputs": [
    {
     "data": {
      "text/plain": [
       "1    153405\n",
       "2      5310\n",
       "3      1524\n",
       "5       104\n",
       "&        71\n",
       "4        53\n",
       "Name: tipo_viv, dtype: int64"
      ]
     },
     "execution_count": 50,
     "metadata": {},
     "output_type": "execute_result"
    }
   ],
   "source": [
    "df_copy_vivienda.tipo_viv = df_copy_vivienda.tipo_viv.astype('category')\n",
    "df_copy_vivienda.tipo_viv.value_counts()"
   ]
  },
  {
   "cell_type": "markdown",
   "metadata": {},
   "source": [
    "#### Número de pisos en el condominio `condominio`\n",
    "Definición: Número de pisos que tiene el departamento en condominio vertical.\n",
    "\n",
    "Valor Etiqueta:\n",
    "+ 1+\n"
   ]
  },
  {
   "cell_type": "code",
   "execution_count": 186,
   "metadata": {},
   "outputs": [
    {
     "data": {
      "text/plain": [
       "&    158516\n",
       "2       738\n",
       "4       503\n",
       "3       494\n",
       "5       128\n",
       "Name: condominio, dtype: int64"
      ]
     },
     "execution_count": 186,
     "metadata": {},
     "output_type": "execute_result"
    }
   ],
   "source": [
    "df_copy_vivienda.condominio = df_copy_vivienda.condominio.astype('category')\n",
    "df_copy_vivienda.condominio.value_counts().head()"
   ]
  },
  {
   "cell_type": "markdown",
   "metadata": {},
   "source": [
    "#### Disponibilidad de elevador `elevador`\n",
    "Definición: Posee elevador el departamento en condominio vertical.\n",
    "\n",
    "Valor Etiqueta:\n",
    "+ 1 Sí\n",
    "+ 2 No\n"
   ]
  },
  {
   "cell_type": "code",
   "execution_count": 187,
   "metadata": {},
   "outputs": [
    {
     "data": {
      "text/plain": [
       "&    158516\n",
       "2      1812\n",
       "1       139\n",
       "Name: elevador, dtype: int64"
      ]
     },
     "execution_count": 187,
     "metadata": {},
     "output_type": "execute_result"
    }
   ],
   "source": [
    "df_copy_vivienda.elevador = df_copy_vivienda.elevador.astype('category')\n",
    "df_copy_vivienda.elevador.value_counts().head()"
   ]
  },
  {
   "cell_type": "markdown",
   "metadata": {},
   "source": [
    "#### Material de paredes `mat_pared`\n",
    "Definición: Material predominante en las paredes de la vivienda. \n",
    "    \n",
    "Valor Etiqueta\n",
    "+ 1 Material de desecho\n",
    "+ 2 Lámina de cartón\n",
    "+ 3 Lámina de asbesto o metálica\n",
    "+ 4 Carrizo, bambú o palma\n",
    "+ 5 Embarro o bajareque\n",
    "+ 6 Madera\n",
    "+ 7 Adobe\n",
    "+ 8 Tabique, ladrillo, block, piedra, cantera, cemento o concreto"
   ]
  },
  {
   "cell_type": "code",
   "execution_count": 51,
   "metadata": {
    "scrolled": false
   },
   "outputs": [
    {
     "data": {
      "text/plain": [
       "8    140992\n",
       "7     10988\n",
       "6      5943\n",
       "3       913\n",
       "5       649\n",
       "4       550\n",
       "2       235\n",
       "1       197\n",
       "Name: mat_pared, dtype: int64"
      ]
     },
     "execution_count": 51,
     "metadata": {},
     "output_type": "execute_result"
    }
   ],
   "source": [
    "df_copy_vivienda.mat_pared = df_copy_vivienda.mat_pared.astype('category')\n",
    "df_copy_vivienda.mat_pared.value_counts()"
   ]
  },
  {
   "cell_type": "markdown",
   "metadata": {},
   "source": [
    "#### Material de techos `mat_techos`\n",
    "Definición: Material predominante en el techo de la vivienda.\n",
    "    \n",
    "Valor Etiqueta\n",
    "+ 1 Material de desecho\n",
    "+ 2 Lámina de cartón\n",
    "+ 3 Lámina metálica\n",
    "+ 4 Lámina de asbesto\n",
    "+ 5 Palma o paja\n",
    "+ 6 Madera o tejamanil\n",
    "+ 7 Terrado con viguería\n",
    "+ 8 Teja\n",
    "+ 9 Losa de concreto o viguetas con bovedilla"
   ]
  },
  {
   "cell_type": "code",
   "execution_count": 184,
   "metadata": {
    "scrolled": false
   },
   "outputs": [
    {
     "data": {
      "text/plain": [
       "9    118950\n",
       "3     21935\n",
       "4      8846\n",
       "6      3649\n",
       "8      2573\n",
       "7      1753\n",
       "2      1709\n",
       "5       938\n",
       "1       114\n",
       "Name: mat_techos, dtype: int64"
      ]
     },
     "execution_count": 184,
     "metadata": {},
     "output_type": "execute_result"
    }
   ],
   "source": [
    "df_copy_vivienda.mat_techos = df_copy_vivienda.mat_techos.astype('category')\n",
    "df_copy_vivienda.mat_techos.value_counts()"
   ]
  },
  {
   "cell_type": "markdown",
   "metadata": {},
   "source": [
    "#### Material de pisos `mat_pisos`\n",
    "Definición: Material predominante en el piso de la vivienda.\n",
    "    \n",
    "Valor Etiqueta\n",
    "+ 1 Tierra\n",
    "+ 2 Cemento o firme\n",
    "+ 3 Madera, mosaico u otro recubrimiento\n",
    "+ & representa un dato “No especificado”"
   ]
  },
  {
   "cell_type": "code",
   "execution_count": 52,
   "metadata": {
    "scrolled": false
   },
   "outputs": [
    {
     "data": {
      "text/plain": [
       "2    81341\n",
       "3    74942\n",
       "1     4183\n",
       "&        1\n",
       "Name: mat_pisos, dtype: int64"
      ]
     },
     "execution_count": 52,
     "metadata": {},
     "output_type": "execute_result"
    }
   ],
   "source": [
    "df_copy_vivienda.mat_pisos = df_copy_vivienda.mat_pisos.astype('category')\n",
    "#df_copy_vivienda.groupby('mat_pisos').mat_pisos.count()\n",
    "df_copy_vivienda.mat_pisos.value_counts()"
   ]
  },
  {
   "cell_type": "code",
   "execution_count": 53,
   "metadata": {},
   "outputs": [
    {
     "data": {
      "text/plain": [
       "{'&': '&', '1': 1, 1: 1, '2': 2, 2: 2, '3': 3, 3: 3}"
      ]
     },
     "execution_count": 53,
     "metadata": {},
     "output_type": "execute_result"
    }
   ],
   "source": [
    "# hay 7 categorías donde debería haber 4, entonces se crea un diccionario para solucionarlo\n",
    "cat_mat_pisos = {'1': 1, '2': 2, '3': 3, '&': '&',\n",
    "                 1: 1, 2: 2, 3: 3}\n",
    "\n",
    "#type(cat_mat_pisos)\n",
    "cat_mat_pisos"
   ]
  },
  {
   "cell_type": "code",
   "execution_count": 54,
   "metadata": {},
   "outputs": [
    {
     "data": {
      "text/plain": [
       "2    81341\n",
       "3    74942\n",
       "1     4183\n",
       "&        1\n",
       "Name: mat_pisos, dtype: int64"
      ]
     },
     "execution_count": 54,
     "metadata": {},
     "output_type": "execute_result"
    }
   ],
   "source": [
    "df_copy_vivienda.mat_pisos.replace(cat_mat_pisos, inplace=True)\n",
    "df_copy_vivienda.mat_pisos.value_counts()"
   ]
  },
  {
   "cell_type": "markdown",
   "metadata": {},
   "source": [
    "#### Aislamiento en techo `ais_techos`\n",
    "Definición: Aislamiento en el techo de la vivienda.\n",
    "    \n",
    "Valor Etiqueta\n",
    "+ 1 Sí\n",
    "+ 2 No\n",
    "+ & No sabe"
   ]
  },
  {
   "cell_type": "code",
   "execution_count": 188,
   "metadata": {
    "scrolled": true
   },
   "outputs": [
    {
     "data": {
      "text/plain": [
       "&      102401\n",
       "2.0     54987\n",
       "1.0      2624\n",
       "9.0       455\n",
       "Name: ais_techos, dtype: int64"
      ]
     },
     "execution_count": 188,
     "metadata": {},
     "output_type": "execute_result"
    }
   ],
   "source": [
    "df_copy_vivienda.ais_techos = df_copy_vivienda.ais_techos.astype('category')\n",
    "df_copy_vivienda.ais_techos.value_counts()"
   ]
  },
  {
   "cell_type": "code",
   "execution_count": 190,
   "metadata": {},
   "outputs": [
    {
     "data": {
      "text/plain": [
       "{'1.0': 1, 1.0: 1, '2.0': 2, 2.0: 2, '9.0': '&', 9.0: '&'}"
      ]
     },
     "execution_count": 190,
     "metadata": {},
     "output_type": "execute_result"
    }
   ],
   "source": [
    "cat_ais_techos = {'1.0': 1, 1.0 : 1,\n",
    "                  '2.0': 2, 2.0 : 2,\n",
    "                  '9.0' : '&', 9.0 : '&', 9 : '&'}\n",
    "\n",
    "#type(cat_mat_pisos)\n",
    "cat_ais_techos"
   ]
  },
  {
   "cell_type": "code",
   "execution_count": 191,
   "metadata": {},
   "outputs": [
    {
     "data": {
      "text/plain": [
       "&    102856\n",
       "2     54987\n",
       "1      2624\n",
       "Name: ais_techos, dtype: int64"
      ]
     },
     "execution_count": 191,
     "metadata": {},
     "output_type": "execute_result"
    }
   ],
   "source": [
    "df_copy_vivienda.ais_techos.replace(cat_ais_techos, inplace=True)\n",
    "df_copy_vivienda.ais_techos.value_counts()"
   ]
  },
  {
   "cell_type": "markdown",
   "metadata": {},
   "source": [
    "#### Aislamiento en paredes `ais_pared`\n",
    "Definición: Aislamiento en las paredes de la vivienda.\n",
    "    \n",
    "Valor Etiqueta\n",
    "+ 1 Sí\n",
    "+ 2 No\n",
    "+ & No sabe"
   ]
  },
  {
   "cell_type": "code",
   "execution_count": 192,
   "metadata": {
    "scrolled": true
   },
   "outputs": [
    {
     "data": {
      "text/plain": [
       "&      102401\n",
       "2.0     57040\n",
       "1.0       620\n",
       "9.0       406\n",
       "Name: ais_pared, dtype: int64"
      ]
     },
     "execution_count": 192,
     "metadata": {},
     "output_type": "execute_result"
    }
   ],
   "source": [
    "df_copy_vivienda.ais_pared = df_copy_vivienda.ais_pared.astype('category')\n",
    "df_copy_vivienda.ais_pared.value_counts()"
   ]
  },
  {
   "cell_type": "code",
   "execution_count": 193,
   "metadata": {},
   "outputs": [
    {
     "data": {
      "text/plain": [
       "{'1.0': 1, 1.0: 1, '2.0': 2, 2.0: 2, '9.0': '&', 9.0: '&'}"
      ]
     },
     "execution_count": 193,
     "metadata": {},
     "output_type": "execute_result"
    }
   ],
   "source": [
    "cat_ais_pared = {'1.0': 1, 1.0 : 1,\n",
    "                  '2.0': 2, 2.0 : 2,\n",
    "                  '9.0' : '&', 9.0 : '&', 9 : '&'}\n",
    "\n",
    "cat_ais_pared"
   ]
  },
  {
   "cell_type": "code",
   "execution_count": 194,
   "metadata": {},
   "outputs": [
    {
     "data": {
      "text/plain": [
       "&    102807\n",
       "2     57040\n",
       "1       620\n",
       "Name: ais_pared, dtype: int64"
      ]
     },
     "execution_count": 194,
     "metadata": {},
     "output_type": "execute_result"
    }
   ],
   "source": [
    "df_copy_vivienda.ais_pared.replace(cat_ais_pared, inplace=True)\n",
    "df_copy_vivienda.ais_pared.value_counts()"
   ]
  },
  {
   "cell_type": "markdown",
   "metadata": {},
   "source": [
    "#### Aislamiento en ventanas `ais_ventan`\n",
    "Definición: Aislamiento en las ventanas de la vivienda.\n",
    "    \n",
    "Valor Etiqueta\n",
    "+ 1 Sí\n",
    "+ 2 No\n",
    "+ & No sabe"
   ]
  },
  {
   "cell_type": "code",
   "execution_count": 195,
   "metadata": {
    "scrolled": true
   },
   "outputs": [
    {
     "data": {
      "text/plain": [
       "&      102401\n",
       "2.0     57321\n",
       "1.0       404\n",
       "9.0       341\n",
       "Name: ais_ventan, dtype: int64"
      ]
     },
     "execution_count": 195,
     "metadata": {},
     "output_type": "execute_result"
    }
   ],
   "source": [
    "df_copy_vivienda.ais_ventan = df_copy_vivienda.ais_ventan.astype('category')\n",
    "df_copy_vivienda.ais_ventan.value_counts()"
   ]
  },
  {
   "cell_type": "code",
   "execution_count": 196,
   "metadata": {},
   "outputs": [
    {
     "data": {
      "text/plain": [
       "{'1.0': 1, 1.0: 1, '2.0': 2, 2.0: 2, '9.0': '&', 9.0: '&'}"
      ]
     },
     "execution_count": 196,
     "metadata": {},
     "output_type": "execute_result"
    }
   ],
   "source": [
    "cat_ais_ventan = {'1.0': 1, 1.0 : 1,\n",
    "                  '2.0': 2, 2.0 : 2,\n",
    "                  '9.0' : '&', 9.0 : '&', 9 : '&'}\n",
    "\n",
    "cat_ais_ventan"
   ]
  },
  {
   "cell_type": "code",
   "execution_count": 198,
   "metadata": {},
   "outputs": [
    {
     "data": {
      "text/plain": [
       "&    102742\n",
       "2     57321\n",
       "1       404\n",
       "Name: ais_ventan, dtype: int64"
      ]
     },
     "execution_count": 198,
     "metadata": {},
     "output_type": "execute_result"
    }
   ],
   "source": [
    "df_copy_vivienda.ais_ventan.replace(cat_ais_ventan, inplace=True)\n",
    "df_copy_vivienda.ais_ventan.value_counts()"
   ]
  },
  {
   "cell_type": "markdown",
   "metadata": {},
   "source": [
    "#### Otro tipo de aislamiento `ais_otro`\n",
    "Definición: Otro tipo de aislamiento en la vivienda. \n",
    "    \n",
    "Valor Etiqueta\n",
    "+ 1 Sí\n",
    "+ 2 No\n",
    "+ & No sabe"
   ]
  },
  {
   "cell_type": "code",
   "execution_count": 200,
   "metadata": {
    "scrolled": true
   },
   "outputs": [
    {
     "data": {
      "text/plain": [
       "&      102401\n",
       "2.0     57633\n",
       "9.0       332\n",
       "1.0       101\n",
       "Name: ais_otro, dtype: int64"
      ]
     },
     "execution_count": 200,
     "metadata": {},
     "output_type": "execute_result"
    }
   ],
   "source": [
    "df_copy_vivienda.ais_otro = df_copy_vivienda.ais_otro.astype('category')\n",
    "df_copy_vivienda.ais_otro.value_counts()"
   ]
  },
  {
   "cell_type": "code",
   "execution_count": 201,
   "metadata": {},
   "outputs": [
    {
     "data": {
      "text/plain": [
       "{'1.0': 1, 1.0: 1, '2.0': 2, 2.0: 2, '9.0': '&', 9.0: '&'}"
      ]
     },
     "execution_count": 201,
     "metadata": {},
     "output_type": "execute_result"
    }
   ],
   "source": [
    "cat_ais_otro = {'1.0': 1, 1.0 : 1,\n",
    "                  '2.0': 2, 2.0 : 2,\n",
    "                  '9.0' : '&', 9.0 : '&', 9 : '&'}\n",
    "\n",
    "cat_ais_otro"
   ]
  },
  {
   "cell_type": "code",
   "execution_count": 202,
   "metadata": {},
   "outputs": [
    {
     "data": {
      "text/plain": [
       "&    102733\n",
       "2     57633\n",
       "1       101\n",
       "Name: ais_otro, dtype: int64"
      ]
     },
     "execution_count": 202,
     "metadata": {},
     "output_type": "execute_result"
    }
   ],
   "source": [
    "df_copy_vivienda.ais_otro.replace(cat_ais_otro, inplace=True)\n",
    "df_copy_vivienda.ais_otro.value_counts()"
   ]
  },
  {
   "cell_type": "markdown",
   "metadata": {},
   "source": [
    "#### Antigüedad de la vivienda `antiguedad`\n",
    "Definición: Tiempo que tiene la vivienda de haber sido construida.\n",
    "    \n",
    "Valor Etiqueta\n",
    "+ 0 - 99 Años\n",
    "+ 0 Menos de un año \n",
    "+ & No sabe"
   ]
  },
  {
   "cell_type": "code",
   "execution_count": 55,
   "metadata": {
    "scrolled": true
   },
   "outputs": [
    {
     "data": {
      "text/plain": [
       "&     40601\n",
       "20    10142\n",
       "10     9988\n",
       "30     8666\n",
       "15     8240\n",
       "Name: antiguedad, dtype: int64"
      ]
     },
     "execution_count": 55,
     "metadata": {},
     "output_type": "execute_result"
    }
   ],
   "source": [
    "df_copy_vivienda.antiguedad = df_copy_vivienda.antiguedad.astype('category')\n",
    "#df_copy_vivienda.groupby('mat_pisos').mat_pisos.count()\n",
    "df_copy_vivienda.antiguedad.value_counts(sort=True, ascending=False).head()"
   ]
  },
  {
   "cell_type": "code",
   "execution_count": 56,
   "metadata": {},
   "outputs": [
    {
     "data": {
      "text/plain": [
       "{'1.79769313486232e+308': '&'}"
      ]
     },
     "execution_count": 56,
     "metadata": {},
     "output_type": "execute_result"
    }
   ],
   "source": [
    "# hay 7 categorías donde debería haber 4, entonces se crea un diccionario para solucionarlo\n",
    "cat_antiguedad = {'1.79769313486232e+308': '&'}\n",
    "\n",
    "#type(cat_mat_pisos)\n",
    "cat_antiguedad"
   ]
  },
  {
   "cell_type": "code",
   "execution_count": 69,
   "metadata": {
    "scrolled": true
   },
   "outputs": [
    {
     "data": {
      "text/plain": [
       "&     40601\n",
       "20    10142\n",
       "10     9988\n",
       "30     8666\n",
       "15     8240\n",
       "Name: antiguedad, dtype: int64"
      ]
     },
     "execution_count": 69,
     "metadata": {},
     "output_type": "execute_result"
    }
   ],
   "source": [
    "df_copy_vivienda.antiguedad.replace(cat_antiguedad, inplace=True)\n",
    "df_copy_vivienda.antiguedad.value_counts(sort=True, ascending=False).head()"
   ]
  },
  {
   "cell_type": "markdown",
   "metadata": {},
   "source": [
    "#### Tiene cocina `cocina` \n",
    "Definición: Cuarto de la vivienda dispuesto para preparar o calentar alimentos, aunque también tenga otros usos.\n",
    "    \n",
    "Valor Etiqueta\n",
    "+ 1 Sí\n",
    "+ 2 No"
   ]
  },
  {
   "cell_type": "code",
   "execution_count": 18,
   "metadata": {
    "scrolled": false
   },
   "outputs": [
    {
     "data": {
      "text/plain": [
       "1    151424\n",
       "2      9043\n",
       "Name: cocina, dtype: int64"
      ]
     },
     "execution_count": 18,
     "metadata": {},
     "output_type": "execute_result"
    }
   ],
   "source": [
    "df_copy_vivienda.cocina = df_copy_vivienda.cocina.astype('category')\n",
    "#df_copy_vivienda.groupby('mat_pisos').mat_pisos.count()\n",
    "df_copy_vivienda.cocina.value_counts()"
   ]
  },
  {
   "cell_type": "markdown",
   "metadata": {},
   "source": [
    "#### Utiliza cocina de dormitorio `cocina_dor` \n",
    "Definición: Cocina utilizada de manera habitual también para dormir.\n",
    "    \n",
    "Valor Etiqueta\n",
    "+ 1 Sí\n",
    "+ 2 No"
   ]
  },
  {
   "cell_type": "code",
   "execution_count": 64,
   "metadata": {
    "scrolled": false
   },
   "outputs": [
    {
     "data": {
      "text/plain": [
       "2    139982\n",
       "1     11442\n",
       "&      6455\n",
       "Name: cocina_dor, dtype: int64"
      ]
     },
     "execution_count": 64,
     "metadata": {},
     "output_type": "execute_result"
    }
   ],
   "source": [
    "df_copy_vivienda.cocina_dor = df_copy_vivienda.cocina_dor.astype('category')\n",
    "#df_copy_vivienda.groupby('mat_pisos').mat_pisos.count()\n",
    "df_copy_vivienda.cocina_dor.value_counts()"
   ]
  },
  {
   "cell_type": "code",
   "execution_count": 62,
   "metadata": {},
   "outputs": [
    {
     "data": {
      "text/plain": [
       "{' ': '&', '1': 1, 1: 1, '1.0': 1, '2': 2, 2: 2, '2.0': 2}"
      ]
     },
     "execution_count": 62,
     "metadata": {},
     "output_type": "execute_result"
    }
   ],
   "source": [
    "cat_cocina_dor = {'1': 1, '1.0' : 1, 1 : 1,\n",
    "                  '2': 2, '2.0' : 2, 2 : 2,\n",
    "                  ' ' : '&'}\n",
    "cat_cocina_dor"
   ]
  },
  {
   "cell_type": "code",
   "execution_count": 63,
   "metadata": {},
   "outputs": [
    {
     "data": {
      "text/plain": [
       "2    139982\n",
       "1     11442\n",
       "&      6455\n",
       "Name: cocina_dor, dtype: int64"
      ]
     },
     "execution_count": 63,
     "metadata": {},
     "output_type": "execute_result"
    }
   ],
   "source": [
    "df_copy_vivienda.cocina_dor.replace(cat_cocina_dor, inplace=True)\n",
    "df_copy_vivienda.cocina_dor.value_counts()"
   ]
  },
  {
   "cell_type": "markdown",
   "metadata": {},
   "source": [
    "#### Cuartos dormitorio `cuart_dorm`\n",
    "Definición: Número de cuartos de la vivienda que son usados habitualmente para dormir, aunque también tengan otros usos.\n",
    "    \n",
    "Valor Etiqueta\n",
    "+ 1+"
   ]
  },
  {
   "cell_type": "code",
   "execution_count": 20,
   "metadata": {
    "scrolled": false
   },
   "outputs": [
    {
     "data": {
      "text/plain": [
       "2     67399\n",
       "1     53148\n",
       "3     31868\n",
       "4      6669\n",
       "5      1071\n",
       "6       228\n",
       "7        55\n",
       "8        25\n",
       "9         2\n",
       "11        1\n",
       "10        1\n",
       "Name: cuart_dorm, dtype: int64"
      ]
     },
     "execution_count": 20,
     "metadata": {},
     "output_type": "execute_result"
    }
   ],
   "source": [
    "df_copy_vivienda.cuart_dorm = df_copy_vivienda.cuart_dorm.astype('category')\n",
    "#df_copy_vivienda.groupby('mat_pisos').mat_pisos.count()\n",
    "df_copy_vivienda.cuart_dorm.value_counts()"
   ]
  },
  {
   "cell_type": "markdown",
   "metadata": {},
   "source": [
    "#### Número de cuartos `num_cuarto` \n",
    "Definición: Número total de cuartos que tiene la vivienda, independientemente de su uso.\n",
    "    \n",
    "Valor Etiqueta\n",
    "+ 1+"
   ]
  },
  {
   "cell_type": "code",
   "execution_count": 21,
   "metadata": {
    "scrolled": false
   },
   "outputs": [
    {
     "data": {
      "text/plain": [
       "4     42993\n",
       "3     37482\n",
       "5     28022\n",
       "2     21526\n",
       "6     12397\n",
       "1      9187\n",
       "7      4926\n",
       "8      2377\n",
       "9       846\n",
       "10      432\n",
       "11      124\n",
       "12       95\n",
       "13       29\n",
       "14       11\n",
       "15        9\n",
       "16        5\n",
       "17        2\n",
       "22        2\n",
       "20        1\n",
       "18        1\n",
       "Name: num_cuarto, dtype: int64"
      ]
     },
     "execution_count": 21,
     "metadata": {},
     "output_type": "execute_result"
    }
   ],
   "source": [
    "df_copy_vivienda.num_cuarto = df_copy_vivienda.num_cuarto.astype('category')\n",
    "#df_copy_vivienda.groupby('mat_pisos').mat_pisos.count()\n",
    "df_copy_vivienda.num_cuarto.value_counts()"
   ]
  },
  {
   "cell_type": "markdown",
   "metadata": {},
   "source": [
    "#### Disponibilidad de agua `disp_agua` \n",
    "Definición: Formas de abastecer el agua a la vivienda ya sea que se cuente o no, con agua entubada de la red pública.\n",
    "    \n",
    "Valor Etiqueta\n",
    "+ 1 Agua entubada dentro de la vivienda\n",
    "+ 2 Agua entubada fuera de la vivienda, pero dentro del terreno\n",
    "+ 3 Agua entubada de llave pública (o hidrante)\n",
    "+ 4 Agua entubada que acarrean de otra vivienda\n",
    "+ 5 Agua de pipa\n",
    "+ 6 Agua de un pozo, río, lago, arroyo u otra"
   ]
  },
  {
   "cell_type": "code",
   "execution_count": 22,
   "metadata": {
    "scrolled": true
   },
   "outputs": [
    {
     "data": {
      "text/plain": [
       "1    116062\n",
       "2     33701\n",
       "6      6081\n",
       "5      2300\n",
       "4      1889\n",
       "3       434\n",
       "Name: disp_agua, dtype: int64"
      ]
     },
     "execution_count": 22,
     "metadata": {},
     "output_type": "execute_result"
    }
   ],
   "source": [
    "df_copy_vivienda.disp_agua = df_copy_vivienda.disp_agua.astype('category')\n",
    "#df_copy_vivienda.groupby('mat_pisos').mat_pisos.count()\n",
    "df_copy_vivienda.disp_agua.value_counts()"
   ]
  },
  {
   "cell_type": "markdown",
   "metadata": {},
   "source": [
    "#### Dotación de agua `dotac_agua` \n",
    "Definición: Frecuencia con la que llega a la vivienda el agua entubada que proviene de la red pública.\n",
    "    \n",
    "Valor Etiqueta\n",
    "+ 1 Diario\n",
    "+ 2 Cada tercer día\n",
    "+ 3 Dos veces por semana\n",
    "+ 4 Una vez por semana\n",
    "+ 5 De vez en cuando"
   ]
  },
  {
   "cell_type": "code",
   "execution_count": 23,
   "metadata": {
    "scrolled": false
   },
   "outputs": [
    {
     "data": {
      "text/plain": [
       "1      81030\n",
       "1.0    29856\n",
       "2      16169\n",
       "        7628\n",
       "2.0     6545\n",
       "3       5091\n",
       "4       3864\n",
       "5       2899\n",
       "3.0     2053\n",
       "4.0     1374\n",
       "5.0      882\n",
       "Name: dotac_agua, dtype: int64"
      ]
     },
     "execution_count": 23,
     "metadata": {},
     "output_type": "execute_result"
    }
   ],
   "source": [
    "df_copy_vivienda.dotac_agua = df_copy_vivienda.dotac_agua.astype('category')\n",
    "#df_copy_vivienda.groupby('mat_pisos').mat_pisos.count()\n",
    "df_copy_vivienda.dotac_agua.value_counts()"
   ]
  },
  {
   "cell_type": "code",
   "execution_count": 24,
   "metadata": {},
   "outputs": [
    {
     "data": {
      "text/plain": [
       "{' ': '&',\n",
       " '1': 1,\n",
       " 1: 1,\n",
       " '1.0': 1,\n",
       " '2': 2,\n",
       " 2: 2,\n",
       " '2.0': 2,\n",
       " '3': 3,\n",
       " 3: 3,\n",
       " '3.0': 3,\n",
       " '4': 3,\n",
       " 4: 3,\n",
       " '4.0': 3,\n",
       " '5': 3,\n",
       " 5: 3,\n",
       " '5.0': 3}"
      ]
     },
     "execution_count": 24,
     "metadata": {},
     "output_type": "execute_result"
    }
   ],
   "source": [
    "# hay 12 categorías donde debería haber 5, entonces se crea un diccionario para solucionarlo\n",
    "cat_dotac_agua = {'1': 1, '1.0': 1, 1 : 1,\n",
    "                 '2': 2, '2.0': 2, 2 : 2,\n",
    "                 '3': 3, '3.0': 3, 3 : 3,\n",
    "                 '4': 3, '4.0': 3, 4 : 3,\n",
    "                 '5': 3, '5.0': 3, 5 : 3,\n",
    "                 ' ': '&'}\n",
    "\n",
    "#type(cat_mat_pisos)\n",
    "cat_dotac_agua"
   ]
  },
  {
   "cell_type": "code",
   "execution_count": 25,
   "metadata": {},
   "outputs": [
    {
     "data": {
      "text/plain": [
       "1    110886\n",
       "2     22714\n",
       "3     16163\n",
       "&      7628\n",
       "Name: dotac_agua, dtype: int64"
      ]
     },
     "execution_count": 25,
     "metadata": {},
     "output_type": "execute_result"
    }
   ],
   "source": [
    "df_copy_vivienda.dotac_agua.replace(cat_dotac_agua, inplace=True)\n",
    "df_copy_vivienda.dotac_agua.value_counts()"
   ]
  },
  {
   "cell_type": "markdown",
   "metadata": {},
   "source": [
    "#### Tiene excusado `excusado` \n",
    "Definición: Instalación sanitaria o excusado en la vivienda para el desalojo de los desechos humanos.\n",
    "    \n",
    "Valor Etiqueta\n",
    "+ 1 Sí\n",
    "+ 2 No"
   ]
  },
  {
   "cell_type": "code",
   "execution_count": 26,
   "metadata": {
    "scrolled": false
   },
   "outputs": [
    {
     "data": {
      "text/plain": [
       "1    154799\n",
       "2      5668\n",
       "Name: excusado, dtype: int64"
      ]
     },
     "execution_count": 26,
     "metadata": {},
     "output_type": "execute_result"
    }
   ],
   "source": [
    "df_copy_vivienda.excusado = df_copy_vivienda.excusado.astype('category')\n",
    "df_copy_vivienda.excusado.value_counts()"
   ]
  },
  {
   "cell_type": "markdown",
   "metadata": {},
   "source": [
    "#### Uso compartido del sanitario  `uso_compar`\n",
    "Definición: Uso compartido de la instalación sanitaria con los habitantes de otra vivienda\n",
    "    \n",
    "Valor Etiqueta\n",
    "+ 1 Sí\n",
    "+ 2 No"
   ]
  },
  {
   "cell_type": "code",
   "execution_count": 27,
   "metadata": {
    "scrolled": true
   },
   "outputs": [
    {
     "data": {
      "text/plain": [
       "2      107407\n",
       "2.0     40282\n",
       "1        5057\n",
       "         4217\n",
       "1.0      2053\n",
       "Name: uso_compar, dtype: int64"
      ]
     },
     "execution_count": 27,
     "metadata": {},
     "output_type": "execute_result"
    }
   ],
   "source": [
    "df_copy_vivienda.uso_compar = df_copy_vivienda.uso_compar.astype('category')\n",
    "df_copy_vivienda.uso_compar.value_counts()"
   ]
  },
  {
   "cell_type": "code",
   "execution_count": 28,
   "metadata": {},
   "outputs": [
    {
     "data": {
      "text/plain": [
       "{' ': '&', '1': 1, 1: 1, '1.0': 1, '2': 2, 2: 2, '2.0': 2}"
      ]
     },
     "execution_count": 28,
     "metadata": {},
     "output_type": "execute_result"
    }
   ],
   "source": [
    "cat_uso_compar = {'1': 1, '1.0': 1, 1 : 1,\n",
    "                 '2': 2, '2.0': 2, 2 : 2,\n",
    "                 ' ': '&'}\n",
    "\n",
    "#type(cat_mat_pisos)\n",
    "cat_uso_compar"
   ]
  },
  {
   "cell_type": "code",
   "execution_count": 29,
   "metadata": {},
   "outputs": [
    {
     "data": {
      "text/plain": [
       "2    147689\n",
       "1      7110\n",
       "&      4217\n",
       "Name: uso_compar, dtype: int64"
      ]
     },
     "execution_count": 29,
     "metadata": {},
     "output_type": "execute_result"
    }
   ],
   "source": [
    "df_copy_vivienda.uso_compar.replace(cat_uso_compar, inplace=True)\n",
    "df_copy_vivienda.uso_compar.value_counts()"
   ]
  },
  {
   "cell_type": "markdown",
   "metadata": {},
   "source": [
    "#### Sanitario conexión agua `sanit_agua` \n",
    "Definición: Funcionamiento de la instalación sanitaria con o sin conexión de agua.\n",
    "    \n",
    "Valor Etiqueta\n",
    "+ 1 Tiene descarga directa de agua\n",
    "+ 2 Le echan agua con cubeta\n",
    "+ 3 No se le puede echar agua"
   ]
  },
  {
   "cell_type": "code",
   "execution_count": 30,
   "metadata": {
    "scrolled": true
   },
   "outputs": [
    {
     "data": {
      "text/plain": [
       "1      80198\n",
       "1.0    29882\n",
       "2      26948\n",
       "2.0    10321\n",
       "3       5318\n",
       "        4217\n",
       "3.0     2132\n",
       "Name: sanit_agua, dtype: int64"
      ]
     },
     "execution_count": 30,
     "metadata": {},
     "output_type": "execute_result"
    }
   ],
   "source": [
    "df_copy_vivienda.sanit_agua = df_copy_vivienda.sanit_agua.astype('category')\n",
    "df_copy_vivienda.sanit_agua.value_counts()"
   ]
  },
  {
   "cell_type": "code",
   "execution_count": 31,
   "metadata": {},
   "outputs": [
    {
     "data": {
      "text/plain": [
       "{' ': '&',\n",
       " '1': 1,\n",
       " 1: 1,\n",
       " '1.0': 1,\n",
       " '2': 2,\n",
       " 2: 2,\n",
       " '2.0': 2,\n",
       " '3': 3,\n",
       " 3: 3,\n",
       " '3.0': 3}"
      ]
     },
     "execution_count": 31,
     "metadata": {},
     "output_type": "execute_result"
    }
   ],
   "source": [
    "cat_sanit_agua = {'1': 1, '1.0': 1, 1 : 1,\n",
    "                  '2': 2, '2.0': 2, 2 : 2,\n",
    "                  '3': 3, '3.0': 3, 3 : 3,\n",
    "                  ' ': '&'}\n",
    "\n",
    "#type(cat_mat_pisos)\n",
    "cat_sanit_agua"
   ]
  },
  {
   "cell_type": "code",
   "execution_count": 32,
   "metadata": {},
   "outputs": [
    {
     "data": {
      "text/plain": [
       "1    110080\n",
       "2     37269\n",
       "3      7450\n",
       "&      4217\n",
       "Name: sanit_agua, dtype: int64"
      ]
     },
     "execution_count": 32,
     "metadata": {},
     "output_type": "execute_result"
    }
   ],
   "source": [
    "df_copy_vivienda.sanit_agua.replace(cat_sanit_agua, inplace=True)\n",
    "df_copy_vivienda.sanit_agua.value_counts()"
   ]
  },
  {
   "cell_type": "markdown",
   "metadata": {},
   "source": [
    "#### Sanitario excusado regadera `bano_comp`\n",
    "Definición: Número de baños con excusado y regadera.\n",
    "    \n",
    "Valor Etiqueta\n",
    "+ 1+"
   ]
  },
  {
   "cell_type": "code",
   "execution_count": 33,
   "metadata": {
    "scrolled": true
   },
   "outputs": [
    {
     "data": {
      "text/plain": [
       "1                        86412\n",
       "0                        42643\n",
       "2                        20664\n",
       "                          4217\n",
       "3                         3886\n",
       "1.79769313486232e+308     1451\n",
       "4                          901\n",
       "5                          216\n",
       "6                           56\n",
       "7                           13\n",
       "8                            5\n",
       "9                            3\n",
       "Name: bano_comp, dtype: int64"
      ]
     },
     "execution_count": 33,
     "metadata": {},
     "output_type": "execute_result"
    }
   ],
   "source": [
    "df_copy_vivienda.bano_comp = df_copy_vivienda.bano_comp.astype('category')\n",
    "df_copy_vivienda.bano_comp.value_counts()"
   ]
  },
  {
   "cell_type": "code",
   "execution_count": 34,
   "metadata": {},
   "outputs": [
    {
     "data": {
      "text/plain": [
       "{' ': '&', '1.79769313486232e+308': '&'}"
      ]
     },
     "execution_count": 34,
     "metadata": {},
     "output_type": "execute_result"
    }
   ],
   "source": [
    "# hay 12 categorías donde debería haber 5, entonces se crea un diccionario para solucionarlo\n",
    "cat_bano_comp = {' ': '&', \n",
    "                 '1.79769313486232e+308' : '&'}\n",
    "cat_bano_comp"
   ]
  },
  {
   "cell_type": "code",
   "execution_count": 35,
   "metadata": {},
   "outputs": [
    {
     "data": {
      "text/plain": [
       "1    86412\n",
       "0    42643\n",
       "2    20664\n",
       "&     5668\n",
       "3     3886\n",
       "4      901\n",
       "5      216\n",
       "6       56\n",
       "7       13\n",
       "8        5\n",
       "9        3\n",
       "Name: bano_comp, dtype: int64"
      ]
     },
     "execution_count": 35,
     "metadata": {},
     "output_type": "execute_result"
    }
   ],
   "source": [
    "df_copy_vivienda.bano_comp.replace(cat_bano_comp, inplace=True)\n",
    "df_copy_vivienda.bano_comp.value_counts()"
   ]
  },
  {
   "cell_type": "markdown",
   "metadata": {},
   "source": [
    "#### Sanitario excusado `bano_excus`\n",
    "Definición: Número de baños sólo con excusado.\n",
    "    \n",
    "Valor Etiqueta\n",
    "+ 1+"
   ]
  },
  {
   "cell_type": "code",
   "execution_count": 36,
   "metadata": {
    "scrolled": true
   },
   "outputs": [
    {
     "data": {
      "text/plain": [
       "0                        94308\n",
       "1                        57388\n",
       "                          4217\n",
       "2                         2772\n",
       "1.79769313486232e+308     1451\n",
       "3                          184\n",
       "9                           73\n",
       "4                           41\n",
       "8                           20\n",
       "5                            7\n",
       "6                            6\n",
       "Name: bano_excus, dtype: int64"
      ]
     },
     "execution_count": 36,
     "metadata": {},
     "output_type": "execute_result"
    }
   ],
   "source": [
    "df_copy_vivienda.bano_excus = df_copy_vivienda.bano_excus.astype('category')\n",
    "df_copy_vivienda.bano_excus.value_counts()"
   ]
  },
  {
   "cell_type": "code",
   "execution_count": 37,
   "metadata": {},
   "outputs": [
    {
     "data": {
      "text/plain": [
       "{' ': '&', '1.79769313486232e+308': '&'}"
      ]
     },
     "execution_count": 37,
     "metadata": {},
     "output_type": "execute_result"
    }
   ],
   "source": [
    "cat_bano_excus = {' ': '&', \n",
    "                 '1.79769313486232e+308' : '&'}\n",
    "cat_bano_excus"
   ]
  },
  {
   "cell_type": "code",
   "execution_count": 38,
   "metadata": {},
   "outputs": [
    {
     "data": {
      "text/plain": [
       "0    94308\n",
       "1    57388\n",
       "&     5668\n",
       "2     2772\n",
       "3      184\n",
       "9       73\n",
       "4       41\n",
       "8       20\n",
       "5        7\n",
       "6        6\n",
       "Name: bano_excus, dtype: int64"
      ]
     },
     "execution_count": 38,
     "metadata": {},
     "output_type": "execute_result"
    }
   ],
   "source": [
    "df_copy_vivienda.bano_excus.replace(cat_bano_excus, inplace=True)\n",
    "df_copy_vivienda.bano_excus.value_counts()"
   ]
  },
  {
   "cell_type": "markdown",
   "metadata": {},
   "source": [
    "#### Sanitario regadera `bano_regad`\n",
    "Definición: Número de baños sólo con regadera.\n",
    "    \n",
    "Valor Etiqueta\n",
    "+ 1+"
   ]
  },
  {
   "cell_type": "code",
   "execution_count": 39,
   "metadata": {
    "scrolled": true
   },
   "outputs": [
    {
     "data": {
      "text/plain": [
       "0                        150563\n",
       "                           4217\n",
       "1                          4043\n",
       "1.79769313486232e+308      1451\n",
       "9                            83\n",
       "2                            80\n",
       "8                            20\n",
       "3                             9\n",
       "4                             1\n",
       "Name: bano_regad, dtype: int64"
      ]
     },
     "execution_count": 39,
     "metadata": {},
     "output_type": "execute_result"
    }
   ],
   "source": [
    "df_copy_vivienda.bano_regad = df_copy_vivienda.bano_regad.astype('category')\n",
    "df_copy_vivienda.bano_regad.value_counts()"
   ]
  },
  {
   "cell_type": "code",
   "execution_count": 40,
   "metadata": {},
   "outputs": [
    {
     "data": {
      "text/plain": [
       "{' ': '&', '1.79769313486232e+308': '&'}"
      ]
     },
     "execution_count": 40,
     "metadata": {},
     "output_type": "execute_result"
    }
   ],
   "source": [
    "# hay 12 categorías donde debería haber 5, entonces se crea un diccionario para solucionarlo\n",
    "cat_bano_regad = {' ': '&', \n",
    "                 '1.79769313486232e+308' : '&'}\n",
    "cat_bano_regad"
   ]
  },
  {
   "cell_type": "code",
   "execution_count": 41,
   "metadata": {},
   "outputs": [
    {
     "data": {
      "text/plain": [
       "0    150563\n",
       "&      5668\n",
       "1      4043\n",
       "9        83\n",
       "2        80\n",
       "8        20\n",
       "3         9\n",
       "4         1\n",
       "Name: bano_regad, dtype: int64"
      ]
     },
     "execution_count": 41,
     "metadata": {},
     "output_type": "execute_result"
    }
   ],
   "source": [
    "df_copy_vivienda.bano_regad.replace(cat_bano_regad, inplace=True)\n",
    "df_copy_vivienda.bano_regad.value_counts()"
   ]
  },
  {
   "cell_type": "markdown",
   "metadata": {},
   "source": [
    "#### Destino de drenaje `drenaje`\n",
    "Definición: Disponibilidad de un sistema de drenaje para desalojar de la vivienda los desechos humanos y las aguas utilizadas.\n",
    "    \n",
    "Valor Etiqueta\n",
    "+ 1 La red pública\n",
    "+ 2 Una fosa séptica\n",
    "+ 3 Una tubería que va a dar a una barranca o grieta\n",
    "+ 4 Una tubería que va a dar a un río, lago o mar\n",
    "+ 5 No tiene drenaje"
   ]
  },
  {
   "cell_type": "code",
   "execution_count": 42,
   "metadata": {
    "scrolled": true
   },
   "outputs": [
    {
     "data": {
      "text/plain": [
       "1    114883\n",
       "2     33666\n",
       "5     10283\n",
       "3      1104\n",
       "4       531\n",
       "Name: drenaje, dtype: int64"
      ]
     },
     "execution_count": 42,
     "metadata": {},
     "output_type": "execute_result"
    }
   ],
   "source": [
    "df_copy_vivienda.drenaje = df_copy_vivienda.drenaje.astype('category')\n",
    "df_copy_vivienda.drenaje.value_counts()"
   ]
  },
  {
   "cell_type": "markdown",
   "metadata": {},
   "source": [
    "#### Disponibilidad eléctrica `disp_elect`\n",
    "Definición: Fuente de donde se obtiene la energía eléctrica en la vivienda.\n",
    "    \n",
    "Valor Etiqueta\n",
    "+ 1 Del servicio público\n",
    "+ 2 De una planta particular\n",
    "+ 3 De panel solar\n",
    "+ 4 De otra fuente\n",
    "+ 5 No tiene luz eléctrica"
   ]
  },
  {
   "cell_type": "code",
   "execution_count": 43,
   "metadata": {
    "scrolled": true
   },
   "outputs": [
    {
     "data": {
      "text/plain": [
       "1    158964\n",
       "5      1036\n",
       "3       317\n",
       "2       105\n",
       "4        45\n",
       "Name: disp_elect, dtype: int64"
      ]
     },
     "execution_count": 43,
     "metadata": {},
     "output_type": "execute_result"
    }
   ],
   "source": [
    "df_copy_vivienda.disp_elect = df_copy_vivienda.disp_elect.astype('category')\n",
    "df_copy_vivienda.disp_elect.value_counts()"
   ]
  },
  {
   "cell_type": "markdown",
   "metadata": {},
   "source": [
    "#### Año panel solar `anio_panel`\n",
    "Definición: Año en el que adquirieron el panel solar\n",
    "    \n",
    "Valor Etiqueta\n",
    "+ 1+"
   ]
  },
  {
   "cell_type": "code",
   "execution_count": 203,
   "metadata": {
    "scrolled": true
   },
   "outputs": [
    {
     "data": {
      "text/plain": [
       "&       160379\n",
       "2015        16\n",
       "2010        14\n",
       "2013         8\n",
       "2014         7\n",
       "Name: anio_panel, dtype: int64"
      ]
     },
     "execution_count": 203,
     "metadata": {},
     "output_type": "execute_result"
    }
   ],
   "source": [
    "df_copy_vivienda.anio_panel = df_copy_vivienda.anio_panel.astype('category')\n",
    "df_copy_vivienda.anio_panel.value_counts(sort=True, ascending=False).head()"
   ]
  },
  {
   "cell_type": "markdown",
   "metadata": {},
   "source": [
    "#### Desconoce año de adquisición `panel_ne`\n",
    "Definición: Desconoce el año en el año en el que adquirieron el panel solar.\n",
    "    \n",
    "Valor Etiqueta\n",
    "+ & "
   ]
  },
  {
   "cell_type": "code",
   "execution_count": 205,
   "metadata": {
    "scrolled": true
   },
   "outputs": [
    {
     "data": {
      "text/plain": [
       "&    160443\n",
       "9        24\n",
       "Name: panel_ne, dtype: int64"
      ]
     },
     "execution_count": 205,
     "metadata": {},
     "output_type": "execute_result"
    }
   ],
   "source": [
    "df_copy_vivienda.panel_ne = df_copy_vivienda.panel_ne.astype('category')\n",
    "df_copy_vivienda.panel_ne.value_counts(sort=True, ascending=False).head()"
   ]
  },
  {
   "cell_type": "markdown",
   "metadata": {},
   "source": [
    "#### Conocimiento en potencia instalada  `pot_panel`\n",
    "Definición: Conocimiento referente a la potencia instalada del panel solar. \n",
    "    \n",
    "Valor Etiqueta\n",
    "+ 1 Sí\n",
    "+ 2 No"
   ]
  },
  {
   "cell_type": "code",
   "execution_count": 206,
   "metadata": {
    "scrolled": true
   },
   "outputs": [
    {
     "data": {
      "text/plain": [
       "&    160355\n",
       "2        87\n",
       "1        25\n",
       "Name: pot_panel, dtype: int64"
      ]
     },
     "execution_count": 206,
     "metadata": {},
     "output_type": "execute_result"
    }
   ],
   "source": [
    "df_copy_vivienda.pot_panel = df_copy_vivienda.pot_panel.astype('category')\n",
    "df_copy_vivienda.pot_panel.value_counts(sort=True, ascending=False).head()"
   ]
  },
  {
   "cell_type": "markdown",
   "metadata": {},
   "source": [
    "#### Potencia instalada `potencia`\n",
    "Definición: Potencia instalada en el panel solar, medida en kW.\n",
    "    \n",
    "Valor Etiqueta\n",
    "+ 1 Del servicio público\n",
    "+ 2 De una planta particular\n",
    "+ 3 De panel solar\n",
    "+ 4 De otra fuente\n",
    "+ 5 No tiene luz eléctrica"
   ]
  },
  {
   "cell_type": "code",
   "execution_count": 80,
   "metadata": {
    "scrolled": true
   },
   "outputs": [
    {
     "data": {
      "text/plain": [
       "&      160301\n",
       "135        25\n",
       "120        14\n",
       "600        13\n",
       "75         12\n",
       "Name: potencia, dtype: int64"
      ]
     },
     "execution_count": 80,
     "metadata": {},
     "output_type": "execute_result"
    }
   ],
   "source": [
    "df_copy_vivienda.potencia = df_copy_vivienda.potencia.astype('category')\n",
    "df_copy_vivienda.potencia.value_counts(sort=True, ascending=False).head()"
   ]
  },
  {
   "cell_type": "code",
   "execution_count": 45,
   "metadata": {},
   "outputs": [
    {
     "data": {
      "text/plain": [
       "{' ': '&', '-1': '&', '1.79769313486232e+308': '&'}"
      ]
     },
     "execution_count": 45,
     "metadata": {},
     "output_type": "execute_result"
    }
   ],
   "source": [
    "# hay 12 categorías donde debería haber 5, entonces se crea un diccionario para solucionarlo\n",
    "cat_potencia = {' ': '&', \n",
    "                 '1.79769313486232e+308' : '&',\n",
    "               '-1' : '&'}\n",
    "cat_potencia"
   ]
  },
  {
   "cell_type": "code",
   "execution_count": 71,
   "metadata": {},
   "outputs": [
    {
     "data": {
      "text/plain": [
       "&      160301\n",
       "135        25\n",
       "120        14\n",
       "600        13\n",
       "75         12\n",
       "Name: potencia, dtype: int64"
      ]
     },
     "execution_count": 71,
     "metadata": {},
     "output_type": "execute_result"
    }
   ],
   "source": [
    "df_copy_vivienda.potencia.replace(cat_potencia, inplace=True)\n",
    "df_copy_vivienda.potencia.value_counts(sort=True, ascending=False).head()"
   ]
  },
  {
   "cell_type": "markdown",
   "metadata": {},
   "source": [
    "#### Número de focos incandescente `focos_inca`\n",
    "Definición: Número de focos incandescentes que se usan para iluminar la vivienda, tanto en el interior como en el exterior.\n",
    "    \n",
    "Valor Etiqueta\n",
    "+ 1+"
   ]
  },
  {
   "cell_type": "code",
   "execution_count": 182,
   "metadata": {
    "scrolled": true
   },
   "outputs": [
    {
     "data": {
      "text/plain": [
       "0    82148\n",
       "2    16433\n",
       "1    14922\n",
       "3    13641\n",
       "4    10977\n",
       "Name: focos_inca, dtype: int64"
      ]
     },
     "execution_count": 182,
     "metadata": {},
     "output_type": "execute_result"
    }
   ],
   "source": [
    "df_copy_vivienda.focos_inca = df_copy_vivienda.focos_inca.astype('category')\n",
    "df_copy_vivienda.focos_inca.value_counts(sort=True, ascending=False).head()"
   ]
  },
  {
   "cell_type": "markdown",
   "metadata": {},
   "source": [
    "#### Número de focos ahorradores `focos_ahor`\n",
    "Definición: Número de focos ahorradores que se usan para iluminar la vivienda, tanto en el interior como en el exterior.\n",
    "    \n",
    "Valor Etiqueta\n",
    "+ 1+"
   ]
  },
  {
   "cell_type": "code",
   "execution_count": 183,
   "metadata": {
    "scrolled": true
   },
   "outputs": [
    {
     "data": {
      "text/plain": [
       "0    27730\n",
       "4    16448\n",
       "5    15317\n",
       "3    15185\n",
       "6    14513\n",
       "Name: focos_ahor, dtype: int64"
      ]
     },
     "execution_count": 183,
     "metadata": {},
     "output_type": "execute_result"
    }
   ],
   "source": [
    "df_copy_vivienda.focos_ahor = df_copy_vivienda.focos_ahor.astype('category')\n",
    "df_copy_vivienda.focos_ahor.value_counts(sort=True, ascending=False).head()"
   ]
  },
  {
   "cell_type": "markdown",
   "metadata": {},
   "source": [
    "#### Tipo de combustible `combustible`\n",
    "Definición: Combustible más utilizado para preparar o calentar alimentos en la vivienda.\n",
    "    \n",
    "Valor Etiqueta\n",
    "+ 1 Leña\n",
    "+ 2 Carbón\n",
    "+ 3 Gas de tanque\n",
    "+ 4 Gas natural o de tubería\n",
    "+ 5 Electricidad\n",
    "+ 6 Otro combustible\n",
    "+ & representa un dato “No especificado”"
   ]
  },
  {
   "cell_type": "code",
   "execution_count": 77,
   "metadata": {
    "scrolled": true
   },
   "outputs": [
    {
     "data": {
      "text/plain": [
       "3    123283\n",
       "1     25130\n",
       "4      5110\n",
       "4      3002\n",
       "6      1132\n",
       "5       960\n",
       "5       704\n",
       "6       616\n",
       "2       356\n",
       "2       172\n",
       "&         2\n",
       "Name: combustible, dtype: int64"
      ]
     },
     "execution_count": 77,
     "metadata": {},
     "output_type": "execute_result"
    }
   ],
   "source": [
    "df_copy_vivienda.combustible = df_copy_vivienda.combustible.astype('category')\n",
    "df_copy_vivienda.combustible.value_counts(sort=True, ascending=False)"
   ]
  },
  {
   "cell_type": "code",
   "execution_count": 84,
   "metadata": {},
   "outputs": [
    {
     "data": {
      "text/plain": [
       "{'1': 1,\n",
       " 1: 1,\n",
       " '2': 2,\n",
       " 2: 2,\n",
       " '3': 3,\n",
       " 3: 3,\n",
       " '4': 4,\n",
       " 4: 4,\n",
       " '5': 5,\n",
       " 5: 5,\n",
       " '6': 6,\n",
       " 6: 6}"
      ]
     },
     "execution_count": 84,
     "metadata": {},
     "output_type": "execute_result"
    }
   ],
   "source": [
    "cat_combustible = {'1' : 1, 1: 1,\n",
    "                   '2': 2, 2 : 2,\n",
    "                   '3': 3, 3 : 3,\n",
    "                   '4' : 4, 4: 4,\n",
    "                   '5': 5, 5 : 5, \n",
    "                   '6': 6, 6 : 6}\n",
    "cat_combustible"
   ]
  },
  {
   "cell_type": "code",
   "execution_count": 86,
   "metadata": {},
   "outputs": [
    {
     "data": {
      "text/plain": [
       "3    123283\n",
       "1     25130\n",
       "4      8112\n",
       "6      1748\n",
       "5      1664\n",
       "2       528\n",
       "&         2\n",
       "Name: combustible, dtype: int64"
      ]
     },
     "execution_count": 86,
     "metadata": {},
     "output_type": "execute_result"
    }
   ],
   "source": [
    "df_copy_vivienda.combustible.replace(cat_combustible, inplace=True)\n",
    "df_copy_vivienda.combustible.value_counts(sort=True, ascending=False)"
   ]
  },
  {
   "cell_type": "markdown",
   "metadata": {},
   "source": [
    "#### Estufa con chimenea `estufa_chi`\n",
    "Definición: Presencia de chimenea para desalojar el humo al cocinar.\n",
    "    \n",
    "Valor Etiqueta\n",
    "+ 1 Sí\n",
    "+ 2 No"
   ]
  },
  {
   "cell_type": "code",
   "execution_count": 87,
   "metadata": {
    "scrolled": true
   },
   "outputs": [
    {
     "data": {
      "text/plain": [
       "       98259\n",
       "2      14419\n",
       "2.0     5667\n",
       "1       4003\n",
       "1.0     1569\n",
       "Name: estufa_chi, dtype: int64"
      ]
     },
     "execution_count": 87,
     "metadata": {},
     "output_type": "execute_result"
    }
   ],
   "source": [
    "df_copy_vivienda.estufa_chi = df_copy_vivienda.estufa_chi.astype('category')\n",
    "df_copy_vivienda.estufa_chi.value_counts(sort=True, ascending=False)"
   ]
  },
  {
   "cell_type": "code",
   "execution_count": 91,
   "metadata": {},
   "outputs": [
    {
     "data": {
      "text/plain": [
       "{' ': '&', '1': 1, 1: 1, '1.0': 1, '2': 2, 2: 2, '2.0': 2}"
      ]
     },
     "execution_count": 91,
     "metadata": {},
     "output_type": "execute_result"
    }
   ],
   "source": [
    "cat_estufa_chi = {'1.0' : 1, '1' : 1, 1 : 1,\n",
    "                   '2.0': 2, '2' : 2, 2 : 2,\n",
    "                   ' ': '&'}\n",
    "cat_estufa_chi"
   ]
  },
  {
   "cell_type": "code",
   "execution_count": 92,
   "metadata": {},
   "outputs": [
    {
     "data": {
      "text/plain": [
       "&    98259\n",
       "2    20086\n",
       "1     5572\n",
       "Name: estufa_chi, dtype: int64"
      ]
     },
     "execution_count": 92,
     "metadata": {},
     "output_type": "execute_result"
    }
   ],
   "source": [
    "df_copy_vivienda.estufa_chi.replace(cat_estufa_chi, inplace=True)\n",
    "df_copy_vivienda.estufa_chi.value_counts(sort=True, ascending=False)"
   ]
  },
  {
   "cell_type": "markdown",
   "metadata": {},
   "source": [
    "#### Eliminación de basura `eli_basura`\n",
    "Definición: Formas de eliminar la basura de la vivienda.\n",
    "    \n",
    "Valor Etiqueta\n",
    "+ 1 La recoge un camión o carrito de basura\n",
    "+ 2 La tiran en el basurero público\n",
    "+ 3 La tiran en un contenedor o depósito\n",
    "+ 4 La queman\n",
    "+ 5 La entierran\n",
    "+ 6 La tiran en un terreno baldío o calle\n",
    "+ 7 La tiran en barranca o grieta\n",
    "+ 8 La tiran al río, lago o mar"
   ]
  },
  {
   "cell_type": "code",
   "execution_count": 93,
   "metadata": {
    "scrolled": true
   },
   "outputs": [
    {
     "data": {
      "text/plain": [
       "1    127954\n",
       "3     12706\n",
       "4     12589\n",
       "2      5121\n",
       "5      1058\n",
       "6       807\n",
       "7       208\n",
       "8        24\n",
       "Name: eli_basura, dtype: int64"
      ]
     },
     "execution_count": 93,
     "metadata": {},
     "output_type": "execute_result"
    }
   ],
   "source": [
    "df_copy_vivienda.eli_basura = df_copy_vivienda.eli_basura.astype('category')\n",
    "df_copy_vivienda.eli_basura.value_counts(sort=True, ascending=False)"
   ]
  },
  {
   "cell_type": "markdown",
   "metadata": {},
   "source": [
    "#### Dispone de lavadero `lavadero`\n",
    "Definición: Lavadero\n",
    "    \n",
    "Valor Etiqueta\n",
    "+ 1 Sí\n",
    "+ 2 No"
   ]
  },
  {
   "cell_type": "code",
   "execution_count": 94,
   "metadata": {
    "scrolled": true
   },
   "outputs": [
    {
     "data": {
      "text/plain": [
       "1    133171\n",
       "2     27296\n",
       "Name: lavadero, dtype: int64"
      ]
     },
     "execution_count": 94,
     "metadata": {},
     "output_type": "execute_result"
    }
   ],
   "source": [
    "df_copy_vivienda.lavadero = df_copy_vivienda.lavadero.astype('category')\n",
    "df_copy_vivienda.lavadero.value_counts(sort=True, ascending=False)"
   ]
  },
  {
   "cell_type": "markdown",
   "metadata": {},
   "source": [
    "#### Dispone de fregadero `fregadero`\n",
    "Definición: Fregadero o tarja\n",
    "    \n",
    "Valor Etiqueta\n",
    "+ 1 Sí\n",
    "+ 2 No"
   ]
  },
  {
   "cell_type": "code",
   "execution_count": 95,
   "metadata": {
    "scrolled": true
   },
   "outputs": [
    {
     "data": {
      "text/plain": [
       "1    96441\n",
       "2    64026\n",
       "Name: fregadero, dtype: int64"
      ]
     },
     "execution_count": 95,
     "metadata": {},
     "output_type": "execute_result"
    }
   ],
   "source": [
    "df_copy_vivienda.fregadero = df_copy_vivienda.fregadero.astype('category')\n",
    "df_copy_vivienda.fregadero.value_counts(sort=True, ascending=False)"
   ]
  },
  {
   "cell_type": "markdown",
   "metadata": {},
   "source": [
    "#### Dispone de regadera `regadera`\n",
    "Definición: Regadera\n",
    "    \n",
    "Valor Etiqueta\n",
    "+ 1 Sí\n",
    "+ 2 No"
   ]
  },
  {
   "cell_type": "code",
   "execution_count": 97,
   "metadata": {
    "scrolled": true
   },
   "outputs": [
    {
     "data": {
      "text/plain": [
       "1    115227\n",
       "2     45240\n",
       "Name: regadera, dtype: int64"
      ]
     },
     "execution_count": 97,
     "metadata": {},
     "output_type": "execute_result"
    }
   ],
   "source": [
    "df_copy_vivienda.regadera = df_copy_vivienda.regadera.astype('category')\n",
    "df_copy_vivienda.regadera.value_counts(sort=True, ascending=False)"
   ]
  },
  {
   "cell_type": "markdown",
   "metadata": {},
   "source": [
    "#### Dispone de regadera eléctrica `rega_elect`\n",
    "Definición: Regadera eléctrica.\n",
    "    \n",
    "Valor Etiqueta\n",
    "+ 1 Sí\n",
    "+ 2 No"
   ]
  },
  {
   "cell_type": "code",
   "execution_count": 208,
   "metadata": {
    "scrolled": true
   },
   "outputs": [
    {
     "data": {
      "text/plain": [
       "&      102401\n",
       "2.0     56155\n",
       "1.0      1911\n",
       "Name: rega_elect, dtype: int64"
      ]
     },
     "execution_count": 208,
     "metadata": {},
     "output_type": "execute_result"
    }
   ],
   "source": [
    "df_copy_vivienda.rega_elect = df_copy_vivienda.rega_elect.astype('category')\n",
    "df_copy_vivienda.rega_elect.value_counts(sort=True, ascending=False)"
   ]
  },
  {
   "cell_type": "code",
   "execution_count": 209,
   "metadata": {},
   "outputs": [
    {
     "data": {
      "text/plain": [
       "{' ': '&', '1': 1, 1: 1, '1.0': 1, '2': 2, 2: 2, '2.0': 2}"
      ]
     },
     "execution_count": 209,
     "metadata": {},
     "output_type": "execute_result"
    }
   ],
   "source": [
    "cat_rega_elect = {'1.0' : 1, '1' : 1, 1 : 1,\n",
    "                   '2.0': 2, '2' : 2, 2 : 2,\n",
    "                   ' ': '&'}\n",
    "cat_rega_elect"
   ]
  },
  {
   "cell_type": "code",
   "execution_count": 210,
   "metadata": {},
   "outputs": [
    {
     "data": {
      "text/plain": [
       "&    102401\n",
       "2     56155\n",
       "1      1911\n",
       "Name: rega_elect, dtype: int64"
      ]
     },
     "execution_count": 210,
     "metadata": {},
     "output_type": "execute_result"
    }
   ],
   "source": [
    "df_copy_vivienda.rega_elect.replace(cat_rega_elect, inplace=True)\n",
    "df_copy_vivienda.rega_elect.value_counts(sort=True, ascending=False)"
   ]
  },
  {
   "cell_type": "markdown",
   "metadata": {},
   "source": [
    "#### Dispone de tinaco  `tinaco_azo`\n",
    "Definición: Tinaco en la azotea.\n",
    "    \n",
    "Valor Etiqueta\n",
    "+ 1 Sí\n",
    "+ 2 No"
   ]
  },
  {
   "cell_type": "code",
   "execution_count": 207,
   "metadata": {
    "scrolled": true
   },
   "outputs": [
    {
     "data": {
      "text/plain": [
       "1    90384\n",
       "2    70083\n",
       "Name: tinaco_azo, dtype: int64"
      ]
     },
     "execution_count": 207,
     "metadata": {},
     "output_type": "execute_result"
    }
   ],
   "source": [
    "df_copy_vivienda.tinaco_azo = df_copy_vivienda.tinaco_azo.astype('category')\n",
    "df_copy_vivienda.tinaco_azo.value_counts()"
   ]
  },
  {
   "cell_type": "markdown",
   "metadata": {},
   "source": [
    "#### Dispone de cisterna  `cisterna`\n",
    "Definición: Cisterna o aljibe.\n",
    "    \n",
    "Valor Etiqueta\n",
    "+ 1 Sí\n",
    "+ 2 No"
   ]
  },
  {
   "cell_type": "code",
   "execution_count": 98,
   "metadata": {
    "scrolled": true
   },
   "outputs": [
    {
     "data": {
      "text/plain": [
       "2    129183\n",
       "1     31284\n",
       "Name: cisterna, dtype: int64"
      ]
     },
     "execution_count": 98,
     "metadata": {},
     "output_type": "execute_result"
    }
   ],
   "source": [
    "df_copy_vivienda.cisterna = df_copy_vivienda.cisterna.astype('category')\n",
    "df_copy_vivienda.cisterna.value_counts(sort=True, ascending=False)"
   ]
  },
  {
   "cell_type": "markdown",
   "metadata": {},
   "source": [
    "#### pileta: Dispone de pileta o tanque  `pileta`\n",
    "Definición: Pileta, tanque o depósito de agua.\n",
    "    \n",
    "Valor Etiqueta\n",
    "+ 1 Sí\n",
    "+ 2 No"
   ]
  },
  {
   "cell_type": "code",
   "execution_count": 125,
   "metadata": {
    "scrolled": true
   },
   "outputs": [
    {
     "data": {
      "text/plain": [
       "2    91483\n",
       "1    68984\n",
       "Name: pileta, dtype: int64"
      ]
     },
     "execution_count": 125,
     "metadata": {},
     "output_type": "execute_result"
    }
   ],
   "source": [
    "df_copy_vivienda.pileta = df_copy_vivienda.pileta.astype('category')\n",
    "df_copy_vivienda.pileta.value_counts(sort=True, ascending=False)"
   ]
  },
  {
   "cell_type": "markdown",
   "metadata": {},
   "source": [
    "#### Dispone de calentador solar de agua  `calent_sol`\n",
    "Definición: Calentador de agua (boiler).\n",
    "    \n",
    "Valor Etiqueta\n",
    "+ 1 Sí\n",
    "+ 2 No"
   ]
  },
  {
   "cell_type": "code",
   "execution_count": 215,
   "metadata": {
    "scrolled": true
   },
   "outputs": [
    {
     "data": {
      "text/plain": [
       "&      102401\n",
       "2.0     55368\n",
       "1.0      2698\n",
       "Name: calent_sol, dtype: int64"
      ]
     },
     "execution_count": 215,
     "metadata": {},
     "output_type": "execute_result"
    }
   ],
   "source": [
    "df_copy_vivienda.calent_sol = df_copy_vivienda.calent_sol.astype('category')\n",
    "df_copy_vivienda.calent_sol.value_counts(sort=True, ascending=False)"
   ]
  },
  {
   "cell_type": "code",
   "execution_count": 217,
   "metadata": {},
   "outputs": [
    {
     "data": {
      "text/plain": [
       "{' ': '&', '1': 1, 1: 1, '1.0': 1, '2': 2, 2: 2, '2.0': 2}"
      ]
     },
     "execution_count": 217,
     "metadata": {},
     "output_type": "execute_result"
    }
   ],
   "source": [
    "cat_calent_sol = {'1.0' : 1, '1' : 1, 1 : 1,\n",
    "                   '2.0': 2, '2' : 2, 2 : 2,\n",
    "                   ' ': '&'}\n",
    "cat_calent_sol"
   ]
  },
  {
   "cell_type": "code",
   "execution_count": 218,
   "metadata": {},
   "outputs": [
    {
     "data": {
      "text/plain": [
       "&    102401\n",
       "2     55368\n",
       "1      2698\n",
       "Name: calent_sol, dtype: int64"
      ]
     },
     "execution_count": 218,
     "metadata": {},
     "output_type": "execute_result"
    }
   ],
   "source": [
    "df_copy_vivienda.calent_sol.replace(cat_calent_sol, inplace=True)\n",
    "df_copy_vivienda.calent_sol.value_counts(sort=True, ascending=False)"
   ]
  },
  {
   "cell_type": "markdown",
   "metadata": {},
   "source": [
    "#### Dispone de calentador de gas para el agua  `calent_gas`\n",
    "Definición: Calentador de gas u otros.\n",
    "    \n",
    "Valor Etiqueta\n",
    "+ 1 Sí\n",
    "+ 2 No"
   ]
  },
  {
   "cell_type": "code",
   "execution_count": 216,
   "metadata": {
    "scrolled": true
   },
   "outputs": [
    {
     "data": {
      "text/plain": [
       "&      102401\n",
       "2.0     34265\n",
       "1.0     23801\n",
       "Name: calent_gas, dtype: int64"
      ]
     },
     "execution_count": 216,
     "metadata": {},
     "output_type": "execute_result"
    }
   ],
   "source": [
    "df_copy_vivienda.calent_gas = df_copy_vivienda.calent_gas.astype('category')\n",
    "df_copy_vivienda.calent_gas.value_counts(sort=True, ascending=False)"
   ]
  },
  {
   "cell_type": "code",
   "execution_count": 219,
   "metadata": {},
   "outputs": [
    {
     "data": {
      "text/plain": [
       "{' ': '&', '1': 1, 1: 1, '1.0': 1, '2': 2, 2: 2, '2.0': 2}"
      ]
     },
     "execution_count": 219,
     "metadata": {},
     "output_type": "execute_result"
    }
   ],
   "source": [
    "cat_calent_gas = {'1.0' : 1, '1' : 1, 1 : 1,\n",
    "                   '2.0': 2, '2' : 2, 2 : 2,\n",
    "                   ' ': '&'}\n",
    "cat_calent_gas"
   ]
  },
  {
   "cell_type": "code",
   "execution_count": 221,
   "metadata": {},
   "outputs": [
    {
     "data": {
      "text/plain": [
       "&    102401\n",
       "2     34265\n",
       "1     23801\n",
       "Name: calent_gas, dtype: int64"
      ]
     },
     "execution_count": 221,
     "metadata": {},
     "output_type": "execute_result"
    }
   ],
   "source": [
    "df_copy_vivienda.calent_gas.replace(cat_calent_gas, inplace=True)\n",
    "df_copy_vivienda.calent_gas.value_counts(sort=True, ascending=False)"
   ]
  },
  {
   "cell_type": "markdown",
   "metadata": {},
   "source": [
    "#### Dispone de calentador de agua `calentador`\n",
    "Definición: Calentador de agua (boiler).\n",
    "    \n",
    "Valor Etiqueta\n",
    "+ 1 Sí\n",
    "+ 2 No"
   ]
  },
  {
   "cell_type": "code",
   "execution_count": 211,
   "metadata": {
    "scrolled": true
   },
   "outputs": [
    {
     "data": {
      "text/plain": [
       "&    58066\n",
       "2    56719\n",
       "1    45682\n",
       "Name: calentador, dtype: int64"
      ]
     },
     "execution_count": 211,
     "metadata": {},
     "output_type": "execute_result"
    }
   ],
   "source": [
    "#df_copy_vivienda.calentador = df_copy_vivienda.calentador.astype('category')\n",
    "df_copy_vivienda.calentador.value_counts(sort=True, ascending=False)"
   ]
  },
  {
   "cell_type": "code",
   "execution_count": 212,
   "metadata": {},
   "outputs": [
    {
     "data": {
      "text/plain": [
       "&    58066\n",
       "2    56719\n",
       "1    45682\n",
       "Name: calentador, dtype: int64"
      ]
     },
     "execution_count": 212,
     "metadata": {},
     "output_type": "execute_result"
    }
   ],
   "source": [
    "df_copy_vivienda.calentador = df_copy_vivienda.calentador.astype('category')\n",
    "df_copy_vivienda.calentador.value_counts(sort=True, ascending=False)"
   ]
  },
  {
   "cell_type": "code",
   "execution_count": 213,
   "metadata": {},
   "outputs": [
    {
     "data": {
      "text/plain": [
       "{1.0: 1, '1.0': 1, 2.0: 2, '2.0': 2}"
      ]
     },
     "execution_count": 213,
     "metadata": {},
     "output_type": "execute_result"
    }
   ],
   "source": [
    "cat_calentador = {1.0 : 1, '1.0' : 1, 1 : 1,\n",
    "                  2.0: 2, '2.0' : 2, 2 : 2}\n",
    "cat_calentador"
   ]
  },
  {
   "cell_type": "code",
   "execution_count": 214,
   "metadata": {},
   "outputs": [
    {
     "data": {
      "text/plain": [
       "&    58066\n",
       "2    56719\n",
       "1    45682\n",
       "Name: calentador, dtype: int64"
      ]
     },
     "execution_count": 214,
     "metadata": {},
     "output_type": "execute_result"
    }
   ],
   "source": [
    "df_copy_vivienda.calentador.replace(cat_calentador, inplace=True)\n",
    "df_copy_vivienda.calentador.value_counts(sort=True, ascending=False)"
   ]
  },
  {
   "cell_type": "markdown",
   "metadata": {},
   "source": [
    "#### Unión de variables `calentador` (2014-2015) -> `calent_gas` (2016)\n",
    "+ 1 (56719 + 45682) 102401\n",
    "+ 2 (34265 + 23801) 58066\n",
    "+ Total 160467"
   ]
  },
  {
   "cell_type": "code",
   "execution_count": 268,
   "metadata": {},
   "outputs": [],
   "source": [
    "temp_calentador_gas = []\n",
    "for index in range(len(df_copy_vivienda)):\n",
    "    if (df_copy_vivienda.calentador[index] == 1) & (df_copy_vivienda.calent_gas[index] == 1):\n",
    "        temp_calentador_gas.append('1')\n",
    "    elif (df_copy_vivienda.calentador[index] == 1) & (df_copy_vivienda.calent_gas[index] == '&'):\n",
    "        temp_calentador_gas.append('1')\n",
    "    elif (df_copy_vivienda.calentador[index] == '&') & (df_copy_vivienda.calent_gas[index] == 1):\n",
    "        temp_calentador_gas.append('1')\n",
    "    elif (df_copy_vivienda.calentador[index] == 2) & (df_copy_vivienda.calent_gas[index] == 2):\n",
    "        temp_calentador_gas.append('2')\n",
    "    elif (df_copy_vivienda.calentador[index] == 2) & (df_copy_vivienda.calent_gas[index] == '&'):\n",
    "        temp_calentador_gas.append('2')\n",
    "    elif (df_copy_vivienda.calentador[index] == '&') & (df_copy_vivienda.calent_gas[index] == 2):\n",
    "        temp_calentador_gas.append('2')\n",
    "    elif (df_copy_vivienda.calentador[index] == '&') & (df_copy_vivienda.calent_gas[index] == '&'):\n",
    "        temp_calentador_gas.append('&')"
   ]
  },
  {
   "cell_type": "code",
   "execution_count": 272,
   "metadata": {},
   "outputs": [
    {
     "data": {
      "text/plain": [
       "2    90984\n",
       "1    69483\n",
       "Name: calent_gas, dtype: int64"
      ]
     },
     "execution_count": 272,
     "metadata": {},
     "output_type": "execute_result"
    }
   ],
   "source": [
    "df_copy_vivienda.calent_gas = temp_calentador_gas\n",
    "df_copy_vivienda.calent_gas.value_counts()"
   ]
  },
  {
   "cell_type": "markdown",
   "metadata": {},
   "source": [
    "#### Dispone de medidor de luz `medidor_luz`\n",
    "Definición: Medidor de luz.\n",
    "    \n",
    "Valor Etiqueta\n",
    "+ 1 Sí\n",
    "+ 2 No"
   ]
  },
  {
   "cell_type": "code",
   "execution_count": 167,
   "metadata": {
    "scrolled": true
   },
   "outputs": [
    {
     "data": {
      "text/plain": [
       "1    149688\n",
       "2     10779\n",
       "Name: medidor_luz, dtype: int64"
      ]
     },
     "execution_count": 167,
     "metadata": {},
     "output_type": "execute_result"
    }
   ],
   "source": [
    "df_copy_vivienda.medidor_luz = df_copy_vivienda.medidor_luz.astype('category')\n",
    "df_copy_vivienda.medidor_luz.value_counts(sort=True, ascending=False)"
   ]
  },
  {
   "cell_type": "markdown",
   "metadata": {},
   "source": [
    "#### Dispone de bomba de agua `bomba_agua`\n",
    "Definición: Bomba de agua.\n",
    "    \n",
    "Valor Etiqueta\n",
    "+ 1 Sí\n",
    "+ 2 No"
   ]
  },
  {
   "cell_type": "code",
   "execution_count": 168,
   "metadata": {
    "scrolled": true
   },
   "outputs": [
    {
     "data": {
      "text/plain": [
       "2    122926\n",
       "1     37541\n",
       "Name: bomba_agua, dtype: int64"
      ]
     },
     "execution_count": 168,
     "metadata": {},
     "output_type": "execute_result"
    }
   ],
   "source": [
    "df_copy_vivienda.bomba_agua = df_copy_vivienda.bomba_agua.astype('category')\n",
    "df_copy_vivienda.bomba_agua.value_counts(sort=True, ascending=False)"
   ]
  },
  {
   "cell_type": "markdown",
   "metadata": {},
   "source": [
    "#### Dispone de tanque de gas estacionario `tanque_gas`\n",
    "Definición: Tanque de gas estacionario.\n",
    "    \n",
    "Valor Etiqueta\n",
    "+ 1 Sí\n",
    "+ 2 No"
   ]
  },
  {
   "cell_type": "code",
   "execution_count": 169,
   "metadata": {
    "scrolled": true
   },
   "outputs": [
    {
     "data": {
      "text/plain": [
       "2    144331\n",
       "1     16136\n",
       "Name: tanque_gas, dtype: int64"
      ]
     },
     "execution_count": 169,
     "metadata": {},
     "output_type": "execute_result"
    }
   ],
   "source": [
    "df_copy_vivienda.tanque_gas = df_copy_vivienda.tanque_gas.astype('category')\n",
    "df_copy_vivienda.tanque_gas.value_counts(sort=True, ascending=False)"
   ]
  },
  {
   "cell_type": "markdown",
   "metadata": {},
   "source": [
    "#### Dispone de aire acondicionado `aire_acond`\n",
    "Definición: Aire acondicionado.\n",
    "    \n",
    "Valor Etiqueta\n",
    "+ 1 Sí\n",
    "+ 2 No"
   ]
  },
  {
   "cell_type": "code",
   "execution_count": 170,
   "metadata": {
    "scrolled": true
   },
   "outputs": [
    {
     "data": {
      "text/plain": [
       "2    130717\n",
       "1     29750\n",
       "Name: aire_acond, dtype: int64"
      ]
     },
     "execution_count": 170,
     "metadata": {},
     "output_type": "execute_result"
    }
   ],
   "source": [
    "df_copy_vivienda.aire_acond = df_copy_vivienda.aire_acond.astype('category')\n",
    "df_copy_vivienda.aire_acond.value_counts(sort=True, ascending=False)"
   ]
  },
  {
   "cell_type": "markdown",
   "metadata": {},
   "source": [
    "#### Dispone de calefacción `calefacc`\n",
    "Definición: Calefacción.\n",
    "    \n",
    "Valor Etiqueta\n",
    "+ 1 Sí\n",
    "+ 2 No"
   ]
  },
  {
   "cell_type": "code",
   "execution_count": 171,
   "metadata": {
    "scrolled": true
   },
   "outputs": [
    {
     "data": {
      "text/plain": [
       "2    157091\n",
       "1      3376\n",
       "Name: calefacc, dtype: int64"
      ]
     },
     "execution_count": 171,
     "metadata": {},
     "output_type": "execute_result"
    }
   ],
   "source": [
    "df_copy_vivienda.calefacc = df_copy_vivienda.calefacc.astype('category')\n",
    "df_copy_vivienda.calefacc.value_counts(sort=True, ascending=False)"
   ]
  },
  {
   "cell_type": "markdown",
   "metadata": {},
   "source": [
    "#### Dispone de chimenea `chimenea`\n",
    "Definición: Chimenea o calentón de leña.\n",
    "    \n",
    "Valor Etiqueta\n",
    "+ 1 Sí\n",
    "+ 2 No"
   ]
  },
  {
   "cell_type": "code",
   "execution_count": 172,
   "metadata": {
    "scrolled": true
   },
   "outputs": [
    {
     "data": {
      "text/plain": [
       "2    155492\n",
       "1      4975\n",
       "Name: chimenea, dtype: int64"
      ]
     },
     "execution_count": 172,
     "metadata": {},
     "output_type": "execute_result"
    }
   ],
   "source": [
    "df_copy_vivienda.chimenea = df_copy_vivienda.chimenea.astype('category')\n",
    "df_copy_vivienda.chimenea.value_counts(sort=True, ascending=False)"
   ]
  },
  {
   "cell_type": "markdown",
   "metadata": {},
   "source": [
    "#### Reparar las paredes `repar_pard`\n",
    "Definición: Necesidad de reparar las paredes.\n",
    "    \n",
    "Valor Etiqueta\n",
    "+ 1 Sí\n",
    "+ 2 No"
   ]
  },
  {
   "cell_type": "code",
   "execution_count": 173,
   "metadata": {
    "scrolled": true
   },
   "outputs": [
    {
     "data": {
      "text/plain": [
       "2    84409\n",
       "1    76058\n",
       "Name: repar_pard, dtype: int64"
      ]
     },
     "execution_count": 173,
     "metadata": {},
     "output_type": "execute_result"
    }
   ],
   "source": [
    "df_copy_vivienda.repar_pard = df_copy_vivienda.repar_pard.astype('category')\n",
    "df_copy_vivienda.repar_pard.value_counts(sort=True, ascending=False)"
   ]
  },
  {
   "cell_type": "markdown",
   "metadata": {},
   "source": [
    "#### Reparar el techo `repar_tech`\n",
    "Definición: Necesidad de reparar el techo.\n",
    "    \n",
    "Valor Etiqueta\n",
    "+ 1 Sí\n",
    "+ 2 No"
   ]
  },
  {
   "cell_type": "code",
   "execution_count": 273,
   "metadata": {
    "scrolled": true
   },
   "outputs": [
    {
     "data": {
      "text/plain": [
       "2    83518\n",
       "1    76949\n",
       "Name: repar_tech, dtype: int64"
      ]
     },
     "execution_count": 273,
     "metadata": {},
     "output_type": "execute_result"
    }
   ],
   "source": [
    "df_copy_vivienda.repar_tech = df_copy_vivienda.repar_tech.astype('category')\n",
    "df_copy_vivienda.repar_tech.value_counts()"
   ]
  },
  {
   "cell_type": "markdown",
   "metadata": {},
   "source": [
    "#### Reparar las tuberías del agua `repar_agua`\n",
    "Definición: Necesidad de reparar las tuberías o llaves de agua.\n",
    "    \n",
    "Valor Etiqueta\n",
    "+ 1 Sí\n",
    "+ 2 No"
   ]
  },
  {
   "cell_type": "code",
   "execution_count": 274,
   "metadata": {
    "scrolled": true
   },
   "outputs": [
    {
     "data": {
      "text/plain": [
       "2    133586\n",
       "1     26881\n",
       "Name: repar_agua, dtype: int64"
      ]
     },
     "execution_count": 274,
     "metadata": {},
     "output_type": "execute_result"
    }
   ],
   "source": [
    "df_copy_vivienda.repar_agua = df_copy_vivienda.repar_agua.astype('category')\n",
    "df_copy_vivienda.repar_agua.value_counts()"
   ]
  },
  {
   "cell_type": "markdown",
   "metadata": {},
   "source": [
    "#### Reparar las tuberías del drenaje `repar_dren`\n",
    "Definición: Necesidad de reparar las tuberías del drenaje o instalaciones de excusado.\n",
    "    \n",
    "Valor Etiqueta\n",
    "+ 1 Sí\n",
    "+ 2 No"
   ]
  },
  {
   "cell_type": "code",
   "execution_count": 275,
   "metadata": {
    "scrolled": true
   },
   "outputs": [
    {
     "data": {
      "text/plain": [
       "2    140669\n",
       "1     19798\n",
       "Name: repar_dren, dtype: int64"
      ]
     },
     "execution_count": 275,
     "metadata": {},
     "output_type": "execute_result"
    }
   ],
   "source": [
    "df_copy_vivienda.repar_dren = df_copy_vivienda.repar_dren.astype('category')\n",
    "df_copy_vivienda.repar_dren.value_counts()"
   ]
  },
  {
   "cell_type": "markdown",
   "metadata": {},
   "source": [
    "#### Reparar el cableado eléctrico `repar_cabl`\n",
    "Definición: Necesidad de reparar el cableado eléctrico.\n",
    "    \n",
    "Valor Etiqueta\n",
    "+ 1 Sí\n",
    "+ 2 No"
   ]
  },
  {
   "cell_type": "code",
   "execution_count": 276,
   "metadata": {
    "scrolled": true
   },
   "outputs": [
    {
     "data": {
      "text/plain": [
       "2    125784\n",
       "1     34683\n",
       "Name: repar_cabl, dtype: int64"
      ]
     },
     "execution_count": 276,
     "metadata": {},
     "output_type": "execute_result"
    }
   ],
   "source": [
    "df_copy_vivienda.repar_cabl = df_copy_vivienda.repar_cabl.astype('category')\n",
    "df_copy_vivienda.repar_cabl.value_counts()"
   ]
  },
  {
   "cell_type": "markdown",
   "metadata": {},
   "source": [
    "#### Construir dormitorio `const_dorm`\n",
    "Definición: Necesidad de construir un cuarto para dormir.\n",
    "    \n",
    "Valor Etiqueta\n",
    "+ 1 Sí\n",
    "+ 2 No"
   ]
  },
  {
   "cell_type": "code",
   "execution_count": 277,
   "metadata": {
    "scrolled": true
   },
   "outputs": [
    {
     "data": {
      "text/plain": [
       "2    91171\n",
       "1    69296\n",
       "Name: const_dorm, dtype: int64"
      ]
     },
     "execution_count": 277,
     "metadata": {},
     "output_type": "execute_result"
    }
   ],
   "source": [
    "df_copy_vivienda.const_dorm = df_copy_vivienda.const_dorm.astype('category')\n",
    "df_copy_vivienda.const_dorm.value_counts()"
   ]
  },
  {
   "cell_type": "markdown",
   "metadata": {},
   "source": [
    "#### Construir cocina `const_coci`\n",
    "Definición: Necesidad de construir un cuarto para cocinar.\n",
    "    \n",
    "Valor Etiqueta\n",
    "+ 1 Sí\n",
    "+ 2 No"
   ]
  },
  {
   "cell_type": "code",
   "execution_count": 278,
   "metadata": {
    "scrolled": true
   },
   "outputs": [
    {
     "data": {
      "text/plain": [
       "2    113302\n",
       "1     47165\n",
       "Name: const_coci, dtype: int64"
      ]
     },
     "execution_count": 278,
     "metadata": {},
     "output_type": "execute_result"
    }
   ],
   "source": [
    "df_copy_vivienda.const_coci = df_copy_vivienda.const_coci.astype('category')\n",
    "df_copy_vivienda.const_coci.value_counts()"
   ]
  },
  {
   "cell_type": "code",
   "execution_count": 277,
   "metadata": {
    "scrolled": true
   },
   "outputs": [
    {
     "data": {
      "text/plain": [
       "2    91171\n",
       "1    69296\n",
       "Name: const_dorm, dtype: int64"
      ]
     },
     "execution_count": 277,
     "metadata": {},
     "output_type": "execute_result"
    }
   ],
   "source": [
    "df_copy_vivienda.const_dorm = df_copy_vivienda.const_dorm.astype('category')\n",
    "df_copy_vivienda.const_dorm.value_counts()"
   ]
  },
  {
   "cell_type": "markdown",
   "metadata": {},
   "source": [
    "#### Construir baño `const_bano`\n",
    "Definición: Necesidad de construir un cuarto de baño.\n",
    "    \n",
    "Valor Etiqueta\n",
    "+ 1 Sí\n",
    "+ 2 No"
   ]
  },
  {
   "cell_type": "code",
   "execution_count": 282,
   "metadata": {
    "scrolled": true
   },
   "outputs": [
    {
     "data": {
      "text/plain": [
       "2    103176\n",
       "1     57291\n",
       "Name: const_bano, dtype: int64"
      ]
     },
     "execution_count": 282,
     "metadata": {},
     "output_type": "execute_result"
    }
   ],
   "source": [
    "df_copy_vivienda.const_bano = df_copy_vivienda.const_bano.astype('category')\n",
    "df_copy_vivienda.const_bano.value_counts()"
   ]
  },
  {
   "cell_type": "markdown",
   "metadata": {},
   "source": [
    "#### Construir negocio `const_neg`\n",
    "Definición: Necesidad de construir un cuarto para un negocio.\n",
    "    \n",
    "Valor Etiqueta\n",
    "+ 1 Sí\n",
    "+ 2 No"
   ]
  },
  {
   "cell_type": "code",
   "execution_count": 279,
   "metadata": {
    "scrolled": true
   },
   "outputs": [
    {
     "data": {
      "text/plain": [
       "2.0    88072\n",
       "&      43786\n",
       "1.0    28609\n",
       "Name: const_neg, dtype: int64"
      ]
     },
     "execution_count": 279,
     "metadata": {},
     "output_type": "execute_result"
    }
   ],
   "source": [
    "df_copy_vivienda.const_neg = df_copy_vivienda.const_neg.astype('category')\n",
    "df_copy_vivienda.const_neg.value_counts()"
   ]
  },
  {
   "cell_type": "code",
   "execution_count": 280,
   "metadata": {},
   "outputs": [
    {
     "data": {
      "text/plain": [
       "{1.0: 1, '1.0': 1, 2.0: 2, '2.0': 2}"
      ]
     },
     "execution_count": 280,
     "metadata": {},
     "output_type": "execute_result"
    }
   ],
   "source": [
    "cat_const_neg = {1.0 : 1, '1.0' : 1, 1 : 1,\n",
    "                  2.0: 2, '2.0' : 2, 2 : 2}\n",
    "cat_const_neg"
   ]
  },
  {
   "cell_type": "code",
   "execution_count": 281,
   "metadata": {},
   "outputs": [
    {
     "data": {
      "text/plain": [
       "2    88072\n",
       "&    43786\n",
       "1    28609\n",
       "Name: const_neg, dtype: int64"
      ]
     },
     "execution_count": 281,
     "metadata": {},
     "output_type": "execute_result"
    }
   ],
   "source": [
    "df_copy_vivienda.const_neg.replace(cat_const_neg, inplace=True)\n",
    "df_copy_vivienda.const_neg.value_counts(sort=True, ascending=False)"
   ]
  },
  {
   "cell_type": "markdown",
   "metadata": {},
   "source": [
    "#### Tipo de tenencia de la vivienda `tenencia`\n",
    "Definición: Dominio o posesión legal de la vivienda por sus ocupantes.\n",
    "    \n",
    "Valor Etiqueta\n",
    "+ 1 Es rentada\n",
    "+ 2 Es prestada\n",
    "+ 3 Es propia pero la están pagando\n",
    "+ 4 Es propia\n",
    "+ 5 Está intestada o en litigio\n",
    "+ 6 Otra situación"
   ]
  },
  {
   "cell_type": "code",
   "execution_count": 283,
   "metadata": {
    "scrolled": true
   },
   "outputs": [
    {
     "data": {
      "text/plain": [
       "4    89460\n",
       "2    24382\n",
       "1    22113\n",
       "3    18466\n",
       "5     3660\n",
       "6     2386\n",
       "Name: tenencia, dtype: int64"
      ]
     },
     "execution_count": 283,
     "metadata": {},
     "output_type": "execute_result"
    }
   ],
   "source": [
    "df_copy_vivienda.tenencia = df_copy_vivienda.tenencia.astype('category')\n",
    "df_copy_vivienda.tenencia.value_counts()"
   ]
  },
  {
   "cell_type": "markdown",
   "metadata": {},
   "source": [
    "#### Pago de renta de vivienda `pago_renta`\n",
    "Definición: Pago de renta al mes por la vivienda habitada.\n",
    "    \n",
    "Valor Etiqueta\n",
    "+ 1+"
   ]
  },
  {
   "cell_type": "code",
   "execution_count": 285,
   "metadata": {
    "scrolled": true
   },
   "outputs": [
    {
     "data": {
      "text/plain": [
       "&       152341\n",
       "1000       912\n",
       "1500       873\n",
       "2000       650\n",
       "1200       566\n",
       "Name: pago_renta, dtype: int64"
      ]
     },
     "execution_count": 285,
     "metadata": {},
     "output_type": "execute_result"
    }
   ],
   "source": [
    "df_copy_vivienda.pago_renta = df_copy_vivienda.pago_renta.astype('category')\n",
    "df_copy_vivienda.pago_renta.value_counts().head()"
   ]
  },
  {
   "cell_type": "markdown",
   "metadata": {},
   "source": [
    "#### Refrigerador en vivienda rentada `ren_refri` : \n",
    "Definición: La vivienda en renta ya contaba con refrigerador.\n",
    "    \n",
    "Valor Etiqueta\n",
    "+ 1 Sí\n",
    "+ 2 No"
   ]
  },
  {
   "cell_type": "code",
   "execution_count": 287,
   "metadata": {
    "scrolled": true
   },
   "outputs": [
    {
     "data": {
      "text/plain": [
       "&    152341\n",
       "2      7739\n",
       "1       387\n",
       "Name: ren_refri, dtype: int64"
      ]
     },
     "execution_count": 287,
     "metadata": {},
     "output_type": "execute_result"
    }
   ],
   "source": [
    "df_copy_vivienda.ren_refri = df_copy_vivienda.ren_refri.astype('category')\n",
    "df_copy_vivienda.ren_refri.value_counts()"
   ]
  },
  {
   "cell_type": "markdown",
   "metadata": {},
   "source": [
    "#### Lavadora en vivienda rentada `ren_lavad`\n",
    "Definición: La vivienda en renta ya contaba con lavadora.\n",
    "    \n",
    "Valor Etiqueta\n",
    "+ 1 Sí\n",
    "+ 2 No"
   ]
  },
  {
   "cell_type": "code",
   "execution_count": 288,
   "metadata": {
    "scrolled": true
   },
   "outputs": [
    {
     "data": {
      "text/plain": [
       "&    152341\n",
       "2      7954\n",
       "1       172\n",
       "Name: ren_lavad, dtype: int64"
      ]
     },
     "execution_count": 288,
     "metadata": {},
     "output_type": "execute_result"
    }
   ],
   "source": [
    "df_copy_vivienda.ren_lavad = df_copy_vivienda.ren_lavad.astype('category')\n",
    "df_copy_vivienda.ren_lavad.value_counts()"
   ]
  },
  {
   "cell_type": "markdown",
   "metadata": {},
   "source": [
    "#### Televisión en vivienda rentada `ren_tv`\n",
    "Definición: La vivienda en renta ya contaba con televisión.\n",
    "    \n",
    "Valor Etiqueta\n",
    "+ 1 Sí\n",
    "+ 2 No"
   ]
  },
  {
   "cell_type": "code",
   "execution_count": 289,
   "metadata": {
    "scrolled": true
   },
   "outputs": [
    {
     "data": {
      "text/plain": [
       "&    152341\n",
       "2      7928\n",
       "1       198\n",
       "Name: ren_tv, dtype: int64"
      ]
     },
     "execution_count": 289,
     "metadata": {},
     "output_type": "execute_result"
    }
   ],
   "source": [
    "df_copy_vivienda.ren_tv = df_copy_vivienda.ren_tv.astype('category')\n",
    "df_copy_vivienda.ren_tv.value_counts()"
   ]
  },
  {
   "cell_type": "markdown",
   "metadata": {},
   "source": [
    "#### Horno de microondas en vivienda rentada `ren_horno`\n",
    "Definición: La vivienda en renta ya contaba con horno de microondas. \n",
    "    \n",
    "Valor Etiqueta\n",
    "+ 1 Sí\n",
    "+ 2 No"
   ]
  },
  {
   "cell_type": "code",
   "execution_count": 290,
   "metadata": {
    "scrolled": true
   },
   "outputs": [
    {
     "data": {
      "text/plain": [
       "&    152341\n",
       "2      7976\n",
       "1       150\n",
       "Name: ren_horno, dtype: int64"
      ]
     },
     "execution_count": 290,
     "metadata": {},
     "output_type": "execute_result"
    }
   ],
   "source": [
    "df_copy_vivienda.ren_horno = df_copy_vivienda.ren_horno.astype('category')\n",
    "df_copy_vivienda.ren_horno.value_counts()"
   ]
  },
  {
   "cell_type": "markdown",
   "metadata": {},
   "source": [
    "#### Plancha en vivienda rentada `ren_planch`\n",
    "Definición: La vivienda en renta ya contaba con plancha.\n",
    "    \n",
    "Valor Etiqueta\n",
    "+ 1 Sí\n",
    "+ 2 No"
   ]
  },
  {
   "cell_type": "code",
   "execution_count": 291,
   "metadata": {
    "scrolled": true
   },
   "outputs": [
    {
     "data": {
      "text/plain": [
       "&    152341\n",
       "2      8024\n",
       "1       102\n",
       "Name: ren_planch, dtype: int64"
      ]
     },
     "execution_count": 291,
     "metadata": {},
     "output_type": "execute_result"
    }
   ],
   "source": [
    "df_copy_vivienda.ren_planch = df_copy_vivienda.ren_planch.astype('category')\n",
    "df_copy_vivienda.ren_planch.value_counts()"
   ]
  },
  {
   "cell_type": "markdown",
   "metadata": {},
   "source": [
    "#### Estufa en vivienda rentada `ren_estufa`\n",
    "Definición: La vivienda en renta ya contaba con estufa.\n",
    "    \n",
    "Valor Etiqueta\n",
    "+ 1 Sí\n",
    "+ 2 No"
   ]
  },
  {
   "cell_type": "code",
   "execution_count": 292,
   "metadata": {
    "scrolled": true
   },
   "outputs": [
    {
     "data": {
      "text/plain": [
       "&    152341\n",
       "2      7481\n",
       "1       645\n",
       "Name: ren_estufa, dtype: int64"
      ]
     },
     "execution_count": 292,
     "metadata": {},
     "output_type": "execute_result"
    }
   ],
   "source": [
    "df_copy_vivienda.ren_estufa = df_copy_vivienda.ren_estufa.astype('category')\n",
    "df_copy_vivienda.ren_estufa.value_counts()"
   ]
  },
  {
   "cell_type": "markdown",
   "metadata": {},
   "source": [
    "#### Tipo de adquisición `tipo_adqui`\n",
    "Definición: Situación de la vivienda al momento de adquirirla.\n",
    "    \n",
    "Valor Etiqueta\n",
    "+ 1 La compró hecha\n",
    "+ 2 Compró el terreno y construyó\n",
    "+ 3 Ocupó el terreno y construyó\n",
    "+ 4 Heredó el terreno y construyó\n",
    "+ 5 Heredó la vivienda hecha\n",
    "+ 6 Le regalaron el terreno\n",
    "+ 7 Le regalaron la vivienda hecha\n",
    "+ 8 Ocupó la vivienda"
   ]
  },
  {
   "cell_type": "code",
   "execution_count": 293,
   "metadata": {
    "scrolled": true
   },
   "outputs": [
    {
     "data": {
      "text/plain": [
       "&      52541\n",
       "2      27500\n",
       "1      25605\n",
       "2.0    12576\n",
       "4      10256\n",
       "1.0     9904\n",
       "6       6440\n",
       "3.0     5779\n",
       "5       5115\n",
       "4.0     2632\n",
       "7       1229\n",
       "3        857\n",
       "8         33\n",
       "Name: tipo_adqui, dtype: int64"
      ]
     },
     "execution_count": 293,
     "metadata": {},
     "output_type": "execute_result"
    }
   ],
   "source": [
    "df_copy_vivienda.tipo_adqui = df_copy_vivienda.tipo_adqui.astype('category')\n",
    "df_copy_vivienda.tipo_adqui.value_counts()"
   ]
  },
  {
   "cell_type": "code",
   "execution_count": 295,
   "metadata": {},
   "outputs": [
    {
     "data": {
      "text/plain": [
       "{'1': 1,\n",
       " '1.0': 1,\n",
       " 1.0: 1,\n",
       " '2': 2,\n",
       " '2.0': 8,\n",
       " 2.0: 2,\n",
       " '3.0': 3,\n",
       " 3.0: 2,\n",
       " '4.0': 4,\n",
       " 4.0: 2,\n",
       " '5.0': 5,\n",
       " 5.0: 2,\n",
       " 6.0: 2,\n",
       " 7.0: 2,\n",
       " 8.0: 2}"
      ]
     },
     "execution_count": 295,
     "metadata": {},
     "output_type": "execute_result"
    }
   ],
   "source": [
    "cat_tipo_adqui = {'1.0' : 1, '1' : 1, 1.0 : 1,\n",
    "                  '2.0': 2, '2' : 2, 2.0 : 2,\n",
    "                  '3.0': 3, '2' : 2, 3.0 : 2,\n",
    "                  '4.0': 4, '2' : 2, 4.0 : 2,\n",
    "                  '5.0': 5, '2' : 2, 5.0 : 2,\n",
    "                  '2.0': 6, '2' : 2, 6.0 : 2,\n",
    "                  '2.0': 7, '2' : 2, 7.0 : 2,\n",
    "                  '2.0': 8, '2' : 2, 8.0 : 2}\n",
    "cat_tipo_adqui"
   ]
  },
  {
   "cell_type": "code",
   "execution_count": 296,
   "metadata": {},
   "outputs": [
    {
     "data": {
      "text/plain": [
       "&    52541\n",
       "2    48487\n",
       "1    35509\n",
       "4    10256\n",
       "6     6440\n",
       "5     5115\n",
       "7     1229\n",
       "3      857\n",
       "8       33\n",
       "Name: tipo_adqui, dtype: int64"
      ]
     },
     "execution_count": 296,
     "metadata": {},
     "output_type": "execute_result"
    }
   ],
   "source": [
    "df_copy_vivienda.tipo_adqui.replace(cat_tipo_adqui, inplace=True)\n",
    "df_copy_vivienda.tipo_adqui.value_counts(sort=True, ascending=False)"
   ]
  },
  {
   "cell_type": "markdown",
   "metadata": {},
   "source": [
    "#### Compró la vivienda usada `viv_usada`\n",
    "Definición: Estado de la vivienda al momento de adquirirla.\n",
    "    \n",
    "Valor Etiqueta\n",
    "+ 1 Sí\n",
    "+ 2 No"
   ]
  },
  {
   "cell_type": "code",
   "execution_count": 297,
   "metadata": {
    "scrolled": true
   },
   "outputs": [
    {
     "data": {
      "text/plain": [
       "&      118614\n",
       "1       16176\n",
       "2       15679\n",
       "2.0      5978\n",
       "1.0      3926\n",
       "9          94\n",
       "Name: viv_usada, dtype: int64"
      ]
     },
     "execution_count": 297,
     "metadata": {},
     "output_type": "execute_result"
    }
   ],
   "source": [
    "df_copy_vivienda.viv_usada = df_copy_vivienda.viv_usada.astype('category')\n",
    "df_copy_vivienda.viv_usada.value_counts()"
   ]
  },
  {
   "cell_type": "code",
   "execution_count": 298,
   "metadata": {},
   "outputs": [
    {
     "data": {
      "text/plain": [
       "{'1': 1,\n",
       " '1.0': 1,\n",
       " 1.0: 1,\n",
       " '2': 2,\n",
       " '2.0': 8,\n",
       " 2.0: 2,\n",
       " '3.0': 3,\n",
       " 3.0: 2,\n",
       " '4.0': 4,\n",
       " 4.0: 2,\n",
       " '5.0': 5,\n",
       " 5.0: 2,\n",
       " 6.0: 2,\n",
       " 7.0: 2,\n",
       " 8.0: 2,\n",
       " '9': '&',\n",
       " '9.0': '&',\n",
       " 9.0: '&'}"
      ]
     },
     "execution_count": 298,
     "metadata": {},
     "output_type": "execute_result"
    }
   ],
   "source": [
    "cat_viv_usada = {'1.0' : 1, '1' : 1, 1.0 : 1,\n",
    "                  '2.0': 2, '2' : 2, 2.0 : 2,\n",
    "                  '3.0': 3, '2' : 2, 3.0 : 2,\n",
    "                  '4.0': 4, '2' : 2, 4.0 : 2,\n",
    "                  '5.0': 5, '2' : 2, 5.0 : 2,\n",
    "                  '2.0': 6, '2' : 2, 6.0 : 2,\n",
    "                  '2.0': 7, '2' : 2, 7.0 : 2,\n",
    "                  '2.0': 8, '2' : 2, 8.0 : 2,\n",
    "                  '9.0': '&', '9' : '&', 9.0 : '&'}\n",
    "cat_viv_usada"
   ]
  },
  {
   "cell_type": "code",
   "execution_count": 299,
   "metadata": {},
   "outputs": [
    {
     "data": {
      "text/plain": [
       "&    118708\n",
       "2     21657\n",
       "1     20102\n",
       "Name: viv_usada, dtype: int64"
      ]
     },
     "execution_count": 299,
     "metadata": {},
     "output_type": "execute_result"
    }
   ],
   "source": [
    "df_copy_vivienda.viv_usada.replace(cat_viv_usada, inplace=True)\n",
    "df_copy_vivienda.viv_usada.value_counts(sort=True, ascending=False)"
   ]
  },
  {
   "cell_type": "markdown",
   "metadata": {},
   "source": [
    "#### Recursos propios `financia_1`\n",
    "Definición: Para pagar o construir esta vivienda el dueño uso sus propios recursos.\n",
    "    \n",
    "Valor Etiqueta\n",
    "+ 1 Sí\n",
    "+ & representa un dato “No especificado”."
   ]
  },
  {
   "cell_type": "code",
   "execution_count": 300,
   "metadata": {
    "scrolled": true
   },
   "outputs": [
    {
     "data": {
      "text/plain": [
       "&    111109\n",
       "1     49358\n",
       "Name: financia_1, dtype: int64"
      ]
     },
     "execution_count": 300,
     "metadata": {},
     "output_type": "execute_result"
    }
   ],
   "source": [
    "df_copy_vivienda.financia_1 = df_copy_vivienda.financia_1.astype('category')\n",
    "df_copy_vivienda.financia_1.value_counts()"
   ]
  },
  {
   "cell_type": "markdown",
   "metadata": {},
   "source": [
    "#### Apoyo de FONHAPO `financia_2`\n",
    "Definición: Para pagar o construir esta vivienda el dueño tuvo un apoyo de FONHAPO.\n",
    "    \n",
    "Valor Etiqueta\n",
    "+ 2 Sí\n",
    "+ & representa un dato “No especificado”."
   ]
  },
  {
   "cell_type": "code",
   "execution_count": 301,
   "metadata": {
    "scrolled": true
   },
   "outputs": [
    {
     "data": {
      "text/plain": [
       "&    159909\n",
       "2       558\n",
       "Name: financia_2, dtype: int64"
      ]
     },
     "execution_count": 301,
     "metadata": {},
     "output_type": "execute_result"
    }
   ],
   "source": [
    "df_copy_vivienda.financia_2 = df_copy_vivienda.financia_2.astype('category')\n",
    "df_copy_vivienda.financia_2.value_counts()"
   ]
  },
  {
   "cell_type": "markdown",
   "metadata": {},
   "source": [
    "#### Crédito INFONAVIT o FOVISSSTE `financia_3`\n",
    "Definición: Para pagar o construir esta vivienda el dueño tuvo un crédito de INFONAVIT o FOVISSSTE.\n",
    "    \n",
    "Valor Etiqueta\n",
    "+ 3 Sí\n",
    "+ & representa un dato “No especificado”."
   ]
  },
  {
   "cell_type": "code",
   "execution_count": 308,
   "metadata": {
    "scrolled": true
   },
   "outputs": [
    {
     "data": {
      "text/plain": [
       "&    145409\n",
       "3     15058\n",
       "Name: financia_3, dtype: int64"
      ]
     },
     "execution_count": 308,
     "metadata": {},
     "output_type": "execute_result"
    }
   ],
   "source": [
    "df_copy_vivienda.financia_3 = df_copy_vivienda.financia_3.astype('category')\n",
    "df_copy_vivienda.financia_3.value_counts()"
   ]
  },
  {
   "cell_type": "markdown",
   "metadata": {},
   "source": [
    "#### Crédito bancario `financia_4`\n",
    "Definición: Para pagar o construir esta vivienda el dueño tuvo un crédito bancario.\n",
    "    \n",
    "Valor Etiqueta\n",
    "+ 4 Sí\n",
    "+ & representa un dato “No especificado”."
   ]
  },
  {
   "cell_type": "code",
   "execution_count": 303,
   "metadata": {
    "scrolled": true
   },
   "outputs": [
    {
     "data": {
      "text/plain": [
       "&    156803\n",
       "4      3664\n",
       "Name: financia_4, dtype: int64"
      ]
     },
     "execution_count": 303,
     "metadata": {},
     "output_type": "execute_result"
    }
   ],
   "source": [
    "df_copy_vivienda.financia_4 = df_copy_vivienda.financia_4.astype('category')\n",
    "df_copy_vivienda.financia_4.value_counts()"
   ]
  },
  {
   "cell_type": "markdown",
   "metadata": {},
   "source": [
    "#### Crédito microfinanciero `financia_5`\n",
    "Definición: Para pagar o construir esta vivienda el dueño tuvo un crédito de una microfinanciera.\n",
    "    \n",
    "Valor Etiqueta\n",
    "+ 5 Sí\n",
    "+ & representa un dato “No especificado”."
   ]
  },
  {
   "cell_type": "code",
   "execution_count": 304,
   "metadata": {
    "scrolled": true
   },
   "outputs": [
    {
     "data": {
      "text/plain": [
       "&    160072\n",
       "5       395\n",
       "Name: financia_5, dtype: int64"
      ]
     },
     "execution_count": 304,
     "metadata": {},
     "output_type": "execute_result"
    }
   ],
   "source": [
    "df_copy_vivienda.financia_5 = df_copy_vivienda.financia_5.astype('category')\n",
    "df_copy_vivienda.financia_5.value_counts()"
   ]
  },
  {
   "cell_type": "markdown",
   "metadata": {},
   "source": [
    "#### Crédito caja de ahorro `financia_6`\n",
    "Definición: Para pagar o construir esta vivienda el dueño tuvo un crédito de una caja de ahorro.\n",
    "    \n",
    "Valor Etiqueta\n",
    "+ 6 Sí\n",
    "+ & representa un dato “No especificado”."
   ]
  },
  {
   "cell_type": "code",
   "execution_count": 305,
   "metadata": {
    "scrolled": true
   },
   "outputs": [
    {
     "data": {
      "text/plain": [
       "&    159698\n",
       "6       769\n",
       "Name: financia_6, dtype: int64"
      ]
     },
     "execution_count": 305,
     "metadata": {},
     "output_type": "execute_result"
    }
   ],
   "source": [
    "df_copy_vivienda.financia_6 = df_copy_vivienda.financia_6.astype('category')\n",
    "df_copy_vivienda.financia_6.value_counts()"
   ]
  },
  {
   "cell_type": "markdown",
   "metadata": {},
   "source": [
    "#### Crédito de otra institución `financia_7`\n",
    "Definición: Para pagar o construir esta vivienda el dueño tuvo crédito de otra institución.\n",
    "    \n",
    "Valor Etiqueta\n",
    "+ 7 Sí\n",
    "+ & representa un dato “No especificado”."
   ]
  },
  {
   "cell_type": "code",
   "execution_count": 306,
   "metadata": {
    "scrolled": true
   },
   "outputs": [
    {
     "data": {
      "text/plain": [
       "&    158240\n",
       "7      2227\n",
       "Name: financia_7, dtype: int64"
      ]
     },
     "execution_count": 306,
     "metadata": {},
     "output_type": "execute_result"
    }
   ],
   "source": [
    "df_copy_vivienda.financia_7 = df_copy_vivienda.financia_7.astype('category')\n",
    "df_copy_vivienda.financia_7.value_counts()"
   ]
  },
  {
   "cell_type": "markdown",
   "metadata": {},
   "source": [
    "#### Préstamo familiar `financia_8`\n",
    "Definición: Para pagar o construir esta vivienda el dueño tuvo préstamo de un familiar, amigo o prestamista.\n",
    "    \n",
    "Valor Etiqueta\n",
    "+ 8 Sí\n",
    "+ & representa un dato “No especificado”."
   ]
  },
  {
   "cell_type": "code",
   "execution_count": 307,
   "metadata": {
    "scrolled": true
   },
   "outputs": [
    {
     "data": {
      "text/plain": [
       "&    158050\n",
       "8      2417\n",
       "Name: financia_8, dtype: int64"
      ]
     },
     "execution_count": 307,
     "metadata": {},
     "output_type": "execute_result"
    }
   ],
   "source": [
    "df_copy_vivienda.financia_8 = df_copy_vivienda.financia_8.astype('category')\n",
    "df_copy_vivienda.financia_8.value_counts()"
   ]
  },
  {
   "cell_type": "markdown",
   "metadata": {},
   "source": [
    "+ 1     49358\n",
    "+ 2       558\n",
    "+ 3     15058\n",
    "+ 4      3664\n",
    "+ 5       395\n",
    "+ 6       769\n",
    "+ 7      2227\n",
    "+ Total 72029"
   ]
  },
  {
   "cell_type": "markdown",
   "metadata": {},
   "source": [
    "#### Valor de la vivienda `valor_viv`\n",
    "Definición: A cuánto asciende el valor de la vivienda habitada.\n",
    "    \n",
    "Valor Etiqueta\n",
    "+ 1 Menos de $50,000\n",
    "\n",
    "* 2 De' $50,001' a $100,000.00\n",
    "\n",
    "* 3 De $100,001.00 a $300,000.00\n",
    "\n",
    "+ 4 De $300,001.00 a $500,000.00\n",
    "\n",
    "+ 5 De $500,001.00 a $1,000,000.00\n",
    "\n",
    "+ 6 De $1,000,001.00 a $2,000,000.00\n",
    "\n",
    "+ 7 Más de $2,000,001.00\n",
    "+ & Representa un dato “No especificado”"
   ]
  },
  {
   "cell_type": "code",
   "execution_count": 309,
   "metadata": {
    "scrolled": true
   },
   "outputs": [
    {
     "data": {
      "text/plain": [
       "&    83432\n",
       "9    28439\n",
       "3    14400\n",
       "4    12137\n",
       "5     7955\n",
       "2     6649\n",
       "1     3465\n",
       "6     2842\n",
       "7     1148\n",
       "Name: valor_viv, dtype: int64"
      ]
     },
     "execution_count": 309,
     "metadata": {},
     "output_type": "execute_result"
    }
   ],
   "source": [
    "df_copy_vivienda.valor_viv = df_copy_vivienda.valor_viv.astype('category')\n",
    "df_copy_vivienda.valor_viv.value_counts()"
   ]
  },
  {
   "cell_type": "markdown",
   "metadata": {},
   "source": [
    "#### Identificador del primer dueño `num_dueno1`\n",
    "Definición: Número de renglón del dueño o dueña de la vivienda.\n",
    "    \n",
    "Valor Etiqueta\n",
    "+ 1+\n",
    "+ & Representa un dato “No especificado”"
   ]
  },
  {
   "cell_type": "code",
   "execution_count": 320,
   "metadata": {
    "scrolled": true
   },
   "outputs": [
    {
     "data": {
      "text/plain": [
       "01      62432\n",
       "&       52966\n",
       "1.0     25433\n",
       "02      12571\n",
       "2.0      4881\n",
       "03       1102\n",
       "3.0       391\n",
       "04        259\n",
       "05        124\n",
       "4.0        85\n",
       "06         73\n",
       "5.0        55\n",
       "6.0        29\n",
       "07         27\n",
       "08         13\n",
       "7.0         7\n",
       "09          4\n",
       "8.0         3\n",
       "9.0         3\n",
       "10.0        3\n",
       "10          2\n",
       "13          2\n",
       "11.0        1\n",
       "15          1\n",
       "Name: num_dueno1, dtype: int64"
      ]
     },
     "execution_count": 320,
     "metadata": {},
     "output_type": "execute_result"
    }
   ],
   "source": [
    "df_copy_vivienda.num_dueno1 = df_copy_vivienda.num_dueno1.astype('category')\n",
    "df_copy_vivienda.num_dueno1.value_counts()"
   ]
  },
  {
   "cell_type": "code",
   "execution_count": 325,
   "metadata": {},
   "outputs": [
    {
     "data": {
      "text/plain": [
       "{'01': 1,\n",
       " '02': 3,\n",
       " '03': 3,\n",
       " '04': 4,\n",
       " '05': 5,\n",
       " '06': 6,\n",
       " '07': 7,\n",
       " '08': 8,\n",
       " '09': 9,\n",
       " '1': 1,\n",
       " 1.0: 1,\n",
       " '1.0': 1,\n",
       " '10': 10,\n",
       " 10.0: 4,\n",
       " '10.0': 10,\n",
       " '11': 11,\n",
       " 11.0: 4,\n",
       " '11.0': 11,\n",
       " '12': 12,\n",
       " 12.0: 4,\n",
       " '12.0': 12,\n",
       " '13': 13,\n",
       " 13.0: 4,\n",
       " '13.0': 13,\n",
       " '14': 14,\n",
       " 14.0: 4,\n",
       " '14.0': 14,\n",
       " '15': 15,\n",
       " 15.0: 4,\n",
       " '15.0': 15,\n",
       " '2': 2,\n",
       " 2.0: 2,\n",
       " '2.0': 2,\n",
       " '3': 3,\n",
       " 3.0: 3,\n",
       " '3.0': 3,\n",
       " '4': 4,\n",
       " 4.0: 4,\n",
       " '4.0': 4,\n",
       " '5': 5,\n",
       " 5.0: 4,\n",
       " '5.0': 5,\n",
       " '6': 6,\n",
       " 6.0: 4,\n",
       " '6.0': 6,\n",
       " '7': 7,\n",
       " 7.0: 4,\n",
       " '7.0': 7,\n",
       " '8': 8,\n",
       " 8.0: 4,\n",
       " '8.0': 8,\n",
       " '9': 9,\n",
       " 9.0: 4,\n",
       " '9.0': 9}"
      ]
     },
     "execution_count": 325,
     "metadata": {},
     "output_type": "execute_result"
    }
   ],
   "source": [
    "cat_num_dueno1 = {1.0 : 1, '1.0' : 1, 1 : 1, '1' : 1, '01' : 1,\n",
    "                 2.0: 2, '2.0' : 2, 2 : 2, '2' : 2, '02' : 3,\n",
    "                 3.0: 3, '3.0' : 3, '3' : 3, '03' : 3,\n",
    "                 4.0: 4, '4.0' : 4, '4': 4, '04' : 4,\n",
    "                 5.0: 4, '5.0' : 5, '5': 5, '05' : 5,\n",
    "                 6.0: 4, '6.0' : 6, '6': 6, '06' : 6,\n",
    "                 7.0: 4, '7.0' : 7, '7': 7, '07' : 7,\n",
    "                 8.0: 4, '8.0' : 8, '8': 8, '08' : 8,\n",
    "                 9.0: 4, '9.0' : 9, '9': 9, '09' : 9,\n",
    "                 10.0: 4, '10.0' : 10, '10': 10, '10' : 10,\n",
    "                 11.0: 4, '11.0' : 11, '11': 11, '11' : 11,\n",
    "                 12.0: 4, '12.0' : 12, '12': 12, '12' : 12,\n",
    "                 13.0: 4, '13.0' : 13, '13': 13, '13' : 13,\n",
    "                 14.0: 4, '14.0' : 14, '14': 14, '14' : 14,\n",
    "                 15.0: 4, '15.0' : 15, '15': 15, '15' : 15,}\n",
    "cat_num_dueno1"
   ]
  },
  {
   "cell_type": "code",
   "execution_count": 326,
   "metadata": {},
   "outputs": [
    {
     "data": {
      "text/plain": [
       "1     87865\n",
       "&     52966\n",
       "3     14064\n",
       "2      4881\n",
       "4       445\n",
       "5       124\n",
       "6        73\n",
       "7        27\n",
       "8        13\n",
       "9         4\n",
       "13        2\n",
       "10        2\n",
       "15        1\n",
       "Name: num_dueno1, dtype: int64"
      ]
     },
     "execution_count": 326,
     "metadata": {},
     "output_type": "execute_result"
    }
   ],
   "source": [
    "df_copy_vivienda.num_dueno1.replace(cat_num_dueno1, inplace=True)\n",
    "df_copy_vivienda.num_dueno1.value_counts(sort=True, ascending=False)"
   ]
  },
  {
   "cell_type": "markdown",
   "metadata": {},
   "source": [
    "#### Hogar del primer dueño `hog_dueno1`\n",
    "Definición: Número de hogar del dueño o dueña de la vivienda.\n",
    "    \n",
    "Valor Etiqueta\n",
    "+ 1+\n",
    "+ & Representa un dato “No especificado”"
   ]
  },
  {
   "cell_type": "code",
   "execution_count": 310,
   "metadata": {
    "scrolled": true
   },
   "outputs": [
    {
     "data": {
      "text/plain": [
       "1      76393\n",
       "&      52967\n",
       "1.0    30809\n",
       "2        201\n",
       "2.0       74\n",
       "3         12\n",
       "3.0        8\n",
       "4          3\n",
       "Name: hog_dueno1, dtype: int64"
      ]
     },
     "execution_count": 310,
     "metadata": {},
     "output_type": "execute_result"
    }
   ],
   "source": [
    "df_copy_vivienda.hog_dueno1 = df_copy_vivienda.hog_dueno1.astype('category')\n",
    "df_copy_vivienda.hog_dueno1.value_counts()"
   ]
  },
  {
   "cell_type": "code",
   "execution_count": 316,
   "metadata": {},
   "outputs": [
    {
     "data": {
      "text/plain": [
       "{'1': 1,\n",
       " 1.0: 1,\n",
       " '1.0': 1,\n",
       " '2': 2,\n",
       " 2.0: 2,\n",
       " '2.0': 2,\n",
       " '3': 3,\n",
       " 3.0: 3,\n",
       " '3.0': 3,\n",
       " '4': 4,\n",
       " 4.0: 4,\n",
       " '4.0': 4}"
      ]
     },
     "execution_count": 316,
     "metadata": {},
     "output_type": "execute_result"
    }
   ],
   "source": [
    "cat_hog_dueno1 = {1.0 : 1, '1.0' : 1, 1 : 1, '1' : 1,\n",
    "                 2.0: 2, '2.0' : 2, 2 : 2, '2' : 2,\n",
    "                 3.0: 3, '3.0' : 3, '3' : 3,\n",
    "                 4.0: 4, '4.0' : 4, '4': 4}\n",
    "cat_hog_dueno1"
   ]
  },
  {
   "cell_type": "code",
   "execution_count": 317,
   "metadata": {},
   "outputs": [
    {
     "data": {
      "text/plain": [
       "1    107202\n",
       "&     52967\n",
       "2       275\n",
       "3        20\n",
       "4         3\n",
       "Name: hog_dueno1, dtype: int64"
      ]
     },
     "execution_count": 317,
     "metadata": {},
     "output_type": "execute_result"
    }
   ],
   "source": [
    "df_copy_vivienda.hog_dueno1.replace(cat_hog_dueno1, inplace=True)\n",
    "df_copy_vivienda.hog_dueno1.value_counts(sort=True, ascending=False)"
   ]
  },
  {
   "cell_type": "markdown",
   "metadata": {},
   "source": [
    "#### Identificador del segundo dueño `num_dueno2`\n",
    "Definición: Número de renglón del dueño o dueña de la vivienda.\n",
    "    \n",
    "Valor Etiqueta\n",
    "+ 1+\n",
    "+ & Representa un dato “No especificado”"
   ]
  },
  {
   "cell_type": "code",
   "execution_count": 324,
   "metadata": {
    "scrolled": true
   },
   "outputs": [
    {
     "data": {
      "text/plain": [
       "&      150503\n",
       "02       6521\n",
       "2.0      1937\n",
       "01        724\n",
       "1.0       414\n",
       "03        176\n",
       "04         70\n",
       "3.0        48\n",
       "4.0        25\n",
       "05         23\n",
       "06         10\n",
       "5.0         6\n",
       "07          3\n",
       "6.0         2\n",
       "08          2\n",
       "09          1\n",
       "9.0         1\n",
       "12          1\n",
       "Name: num_dueno2, dtype: int64"
      ]
     },
     "execution_count": 324,
     "metadata": {},
     "output_type": "execute_result"
    }
   ],
   "source": [
    "df_copy_vivienda.num_dueno2 = df_copy_vivienda.num_dueno2.astype('category')\n",
    "df_copy_vivienda.num_dueno2.value_counts()"
   ]
  },
  {
   "cell_type": "code",
   "execution_count": 327,
   "metadata": {},
   "outputs": [
    {
     "data": {
      "text/plain": [
       "{'01': 1,\n",
       " '02': 3,\n",
       " '03': 3,\n",
       " '04': 4,\n",
       " '05': 5,\n",
       " '06': 6,\n",
       " '07': 7,\n",
       " '08': 8,\n",
       " '09': 9,\n",
       " '1': 1,\n",
       " 1.0: 1,\n",
       " '1.0': 1,\n",
       " '10': 10,\n",
       " 10.0: 4,\n",
       " '10.0': 10,\n",
       " '11': 11,\n",
       " 11.0: 4,\n",
       " '11.0': 11,\n",
       " '12': 12,\n",
       " 12.0: 4,\n",
       " '12.0': 12,\n",
       " '13': 13,\n",
       " 13.0: 4,\n",
       " '13.0': 13,\n",
       " '14': 14,\n",
       " 14.0: 4,\n",
       " '14.0': 14,\n",
       " '15': 15,\n",
       " 15.0: 4,\n",
       " '15.0': 15,\n",
       " '2': 2,\n",
       " 2.0: 2,\n",
       " '2.0': 2,\n",
       " '3': 3,\n",
       " 3.0: 3,\n",
       " '3.0': 3,\n",
       " '4': 4,\n",
       " 4.0: 4,\n",
       " '4.0': 4,\n",
       " '5': 5,\n",
       " 5.0: 4,\n",
       " '5.0': 5,\n",
       " '6': 6,\n",
       " 6.0: 4,\n",
       " '6.0': 6,\n",
       " '7': 7,\n",
       " 7.0: 4,\n",
       " '7.0': 7,\n",
       " '8': 8,\n",
       " 8.0: 4,\n",
       " '8.0': 8,\n",
       " '9': 9,\n",
       " 9.0: 4,\n",
       " '9.0': 9}"
      ]
     },
     "execution_count": 327,
     "metadata": {},
     "output_type": "execute_result"
    }
   ],
   "source": [
    "cat_num_dueno2 = {1.0 : 1, '1.0' : 1, 1 : 1, '1' : 1, '01' : 1,\n",
    "                 2.0: 2, '2.0' : 2, 2 : 2, '2' : 2, '02' : 3,\n",
    "                 3.0: 3, '3.0' : 3, '3' : 3, '03' : 3,\n",
    "                 4.0: 4, '4.0' : 4, '4': 4, '04' : 4,\n",
    "                 5.0: 4, '5.0' : 5, '5': 5, '05' : 5,\n",
    "                 6.0: 4, '6.0' : 6, '6': 6, '06' : 6,\n",
    "                 7.0: 4, '7.0' : 7, '7': 7, '07' : 7,\n",
    "                 8.0: 4, '8.0' : 8, '8': 8, '08' : 8,\n",
    "                 9.0: 4, '9.0' : 9, '9': 9, '09' : 9,\n",
    "                 10.0: 4, '10.0' : 10, '10': 10, '10' : 10,\n",
    "                 11.0: 4, '11.0' : 11, '11': 11, '11' : 11,\n",
    "                 12.0: 4, '12.0' : 12, '12': 12, '12' : 12,\n",
    "                 13.0: 4, '13.0' : 13, '13': 13, '13' : 13,\n",
    "                 14.0: 4, '14.0' : 14, '14': 14, '14' : 14,\n",
    "                 15.0: 4, '15.0' : 15, '15': 15, '15' : 15,}\n",
    "cat_num_dueno2"
   ]
  },
  {
   "cell_type": "code",
   "execution_count": 328,
   "metadata": {},
   "outputs": [
    {
     "data": {
      "text/plain": [
       "&     150503\n",
       "3       6745\n",
       "2       1937\n",
       "1       1138\n",
       "4        104\n",
       "5         23\n",
       "6         10\n",
       "7          3\n",
       "8          2\n",
       "12         1\n",
       "9          1\n",
       "Name: num_dueno2, dtype: int64"
      ]
     },
     "execution_count": 328,
     "metadata": {},
     "output_type": "execute_result"
    }
   ],
   "source": [
    "df_copy_vivienda.num_dueno2.replace(cat_num_dueno2, inplace=True)\n",
    "df_copy_vivienda.num_dueno2.value_counts(sort=True, ascending=False)"
   ]
  },
  {
   "cell_type": "markdown",
   "metadata": {},
   "source": [
    "#### Hogar del segundo dueño `hog_dueno2` \n",
    "Definición: Número de hogar del dueño o dueña de la vivienda.\n",
    "    \n",
    "Valor Etiqueta\n",
    "+ 1+\n",
    "+ & Representa un dato “No especificado”"
   ]
  },
  {
   "cell_type": "code",
   "execution_count": 313,
   "metadata": {
    "scrolled": true
   },
   "outputs": [
    {
     "data": {
      "text/plain": [
       "&      150503\n",
       "1        7513\n",
       "1.0      2423\n",
       "2          17\n",
       "2.0         9\n",
       "3           1\n",
       "3.0         1\n",
       "Name: hog_dueno2, dtype: int64"
      ]
     },
     "execution_count": 313,
     "metadata": {},
     "output_type": "execute_result"
    }
   ],
   "source": [
    "df_copy_vivienda.hog_dueno2 = df_copy_vivienda.hog_dueno2.astype('category')\n",
    "df_copy_vivienda.hog_dueno2.value_counts()"
   ]
  },
  {
   "cell_type": "code",
   "execution_count": 329,
   "metadata": {},
   "outputs": [
    {
     "data": {
      "text/plain": [
       "{'1': 1,\n",
       " 1.0: 1,\n",
       " '1.0': 1,\n",
       " '2': 2,\n",
       " 2.0: 2,\n",
       " '2.0': 2,\n",
       " '3': 3,\n",
       " 3.0: 3,\n",
       " '3.0': 3,\n",
       " '4': 4,\n",
       " 4.0: 4,\n",
       " '4.0': 4}"
      ]
     },
     "execution_count": 329,
     "metadata": {},
     "output_type": "execute_result"
    }
   ],
   "source": [
    "cat_hog_dueno2 = {1.0 : 1, '1.0' : 1, 1 : 1, '1' : 1,\n",
    "                 2.0: 2, '2.0' : 2, 2 : 2, '2' : 2,\n",
    "                 3.0: 3, '3.0' : 3, '3' : 3,\n",
    "                 4.0: 4, '4.0' : 4, '4': 4}\n",
    "cat_hog_dueno2"
   ]
  },
  {
   "cell_type": "code",
   "execution_count": 330,
   "metadata": {},
   "outputs": [
    {
     "data": {
      "text/plain": [
       "&    150503\n",
       "1      9936\n",
       "2        26\n",
       "3         2\n",
       "Name: hog_dueno2, dtype: int64"
      ]
     },
     "execution_count": 330,
     "metadata": {},
     "output_type": "execute_result"
    }
   ],
   "source": [
    "df_copy_vivienda.hog_dueno2.replace(cat_hog_dueno2, inplace=True)\n",
    "df_copy_vivienda.hog_dueno2.value_counts(sort=True, ascending=False)"
   ]
  },
  {
   "cell_type": "markdown",
   "metadata": {},
   "source": [
    "#### Escrituras de la vivienda `escrituras`\n",
    "Definición: Escrituras o título de propiedad de la vivienda.\n",
    "    \n",
    "Valor Etiqueta\n",
    "+ 1 Escritura\n",
    "+ 2 Certificado de posesión\n",
    "+ 3 Título de propiedad\n",
    "+ 4 Contrato de compra venta\n",
    "+ 5 No se cuenta con documento\n",
    "+ & Representa un dato “No especificado”"
   ]
  },
  {
   "cell_type": "code",
   "execution_count": 331,
   "metadata": {
    "scrolled": true
   },
   "outputs": [
    {
     "data": {
      "text/plain": [
       "&      52541\n",
       "1      47507\n",
       "1.0    22045\n",
       "5       8551\n",
       "3       7592\n",
       "2       7541\n",
       "3.0     6042\n",
       "4       4738\n",
       "2.0     2529\n",
       "9       1106\n",
       "9.0      275\n",
       "Name: escrituras, dtype: int64"
      ]
     },
     "execution_count": 331,
     "metadata": {},
     "output_type": "execute_result"
    }
   ],
   "source": [
    "df_copy_vivienda.escrituras = df_copy_vivienda.escrituras.astype('category')\n",
    "df_copy_vivienda.escrituras.value_counts()"
   ]
  },
  {
   "cell_type": "code",
   "execution_count": 333,
   "metadata": {},
   "outputs": [
    {
     "data": {
      "text/plain": [
       "{'1': 1,\n",
       " 1.0: 1,\n",
       " '1.0': 1,\n",
       " '2': 2,\n",
       " 2.0: 2,\n",
       " '2.0': 2,\n",
       " '3': 3,\n",
       " 3.0: 3,\n",
       " '3.0': 3,\n",
       " '4': 4,\n",
       " 4.0: 4,\n",
       " '4.0': 4,\n",
       " '5': 5,\n",
       " 5.0: 5,\n",
       " '5.0': 5,\n",
       " '9': '&',\n",
       " 9.0: '&',\n",
       " '9.0': '&'}"
      ]
     },
     "execution_count": 333,
     "metadata": {},
     "output_type": "execute_result"
    }
   ],
   "source": [
    "cat_escrituras = {1.0 : 1, '1.0' : 1, 1 : 1, '1' : 1,\n",
    "                 2.0: 2, '2.0' : 2, 2 : 2, '2' : 2,\n",
    "                 3.0: 3, '3.0' : 3, '3' : 3,\n",
    "                 4.0: 4, '4.0' : 4, '4': 4,\n",
    "                 5.0: 5, '5.0' : 5, '5': 5,\n",
    "                 9.0: '&', '9.0' : '&', '9': '&'}\n",
    "cat_escrituras"
   ]
  },
  {
   "cell_type": "code",
   "execution_count": 334,
   "metadata": {},
   "outputs": [
    {
     "data": {
      "text/plain": [
       "1    69552\n",
       "&    53922\n",
       "3    13634\n",
       "2    10070\n",
       "5     8551\n",
       "4     4738\n",
       "Name: escrituras, dtype: int64"
      ]
     },
     "execution_count": 334,
     "metadata": {},
     "output_type": "execute_result"
    }
   ],
   "source": [
    "df_copy_vivienda.escrituras.replace(cat_escrituras, inplace=True)\n",
    "df_copy_vivienda.escrituras.value_counts(sort=True, ascending=False)"
   ]
  },
  {
   "cell_type": "markdown",
   "metadata": {},
   "source": [
    "#### Venta o herencia de la vivienda `vend_hered`\n",
    "Definición: Venta o herencia de la vivienda.\n",
    "    \n",
    "Valor Etiqueta\n",
    "+ 1 1 Sí\n",
    "+ 2 No\n",
    "+ & Representa un dato “No especificado”"
   ]
  },
  {
   "cell_type": "code",
   "execution_count": 335,
   "metadata": {
    "scrolled": true
   },
   "outputs": [
    {
     "data": {
      "text/plain": [
       "&    83432\n",
       "1    76704\n",
       "2      331\n",
       "Name: vend_hered, dtype: int64"
      ]
     },
     "execution_count": 335,
     "metadata": {},
     "output_type": "execute_result"
    }
   ],
   "source": [
    "df_copy_vivienda.vend_hered = df_copy_vivienda.vend_hered.astype('category')\n",
    "df_copy_vivienda.vend_hered.value_counts()"
   ]
  },
  {
   "cell_type": "markdown",
   "metadata": {},
   "source": [
    "#### Identificador persona 1 con facultad de venta `facul_no1`\n",
    "Definición: Identificador de la primera persona que tiene facultad de vender o heredar la vivienda.\n",
    "    \n",
    "Valor Etiqueta\n",
    "+ 1 +\n",
    "+ & Representa un dato “No especificado”"
   ]
  },
  {
   "cell_type": "code",
   "execution_count": 336,
   "metadata": {
    "scrolled": true
   },
   "outputs": [
    {
     "data": {
      "text/plain": [
       "&     160273\n",
       "01       115\n",
       "02        65\n",
       "03         9\n",
       "04         5\n",
       "Name: facul_no1, dtype: int64"
      ]
     },
     "execution_count": 336,
     "metadata": {},
     "output_type": "execute_result"
    }
   ],
   "source": [
    "df_copy_vivienda.facul_no1 = df_copy_vivienda.facul_no1.astype('category')\n",
    "df_copy_vivienda.facul_no1.value_counts()"
   ]
  },
  {
   "cell_type": "markdown",
   "metadata": {},
   "source": [
    "#### Hogar persona 1 con facultad de venta `facul_nh1` : \n",
    "Definición: Hogar de la primer persona con facultad de vender o heredar la vivienda.\n",
    "    \n",
    "Valor Etiqueta\n",
    "+ 1 +\n",
    "+ & Representa un dato “No especificado”"
   ]
  },
  {
   "cell_type": "code",
   "execution_count": 337,
   "metadata": {
    "scrolled": true
   },
   "outputs": [
    {
     "data": {
      "text/plain": [
       "&    160273\n",
       "1       194\n",
       "Name: facul_nh1, dtype: int64"
      ]
     },
     "execution_count": 337,
     "metadata": {},
     "output_type": "execute_result"
    }
   ],
   "source": [
    "df_copy_vivienda.facul_nh1 = df_copy_vivienda.facul_nh1.astype('category')\n",
    "df_copy_vivienda.facul_nh1.value_counts()"
   ]
  },
  {
   "cell_type": "markdown",
   "metadata": {},
   "source": [
    "#### Identificador persona 2 con facultad de venta `facul_no2`\n",
    "Definición: Identificador de la segunda persona que tiene facultad de vender o heredar la vivienda.\n",
    "    \n",
    "Valor Etiqueta\n",
    "+ 1 +\n",
    "+ & Representa un dato “No especificado”"
   ]
  },
  {
   "cell_type": "code",
   "execution_count": 338,
   "metadata": {
    "scrolled": true
   },
   "outputs": [
    {
     "data": {
      "text/plain": [
       "&     160412\n",
       "02        37\n",
       "01        13\n",
       "04         3\n",
       "03         2\n",
       "Name: facul_no2, dtype: int64"
      ]
     },
     "execution_count": 338,
     "metadata": {},
     "output_type": "execute_result"
    }
   ],
   "source": [
    "df_copy_vivienda.facul_no2 = df_copy_vivienda.facul_no2.astype('category')\n",
    "df_copy_vivienda.facul_no2.value_counts()"
   ]
  },
  {
   "cell_type": "markdown",
   "metadata": {},
   "source": [
    "#### Hogar persona 2 con facultad de venta `facul_nh2` : \n",
    "Definición: Hogar de la segunda persona con facultad de vender o heredar la vivienda.\n",
    "    \n",
    "Valor Etiqueta\n",
    "+ 1 +\n",
    "+ & Representa un dato “No especificado”"
   ]
  },
  {
   "cell_type": "code",
   "execution_count": 339,
   "metadata": {
    "scrolled": true
   },
   "outputs": [
    {
     "data": {
      "text/plain": [
       "&    160411\n",
       "1        55\n",
       "2         1\n",
       "Name: facul_nh2, dtype: int64"
      ]
     },
     "execution_count": 339,
     "metadata": {},
     "output_type": "execute_result"
    }
   ],
   "source": [
    "df_copy_vivienda.facul_nh2 = df_copy_vivienda.facul_nh2.astype('category')\n",
    "df_copy_vivienda.facul_nh2.value_counts()"
   ]
  },
  {
   "cell_type": "markdown",
   "metadata": {},
   "source": [
    "#### No sabe facultad de venta `facul_ne` \n",
    "Definición: No sabe quién es la persona con facultad de vender o heredar la vivienda.\n",
    "    \n",
    "Valor Etiqueta\n",
    "+ 1 +\n",
    "+ & Representa un dato “No especificado”"
   ]
  },
  {
   "cell_type": "code",
   "execution_count": 341,
   "metadata": {
    "scrolled": true
   },
   "outputs": [
    {
     "data": {
      "text/plain": [
       "&    160335\n",
       "9       132\n",
       "Name: facul_ne, dtype: int64"
      ]
     },
     "execution_count": 341,
     "metadata": {},
     "output_type": "execute_result"
    }
   ],
   "source": [
    "df_copy_vivienda.facul_ne = df_copy_vivienda.facul_ne.astype('category')\n",
    "df_copy_vivienda.facul_ne.value_counts()"
   ]
  },
  {
   "cell_type": "markdown",
   "metadata": {},
   "source": [
    "#### Identificador persona 1 con poder de disposición de dinero `dispos_no1`\n",
    "Definición: Identificador de la primer persona que tiene el poder de disposición del dinero por la venta o renta de la vivienda.\n",
    "    \n",
    "Valor Etiqueta\n",
    "+ 1 +\n",
    "+ & Representa un dato “No especificado”"
   ]
  },
  {
   "cell_type": "code",
   "execution_count": 342,
   "metadata": {
    "scrolled": true
   },
   "outputs": [
    {
     "data": {
      "text/plain": [
       "&     160254\n",
       "01       135\n",
       "02        62\n",
       "03        13\n",
       "04         3\n",
       "Name: dispos_no1, dtype: int64"
      ]
     },
     "execution_count": 342,
     "metadata": {},
     "output_type": "execute_result"
    }
   ],
   "source": [
    "df_copy_vivienda.dispos_no1 = df_copy_vivienda.dispos_no1.astype('category')\n",
    "df_copy_vivienda.dispos_no1.value_counts()"
   ]
  },
  {
   "cell_type": "markdown",
   "metadata": {},
   "source": [
    "#### Hogar persona 1 con poder de disposición de dinero `dispos_nh1` \n",
    "Definición: Hogar de la primer persona que tiene el poder de disposición del dinero por la venta o renta de la vivienda.\n",
    "    \n",
    "Valor Etiqueta\n",
    "+ 1 +\n",
    "+ & Representa un dato “No especificado”"
   ]
  },
  {
   "cell_type": "code",
   "execution_count": 343,
   "metadata": {
    "scrolled": true
   },
   "outputs": [
    {
     "data": {
      "text/plain": [
       "&    160254\n",
       "1       213\n",
       "Name: dispos_nh1, dtype: int64"
      ]
     },
     "execution_count": 343,
     "metadata": {},
     "output_type": "execute_result"
    }
   ],
   "source": [
    "df_copy_vivienda.dispos_nh1 = df_copy_vivienda.dispos_nh1.astype('category')\n",
    "df_copy_vivienda.dispos_nh1.value_counts()"
   ]
  },
  {
   "cell_type": "markdown",
   "metadata": {},
   "source": [
    "#### Identificador persona 2 con poder de disposición de dinero `dispos_no2`\n",
    "Definición: Identificador de la segunda persona que tiene el poder de disposición del dinero por la venta o renta de la vivienda.\n",
    "    \n",
    "Valor Etiqueta\n",
    "+ 1 +\n",
    "+ & Representa un dato “No especificado”"
   ]
  },
  {
   "cell_type": "code",
   "execution_count": 344,
   "metadata": {
    "scrolled": true
   },
   "outputs": [
    {
     "data": {
      "text/plain": [
       "&     160404\n",
       "02        43\n",
       "01        14\n",
       "04         3\n",
       "03         3\n",
       "Name: dispos_no2, dtype: int64"
      ]
     },
     "execution_count": 344,
     "metadata": {},
     "output_type": "execute_result"
    }
   ],
   "source": [
    "df_copy_vivienda.dispos_no2 = df_copy_vivienda.dispos_no2.astype('category')\n",
    "df_copy_vivienda.dispos_no2.value_counts()"
   ]
  },
  {
   "cell_type": "markdown",
   "metadata": {},
   "source": [
    "#### Hogar persona 2 con poder de disposición de dinero `dispos_nh2` \n",
    "Definición: Hogar de la segunda persona que tiene el poder de disposición del dinero por la venta o renta de la vivienda.\n",
    "    \n",
    "Valor Etiqueta\n",
    "+ 1 +\n",
    "+ & Representa un dato “No especificado”"
   ]
  },
  {
   "cell_type": "code",
   "execution_count": 345,
   "metadata": {
    "scrolled": true
   },
   "outputs": [
    {
     "data": {
      "text/plain": [
       "&    160404\n",
       "1        62\n",
       "2         1\n",
       "Name: dispos_nh2, dtype: int64"
      ]
     },
     "execution_count": 345,
     "metadata": {},
     "output_type": "execute_result"
    }
   ],
   "source": [
    "df_copy_vivienda.dispos_nh2 = df_copy_vivienda.dispos_nh2.astype('category')\n",
    "df_copy_vivienda.dispos_nh2.value_counts()"
   ]
  },
  {
   "cell_type": "markdown",
   "metadata": {},
   "source": [
    "#### No sabe poder de disposición `dispos_ne` \n",
    "Definición: No sabe quien es la persona que tiene el poder de disposición del dinero por la venta o renta de la vivienda.\n",
    "    \n",
    "Valor Etiqueta\n",
    "+ 1 +\n",
    "+ & Representa un dato “No especificado”"
   ]
  },
  {
   "cell_type": "code",
   "execution_count": 346,
   "metadata": {
    "scrolled": true
   },
   "outputs": [
    {
     "data": {
      "text/plain": [
       "&    160352\n",
       "9       115\n",
       "Name: dispos_ne, dtype: int64"
      ]
     },
     "execution_count": 346,
     "metadata": {},
     "output_type": "execute_result"
    }
   ],
   "source": [
    "df_copy_vivienda.dispos_ne = df_copy_vivienda.dispos_ne.astype('category')\n",
    "df_copy_vivienda.dispos_ne.value_counts()"
   ]
  },
  {
   "cell_type": "markdown",
   "metadata": {},
   "source": [
    "#### Disponibilidad de computadora  `computador`\n",
    "Definición: Dispone de computadora en la vivienda.\n",
    "    \n",
    "Valor Etiqueta\n",
    "+ 1 Sí\n",
    "+ 2 No\n",
    "+ & Representa un dato “No especificado”"
   ]
  },
  {
   "cell_type": "code",
   "execution_count": 347,
   "metadata": {
    "scrolled": true
   },
   "outputs": [
    {
     "data": {
      "text/plain": [
       "&      102401\n",
       "2.0     36441\n",
       "1.0     21625\n",
       "Name: computador, dtype: int64"
      ]
     },
     "execution_count": 347,
     "metadata": {},
     "output_type": "execute_result"
    }
   ],
   "source": [
    "df_copy_vivienda.computador = df_copy_vivienda.computador.astype('category')\n",
    "df_copy_vivienda.computador.value_counts()"
   ]
  },
  {
   "cell_type": "code",
   "execution_count": 348,
   "metadata": {},
   "outputs": [
    {
     "data": {
      "text/plain": [
       "{'1': 1,\n",
       " 1.0: 1,\n",
       " '1.0': 1,\n",
       " '2': 2,\n",
       " 2.0: 2,\n",
       " '2.0': 2,\n",
       " '9': '&',\n",
       " 9.0: '&',\n",
       " '9.0': '&'}"
      ]
     },
     "execution_count": 348,
     "metadata": {},
     "output_type": "execute_result"
    }
   ],
   "source": [
    "cat_computador = {1.0 : 1, '1.0' : 1, 1 : 1, '1' : 1,\n",
    "                 2.0: 2, '2.0' : 2, 2 : 2, '2' : 2,                 \n",
    "                 9.0: '&', '9.0' : '&', '9': '&'}\n",
    "cat_computador"
   ]
  },
  {
   "cell_type": "code",
   "execution_count": 349,
   "metadata": {},
   "outputs": [
    {
     "data": {
      "text/plain": [
       "&    102401\n",
       "2     36441\n",
       "1     21625\n",
       "Name: computador, dtype: int64"
      ]
     },
     "execution_count": 349,
     "metadata": {},
     "output_type": "execute_result"
    }
   ],
   "source": [
    "df_copy_vivienda.computador.replace(cat_computador, inplace=True)\n",
    "df_copy_vivienda.computador.value_counts(sort=True, ascending=False)"
   ]
  },
  {
   "cell_type": "markdown",
   "metadata": {},
   "source": [
    "#### Disponibilidad de teléfono celular `celular`\n",
    "Definición: Dispone de teléfono celular en la vivienda.\n",
    "    \n",
    "Valor Etiqueta\n",
    "+ 1 Sí\n",
    "+ 2 No\n",
    "+ & Representa un dato “No especificado”"
   ]
  },
  {
   "cell_type": "code",
   "execution_count": 350,
   "metadata": {
    "scrolled": true
   },
   "outputs": [
    {
     "data": {
      "text/plain": [
       "&      102401\n",
       "2.0     37568\n",
       "1.0     20498\n",
       "Name: celular, dtype: int64"
      ]
     },
     "execution_count": 350,
     "metadata": {},
     "output_type": "execute_result"
    }
   ],
   "source": [
    "df_copy_vivienda.celular = df_copy_vivienda.celular.astype('category')\n",
    "df_copy_vivienda.celular.value_counts()"
   ]
  },
  {
   "cell_type": "code",
   "execution_count": 351,
   "metadata": {},
   "outputs": [
    {
     "data": {
      "text/plain": [
       "{'1': 1,\n",
       " 1.0: 1,\n",
       " '1.0': 1,\n",
       " '2': 2,\n",
       " 2.0: 2,\n",
       " '2.0': 2,\n",
       " '9': '&',\n",
       " 9.0: '&',\n",
       " '9.0': '&'}"
      ]
     },
     "execution_count": 351,
     "metadata": {},
     "output_type": "execute_result"
    }
   ],
   "source": [
    "cat_celular = {1.0 : 1, '1.0' : 1, 1 : 1, '1' : 1,\n",
    "                 2.0: 2, '2.0' : 2, 2 : 2, '2' : 2,                 \n",
    "                 9.0: '&', '9.0' : '&', '9': '&'}\n",
    "cat_celular"
   ]
  },
  {
   "cell_type": "code",
   "execution_count": 352,
   "metadata": {},
   "outputs": [
    {
     "data": {
      "text/plain": [
       "&    102401\n",
       "2     37568\n",
       "1     20498\n",
       "Name: celular, dtype: int64"
      ]
     },
     "execution_count": 352,
     "metadata": {},
     "output_type": "execute_result"
    }
   ],
   "source": [
    "df_copy_vivienda.celular.replace(cat_celular, inplace=True)\n",
    "df_copy_vivienda.celular.value_counts(sort=True, ascending=False)"
   ]
  },
  {
   "cell_type": "markdown",
   "metadata": {},
   "source": [
    "#### Disponibilidad de línea telefónica fija `tel_fijo`\n",
    "Definición: Dispone de línea telefónica fija en la vivienda.\n",
    "    \n",
    "Valor Etiqueta\n",
    "+ 1 Sí\n",
    "+ 2 No\n",
    "+ & Representa un dato “No especificado”"
   ]
  },
  {
   "cell_type": "code",
   "execution_count": 353,
   "metadata": {
    "scrolled": true
   },
   "outputs": [
    {
     "data": {
      "text/plain": [
       "&      102401\n",
       "2.0     32124\n",
       "1.0     25942\n",
       "Name: tel_fijo, dtype: int64"
      ]
     },
     "execution_count": 353,
     "metadata": {},
     "output_type": "execute_result"
    }
   ],
   "source": [
    "df_copy_vivienda.tel_fijo = df_copy_vivienda.tel_fijo.astype('category')\n",
    "df_copy_vivienda.tel_fijo.value_counts()"
   ]
  },
  {
   "cell_type": "code",
   "execution_count": 354,
   "metadata": {},
   "outputs": [
    {
     "data": {
      "text/plain": [
       "{'1': 1,\n",
       " 1.0: 1,\n",
       " '1.0': 1,\n",
       " '2': 2,\n",
       " 2.0: 2,\n",
       " '2.0': 2,\n",
       " '9': '&',\n",
       " 9.0: '&',\n",
       " '9.0': '&'}"
      ]
     },
     "execution_count": 354,
     "metadata": {},
     "output_type": "execute_result"
    }
   ],
   "source": [
    "cat_tel_fijo = {1.0 : 1, '1.0' : 1, 1 : 1, '1' : 1,\n",
    "                 2.0: 2, '2.0' : 2, 2 : 2, '2' : 2,                 \n",
    "                 9.0: '&', '9.0' : '&', '9': '&'}\n",
    "cat_tel_fijo"
   ]
  },
  {
   "cell_type": "code",
   "execution_count": 355,
   "metadata": {},
   "outputs": [
    {
     "data": {
      "text/plain": [
       "&    102401\n",
       "2     32124\n",
       "1     25942\n",
       "Name: tel_fijo, dtype: int64"
      ]
     },
     "execution_count": 355,
     "metadata": {},
     "output_type": "execute_result"
    }
   ],
   "source": [
    "df_copy_vivienda.tel_fijo.replace(cat_tel_fijo, inplace=True)\n",
    "df_copy_vivienda.tel_fijo.value_counts(sort=True, ascending=False)"
   ]
  },
  {
   "cell_type": "markdown",
   "metadata": {},
   "source": [
    "#### Disponibilidad de internet `internet`\n",
    "Definición: Dispone de internet en la vivienda.\n",
    "    \n",
    "Valor Etiqueta\n",
    "+ 1 Sí\n",
    "+ 2 No\n",
    "+ & Representa un dato “No especificado”"
   ]
  },
  {
   "cell_type": "code",
   "execution_count": 356,
   "metadata": {
    "scrolled": true
   },
   "outputs": [
    {
     "data": {
      "text/plain": [
       "&      102401\n",
       "1.0     31229\n",
       "2.0     26837\n",
       "Name: internet, dtype: int64"
      ]
     },
     "execution_count": 356,
     "metadata": {},
     "output_type": "execute_result"
    }
   ],
   "source": [
    "df_copy_vivienda.internet = df_copy_vivienda.internet.astype('category')\n",
    "df_copy_vivienda.internet.value_counts()"
   ]
  },
  {
   "cell_type": "code",
   "execution_count": 357,
   "metadata": {},
   "outputs": [
    {
     "data": {
      "text/plain": [
       "{'1': 1,\n",
       " 1.0: 1,\n",
       " '1.0': 1,\n",
       " '2': 2,\n",
       " 2.0: 2,\n",
       " '2.0': 2,\n",
       " '9': '&',\n",
       " 9.0: '&',\n",
       " '9.0': '&'}"
      ]
     },
     "execution_count": 357,
     "metadata": {},
     "output_type": "execute_result"
    }
   ],
   "source": [
    "cat_internet = {1.0 : 1, '1.0' : 1, 1 : 1, '1' : 1,\n",
    "                 2.0: 2, '2.0' : 2, 2 : 2, '2' : 2,                 \n",
    "                 9.0: '&', '9.0' : '&', '9': '&'}\n",
    "cat_internet"
   ]
  },
  {
   "cell_type": "code",
   "execution_count": 358,
   "metadata": {},
   "outputs": [
    {
     "data": {
      "text/plain": [
       "&    102401\n",
       "1     31229\n",
       "2     26837\n",
       "Name: internet, dtype: int64"
      ]
     },
     "execution_count": 358,
     "metadata": {},
     "output_type": "execute_result"
    }
   ],
   "source": [
    "df_copy_vivienda.internet.replace(cat_internet, inplace=True)\n",
    "df_copy_vivienda.internet.value_counts(sort=True, ascending=False)"
   ]
  },
  {
   "cell_type": "markdown",
   "metadata": {},
   "source": [
    "#### Disponibilidad de servicio de televisión de paga `tv_paga`\n",
    "Definición: Dispone de servicio de televisión de paga en la vivienda.\n",
    "    \n",
    "Valor Etiqueta\n",
    "+ 1 Sí\n",
    "+ 2 No\n",
    "+ & Representa un dato “No especificado”"
   ]
  },
  {
   "cell_type": "code",
   "execution_count": 359,
   "metadata": {
    "scrolled": true
   },
   "outputs": [
    {
     "data": {
      "text/plain": [
       "&      102401\n",
       "1.0     50608\n",
       "2.0      7458\n",
       "Name: tv_paga, dtype: int64"
      ]
     },
     "execution_count": 359,
     "metadata": {},
     "output_type": "execute_result"
    }
   ],
   "source": [
    "df_copy_vivienda.tv_paga = df_copy_vivienda.tv_paga.astype('category')\n",
    "df_copy_vivienda.tv_paga.value_counts()"
   ]
  },
  {
   "cell_type": "code",
   "execution_count": 360,
   "metadata": {},
   "outputs": [
    {
     "data": {
      "text/plain": [
       "{'1': 1,\n",
       " 1.0: 1,\n",
       " '1.0': 1,\n",
       " '2': 2,\n",
       " 2.0: 2,\n",
       " '2.0': 2,\n",
       " '9': '&',\n",
       " 9.0: '&',\n",
       " '9.0': '&'}"
      ]
     },
     "execution_count": 360,
     "metadata": {},
     "output_type": "execute_result"
    }
   ],
   "source": [
    "cat_tv_paga = {1.0 : 1, '1.0' : 1, 1 : 1, '1' : 1,\n",
    "                 2.0: 2, '2.0' : 2, 2 : 2, '2' : 2,                 \n",
    "                 9.0: '&', '9.0' : '&', '9': '&'}\n",
    "cat_tv_paga"
   ]
  },
  {
   "cell_type": "code",
   "execution_count": 361,
   "metadata": {},
   "outputs": [
    {
     "data": {
      "text/plain": [
       "&    102401\n",
       "1     50608\n",
       "2      7458\n",
       "Name: tv_paga, dtype: int64"
      ]
     },
     "execution_count": 361,
     "metadata": {},
     "output_type": "execute_result"
    }
   ],
   "source": [
    "df_copy_vivienda.tv_paga.replace(cat_tv_paga, inplace=True)\n",
    "df_copy_vivienda.tv_paga.value_counts(sort=True, ascending=False)"
   ]
  },
  {
   "cell_type": "markdown",
   "metadata": {},
   "source": [
    "#### Disponibilidad de automóvil propio `auto_pick`\n",
    "Definición: Dispone de automóvil o camioneta (propia) en la vivienda.\n",
    "    \n",
    "Valor Etiqueta\n",
    "+ 1 Sí\n",
    "+ 2 No\n",
    "+ & Representa un dato “No especificado”"
   ]
  },
  {
   "cell_type": "code",
   "execution_count": 362,
   "metadata": {
    "scrolled": true
   },
   "outputs": [
    {
     "data": {
      "text/plain": [
       "&      102401\n",
       "2.0     32353\n",
       "1.0     25713\n",
       "Name: auto_pick, dtype: int64"
      ]
     },
     "execution_count": 362,
     "metadata": {},
     "output_type": "execute_result"
    }
   ],
   "source": [
    "df_copy_vivienda.auto_pick = df_copy_vivienda.auto_pick.astype('category')\n",
    "df_copy_vivienda.auto_pick.value_counts()"
   ]
  },
  {
   "cell_type": "code",
   "execution_count": 363,
   "metadata": {},
   "outputs": [
    {
     "data": {
      "text/plain": [
       "{'1': 1,\n",
       " 1.0: 1,\n",
       " '1.0': 1,\n",
       " '2': 2,\n",
       " 2.0: 2,\n",
       " '2.0': 2,\n",
       " '9': '&',\n",
       " 9.0: '&',\n",
       " '9.0': '&'}"
      ]
     },
     "execution_count": 363,
     "metadata": {},
     "output_type": "execute_result"
    }
   ],
   "source": [
    "cat_auto_pick = {1.0 : 1, '1.0' : 1, 1 : 1, '1' : 1,\n",
    "                 2.0: 2, '2.0' : 2, 2 : 2, '2' : 2,                 \n",
    "                 9.0: '&', '9.0' : '&', '9': '&'}\n",
    "cat_auto_pick"
   ]
  },
  {
   "cell_type": "code",
   "execution_count": 364,
   "metadata": {},
   "outputs": [
    {
     "data": {
      "text/plain": [
       "&    102401\n",
       "2     32353\n",
       "1     25713\n",
       "Name: auto_pick, dtype: int64"
      ]
     },
     "execution_count": 364,
     "metadata": {},
     "output_type": "execute_result"
    }
   ],
   "source": [
    "df_copy_vivienda.auto_pick.replace(cat_auto_pick, inplace=True)\n",
    "df_copy_vivienda.auto_pick.value_counts(sort=True, ascending=False)"
   ]
  },
  {
   "cell_type": "markdown",
   "metadata": {},
   "source": [
    "#### Total de residentes de la vivienda `tot_resid`\n",
    "Definición: Número de personas que habitan la vivienda.\n",
    "    \n",
    "Valor Etiqueta\n",
    "+ 1 +\n",
    "+ & Representa un dato “No especificado”\n",
    "\n",
    "Nota: Variable construida, es la suma de los registros de la tabla PERSONA y del total de trabajadores domésticos."
   ]
  },
  {
   "cell_type": "code",
   "execution_count": 365,
   "metadata": {
    "scrolled": true
   },
   "outputs": [
    {
     "data": {
      "text/plain": [
       "4     36666\n",
       "3     31158\n",
       "2     27013\n",
       "5     25822\n",
       "1     15098\n",
       "6     12327\n",
       "7      5977\n",
       "8      2921\n",
       "9      1587\n",
       "10      889\n",
       "11      454\n",
       "12      228\n",
       "13      140\n",
       "14       76\n",
       "15       53\n",
       "16       23\n",
       "17       10\n",
       "19        8\n",
       "20        8\n",
       "18        4\n",
       "22        2\n",
       "24        1\n",
       "21        1\n",
       "25        1\n",
       "Name: tot_resid, dtype: int64"
      ]
     },
     "execution_count": 365,
     "metadata": {},
     "output_type": "execute_result"
    }
   ],
   "source": [
    "df_copy_vivienda.tot_resid = df_copy_vivienda.tot_resid.astype('category')\n",
    "df_copy_vivienda.tot_resid.value_counts()"
   ]
  },
  {
   "cell_type": "markdown",
   "metadata": {},
   "source": [
    "#### Área geoestadística básica `ageb`\n",
    "Definición: Subdivisión de las AGEM y constituye la unidad básica del Marco Geoestadístico Nacional de acuerdo a las características del terreno se clasifican en dos tipos: Área geoestadística básica urbana y Área geoestadística básica rural.\n",
    "    \n",
    "Valor Etiqueta\n",
    "+ 1 +\n",
    "+ & Representa un dato “No especificado”\n"
   ]
  },
  {
   "cell_type": "code",
   "execution_count": 368,
   "metadata": {
    "scrolled": true
   },
   "outputs": [
    {
     "data": {
      "text/plain": [
       "005-4    508\n",
       "002-A    506\n",
       "002-0    498\n",
       "001-2    482\n",
       "005-1    482\n",
       "Name: ageb, dtype: int64"
      ]
     },
     "execution_count": 368,
     "metadata": {},
     "output_type": "execute_result"
    }
   ],
   "source": [
    "df_copy_vivienda.ageb = df_copy_vivienda.ageb.astype('category')\n",
    "df_copy_vivienda.ageb.value_counts().head()"
   ]
  },
  {
   "cell_type": "markdown",
   "metadata": {},
   "source": [
    "#### Tamaño de localidad `tam_loc` \n",
    "Definición: Tamaño de la localidad por número de habitantes.\n",
    "    \n",
    "Valor Etiqueta\n",
    "+ 1 Localidades con 100 000 y más habitantes\n",
    "+ 2 Localidades con 15 000 a 99 999 habitantes\n",
    "+ 3 Localidades con 2 500 a 14 999 habitantes\n",
    "+ 4 Localidades con menos de 2 500 habitantes\n",
    "+ & Representa un dato “No especificado”\n"
   ]
  },
  {
   "cell_type": "code",
   "execution_count": 370,
   "metadata": {
    "scrolled": true
   },
   "outputs": [
    {
     "data": {
      "text/plain": [
       "1    73099\n",
       "4    37906\n",
       "3    24893\n",
       "2    24569\n",
       "Name: tam_loc, dtype: int64"
      ]
     },
     "execution_count": 370,
     "metadata": {},
     "output_type": "execute_result"
    }
   ],
   "source": [
    "df_copy_vivienda.tam_loc = df_copy_vivienda.tam_loc.astype('category')\n",
    "df_copy_vivienda.tam_loc.value_counts()"
   ]
  },
  {
   "cell_type": "markdown",
   "metadata": {},
   "source": [
    "#### Estrato socioeconómico `est_socio` \n",
    "Definición: Clasificación de las viviendas del país de acuerdo a ciertas características socioeconómicas de las personas que las habitan, así como características físicas y el equipamiento de las mismas expresadas por medio de 24 indicadores construidos con información del Censo de Población y Vivienda 2010. Esta estratificación se realizó por medio de métodos estadísticos multivariados.\n",
    "    \n",
    "Valor Etiqueta\n",
    "+ 1 Bajo\n",
    "+ 2 Medio bajo\n",
    "+ 3 Medio alto\n",
    "+ 4 Alto\n",
    "+ & Representa un dato “No especificado”\n"
   ]
  },
  {
   "cell_type": "code",
   "execution_count": 371,
   "metadata": {
    "scrolled": true
   },
   "outputs": [
    {
     "data": {
      "text/plain": [
       "2    81079\n",
       "3    34886\n",
       "1    29748\n",
       "4    14754\n",
       "Name: est_socio, dtype: int64"
      ]
     },
     "execution_count": 371,
     "metadata": {},
     "output_type": "execute_result"
    }
   ],
   "source": [
    "df_copy_vivienda.est_socio = df_copy_vivienda.est_socio.astype('category')\n",
    "df_copy_vivienda.est_socio.value_counts()"
   ]
  },
  {
   "cell_type": "markdown",
   "metadata": {},
   "source": [
    "#### Estrato de diseño muestral `est_dis` \n",
    "Definición: Son los estratos seleccionados en la segunda etapa del muestreo y corresponden a grupos de UPMs de acuerdo con su estrato geográfico (entidad-ámbito-zona).\n",
    "    \n",
    "Valor Etiqueta\n",
    "+ 1 +\n",
    "+ & Representa un dato “No especificado”\n"
   ]
  },
  {
   "cell_type": "code",
   "execution_count": 373,
   "metadata": {
    "scrolled": true
   },
   "outputs": [
    {
     "data": {
      "text/plain": [
       "2    8669\n",
       "5    5884\n",
       "8    5491\n",
       "9    5079\n",
       "1    4327\n",
       "Name: est_dis, dtype: int64"
      ]
     },
     "execution_count": 373,
     "metadata": {},
     "output_type": "execute_result"
    }
   ],
   "source": [
    "df_copy_vivienda.est_dis = df_copy_vivienda.est_dis.astype('category')\n",
    "df_copy_vivienda.est_dis.value_counts().head()"
   ]
  },
  {
   "cell_type": "markdown",
   "metadata": {},
   "source": [
    "#### Unidad primaria de muestreo `upm`  \n",
    "Definición: Las unidades primarias de muestreo están constituidas por agrupaciones de viviendas con características diferenciadas dependiendo del ámbito al que pertenecen. Estas unidades son seleccionadas en la primera etapa del muestreo y corresponden a áreas geográficas con límites identificables en el terreno que agrupan un conjunto de viviendas, cuyo número dependedel tamaño de las localidades. \n",
    "    \n",
    "Valor Etiqueta\n",
    "+ 1 +\n",
    "+ & Representa un dato “No especificado”\n"
   ]
  },
  {
   "cell_type": "code",
   "execution_count": 374,
   "metadata": {
    "scrolled": true
   },
   "outputs": [
    {
     "data": {
      "text/plain": [
       "4410    81\n",
       "4610    75\n",
       "6400    74\n",
       "6160    72\n",
       "4420    71\n",
       "Name: upm, dtype: int64"
      ]
     },
     "execution_count": 374,
     "metadata": {},
     "output_type": "execute_result"
    }
   ],
   "source": [
    "df_copy_vivienda.upm = df_copy_vivienda.upm.astype('category')\n",
    "df_copy_vivienda.upm.value_counts().head()"
   ]
  },
  {
   "cell_type": "markdown",
   "metadata": {},
   "source": [
    "#### Factor de expansión `factor`\n",
    "Definición: El factor de expansión constituye el peso que se le da a cada unidad muestral para generalizar los resultados de la muestra a la población\n",
    "    \n",
    "Valor Etiqueta\n",
    "+ 1 +\n",
    "+ & Representa un dato “No especificado”\n"
   ]
  },
  {
   "cell_type": "code",
   "execution_count": 377,
   "metadata": {
    "scrolled": true
   },
   "outputs": [
    {
     "data": {
      "text/plain": [
       "&        102401\n",
       "134.0       246\n",
       "118.0       215\n",
       "196.0       208\n",
       "178.0       206\n",
       "Name: factor, dtype: int64"
      ]
     },
     "execution_count": 377,
     "metadata": {},
     "output_type": "execute_result"
    }
   ],
   "source": [
    "df_copy_vivienda.factor = df_copy_vivienda.factor.astype('category')\n",
    "df_copy_vivienda.factor.value_counts().head()"
   ]
  },
  {
   "cell_type": "markdown",
   "metadata": {},
   "source": [
    "#### Factor de expansión `factor_viv`\n",
    "Definición: El factor de expansión constituye el peso que se le da a cada unidad muestral para generalizar los resultados de la muestra a la población\n",
    "    \n",
    "Valor Etiqueta\n",
    "+ 1 +\n",
    "+ & Representa un dato “No especificado”\n"
   ]
  },
  {
   "cell_type": "code",
   "execution_count": 379,
   "metadata": {
    "scrolled": true
   },
   "outputs": [
    {
     "data": {
      "text/plain": [
       "&        58066\n",
       "237.0      292\n",
       "166.0      278\n",
       "216.0      274\n",
       "227.0      273\n",
       "Name: factor_viv, dtype: int64"
      ]
     },
     "execution_count": 379,
     "metadata": {},
     "output_type": "execute_result"
    }
   ],
   "source": [
    "df_copy_vivienda.factor_viv = df_copy_vivienda.factor_viv.astype('category')\n",
    "df_copy_vivienda.factor_viv.value_counts().head()"
   ]
  },
  {
   "cell_type": "code",
   "execution_count": 380,
   "metadata": {},
   "outputs": [],
   "source": [
    "#exportar csv\n",
    "\n",
    "path = '../../Datasets/ENH/dataframes/vivienda.csv'\n",
    "\n",
    "df_copy_vivienda.to_csv(path_or_buf=path, index=True, encoding='utf-8')"
   ]
  },
  {
   "cell_type": "code",
   "execution_count": null,
   "metadata": {},
   "outputs": [],
   "source": []
  }
 ],
 "metadata": {
  "kernelspec": {
   "display_name": "Python 3",
   "language": "python",
   "name": "python3"
  },
  "language_info": {
   "codemirror_mode": {
    "name": "ipython",
    "version": 3
   },
   "file_extension": ".py",
   "mimetype": "text/x-python",
   "name": "python",
   "nbconvert_exporter": "python",
   "pygments_lexer": "ipython3",
   "version": "3.6.4"
  }
 },
 "nbformat": 4,
 "nbformat_minor": 2
}
