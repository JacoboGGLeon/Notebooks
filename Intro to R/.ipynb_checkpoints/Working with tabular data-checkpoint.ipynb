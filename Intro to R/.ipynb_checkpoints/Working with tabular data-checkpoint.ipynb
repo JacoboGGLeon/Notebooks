{
 "cells": [
  {
   "cell_type": "markdown",
   "metadata": {},
   "source": [
    "# Working with tabular data in  R\n",
    "\n",
    "[Original source](https://cengel.github.io/R-intro/)"
   ]
  },
  {
   "cell_type": "markdown",
   "metadata": {},
   "source": [
    "Learning Objectives\n",
    "\n",
    "* Load external data from a `.csv` file into a `data.frame` in R with `read.csv()`.\n",
    "* Find basic properties of a data frames including size, class or type of the columns, names of rows and columns by using `str()`, `nrow()`, `ncol()`, `dim()`, `length()`, `colnames()`, `rownames()`.\n",
    "* Use `head()` and `tail()` to inspect rows of a data frame.\n",
    "* Generate _summary statistics_ for a data frame.\n",
    "* Use _indexing_ to select rows and columns.\n",
    "* Use _logical conditions_ to select rows and columns.\n",
    "* Add columns and rows to a data frame.\n",
    "* Manipulate categorical data with _factors_, `levels()` and `as.character()`.\n",
    "* Change how character strings are handled in a data frame.\n",
    "* Format dates in R and calculate time differences.\n",
    "* Use `df$new_col <- new_col` to add a new column to a data frame.\n",
    "* Use `cbind()` to add a new column to a data frame.\n",
    "* Use `rbind()` to add a new row to a data frame.\n",
    "* Use `na.omit()` to remove rows from a data frame with NA values."
   ]
  },
  {
   "cell_type": "markdown",
   "metadata": {},
   "source": [
    "## Loading tabular data"
   ]
  },
  {
   "cell_type": "markdown",
   "metadata": {},
   "source": [
    "We will be working a sample dataset from their repository [Stanford Open Policing Project](https://openpolicing.stanford.edu/data/). It contains information about traffic stops for blacks and whites in the state of Mississippi during January 2013 to mid-July of 2016."
   ]
  },
  {
   "cell_type": "markdown",
   "metadata": {},
   "source": [
    "We are going to use the R function `download.file()` to download the CSV file that contains the traffic stop data, and we will use `read.csv()` to load into memory the content of the CSV file as an object of class `data.frame`."
   ]
  },
  {
   "cell_type": "code",
   "execution_count": 2,
   "metadata": {},
   "outputs": [],
   "source": [
    "# To download the data into your local data/ subdirectory, run the following:\n",
    "download.file(\"https://github.com/cengel/R-intro/raw/master/data/MS_trafficstops_bw.csv\",\n",
    "              \"../../Datasets/MS_trafficstops_bw.csv\")"
   ]
  },
  {
   "cell_type": "code",
   "execution_count": 3,
   "metadata": {},
   "outputs": [],
   "source": [
    "# Load the data:\n",
    "trafficstops <- read.csv('../../Datasets/MS_trafficstops_bw.csv')"
   ]
  },
  {
   "cell_type": "markdown",
   "metadata": {},
   "source": [
    "This statement doesn’t produce any output because, as you might recall, assignments don’t display anything. If we want to check that our data has been loaded, we can print the variable’s value: `trafficstops`."
   ]
  },
  {
   "cell_type": "code",
   "execution_count": 4,
   "metadata": {},
   "outputs": [
    {
     "data": {
      "text/html": [
       "<table>\n",
       "<thead><tr><th scope=col>id</th><th scope=col>state</th><th scope=col>stop_date</th><th scope=col>county_name</th><th scope=col>county_fips</th><th scope=col>police_department</th><th scope=col>driver_gender</th><th scope=col>driver_birthdate</th><th scope=col>driver_race</th><th scope=col>violation_raw</th><th scope=col>officer_id</th></tr></thead>\n",
       "<tbody>\n",
       "\t<tr><td>MS-2013-00001                                              </td><td>MS                                                         </td><td>2013-01-01                                                 </td><td>Jones County                                               </td><td>28067                                                      </td><td>Mississippi Highway Patrol                                 </td><td>M                                                          </td><td>1950-06-14                                                 </td><td>Black                                                      </td><td>Seat belt not used properly as required                    </td><td>J042                                                       </td></tr>\n",
       "\t<tr><td>MS-2013-00002                                              </td><td>MS                                                         </td><td>2013-01-01                                                 </td><td>Lauderdale County                                          </td><td>28075                                                      </td><td>Mississippi Highway Patrol                                 </td><td>M                                                          </td><td>1967-04-06                                                 </td><td>Black                                                      </td><td>Careless driving                                           </td><td>B026                                                       </td></tr>\n",
       "\t<tr><td>MS-2013-00003                                              </td><td>MS                                                         </td><td>2013-01-01                                                 </td><td>Pike County                                                </td><td>28113                                                      </td><td>Mississippi Highway Patrol                                 </td><td>M                                                          </td><td>1974-04-15                                                 </td><td>Black                                                      </td><td>Speeding - Regulated or posted speed limit and actual speed</td><td>M009                                                       </td></tr>\n",
       "\t<tr><td>MS-2013-00004                                              </td><td>MS                                                         </td><td>2013-01-01                                                 </td><td>Hancock County                                             </td><td>28045                                                      </td><td>Mississippi Highway Patrol                                 </td><td>M                                                          </td><td>1981-03-23                                                 </td><td>White                                                      </td><td>Speeding - Regulated or posted speed limit and actual speed</td><td>K035                                                       </td></tr>\n",
       "\t<tr><td>MS-2013-00005                                              </td><td>MS                                                         </td><td>2013-01-01                                                 </td><td>Holmes County                                              </td><td>28051                                                      </td><td>Mississippi Highway Patrol                                 </td><td>M                                                          </td><td>1992-08-03                                                 </td><td>White                                                      </td><td>Speeding - Regulated or posted speed limit and actual speed</td><td>D028                                                       </td></tr>\n",
       "\t<tr><td>MS-2013-00006                                              </td><td>MS                                                         </td><td>2013-01-01                                                 </td><td>Jackson County                                             </td><td>28059                                                      </td><td>Mississippi Highway Patrol                                 </td><td>F                                                          </td><td>1960-05-02                                                 </td><td>White                                                      </td><td>Speeding - Regulated or posted speed limit and actual speed</td><td>K023                                                       </td></tr>\n",
       "</tbody>\n",
       "</table>\n"
      ],
      "text/latex": [
       "\\begin{tabular}{r|lllllllllll}\n",
       " id & state & stop\\_date & county\\_name & county\\_fips & police\\_department & driver\\_gender & driver\\_birthdate & driver\\_race & violation\\_raw & officer\\_id\\\\\n",
       "\\hline\n",
       "\t MS-2013-00001                                               & MS                                                          & 2013-01-01                                                  & Jones County                                                & 28067                                                       & Mississippi Highway Patrol                                  & M                                                           & 1950-06-14                                                  & Black                                                       & Seat belt not used properly as required                     & J042                                                       \\\\\n",
       "\t MS-2013-00002                                               & MS                                                          & 2013-01-01                                                  & Lauderdale County                                           & 28075                                                       & Mississippi Highway Patrol                                  & M                                                           & 1967-04-06                                                  & Black                                                       & Careless driving                                            & B026                                                       \\\\\n",
       "\t MS-2013-00003                                               & MS                                                          & 2013-01-01                                                  & Pike County                                                 & 28113                                                       & Mississippi Highway Patrol                                  & M                                                           & 1974-04-15                                                  & Black                                                       & Speeding - Regulated or posted speed limit and actual speed & M009                                                       \\\\\n",
       "\t MS-2013-00004                                               & MS                                                          & 2013-01-01                                                  & Hancock County                                              & 28045                                                       & Mississippi Highway Patrol                                  & M                                                           & 1981-03-23                                                  & White                                                       & Speeding - Regulated or posted speed limit and actual speed & K035                                                       \\\\\n",
       "\t MS-2013-00005                                               & MS                                                          & 2013-01-01                                                  & Holmes County                                               & 28051                                                       & Mississippi Highway Patrol                                  & M                                                           & 1992-08-03                                                  & White                                                       & Speeding - Regulated or posted speed limit and actual speed & D028                                                       \\\\\n",
       "\t MS-2013-00006                                               & MS                                                          & 2013-01-01                                                  & Jackson County                                              & 28059                                                       & Mississippi Highway Patrol                                  & F                                                           & 1960-05-02                                                  & White                                                       & Speeding - Regulated or posted speed limit and actual speed & K023                                                       \\\\\n",
       "\\end{tabular}\n"
      ],
      "text/markdown": [
       "\n",
       "id | state | stop_date | county_name | county_fips | police_department | driver_gender | driver_birthdate | driver_race | violation_raw | officer_id | \n",
       "|---|---|---|---|---|---|\n",
       "| MS-2013-00001                                               | MS                                                          | 2013-01-01                                                  | Jones County                                                | 28067                                                       | Mississippi Highway Patrol                                  | M                                                           | 1950-06-14                                                  | Black                                                       | Seat belt not used properly as required                     | J042                                                        | \n",
       "| MS-2013-00002                                               | MS                                                          | 2013-01-01                                                  | Lauderdale County                                           | 28075                                                       | Mississippi Highway Patrol                                  | M                                                           | 1967-04-06                                                  | Black                                                       | Careless driving                                            | B026                                                        | \n",
       "| MS-2013-00003                                               | MS                                                          | 2013-01-01                                                  | Pike County                                                 | 28113                                                       | Mississippi Highway Patrol                                  | M                                                           | 1974-04-15                                                  | Black                                                       | Speeding - Regulated or posted speed limit and actual speed | M009                                                        | \n",
       "| MS-2013-00004                                               | MS                                                          | 2013-01-01                                                  | Hancock County                                              | 28045                                                       | Mississippi Highway Patrol                                  | M                                                           | 1981-03-23                                                  | White                                                       | Speeding - Regulated or posted speed limit and actual speed | K035                                                        | \n",
       "| MS-2013-00005                                               | MS                                                          | 2013-01-01                                                  | Holmes County                                               | 28051                                                       | Mississippi Highway Patrol                                  | M                                                           | 1992-08-03                                                  | White                                                       | Speeding - Regulated or posted speed limit and actual speed | D028                                                        | \n",
       "| MS-2013-00006                                               | MS                                                          | 2013-01-01                                                  | Jackson County                                              | 28059                                                       | Mississippi Highway Patrol                                  | F                                                           | 1960-05-02                                                  | White                                                       | Speeding - Regulated or posted speed limit and actual speed | K023                                                        | \n",
       "\n",
       "\n"
      ],
      "text/plain": [
       "  id            state stop_date  county_name       county_fips\n",
       "1 MS-2013-00001 MS    2013-01-01 Jones County      28067      \n",
       "2 MS-2013-00002 MS    2013-01-01 Lauderdale County 28075      \n",
       "3 MS-2013-00003 MS    2013-01-01 Pike County       28113      \n",
       "4 MS-2013-00004 MS    2013-01-01 Hancock County    28045      \n",
       "5 MS-2013-00005 MS    2013-01-01 Holmes County     28051      \n",
       "6 MS-2013-00006 MS    2013-01-01 Jackson County    28059      \n",
       "  police_department          driver_gender driver_birthdate driver_race\n",
       "1 Mississippi Highway Patrol M             1950-06-14       Black      \n",
       "2 Mississippi Highway Patrol M             1967-04-06       Black      \n",
       "3 Mississippi Highway Patrol M             1974-04-15       Black      \n",
       "4 Mississippi Highway Patrol M             1981-03-23       White      \n",
       "5 Mississippi Highway Patrol M             1992-08-03       White      \n",
       "6 Mississippi Highway Patrol F             1960-05-02       White      \n",
       "  violation_raw                                               officer_id\n",
       "1 Seat belt not used properly as required                     J042      \n",
       "2 Careless driving                                            B026      \n",
       "3 Speeding - Regulated or posted speed limit and actual speed M009      \n",
       "4 Speeding - Regulated or posted speed limit and actual speed K035      \n",
       "5 Speeding - Regulated or posted speed limit and actual speed D028      \n",
       "6 Speeding - Regulated or posted speed limit and actual speed K023      "
      ]
     },
     "metadata": {},
     "output_type": "display_data"
    }
   ],
   "source": [
    "head(trafficstops)"
   ]
  },
  {
   "cell_type": "markdown",
   "metadata": {},
   "source": [
    "## Inspecting data.frame Objects"
   ]
  },
  {
   "cell_type": "markdown",
   "metadata": {},
   "source": [
    "A data frame in R is a special case of a list, and a representation of data where the columns are vectors that all have the same length. Because the columns are vectors, they all contain the same type of data (e.g., characters, integers, factors, etc.)."
   ]
  },
  {
   "cell_type": "code",
   "execution_count": 5,
   "metadata": {},
   "outputs": [
    {
     "name": "stdout",
     "output_type": "stream",
     "text": [
      "'data.frame':\t211211 obs. of  11 variables:\n",
      " $ id               : Factor w/ 211211 levels \"MS-2013-00001\",..: 1 2 3 4 5 6 7 8 9 10 ...\n",
      " $ state            : Factor w/ 1 level \"MS\": 1 1 1 1 1 1 1 1 1 1 ...\n",
      " $ stop_date        : Factor w/ 1288 levels \"2013-01-01\",\"2013-01-02\",..: 1 1 1 1 1 1 1 1 1 1 ...\n",
      " $ county_name      : Factor w/ 82 levels \"Adams County\",..: 34 38 57 23 26 30 30 22 26 26 ...\n",
      " $ county_fips      : int  28067 28075 28113 28045 28051 28059 28059 28043 28051 28051 ...\n",
      " $ police_department: Factor w/ 1 level \"Mississippi Highway Patrol\": 1 1 1 1 1 1 1 1 1 1 ...\n",
      " $ driver_gender    : Factor w/ 3 levels \"\",\"F\",\"M\": 3 3 3 3 3 2 2 2 3 3 ...\n",
      " $ driver_birthdate : Factor w/ 21423 levels \"\",\"1930-01-11\",..: 3558 9575 12137 14670 18820 7061 4504 19135 2755 15878 ...\n",
      " $ driver_race      : Factor w/ 3 levels \"\",\"Black\",\"White\": 2 2 2 3 3 3 3 3 3 3 ...\n",
      " $ violation_raw    : Factor w/ 19 levels \"??\",\"Careless driving\",..: 17 2 19 19 19 19 19 19 19 19 ...\n",
      " $ officer_id       : Factor w/ 897 levels \"\",\"A003\",\"A004\",..: 519 52 635 560 212 550 559 205 723 723 ...\n"
     ]
    }
   ],
   "source": [
    "#We can see this when inspecting the structure of a data frame with the function `str():` \n",
    "str(trafficstops)"
   ]
  },
  {
   "cell_type": "markdown",
   "metadata": {},
   "source": [
    "The functions `head()` and `str()` can be useful to check the content and the structure of a data frame. Here is a non-exhaustive list of functions to get a sense of the content/structure of the data. "
   ]
  },
  {
   "cell_type": "markdown",
   "metadata": {},
   "source": [
    "### Size"
   ]
  },
  {
   "cell_type": "code",
   "execution_count": 8,
   "metadata": {},
   "outputs": [
    {
     "data": {
      "text/html": [
       "<ol class=list-inline>\n",
       "\t<li>211211</li>\n",
       "\t<li>11</li>\n",
       "</ol>\n"
      ],
      "text/latex": [
       "\\begin{enumerate*}\n",
       "\\item 211211\n",
       "\\item 11\n",
       "\\end{enumerate*}\n"
      ],
      "text/markdown": [
       "1. 211211\n",
       "2. 11\n",
       "\n",
       "\n"
      ],
      "text/plain": [
       "[1] 211211     11"
      ]
     },
     "metadata": {},
     "output_type": "display_data"
    }
   ],
   "source": [
    "# returns a vector with he dimensions of the object (rows and columns)\n",
    "dim(trafficstops)"
   ]
  },
  {
   "cell_type": "code",
   "execution_count": 9,
   "metadata": {},
   "outputs": [
    {
     "data": {
      "text/html": [
       "211211"
      ],
      "text/latex": [
       "211211"
      ],
      "text/markdown": [
       "211211"
      ],
      "text/plain": [
       "[1] 211211"
      ]
     },
     "metadata": {},
     "output_type": "display_data"
    }
   ],
   "source": [
    "# returns the number of rows\n",
    "nrow(trafficstops)"
   ]
  },
  {
   "cell_type": "code",
   "execution_count": 10,
   "metadata": {},
   "outputs": [
    {
     "data": {
      "text/html": [
       "11"
      ],
      "text/latex": [
       "11"
      ],
      "text/markdown": [
       "11"
      ],
      "text/plain": [
       "[1] 11"
      ]
     },
     "metadata": {},
     "output_type": "display_data"
    }
   ],
   "source": [
    "# returns the number of columns\n",
    "ncol(trafficstops)"
   ]
  },
  {
   "cell_type": "code",
   "execution_count": 11,
   "metadata": {},
   "outputs": [
    {
     "data": {
      "text/html": [
       "11"
      ],
      "text/latex": [
       "11"
      ],
      "text/markdown": [
       "11"
      ],
      "text/plain": [
       "[1] 11"
      ]
     },
     "metadata": {},
     "output_type": "display_data"
    }
   ],
   "source": [
    "# returns number of columns\n",
    "length(trafficstops)"
   ]
  },
  {
   "cell_type": "markdown",
   "metadata": {},
   "source": [
    "### Content"
   ]
  },
  {
   "cell_type": "code",
   "execution_count": 15,
   "metadata": {},
   "outputs": [
    {
     "data": {
      "text/html": [
       "<table>\n",
       "<thead><tr><th scope=col>id</th><th scope=col>state</th><th scope=col>stop_date</th><th scope=col>county_name</th><th scope=col>county_fips</th><th scope=col>police_department</th><th scope=col>driver_gender</th><th scope=col>driver_birthdate</th><th scope=col>driver_race</th><th scope=col>violation_raw</th><th scope=col>officer_id</th></tr></thead>\n",
       "<tbody>\n",
       "\t<tr><td>MS-2013-00001                                              </td><td>MS                                                         </td><td>2013-01-01                                                 </td><td>Jones County                                               </td><td>28067                                                      </td><td>Mississippi Highway Patrol                                 </td><td>M                                                          </td><td>1950-06-14                                                 </td><td>Black                                                      </td><td>Seat belt not used properly as required                    </td><td>J042                                                       </td></tr>\n",
       "\t<tr><td>MS-2013-00002                                              </td><td>MS                                                         </td><td>2013-01-01                                                 </td><td>Lauderdale County                                          </td><td>28075                                                      </td><td>Mississippi Highway Patrol                                 </td><td>M                                                          </td><td>1967-04-06                                                 </td><td>Black                                                      </td><td>Careless driving                                           </td><td>B026                                                       </td></tr>\n",
       "\t<tr><td>MS-2013-00003                                              </td><td>MS                                                         </td><td>2013-01-01                                                 </td><td>Pike County                                                </td><td>28113                                                      </td><td>Mississippi Highway Patrol                                 </td><td>M                                                          </td><td>1974-04-15                                                 </td><td>Black                                                      </td><td>Speeding - Regulated or posted speed limit and actual speed</td><td>M009                                                       </td></tr>\n",
       "</tbody>\n",
       "</table>\n"
      ],
      "text/latex": [
       "\\begin{tabular}{r|lllllllllll}\n",
       " id & state & stop\\_date & county\\_name & county\\_fips & police\\_department & driver\\_gender & driver\\_birthdate & driver\\_race & violation\\_raw & officer\\_id\\\\\n",
       "\\hline\n",
       "\t MS-2013-00001                                               & MS                                                          & 2013-01-01                                                  & Jones County                                                & 28067                                                       & Mississippi Highway Patrol                                  & M                                                           & 1950-06-14                                                  & Black                                                       & Seat belt not used properly as required                     & J042                                                       \\\\\n",
       "\t MS-2013-00002                                               & MS                                                          & 2013-01-01                                                  & Lauderdale County                                           & 28075                                                       & Mississippi Highway Patrol                                  & M                                                           & 1967-04-06                                                  & Black                                                       & Careless driving                                            & B026                                                       \\\\\n",
       "\t MS-2013-00003                                               & MS                                                          & 2013-01-01                                                  & Pike County                                                 & 28113                                                       & Mississippi Highway Patrol                                  & M                                                           & 1974-04-15                                                  & Black                                                       & Speeding - Regulated or posted speed limit and actual speed & M009                                                       \\\\\n",
       "\\end{tabular}\n"
      ],
      "text/markdown": [
       "\n",
       "id | state | stop_date | county_name | county_fips | police_department | driver_gender | driver_birthdate | driver_race | violation_raw | officer_id | \n",
       "|---|---|---|\n",
       "| MS-2013-00001                                               | MS                                                          | 2013-01-01                                                  | Jones County                                                | 28067                                                       | Mississippi Highway Patrol                                  | M                                                           | 1950-06-14                                                  | Black                                                       | Seat belt not used properly as required                     | J042                                                        | \n",
       "| MS-2013-00002                                               | MS                                                          | 2013-01-01                                                  | Lauderdale County                                           | 28075                                                       | Mississippi Highway Patrol                                  | M                                                           | 1967-04-06                                                  | Black                                                       | Careless driving                                            | B026                                                        | \n",
       "| MS-2013-00003                                               | MS                                                          | 2013-01-01                                                  | Pike County                                                 | 28113                                                       | Mississippi Highway Patrol                                  | M                                                           | 1974-04-15                                                  | Black                                                       | Speeding - Regulated or posted speed limit and actual speed | M009                                                        | \n",
       "\n",
       "\n"
      ],
      "text/plain": [
       "  id            state stop_date  county_name       county_fips\n",
       "1 MS-2013-00001 MS    2013-01-01 Jones County      28067      \n",
       "2 MS-2013-00002 MS    2013-01-01 Lauderdale County 28075      \n",
       "3 MS-2013-00003 MS    2013-01-01 Pike County       28113      \n",
       "  police_department          driver_gender driver_birthdate driver_race\n",
       "1 Mississippi Highway Patrol M             1950-06-14       Black      \n",
       "2 Mississippi Highway Patrol M             1967-04-06       Black      \n",
       "3 Mississippi Highway Patrol M             1974-04-15       Black      \n",
       "  violation_raw                                               officer_id\n",
       "1 Seat belt not used properly as required                     J042      \n",
       "2 Careless driving                                            B026      \n",
       "3 Speeding - Regulated or posted speed limit and actual speed M009      "
      ]
     },
     "metadata": {},
     "output_type": "display_data"
    }
   ],
   "source": [
    "# shows the first 6 rows\n",
    "head(trafficstops, n=3)"
   ]
  },
  {
   "cell_type": "code",
   "execution_count": 14,
   "metadata": {},
   "outputs": [
    {
     "data": {
      "text/html": [
       "<table>\n",
       "<thead><tr><th></th><th scope=col>id</th><th scope=col>state</th><th scope=col>stop_date</th><th scope=col>county_name</th><th scope=col>county_fips</th><th scope=col>police_department</th><th scope=col>driver_gender</th><th scope=col>driver_birthdate</th><th scope=col>driver_race</th><th scope=col>violation_raw</th><th scope=col>officer_id</th></tr></thead>\n",
       "<tbody>\n",
       "\t<tr><th scope=row>211209</th><td>MS-2016-24295                                        </td><td>MS                                                   </td><td>2016-07-11                                           </td><td>Grenada County                                       </td><td>28043                                                </td><td>Mississippi Highway Patrol                           </td><td>M                                                    </td><td>1998-02-02                                           </td><td>White                                                </td><td>Seat belt not used properly as required              </td><td>D014                                                 </td></tr>\n",
       "\t<tr><th scope=row>211210</th><td>MS-2016-24296                                        </td><td>MS                                                   </td><td>2016-07-14                                           </td><td>Copiah County                                        </td><td>28029                                                </td><td>Mississippi Highway Patrol                           </td><td>F                                                    </td><td>1970-06-14                                           </td><td>White                                                </td><td>Expired or no non-commercial driver license or permit</td><td>C015                                                 </td></tr>\n",
       "\t<tr><th scope=row>211211</th><td>MS-2016-24297                                        </td><td>MS                                                   </td><td>2016-07-14                                           </td><td>Copiah County                                        </td><td>28029                                                </td><td>Mississippi Highway Patrol                           </td><td>M                                                    </td><td>1948-03-11                                           </td><td>White                                                </td><td>Seat belt not used properly as required              </td><td>C015                                                 </td></tr>\n",
       "</tbody>\n",
       "</table>\n"
      ],
      "text/latex": [
       "\\begin{tabular}{r|lllllllllll}\n",
       "  & id & state & stop\\_date & county\\_name & county\\_fips & police\\_department & driver\\_gender & driver\\_birthdate & driver\\_race & violation\\_raw & officer\\_id\\\\\n",
       "\\hline\n",
       "\t211209 & MS-2016-24295                                         & MS                                                    & 2016-07-11                                            & Grenada County                                        & 28043                                                 & Mississippi Highway Patrol                            & M                                                     & 1998-02-02                                            & White                                                 & Seat belt not used properly as required               & D014                                                 \\\\\n",
       "\t211210 & MS-2016-24296                                         & MS                                                    & 2016-07-14                                            & Copiah County                                         & 28029                                                 & Mississippi Highway Patrol                            & F                                                     & 1970-06-14                                            & White                                                 & Expired or no non-commercial driver license or permit & C015                                                 \\\\\n",
       "\t211211 & MS-2016-24297                                         & MS                                                    & 2016-07-14                                            & Copiah County                                         & 28029                                                 & Mississippi Highway Patrol                            & M                                                     & 1948-03-11                                            & White                                                 & Seat belt not used properly as required               & C015                                                 \\\\\n",
       "\\end{tabular}\n"
      ],
      "text/markdown": [
       "\n",
       "| <!--/--> | id | state | stop_date | county_name | county_fips | police_department | driver_gender | driver_birthdate | driver_race | violation_raw | officer_id | \n",
       "|---|---|---|\n",
       "| 211209 | MS-2016-24295                                         | MS                                                    | 2016-07-11                                            | Grenada County                                        | 28043                                                 | Mississippi Highway Patrol                            | M                                                     | 1998-02-02                                            | White                                                 | Seat belt not used properly as required               | D014                                                  | \n",
       "| 211210 | MS-2016-24296                                         | MS                                                    | 2016-07-14                                            | Copiah County                                         | 28029                                                 | Mississippi Highway Patrol                            | F                                                     | 1970-06-14                                            | White                                                 | Expired or no non-commercial driver license or permit | C015                                                  | \n",
       "| 211211 | MS-2016-24297                                         | MS                                                    | 2016-07-14                                            | Copiah County                                         | 28029                                                 | Mississippi Highway Patrol                            | M                                                     | 1948-03-11                                            | White                                                 | Seat belt not used properly as required               | C015                                                  | \n",
       "\n",
       "\n"
      ],
      "text/plain": [
       "       id            state stop_date  county_name    county_fips\n",
       "211209 MS-2016-24295 MS    2016-07-11 Grenada County 28043      \n",
       "211210 MS-2016-24296 MS    2016-07-14 Copiah County  28029      \n",
       "211211 MS-2016-24297 MS    2016-07-14 Copiah County  28029      \n",
       "       police_department          driver_gender driver_birthdate driver_race\n",
       "211209 Mississippi Highway Patrol M             1998-02-02       White      \n",
       "211210 Mississippi Highway Patrol F             1970-06-14       White      \n",
       "211211 Mississippi Highway Patrol M             1948-03-11       White      \n",
       "       violation_raw                                         officer_id\n",
       "211209 Seat belt not used properly as required               D014      \n",
       "211210 Expired or no non-commercial driver license or permit C015      \n",
       "211211 Seat belt not used properly as required               C015      "
      ]
     },
     "metadata": {},
     "output_type": "display_data"
    }
   ],
   "source": [
    "# shows the last 6 rows\n",
    "tail(trafficstops, n = 3)"
   ]
  },
  {
   "cell_type": "markdown",
   "metadata": {},
   "source": [
    "### Names"
   ]
  },
  {
   "cell_type": "code",
   "execution_count": 16,
   "metadata": {},
   "outputs": [
    {
     "data": {
      "text/html": [
       "<ol class=list-inline>\n",
       "\t<li>'id'</li>\n",
       "\t<li>'state'</li>\n",
       "\t<li>'stop_date'</li>\n",
       "\t<li>'county_name'</li>\n",
       "\t<li>'county_fips'</li>\n",
       "\t<li>'police_department'</li>\n",
       "\t<li>'driver_gender'</li>\n",
       "\t<li>'driver_birthdate'</li>\n",
       "\t<li>'driver_race'</li>\n",
       "\t<li>'violation_raw'</li>\n",
       "\t<li>'officer_id'</li>\n",
       "</ol>\n"
      ],
      "text/latex": [
       "\\begin{enumerate*}\n",
       "\\item 'id'\n",
       "\\item 'state'\n",
       "\\item 'stop\\_date'\n",
       "\\item 'county\\_name'\n",
       "\\item 'county\\_fips'\n",
       "\\item 'police\\_department'\n",
       "\\item 'driver\\_gender'\n",
       "\\item 'driver\\_birthdate'\n",
       "\\item 'driver\\_race'\n",
       "\\item 'violation\\_raw'\n",
       "\\item 'officer\\_id'\n",
       "\\end{enumerate*}\n"
      ],
      "text/markdown": [
       "1. 'id'\n",
       "2. 'state'\n",
       "3. 'stop_date'\n",
       "4. 'county_name'\n",
       "5. 'county_fips'\n",
       "6. 'police_department'\n",
       "7. 'driver_gender'\n",
       "8. 'driver_birthdate'\n",
       "9. 'driver_race'\n",
       "10. 'violation_raw'\n",
       "11. 'officer_id'\n",
       "\n",
       "\n"
      ],
      "text/plain": [
       " [1] \"id\"                \"state\"             \"stop_date\"        \n",
       " [4] \"county_name\"       \"county_fips\"       \"police_department\"\n",
       " [7] \"driver_gender\"     \"driver_birthdate\"  \"driver_race\"      \n",
       "[10] \"violation_raw\"     \"officer_id\"       "
      ]
     },
     "metadata": {},
     "output_type": "display_data"
    }
   ],
   "source": [
    "# returns the column names (synonym of colnames() for data.frame objects)\n",
    "names(trafficstops) "
   ]
  },
  {
   "cell_type": "code",
   "execution_count": 18,
   "metadata": {},
   "outputs": [],
   "source": [
    "# returns the row names\n",
    "#rownames(trafficstops)"
   ]
  },
  {
   "cell_type": "markdown",
   "metadata": {},
   "source": [
    "### Summary"
   ]
  },
  {
   "cell_type": "code",
   "execution_count": 19,
   "metadata": {},
   "outputs": [
    {
     "name": "stdout",
     "output_type": "stream",
     "text": [
      "'data.frame':\t211211 obs. of  11 variables:\n",
      " $ id               : Factor w/ 211211 levels \"MS-2013-00001\",..: 1 2 3 4 5 6 7 8 9 10 ...\n",
      " $ state            : Factor w/ 1 level \"MS\": 1 1 1 1 1 1 1 1 1 1 ...\n",
      " $ stop_date        : Factor w/ 1288 levels \"2013-01-01\",\"2013-01-02\",..: 1 1 1 1 1 1 1 1 1 1 ...\n",
      " $ county_name      : Factor w/ 82 levels \"Adams County\",..: 34 38 57 23 26 30 30 22 26 26 ...\n",
      " $ county_fips      : int  28067 28075 28113 28045 28051 28059 28059 28043 28051 28051 ...\n",
      " $ police_department: Factor w/ 1 level \"Mississippi Highway Patrol\": 1 1 1 1 1 1 1 1 1 1 ...\n",
      " $ driver_gender    : Factor w/ 3 levels \"\",\"F\",\"M\": 3 3 3 3 3 2 2 2 3 3 ...\n",
      " $ driver_birthdate : Factor w/ 21423 levels \"\",\"1930-01-11\",..: 3558 9575 12137 14670 18820 7061 4504 19135 2755 15878 ...\n",
      " $ driver_race      : Factor w/ 3 levels \"\",\"Black\",\"White\": 2 2 2 3 3 3 3 3 3 3 ...\n",
      " $ violation_raw    : Factor w/ 19 levels \"??\",\"Careless driving\",..: 17 2 19 19 19 19 19 19 19 19 ...\n",
      " $ officer_id       : Factor w/ 897 levels \"\",\"A003\",\"A004\",..: 519 52 635 560 212 550 559 205 723 723 ...\n"
     ]
    }
   ],
   "source": [
    "# structure of the object and information about the class, length and content of each column\n",
    "str(trafficstops)"
   ]
  },
  {
   "cell_type": "code",
   "execution_count": 20,
   "metadata": {},
   "outputs": [
    {
     "data": {
      "text/plain": [
       "             id         state            stop_date     \n",
       " MS-2013-00001:     1   MS:211211   2013-07-03:   491  \n",
       " MS-2013-00002:     1               2015-11-25:   488  \n",
       " MS-2013-00003:     1               2015-12-31:   483  \n",
       " MS-2013-00004:     1               2015-09-07:   436  \n",
       " MS-2013-00005:     1               2013-07-04:   430  \n",
       " MS-2013-00006:     1               2013-05-26:   420  \n",
       " (Other)      :211205               (Other)   :208463  \n",
       "            county_name      county_fips                     police_department \n",
       " Monroe County    : 10469   Min.   :28001   Mississippi Highway Patrol:211211  \n",
       " Lauderdale County:  8795   1st Qu.:28043                                      \n",
       " Jackson County   :  6759   Median :28075                                      \n",
       " Harrison County  :  6096   Mean   :28077                                      \n",
       " Copiah County    :  6086   3rd Qu.:28113                                      \n",
       " Hinds County     :  4993   Max.   :28163                                      \n",
       " (Other)          :168013                                                      \n",
       " driver_gender   driver_birthdate  driver_race   \n",
       "  :    28      1991-10-23:    60        :    28  \n",
       " F: 88440      1990-09-21:    51   Black: 98661  \n",
       " M:122743      1990-12-18:    50   White:112522  \n",
       "               1991-09-10:    50                 \n",
       "               1992-09-28:    49                 \n",
       "               1993-09-01:    49                 \n",
       "               (Other)   :210902                 \n",
       "                                                     violation_raw   \n",
       " Speeding - Regulated or posted speed limit and actual speed:125471  \n",
       " Failure to maintain required liability insurance           : 23052  \n",
       " Seat belt not used properly as required                    : 20254  \n",
       " ??                                                         : 13003  \n",
       " Driving while license suspended                            :  8535  \n",
       " Expired or no non-commercial driver license or permit      :  3941  \n",
       " (Other)                                                    : 16955  \n",
       "   officer_id    \n",
       " C055   :  2940  \n",
       " H038   :  2036  \n",
       " D028   :  1937  \n",
       " D025   :  1919  \n",
       " G040   :  1910  \n",
       " M003   :  1852  \n",
       " (Other):198617  "
      ]
     },
     "metadata": {},
     "output_type": "display_data"
    }
   ],
   "source": [
    "# summary statistics for each column\n",
    "summary(trafficstops)"
   ]
  },
  {
   "cell_type": "code",
   "execution_count": null,
   "metadata": {},
   "outputs": [],
   "source": []
  }
 ],
 "metadata": {
  "kernelspec": {
   "display_name": "R",
   "language": "R",
   "name": "ir"
  },
  "language_info": {
   "codemirror_mode": "r",
   "file_extension": ".r",
   "mimetype": "text/x-r-source",
   "name": "R",
   "pygments_lexer": "r",
   "version": "3.4.3"
  }
 },
 "nbformat": 4,
 "nbformat_minor": 2
}
