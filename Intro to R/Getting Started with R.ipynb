{
 "cells": [
  {
   "cell_type": "markdown",
   "metadata": {},
   "source": [
    "# Getting Started with R\n",
    "\n",
    "[Original source](https://cengel.github.io/R-intro/)"
   ]
  },
  {
   "cell_type": "markdown",
   "metadata": {},
   "source": [
    "## Creating objects in R"
   ]
  },
  {
   "cell_type": "markdown",
   "metadata": {},
   "source": [
    "doesn't print anything"
   ]
  },
  {
   "cell_type": "code",
   "execution_count": 6,
   "metadata": {},
   "outputs": [],
   "source": [
    "weight_kg <- 55"
   ]
  },
  {
   "cell_type": "markdown",
   "metadata": {},
   "source": [
    "but putting parenthesis around the call prints the value of `weight_kg`"
   ]
  },
  {
   "cell_type": "code",
   "execution_count": 4,
   "metadata": {},
   "outputs": [
    {
     "data": {
      "text/html": [
       "55"
      ],
      "text/latex": [
       "55"
      ],
      "text/markdown": [
       "55"
      ],
      "text/plain": [
       "[1] 55"
      ]
     },
     "metadata": {},
     "output_type": "display_data"
    }
   ],
   "source": [
    "(weight_kg <- 55)"
   ]
  },
  {
   "cell_type": "markdown",
   "metadata": {},
   "source": [
    "and so does typing the name of the object"
   ]
  },
  {
   "cell_type": "code",
   "execution_count": 5,
   "metadata": {},
   "outputs": [
    {
     "data": {
      "text/html": [
       "55"
      ],
      "text/latex": [
       "55"
      ],
      "text/markdown": [
       "55"
      ],
      "text/plain": [
       "[1] 55"
      ]
     },
     "metadata": {},
     "output_type": "display_data"
    }
   ],
   "source": [
    "weight_kg "
   ]
  },
  {
   "cell_type": "markdown",
   "metadata": {},
   "source": [
    "For instance, we may want to convert this weight into pounds (weight in pounds is 2.2 times the weight in kg):"
   ]
  },
  {
   "cell_type": "code",
   "execution_count": 7,
   "metadata": {},
   "outputs": [
    {
     "data": {
      "text/html": [
       "121"
      ],
      "text/latex": [
       "121"
      ],
      "text/markdown": [
       "121"
      ],
      "text/plain": [
       "[1] 121"
      ]
     },
     "metadata": {},
     "output_type": "display_data"
    }
   ],
   "source": [
    "2.2 * weight_kg"
   ]
  },
  {
   "cell_type": "markdown",
   "metadata": {},
   "source": [
    "We can also change a variable’s value by assigning it a new one:"
   ]
  },
  {
   "cell_type": "code",
   "execution_count": 8,
   "metadata": {},
   "outputs": [
    {
     "data": {
      "text/html": [
       "126.5"
      ],
      "text/latex": [
       "126.5"
      ],
      "text/markdown": [
       "126.5"
      ],
      "text/plain": [
       "[1] 126.5"
      ]
     },
     "metadata": {},
     "output_type": "display_data"
    }
   ],
   "source": [
    "weight_kg <- 57.5\n",
    "2.2 * weight_kg"
   ]
  },
  {
   "cell_type": "markdown",
   "metadata": {},
   "source": [
    "let’s store the weight in pounds in a new variable,"
   ]
  },
  {
   "cell_type": "code",
   "execution_count": 9,
   "metadata": {},
   "outputs": [],
   "source": [
    "weight_lb <- 2.2 * weight_kg"
   ]
  },
  {
   "cell_type": "markdown",
   "metadata": {},
   "source": [
    "Challenge\n",
    "What do you think is the current content of the object weight_lb? 126.5 or 220?"
   ]
  },
  {
   "cell_type": "code",
   "execution_count": 10,
   "metadata": {},
   "outputs": [
    {
     "data": {
      "text/html": [
       "126.5"
      ],
      "text/latex": [
       "126.5"
      ],
      "text/markdown": [
       "126.5"
      ],
      "text/plain": [
       "[1] 126.5"
      ]
     },
     "metadata": {},
     "output_type": "display_data"
    }
   ],
   "source": [
    "weight_lb"
   ]
  },
  {
   "cell_type": "markdown",
   "metadata": {},
   "source": [
    "### Functions and their arguments"
   ]
  },
  {
   "cell_type": "markdown",
   "metadata": {},
   "source": [
    "A function usually gets one or more inputs called arguments. Functions often (but not always) return a value."
   ]
  },
  {
   "cell_type": "markdown",
   "metadata": {},
   "source": [
    "An example of a function call is:"
   ]
  },
  {
   "cell_type": "code",
   "execution_count": 15,
   "metadata": {},
   "outputs": [
    {
     "data": {
      "text/html": [
       "3"
      ],
      "text/latex": [
       "3"
      ],
      "text/markdown": [
       "3"
      ],
      "text/plain": [
       "[1] 3"
      ]
     },
     "metadata": {},
     "output_type": "display_data"
    }
   ],
   "source": [
    "a <- 3.1416\n",
    "b <- round(a)\n",
    "b"
   ]
  },
  {
   "cell_type": "markdown",
   "metadata": {},
   "source": [
    "We can use `args(function)` or look at the help for this function using `?function`."
   ]
  },
  {
   "cell_type": "code",
   "execution_count": 13,
   "metadata": {},
   "outputs": [
    {
     "data": {
      "text/html": [
       "<pre class=language-r><code>function (x, digits = 0) \n",
       "NULL</code></pre>"
      ],
      "text/latex": [
       "\\begin{minted}{r}\n",
       "function (x, digits = 0) \n",
       "NULL\n",
       "\\end{minted}"
      ],
      "text/markdown": [
       "```r\n",
       "function (x, digits = 0) \n",
       "NULL\n",
       "```"
      ],
      "text/plain": [
       "function (x, digits = 0) \n",
       "NULL"
      ]
     },
     "metadata": {},
     "output_type": "display_data"
    }
   ],
   "source": [
    "args(round)"
   ]
  },
  {
   "cell_type": "code",
   "execution_count": 14,
   "metadata": {},
   "outputs": [
    {
     "data": {
      "text/html": [
       "\n",
       "<table width=\"100%\" summary=\"page for Round {base}\"><tr><td>Round {base}</td><td style=\"text-align: right;\">R Documentation</td></tr></table>\n",
       "\n",
       "<h2>Rounding of Numbers</h2>\n",
       "\n",
       "<h3>Description</h3>\n",
       "\n",
       "<p><code>ceiling</code> takes a single numeric argument <code>x</code> and returns a\n",
       "numeric vector containing the smallest integers not less than the\n",
       "corresponding elements of <code>x</code>.\n",
       "</p>\n",
       "<p><code>floor</code> takes a single numeric argument <code>x</code> and returns a\n",
       "numeric vector containing the largest integers not greater than the\n",
       "corresponding elements of <code>x</code>.\n",
       "</p>\n",
       "<p><code>trunc</code> takes a single numeric argument <code>x</code> and returns a\n",
       "numeric vector containing the integers formed by truncating the values in\n",
       "<code>x</code> toward <code>0</code>.\n",
       "</p>\n",
       "<p><code>round</code> rounds the values in its first argument to the specified\n",
       "number of decimal places (default 0).\n",
       "</p>\n",
       "<p><code>signif</code> rounds the values in its first argument to the specified\n",
       "number of significant digits.\n",
       "</p>\n",
       "\n",
       "\n",
       "<h3>Usage</h3>\n",
       "\n",
       "<pre>\n",
       "ceiling(x)\n",
       "floor(x)\n",
       "trunc(x, ...)\n",
       "\n",
       "round(x, digits = 0)\n",
       "signif(x, digits = 6)\n",
       "</pre>\n",
       "\n",
       "\n",
       "<h3>Arguments</h3>\n",
       "\n",
       "<table summary=\"R argblock\">\n",
       "<tr valign=\"top\"><td><code>x</code></td>\n",
       "<td>\n",
       "<p>a numeric vector.  Or, for <code>round</code> and <code>signif</code>, a\n",
       "complex vector.</p>\n",
       "</td></tr>\n",
       "<tr valign=\"top\"><td><code>digits</code></td>\n",
       "<td>\n",
       "<p>integer indicating the number of decimal places\n",
       "(<code>round</code>) or significant digits (<code>signif</code>) to be used.\n",
       "Negative values are allowed (see &lsquo;Details&rsquo;).</p>\n",
       "</td></tr>\n",
       "<tr valign=\"top\"><td><code>...</code></td>\n",
       "<td>\n",
       "<p>arguments to be passed to methods.</p>\n",
       "</td></tr>\n",
       "</table>\n",
       "\n",
       "\n",
       "<h3>Details</h3>\n",
       "\n",
       "<p>These are generic functions: methods can be defined for them\n",
       "individually or via the <code>Math</code> group\n",
       "generic.\n",
       "</p>\n",
       "<p>Note that for rounding off a 5, the IEC 60559 standard is expected to\n",
       "be used, &lsquo;<em>go to the even digit</em>&rsquo;.\n",
       "Therefore <code>round(0.5)</code> is <code>0</code> and <code>round(-1.5)</code> is\n",
       "<code>-2</code>.  However, this is dependent on OS services and on\n",
       "representation error (since e.g. <code>0.15</code> is not represented\n",
       "exactly, the rounding rule applies to the represented number and not\n",
       "to the printed number, and so <code>round(0.15, 1)</code> could be either\n",
       "<code>0.1</code> or <code>0.2</code>).\n",
       "</p>\n",
       "<p>Rounding to a negative number of digits means rounding to a power of\n",
       "ten, so for example <code>round(x, digits = -2)</code> rounds to the nearest\n",
       "hundred.\n",
       "</p>\n",
       "<p>For <code>signif</code> the recognized values of <code>digits</code> are\n",
       "<code>1...22</code>, and non-missing values are rounded to the nearest\n",
       "integer in that range.  Complex numbers are rounded to retain the\n",
       "specified number of digits in the larger of the components.  Each\n",
       "element of the vector is rounded individually, unlike printing.\n",
       "</p>\n",
       "<p>These are all primitive functions.\n",
       "</p>\n",
       "\n",
       "\n",
       "<h3>S4 methods</h3>\n",
       "\n",
       "<p>These are all (internally) S4 generic.\n",
       "</p>\n",
       "<p><code>ceiling</code>, <code>floor</code> and <code>trunc</code> are members of the\n",
       "<code>Math</code> group generic.  As an S4\n",
       "generic, <code>trunc</code> has only one argument.\n",
       "</p>\n",
       "<p><code>round</code> and <code>signif</code> are members of the\n",
       "<code>Math2</code> group generic.\n",
       "</p>\n",
       "\n",
       "\n",
       "<h3>Warning</h3>\n",
       "\n",
       "<p>The realities of computer arithmetic can cause unexpected results,\n",
       "especially with <code>floor</code> and <code>ceiling</code>.  For example, we\n",
       "&lsquo;know&rsquo; that <code>floor(log(x, base = 8))</code> for <code>x = 8</code> is\n",
       "<code>1</code>, but <code>0</code> has been seen on an <span style=\"font-family: Courier New, Courier; color: #666666;\"><b>R</b></span> platform.  It is\n",
       "normally necessary to use a tolerance.\n",
       "</p>\n",
       "\n",
       "\n",
       "<h3>References</h3>\n",
       "\n",
       "<p>Becker, R. A., Chambers, J. M. and Wilks, A. R. (1988)\n",
       "<em>The New S Language</em>.  Wadsworth &amp; Brooks/Cole.\n",
       "</p>\n",
       "\n",
       "\n",
       "<h3>See Also</h3>\n",
       "\n",
       "<p><code>as.integer</code>.\n",
       "</p>\n",
       "\n",
       "\n",
       "<h3>Examples</h3>\n",
       "\n",
       "<pre>\n",
       "round(.5 + -2:4) # IEEE rounding: -2  0  0  2  2  4  4\n",
       "( x1 &lt;- seq(-2, 4, by = .5) )\n",
       "round(x1) #-- IEEE rounding !\n",
       "x1[trunc(x1) != floor(x1)]\n",
       "x1[round(x1) != floor(x1 + .5)]\n",
       "(non.int &lt;- ceiling(x1) != floor(x1))\n",
       "\n",
       "x2 &lt;- pi * 100^(-1:3)\n",
       "round(x2, 3)\n",
       "signif(x2, 3)\n",
       "</pre>\n",
       "\n",
       "<hr /><div style=\"text-align: center;\">[Package <em>base</em> version 3.4.3 ]</div>"
      ],
      "text/latex": [
       "\\inputencoding{utf8}\n",
       "\\HeaderA{Round}{Rounding of Numbers}{Round}\n",
       "\\aliasA{ceiling}{Round}{ceiling}\n",
       "\\aliasA{floor}{Round}{floor}\n",
       "\\aliasA{round}{Round}{round}\n",
       "\\aliasA{signif}{Round}{signif}\n",
       "\\aliasA{trunc}{Round}{trunc}\n",
       "\\keyword{arith}{Round}\n",
       "%\n",
       "\\begin{Description}\\relax\n",
       "\\code{ceiling} takes a single numeric argument \\code{x} and returns a\n",
       "numeric vector containing the smallest integers not less than the\n",
       "corresponding elements of \\code{x}.\n",
       "\n",
       "\\code{floor} takes a single numeric argument \\code{x} and returns a\n",
       "numeric vector containing the largest integers not greater than the\n",
       "corresponding elements of \\code{x}.\n",
       "\n",
       "\\code{trunc} takes a single numeric argument \\code{x} and returns a\n",
       "numeric vector containing the integers formed by truncating the values in\n",
       "\\code{x} toward \\code{0}.\n",
       "\n",
       "\\code{round} rounds the values in its first argument to the specified\n",
       "number of decimal places (default 0).\n",
       "\n",
       "\\code{signif} rounds the values in its first argument to the specified\n",
       "number of significant digits.\n",
       "\\end{Description}\n",
       "%\n",
       "\\begin{Usage}\n",
       "\\begin{verbatim}\n",
       "ceiling(x)\n",
       "floor(x)\n",
       "trunc(x, ...)\n",
       "\n",
       "round(x, digits = 0)\n",
       "signif(x, digits = 6)\n",
       "\\end{verbatim}\n",
       "\\end{Usage}\n",
       "%\n",
       "\\begin{Arguments}\n",
       "\\begin{ldescription}\n",
       "\\item[\\code{x}] a numeric vector.  Or, for \\code{round} and \\code{signif}, a\n",
       "complex vector.\n",
       "\n",
       "\\item[\\code{digits}] integer indicating the number of decimal places\n",
       "(\\code{round}) or significant digits (\\code{signif}) to be used.\n",
       "Negative values are allowed (see `Details').\n",
       "\n",
       "\\item[\\code{...}] arguments to be passed to methods.\n",
       "\\end{ldescription}\n",
       "\\end{Arguments}\n",
       "%\n",
       "\\begin{Details}\\relax\n",
       "These are generic functions: methods can be defined for them\n",
       "individually or via the \\code{\\LinkA{Math}{S3groupGeneric}} group\n",
       "generic.\n",
       "\n",
       "Note that for rounding off a 5, the IEC 60559 standard is expected to\n",
       "be used, `\\emph{go to the even digit}'.\n",
       "Therefore \\code{round(0.5)} is \\code{0} and \\code{round(-1.5)} is\n",
       "\\code{-2}.  However, this is dependent on OS services and on\n",
       "representation error (since e.g.~\\code{0.15} is not represented\n",
       "exactly, the rounding rule applies to the represented number and not\n",
       "to the printed number, and so \\code{round(0.15, 1)} could be either\n",
       "\\code{0.1} or \\code{0.2}).\n",
       "\n",
       "Rounding to a negative number of digits means rounding to a power of\n",
       "ten, so for example \\code{round(x, digits = -2)} rounds to the nearest\n",
       "hundred.\n",
       "\n",
       "For \\code{signif} the recognized values of \\code{digits} are\n",
       "\\code{1...22}, and non-missing values are rounded to the nearest\n",
       "integer in that range.  Complex numbers are rounded to retain the\n",
       "specified number of digits in the larger of the components.  Each\n",
       "element of the vector is rounded individually, unlike printing.\n",
       "\n",
       "These are all primitive functions.\n",
       "\\end{Details}\n",
       "%\n",
       "\\begin{Section}{S4 methods}\n",
       "These are all (internally) S4 generic.\n",
       "\n",
       "\\code{ceiling}, \\code{floor} and \\code{trunc} are members of the\n",
       "\\code{\\LinkA{Math}{S4groupGeneric}} group generic.  As an S4\n",
       "generic, \\code{trunc} has only one argument.\n",
       "\n",
       "\\code{round} and \\code{signif} are members of the\n",
       "\\code{\\LinkA{Math2}{S4groupGeneric}} group generic.\n",
       "\\end{Section}\n",
       "%\n",
       "\\begin{Section}{Warning}\n",
       "The realities of computer arithmetic can cause unexpected results,\n",
       "especially with \\code{floor} and \\code{ceiling}.  For example, we\n",
       "`know' that \\code{floor(log(x, base = 8))} for \\code{x = 8} is\n",
       "\\code{1}, but \\code{0} has been seen on an \\R{} platform.  It is\n",
       "normally necessary to use a tolerance.\n",
       "\\end{Section}\n",
       "%\n",
       "\\begin{References}\\relax\n",
       "Becker, R. A., Chambers, J. M. and Wilks, A. R. (1988)\n",
       "\\emph{The New S Language}.  Wadsworth \\& Brooks/Cole.\n",
       "\\end{References}\n",
       "%\n",
       "\\begin{SeeAlso}\\relax\n",
       "\\code{\\LinkA{as.integer}{as.integer}}.\n",
       "\\end{SeeAlso}\n",
       "%\n",
       "\\begin{Examples}\n",
       "\\begin{ExampleCode}\n",
       "round(.5 + -2:4) # IEEE rounding: -2  0  0  2  2  4  4\n",
       "( x1 <- seq(-2, 4, by = .5) )\n",
       "round(x1) #-- IEEE rounding !\n",
       "x1[trunc(x1) != floor(x1)]\n",
       "x1[round(x1) != floor(x1 + .5)]\n",
       "(non.int <- ceiling(x1) != floor(x1))\n",
       "\n",
       "x2 <- pi * 100^(-1:3)\n",
       "round(x2, 3)\n",
       "signif(x2, 3)\n",
       "\\end{ExampleCode}\n",
       "\\end{Examples}"
      ],
      "text/plain": [
       "Round                   package:base                   R Documentation\n",
       "\n",
       "_\bR_\bo_\bu_\bn_\bd_\bi_\bn_\bg _\bo_\bf _\bN_\bu_\bm_\bb_\be_\br_\bs\n",
       "\n",
       "_\bD_\be_\bs_\bc_\br_\bi_\bp_\bt_\bi_\bo_\bn:\n",
       "\n",
       "     ‘ceiling’ takes a single numeric argument ‘x’ and returns a\n",
       "     numeric vector containing the smallest integers not less than the\n",
       "     corresponding elements of ‘x’.\n",
       "\n",
       "     ‘floor’ takes a single numeric argument ‘x’ and returns a numeric\n",
       "     vector containing the largest integers not greater than the\n",
       "     corresponding elements of ‘x’.\n",
       "\n",
       "     ‘trunc’ takes a single numeric argument ‘x’ and returns a numeric\n",
       "     vector containing the integers formed by truncating the values in\n",
       "     ‘x’ toward ‘0’.\n",
       "\n",
       "     ‘round’ rounds the values in its first argument to the specified\n",
       "     number of decimal places (default 0).\n",
       "\n",
       "     ‘signif’ rounds the values in its first argument to the specified\n",
       "     number of significant digits.\n",
       "\n",
       "_\bU_\bs_\ba_\bg_\be:\n",
       "\n",
       "     ceiling(x)\n",
       "     floor(x)\n",
       "     trunc(x, ...)\n",
       "     \n",
       "     round(x, digits = 0)\n",
       "     signif(x, digits = 6)\n",
       "     \n",
       "_\bA_\br_\bg_\bu_\bm_\be_\bn_\bt_\bs:\n",
       "\n",
       "       x: a numeric vector.  Or, for ‘round’ and ‘signif’, a complex\n",
       "          vector.\n",
       "\n",
       "  digits: integer indicating the number of decimal places (‘round’) or\n",
       "          significant digits (‘signif’) to be used.  Negative values\n",
       "          are allowed (see ‘Details’).\n",
       "\n",
       "     ...: arguments to be passed to methods.\n",
       "\n",
       "_\bD_\be_\bt_\ba_\bi_\bl_\bs:\n",
       "\n",
       "     These are generic functions: methods can be defined for them\n",
       "     individually or via the ‘Math’ group generic.\n",
       "\n",
       "     Note that for rounding off a 5, the IEC 60559 standard is expected\n",
       "     to be used, ‘_go to the even digit_’.  Therefore ‘round(0.5)’ is\n",
       "     ‘0’ and ‘round(-1.5)’ is ‘-2’.  However, this is dependent on OS\n",
       "     services and on representation error (since e.g. ‘0.15’ is not\n",
       "     represented exactly, the rounding rule applies to the represented\n",
       "     number and not to the printed number, and so ‘round(0.15, 1)’\n",
       "     could be either ‘0.1’ or ‘0.2’).\n",
       "\n",
       "     Rounding to a negative number of digits means rounding to a power\n",
       "     of ten, so for example ‘round(x, digits = -2)’ rounds to the\n",
       "     nearest hundred.\n",
       "\n",
       "     For ‘signif’ the recognized values of ‘digits’ are ‘1...22’, and\n",
       "     non-missing values are rounded to the nearest integer in that\n",
       "     range.  Complex numbers are rounded to retain the specified number\n",
       "     of digits in the larger of the components.  Each element of the\n",
       "     vector is rounded individually, unlike printing.\n",
       "\n",
       "     These are all primitive functions.\n",
       "\n",
       "_\bS_\b4 _\bm_\be_\bt_\bh_\bo_\bd_\bs:\n",
       "\n",
       "     These are all (internally) S4 generic.\n",
       "\n",
       "     ‘ceiling’, ‘floor’ and ‘trunc’ are members of the ‘Math’ group\n",
       "     generic.  As an S4 generic, ‘trunc’ has only one argument.\n",
       "\n",
       "     ‘round’ and ‘signif’ are members of the ‘Math2’ group generic.\n",
       "\n",
       "_\bW_\ba_\br_\bn_\bi_\bn_\bg:\n",
       "\n",
       "     The realities of computer arithmetic can cause unexpected results,\n",
       "     especially with ‘floor’ and ‘ceiling’.  For example, we ‘know’\n",
       "     that ‘floor(log(x, base = 8))’ for ‘x = 8’ is ‘1’, but ‘0’ has\n",
       "     been seen on an R platform.  It is normally necessary to use a\n",
       "     tolerance.\n",
       "\n",
       "_\bR_\be_\bf_\be_\br_\be_\bn_\bc_\be_\bs:\n",
       "\n",
       "     Becker, R. A., Chambers, J. M. and Wilks, A. R. (1988) _The New S\n",
       "     Language_.  Wadsworth & Brooks/Cole.\n",
       "\n",
       "_\bS_\be_\be _\bA_\bl_\bs_\bo:\n",
       "\n",
       "     ‘as.integer’.\n",
       "\n",
       "_\bE_\bx_\ba_\bm_\bp_\bl_\be_\bs:\n",
       "\n",
       "     round(.5 + -2:4) # IEEE rounding: -2  0  0  2  2  4  4\n",
       "     ( x1 <- seq(-2, 4, by = .5) )\n",
       "     round(x1) #-- IEEE rounding !\n",
       "     x1[trunc(x1) != floor(x1)]\n",
       "     x1[round(x1) != floor(x1 + .5)]\n",
       "     (non.int <- ceiling(x1) != floor(x1))\n",
       "     \n",
       "     x2 <- pi * 100^(-1:3)\n",
       "     round(x2, 3)\n",
       "     signif(x2, 3)\n",
       "     "
      ]
     },
     "metadata": {},
     "output_type": "display_data"
    }
   ],
   "source": [
    "?round"
   ]
  },
  {
   "cell_type": "code",
   "execution_count": 111,
   "metadata": {},
   "outputs": [
    {
     "data": {},
     "metadata": {},
     "output_type": "display_data"
    },
    {
     "data": {
      "text/plain": [
       "R Information\n",
       "\n",
       "Vignettes with name or keyword or title matching ‘round’ using fuzzy\n",
       "matching:\n",
       "\n",
       "\n",
       "survival::tiedtimes     Roundoff error and tied times\n",
       "\n",
       "\n",
       "Type 'vignette(\"FOO\", package=\"PKG\")' to inspect entries 'PKG::FOO'.\n",
       "\n",
       "\n",
       "\n",
       "Demos with name or title matching ‘round’ using fuzzy matching:\n",
       "\n",
       "\n",
       "sp::webmap              OpenStreetMap or google map backgrounds in\n",
       "                        sp::plot and sp::spplot, using ggmap or\n",
       "                        RgoogleMaps maps\n",
       "\n",
       "\n",
       "Type 'demo(PKG::FOO)' to run demonstration 'PKG::FOO'.\n",
       "\n",
       "\n",
       "\n",
       "Help files with alias or concept or title matching ‘round’ using fuzzy\n",
       "matching:\n",
       "\n",
       "\n",
       "FactoMineR::plotellipses\n",
       "                        Draw confidence ellipses around the categories\n",
       "Matrix::dgCMatrix-class\n",
       "                        Compressed, sparse, column-oriented numeric\n",
       "                        matrices\n",
       "  Aliases: round,dgCMatrix,numeric-method\n",
       "TTR::PBands             Construct (optionally further smoothed and\n",
       "                        centered ) volatility bands around prices\n",
       "backports::file.mode    Backports of wrappers around 'file.info' for R\n",
       "                        < 3.2.0\n",
       "base::agrep             Approximate String Matching (Fuzzy Matching)\n",
       "  Aliases: .amatch_bounds\n",
       "base::ceiling           Rounding of Numbers\n",
       "  Aliases: round\n",
       "base::options           Options Settings\n",
       "  Aliases: R_C_BOUNDS_CHECK\n",
       "base::round.POSIXt      Round / Truncate Data-Time Objects\n",
       "  Aliases: round.POSIXt, round.Date\n",
       "base::zapsmall          Rounding of Numbers\n",
       "bit64::format.integer64\n",
       "                        Unary operators and functions for integer64\n",
       "                        vectors\n",
       "  Aliases: round.integer64\n",
       "caTools::sumexact       Basic Sum Operations without Round-off Errors\n",
       "  Concepts: sum with no round-off errors, cumulative sum with no\n",
       "    round-off errors\n",
       "callr::r_bg             Evaluate an expression in another R session, in\n",
       "                        the background\n",
       "callr::rcmd_bg          Run an R CMD command in the background\n",
       "cluster::pam            Partitioning Around Medoids\n",
       "cluster::pam.object     Partitioning Around Medoids (PAM) Object\n",
       "cowplot::background_grid\n",
       "                        Add/modify/remove the background grid in a\n",
       "                        ggplot2 plot\n",
       "  Aliases: background_grid\n",
       "data.table::IDate       Integer based date class\n",
       "  Aliases: round.IDate\n",
       "data.table::datatable-optimize\n",
       "                        Optimisations in data.table\n",
       "  Aliases: rounding\n",
       "data.table::setNumericRounding\n",
       "                        Change or turn off numeric rounding\n",
       "  Aliases: setNumericRounding, getNumericRounding\n",
       "dendextend::pvrect2     Draw Rectangles Around a Dendrogram's Clusters\n",
       "                        with High/Low P-values\n",
       "dendextend::rect.dendrogram\n",
       "                        Draw Rectangles Around a Dendrogram's Clusters\n",
       "desc::desc_get_field    Get a single field from a DESCRIPTION file,\n",
       "                        fail if not found\n",
       "factoextra::fviz_ellipses\n",
       "                        Draw confidence ellipses around the categories\n",
       "forcats::fct_shift      Shift factor levels to left or right, wrapping\n",
       "                        around at end\n",
       "fpc::clusexpect         Expected value of the number of times a fixed\n",
       "                        point cluster is found\n",
       "fpc::pamk               Partitioning around medoids with estimation of\n",
       "                        number of clusters\n",
       "ggplot2::diamonds       Prices of 50,000 round cut diamonds\n",
       "ggpubr::background_image\n",
       "                        Add Background Image to ggplot2\n",
       "  Aliases: background_image\n",
       "ggpubr::bgcolor         Change ggplot Panel Background Color\n",
       "ggpubr::theme_transparent\n",
       "                        Create a ggplot with Transparent Background\n",
       "git2r::references       Get all references that can be found in a\n",
       "                        repository.\n",
       "graphics::box           Draw a Box around a Plot\n",
       "grid::grobX             Create a Unit Describing a Grob Boundary\n",
       "                        Location\n",
       "grid::roundrect         Draw a rectangle with rounded corners\n",
       "  Aliases: roundrect, grid.roundrect, roundrectGrob\n",
       "grid::xDetails          Boundary of a grid grob\n",
       "gtable::gtable_add_padding\n",
       "                        Add padding around edges of table.\n",
       "hms::round_hms          Round or truncate to a multiple of seconds\n",
       "  Aliases: round_hms\n",
       "htmltools::singleton_tools\n",
       "                        Singleton manipulation functions\n",
       "  Aliases: surroundSingletons\n",
       "igraph::distance_table\n",
       "                        Shortest (directed or undirected) paths between\n",
       "                        vertices\n",
       "kernlab::kmmd           Kernel Maximum Mean Discrepancy.\n",
       "  Aliases: Asymbound, Radbound\n",
       "kernlab::kmmd-class     Class \"kqr\"\n",
       "  Aliases: Radbound,kmmd-method, Asymbound,kmmd-method\n",
       "lubridate::round_date   Round, floor and ceiling methods for date-time\n",
       "                        objects\n",
       "  Aliases: round_date\n",
       "magrittr::%<>%          magrittr compound assignment pipe-operator\n",
       "maps::state             United States State Boundaries Map\n",
       "mgcv::fs.test           FELSPLINE test function\n",
       "  Aliases: fs.boundary\n",
       "mgcv::inSide            Are points inside boundary?\n",
       "nlme::corCompSymm       Compound Symmetry Correlation Structure\n",
       "nlme::pdCompSymm        Positive-Definite Matrix with Compound Symmetry\n",
       "                        Structure\n",
       "nloptr::bobyqa          Bound Optimization by Quadratic Approximation\n",
       "odbc::test_roundtrip    Test round tripping a simple table\n",
       "  Aliases: test_roundtrip\n",
       "plyr::round_any         Round to multiple of any number.\n",
       "  Aliases: round_any\n",
       "prodlim::backGround     Background and grid color control.\n",
       "  Aliases: backGround\n",
       "psych::glb.algebraic    Find the greatest lower bound to reliability.\n",
       "rex::lookarounds        Lookarounds\n",
       "  Aliases: lookarounds\n",
       "rlang::env_names        Names of symbols bound in an environment\n",
       "robustbase::CrohnD      Crohn's Disease Adverse Events Data\n",
       "  Aliases: CrohnD\n",
       "scales::dollar_format   Currency formatter: round to nearest cent and\n",
       "                        display dollar sign.\n",
       "sfsmisc::linesHyperb.lm\n",
       "                        Plot Confidence or Prediction Hyperbolas around\n",
       "                        a Regression Line\n",
       "sfsmisc::n.code         Convert \"Round\" Integers to Short Strings and\n",
       "                        Back\n",
       "sfsmisc::roundfixS      Round to Integer Keeping the Sum Fixed\n",
       "  Aliases: roundfixS\n",
       "sfsmisc::signi          Rounding to Significant Digits\n",
       "stats::rect.hclust      Draw Rectangles Around Hierarchical Clusters\n",
       "stringi::stri_count_boundaries\n",
       "                        Count the Number of Text Boundaries\n",
       "  Aliases: stri_count_boundaries\n",
       "stringi::stri_extract_all_boundaries\n",
       "                        Extract Text Between Text Boundaries\n",
       "  Aliases: stri_extract_all_boundaries, stri_extract_last_boundaries,\n",
       "    stri_extract_first_boundaries\n",
       "stringi::stri_locate_all_boundaries\n",
       "                        Locate Specific Text Boundaries\n",
       "  Aliases: stri_locate_all_boundaries, stri_locate_last_boundaries,\n",
       "    stri_locate_first_boundaries\n",
       "stringi::stri_split_boundaries\n",
       "                        Split a String at Specific Text Boundaries\n",
       "  Aliases: stri_split_boundaries\n",
       "stringi::stringi-search-boundaries\n",
       "                        Text Boundary Analysis in 'stringi'\n",
       "  Aliases: stringi-search-boundaries\n",
       "stringr::modifiers      Control matching behaviour with modifier\n",
       "                        functions.\n",
       "  Aliases: boundary\n",
       "timeDate::holidayDate   Public and Ecclesiastical Holidays\n",
       "  Aliases: EasterSunday, JPNatFoundationDay, JPKeirouNOhi\n",
       "timeDate::round         Rounding and Truncating 'timeDate' Objects\n",
       "  Aliases: round, round.timeDate\n",
       "tools::tools-deprecated\n",
       "                        Deprecated Objects in Package 'tools'\n",
       "  Aliases: installFoundDepends\n",
       "xml2::xml_children      Navigate around the family tree.\n",
       "\n",
       "\n",
       "Type '?PKG::FOO' to inspect entries 'PKG::FOO', or 'TYPE?PKG::FOO' for\n",
       "entries like 'PKG::FOO-TYPE'.\n",
       "\n",
       "\n"
      ]
     },
     "metadata": {},
     "output_type": "display_data"
    }
   ],
   "source": [
    "??round"
   ]
  },
  {
   "cell_type": "markdown",
   "metadata": {},
   "source": [
    "We see that if we want a different number of digits, we can type digits=2 or however many we want."
   ]
  },
  {
   "cell_type": "code",
   "execution_count": 16,
   "metadata": {},
   "outputs": [
    {
     "data": {
      "text/html": [
       "3.14"
      ],
      "text/latex": [
       "3.14"
      ],
      "text/markdown": [
       "3.14"
      ],
      "text/plain": [
       "[1] 3.14"
      ]
     },
     "metadata": {},
     "output_type": "display_data"
    }
   ],
   "source": [
    "round(3.14159, digits = 2)"
   ]
  },
  {
   "cell_type": "markdown",
   "metadata": {},
   "source": [
    "If you provide the arguments in the exact same order as they are defined you don’t have to name them:"
   ]
  },
  {
   "cell_type": "code",
   "execution_count": 17,
   "metadata": {},
   "outputs": [
    {
     "data": {
      "text/html": [
       "3.14"
      ],
      "text/latex": [
       "3.14"
      ],
      "text/markdown": [
       "3.14"
      ],
      "text/plain": [
       "[1] 3.14"
      ]
     },
     "metadata": {},
     "output_type": "display_data"
    }
   ],
   "source": [
    "round(3.14159, 2)"
   ]
  },
  {
   "cell_type": "markdown",
   "metadata": {},
   "source": [
    "And if you do name the arguments, you can switch their order:"
   ]
  },
  {
   "cell_type": "code",
   "execution_count": 19,
   "metadata": {},
   "outputs": [
    {
     "data": {
      "text/html": [
       "3.14"
      ],
      "text/latex": [
       "3.14"
      ],
      "text/markdown": [
       "3.14"
      ],
      "text/plain": [
       "[1] 3.14"
      ]
     },
     "metadata": {},
     "output_type": "display_data"
    }
   ],
   "source": [
    "round(digits = 2, x = 3.14159)"
   ]
  },
  {
   "cell_type": "markdown",
   "metadata": {},
   "source": [
    "* **NOTE**: R evaluates function arguments in three steps: **first**, _by exact matching_ on argument name, **then** _by partial matching_ on argument name, and **finally** _by position_."
   ]
  },
  {
   "cell_type": "markdown",
   "metadata": {},
   "source": [
    "## Vectors and data types"
   ]
  },
  {
   "cell_type": "markdown",
   "metadata": {},
   "source": [
    "A vector is the most common and basic data type in R, and is pretty much the workhorse of R. A vector is composed by a series of values, which can be either numbers or characters.\n",
    "Exists 6 **atomic vector types** (or data types) that R uses:\n",
    "* `\"character\"`\n",
    "* `\"numeric\"`\n",
    "* `\"logical\"`\n",
    "* `\"integer\"` for integer numbers (e.g., 2L, the L indicates to R that it’s an integer)\n",
    "* `\"complex\"` to represent complex numbers with real and imaginary parts (e.g., 1 + 4i) \n",
    "* `\"raw\"`"
   ]
  },
  {
   "cell_type": "markdown",
   "metadata": {},
   "source": [
    "We can assign a series of values to a vector using the `c()` function."
   ]
  },
  {
   "cell_type": "code",
   "execution_count": 20,
   "metadata": {},
   "outputs": [
    {
     "data": {
      "text/html": [
       "<ol class=list-inline>\n",
       "\t<li>21</li>\n",
       "\t<li>34</li>\n",
       "\t<li>39</li>\n",
       "\t<li>54</li>\n",
       "\t<li>55</li>\n",
       "</ol>\n"
      ],
      "text/latex": [
       "\\begin{enumerate*}\n",
       "\\item 21\n",
       "\\item 34\n",
       "\\item 39\n",
       "\\item 54\n",
       "\\item 55\n",
       "\\end{enumerate*}\n"
      ],
      "text/markdown": [
       "1. 21\n",
       "2. 34\n",
       "3. 39\n",
       "4. 54\n",
       "5. 55\n",
       "\n",
       "\n"
      ],
      "text/plain": [
       "[1] 21 34 39 54 55"
      ]
     },
     "metadata": {},
     "output_type": "display_data"
    }
   ],
   "source": [
    "weight_g <- c(21, 34, 39, 54, 55)\n",
    "weight_g"
   ]
  },
  {
   "cell_type": "markdown",
   "metadata": {},
   "source": [
    "`length()` tells you how many elements are in a particular vector:"
   ]
  },
  {
   "cell_type": "code",
   "execution_count": 21,
   "metadata": {},
   "outputs": [
    {
     "data": {
      "text/html": [
       "5"
      ],
      "text/latex": [
       "5"
      ],
      "text/markdown": [
       "5"
      ],
      "text/plain": [
       "[1] 5"
      ]
     },
     "metadata": {},
     "output_type": "display_data"
    }
   ],
   "source": [
    "length(weight_g)"
   ]
  },
  {
   "cell_type": "markdown",
   "metadata": {},
   "source": [
    "`class()` indicates the class (the type of element) of an object:"
   ]
  },
  {
   "cell_type": "code",
   "execution_count": 23,
   "metadata": {},
   "outputs": [
    {
     "data": {
      "text/html": [
       "'numeric'"
      ],
      "text/latex": [
       "'numeric'"
      ],
      "text/markdown": [
       "'numeric'"
      ],
      "text/plain": [
       "[1] \"numeric\""
      ]
     },
     "metadata": {},
     "output_type": "display_data"
    }
   ],
   "source": [
    "class(weight_g)"
   ]
  },
  {
   "cell_type": "markdown",
   "metadata": {},
   "source": [
    "`str()` provides an overview of the structure of an object and its elements:"
   ]
  },
  {
   "cell_type": "code",
   "execution_count": 24,
   "metadata": {},
   "outputs": [
    {
     "name": "stdout",
     "output_type": "stream",
     "text": [
      " num [1:5] 21 34 39 54 55\n"
     ]
    }
   ],
   "source": [
    "str(weight_g)"
   ]
  },
  {
   "cell_type": "markdown",
   "metadata": {},
   "source": [
    "You can use the `c()` function to add other elements to your vector:"
   ]
  },
  {
   "cell_type": "code",
   "execution_count": 25,
   "metadata": {},
   "outputs": [
    {
     "data": {
      "text/html": [
       "<ol class=list-inline>\n",
       "\t<li>21</li>\n",
       "\t<li>34</li>\n",
       "\t<li>39</li>\n",
       "\t<li>54</li>\n",
       "\t<li>55</li>\n",
       "\t<li>90</li>\n",
       "</ol>\n"
      ],
      "text/latex": [
       "\\begin{enumerate*}\n",
       "\\item 21\n",
       "\\item 34\n",
       "\\item 39\n",
       "\\item 54\n",
       "\\item 55\n",
       "\\item 90\n",
       "\\end{enumerate*}\n"
      ],
      "text/markdown": [
       "1. 21\n",
       "2. 34\n",
       "3. 39\n",
       "4. 54\n",
       "5. 55\n",
       "6. 90\n",
       "\n",
       "\n"
      ],
      "text/plain": [
       "[1] 21 34 39 54 55 90"
      ]
     },
     "metadata": {},
     "output_type": "display_data"
    }
   ],
   "source": [
    "weight_g <- c(weight_g, 90) # add to the end of the vecto\n",
    "weight_g"
   ]
  },
  {
   "cell_type": "code",
   "execution_count": 26,
   "metadata": {},
   "outputs": [
    {
     "data": {
      "text/html": [
       "<ol class=list-inline>\n",
       "\t<li>30</li>\n",
       "\t<li>21</li>\n",
       "\t<li>34</li>\n",
       "\t<li>39</li>\n",
       "\t<li>54</li>\n",
       "\t<li>55</li>\n",
       "\t<li>90</li>\n",
       "</ol>\n"
      ],
      "text/latex": [
       "\\begin{enumerate*}\n",
       "\\item 30\n",
       "\\item 21\n",
       "\\item 34\n",
       "\\item 39\n",
       "\\item 54\n",
       "\\item 55\n",
       "\\item 90\n",
       "\\end{enumerate*}\n"
      ],
      "text/markdown": [
       "1. 30\n",
       "2. 21\n",
       "3. 34\n",
       "4. 39\n",
       "5. 54\n",
       "6. 55\n",
       "7. 90\n",
       "\n",
       "\n"
      ],
      "text/plain": [
       "[1] 30 21 34 39 54 55 90"
      ]
     },
     "metadata": {},
     "output_type": "display_data"
    }
   ],
   "source": [
    "weight_g <- c(30, weight_g) # add to the beginning of the vector\n",
    "weight_g"
   ]
  },
  {
   "cell_type": "markdown",
   "metadata": {},
   "source": [
    "A vector can also contain characters:"
   ]
  },
  {
   "cell_type": "code",
   "execution_count": 27,
   "metadata": {},
   "outputs": [
    {
     "data": {
      "text/html": [
       "'character'"
      ],
      "text/latex": [
       "'character'"
      ],
      "text/markdown": [
       "'character'"
      ],
      "text/plain": [
       "[1] \"character\""
      ]
     },
     "metadata": {},
     "output_type": "display_data"
    }
   ],
   "source": [
    "animals <- c(\"mouse\", \"rat\", \"dog\", \"bear\")\n",
    "class(animals)"
   ]
  },
  {
   "cell_type": "markdown",
   "metadata": {},
   "source": [
    "we will introduce a vector with logical values (the boolean data type)."
   ]
  },
  {
   "cell_type": "code",
   "execution_count": 28,
   "metadata": {},
   "outputs": [
    {
     "data": {
      "text/html": [
       "<ol class=list-inline>\n",
       "\t<li>TRUE</li>\n",
       "\t<li>TRUE</li>\n",
       "\t<li>TRUE</li>\n",
       "\t<li>FALSE</li>\n",
       "</ol>\n"
      ],
      "text/latex": [
       "\\begin{enumerate*}\n",
       "\\item TRUE\n",
       "\\item TRUE\n",
       "\\item TRUE\n",
       "\\item FALSE\n",
       "\\end{enumerate*}\n"
      ],
      "text/markdown": [
       "1. TRUE\n",
       "2. TRUE\n",
       "3. TRUE\n",
       "4. FALSE\n",
       "\n",
       "\n"
      ],
      "text/plain": [
       "[1]  TRUE  TRUE  TRUE FALSE"
      ]
     },
     "metadata": {},
     "output_type": "display_data"
    }
   ],
   "source": [
    "has_tail <- c(TRUE, TRUE, TRUE, FALSE)\n",
    "has_tail "
   ]
  },
  {
   "cell_type": "markdown",
   "metadata": {},
   "source": [
    "We’ve seen that atomic vectors can be of type character, numeric, integer, and logical. But what happens if we try to mix these types in a single vector?"
   ]
  },
  {
   "cell_type": "markdown",
   "metadata": {},
   "source": [
    "Objects of different types get converted into a single, shared type within a vector. In R, we call converting objects from one class into another class **coercion**. These conversions happen according to a hierarchy, whereby some types get preferentially coerced into other types."
   ]
  },
  {
   "cell_type": "code",
   "execution_count": 33,
   "metadata": {},
   "outputs": [
    {
     "data": {
      "text/html": [
       "'character'"
      ],
      "text/latex": [
       "'character'"
      ],
      "text/markdown": [
       "'character'"
      ],
      "text/plain": [
       "[1] \"character\""
      ]
     },
     "metadata": {},
     "output_type": "display_data"
    }
   ],
   "source": [
    "num_char <- c(1, 2, 3, 'a')\n",
    "class(num_char)"
   ]
  },
  {
   "cell_type": "code",
   "execution_count": 34,
   "metadata": {},
   "outputs": [
    {
     "data": {
      "text/html": [
       "'numeric'"
      ],
      "text/latex": [
       "'numeric'"
      ],
      "text/markdown": [
       "'numeric'"
      ],
      "text/plain": [
       "[1] \"numeric\""
      ]
     },
     "metadata": {},
     "output_type": "display_data"
    }
   ],
   "source": [
    "num_logical <- c(1, 2, 3, TRUE)\n",
    "class(num_logical)"
   ]
  },
  {
   "cell_type": "code",
   "execution_count": 35,
   "metadata": {},
   "outputs": [
    {
     "data": {
      "text/html": [
       "'character'"
      ],
      "text/latex": [
       "'character'"
      ],
      "text/markdown": [
       "'character'"
      ],
      "text/plain": [
       "[1] \"character\""
      ]
     },
     "metadata": {},
     "output_type": "display_data"
    }
   ],
   "source": [
    "char_logical <- c('a', 'b', 'c', TRUE)\n",
    "class(char_logical)"
   ]
  },
  {
   "cell_type": "code",
   "execution_count": 36,
   "metadata": {},
   "outputs": [
    {
     "data": {
      "text/html": [
       "'character'"
      ],
      "text/latex": [
       "'character'"
      ],
      "text/markdown": [
       "'character'"
      ],
      "text/plain": [
       "[1] \"character\""
      ]
     },
     "metadata": {},
     "output_type": "display_data"
    }
   ],
   "source": [
    "tricky <- c(1, 2, 3, '4')\n",
    "class(tricky)"
   ]
  },
  {
   "cell_type": "markdown",
   "metadata": {},
   "source": [
    "## Subsetting vectors"
   ]
  },
  {
   "cell_type": "code",
   "execution_count": 38,
   "metadata": {},
   "outputs": [
    {
     "data": {
      "text/html": [
       "'character'"
      ],
      "text/latex": [
       "'character'"
      ],
      "text/markdown": [
       "'character'"
      ],
      "text/plain": [
       "[1] \"character\""
      ]
     },
     "metadata": {},
     "output_type": "display_data"
    }
   ],
   "source": [
    "animals <- c(\"mouse\", \"rat\", \"dog\", \"bear\")\n",
    "class(animals)"
   ]
  },
  {
   "cell_type": "code",
   "execution_count": 43,
   "metadata": {},
   "outputs": [
    {
     "data": {
      "text/html": [],
      "text/latex": [],
      "text/markdown": [],
      "text/plain": [
       "character(0)"
      ]
     },
     "metadata": {},
     "output_type": "display_data"
    }
   ],
   "source": [
    "animals[0]"
   ]
  },
  {
   "cell_type": "code",
   "execution_count": 42,
   "metadata": {},
   "outputs": [
    {
     "data": {
      "text/html": [
       "'mouse'"
      ],
      "text/latex": [
       "'mouse'"
      ],
      "text/markdown": [
       "'mouse'"
      ],
      "text/plain": [
       "[1] \"mouse\""
      ]
     },
     "metadata": {},
     "output_type": "display_data"
    }
   ],
   "source": [
    "animals[1]"
   ]
  },
  {
   "cell_type": "code",
   "execution_count": 40,
   "metadata": {},
   "outputs": [
    {
     "data": {
      "text/html": [
       "<ol class=list-inline>\n",
       "\t<li>'dog'</li>\n",
       "\t<li>'rat'</li>\n",
       "</ol>\n"
      ],
      "text/latex": [
       "\\begin{enumerate*}\n",
       "\\item 'dog'\n",
       "\\item 'rat'\n",
       "\\end{enumerate*}\n"
      ],
      "text/markdown": [
       "1. 'dog'\n",
       "2. 'rat'\n",
       "\n",
       "\n"
      ],
      "text/plain": [
       "[1] \"dog\" \"rat\""
      ]
     },
     "metadata": {},
     "output_type": "display_data"
    }
   ],
   "source": [
    "animals[c(3, 2)]"
   ]
  },
  {
   "cell_type": "markdown",
   "metadata": {},
   "source": [
    "`':'` is a special function that creates numeric vectors of integers in increasing or decreasing order"
   ]
  },
  {
   "cell_type": "code",
   "execution_count": 44,
   "metadata": {},
   "outputs": [
    {
     "data": {
      "text/html": [
       "<ol class=list-inline>\n",
       "\t<li>'rat'</li>\n",
       "\t<li>'dog'</li>\n",
       "\t<li>'bear'</li>\n",
       "</ol>\n"
      ],
      "text/latex": [
       "\\begin{enumerate*}\n",
       "\\item 'rat'\n",
       "\\item 'dog'\n",
       "\\item 'bear'\n",
       "\\end{enumerate*}\n"
      ],
      "text/markdown": [
       "1. 'rat'\n",
       "2. 'dog'\n",
       "3. 'bear'\n",
       "\n",
       "\n"
      ],
      "text/plain": [
       "[1] \"rat\"  \"dog\"  \"bear\""
      ]
     },
     "metadata": {},
     "output_type": "display_data"
    }
   ],
   "source": [
    "animals[2:4]"
   ]
  },
  {
   "cell_type": "code",
   "execution_count": 45,
   "metadata": {},
   "outputs": [
    {
     "data": {
      "text/html": [
       "<ol class=list-inline>\n",
       "\t<li>'bear'</li>\n",
       "\t<li>'dog'</li>\n",
       "\t<li>'rat'</li>\n",
       "</ol>\n"
      ],
      "text/latex": [
       "\\begin{enumerate*}\n",
       "\\item 'bear'\n",
       "\\item 'dog'\n",
       "\\item 'rat'\n",
       "\\end{enumerate*}\n"
      ],
      "text/markdown": [
       "1. 'bear'\n",
       "2. 'dog'\n",
       "3. 'rat'\n",
       "\n",
       "\n"
      ],
      "text/plain": [
       "[1] \"bear\" \"dog\"  \"rat\" "
      ]
     },
     "metadata": {},
     "output_type": "display_data"
    }
   ],
   "source": [
    "animals[4:2]"
   ]
  },
  {
   "cell_type": "markdown",
   "metadata": {},
   "source": [
    "You can exclude elements of a vector using the `“-”` sign:"
   ]
  },
  {
   "cell_type": "code",
   "execution_count": 46,
   "metadata": {},
   "outputs": [
    {
     "data": {
      "text/html": [
       "<ol class=list-inline>\n",
       "\t<li>'mouse'</li>\n",
       "\t<li>'dog'</li>\n",
       "\t<li>'bear'</li>\n",
       "</ol>\n"
      ],
      "text/latex": [
       "\\begin{enumerate*}\n",
       "\\item 'mouse'\n",
       "\\item 'dog'\n",
       "\\item 'bear'\n",
       "\\end{enumerate*}\n"
      ],
      "text/markdown": [
       "1. 'mouse'\n",
       "2. 'dog'\n",
       "3. 'bear'\n",
       "\n",
       "\n"
      ],
      "text/plain": [
       "[1] \"mouse\" \"dog\"   \"bear\" "
      ]
     },
     "metadata": {},
     "output_type": "display_data"
    }
   ],
   "source": [
    "animals[-2]"
   ]
  },
  {
   "cell_type": "markdown",
   "metadata": {},
   "source": [
    "We can also repeat the indices to create an object with more elements than the original one:"
   ]
  },
  {
   "cell_type": "code",
   "execution_count": 47,
   "metadata": {},
   "outputs": [
    {
     "data": {
      "text/html": [
       "<ol class=list-inline>\n",
       "\t<li>'mouse'</li>\n",
       "\t<li>'rat'</li>\n",
       "\t<li>'dog'</li>\n",
       "\t<li>'rat'</li>\n",
       "\t<li>'mouse'</li>\n",
       "\t<li>'mouse'</li>\n",
       "\t<li>'mouse'</li>\n",
       "\t<li>'mouse'</li>\n",
       "\t<li>'mouse'</li>\n",
       "\t<li>'bear'</li>\n",
       "</ol>\n"
      ],
      "text/latex": [
       "\\begin{enumerate*}\n",
       "\\item 'mouse'\n",
       "\\item 'rat'\n",
       "\\item 'dog'\n",
       "\\item 'rat'\n",
       "\\item 'mouse'\n",
       "\\item 'mouse'\n",
       "\\item 'mouse'\n",
       "\\item 'mouse'\n",
       "\\item 'mouse'\n",
       "\\item 'bear'\n",
       "\\end{enumerate*}\n"
      ],
      "text/markdown": [
       "1. 'mouse'\n",
       "2. 'rat'\n",
       "3. 'dog'\n",
       "4. 'rat'\n",
       "5. 'mouse'\n",
       "6. 'mouse'\n",
       "7. 'mouse'\n",
       "8. 'mouse'\n",
       "9. 'mouse'\n",
       "10. 'bear'\n",
       "\n",
       "\n"
      ],
      "text/plain": [
       " [1] \"mouse\" \"rat\"   \"dog\"   \"rat\"   \"mouse\" \"mouse\" \"mouse\" \"mouse\" \"mouse\"\n",
       "[10] \"bear\" "
      ]
     },
     "metadata": {},
     "output_type": "display_data"
    }
   ],
   "source": [
    "more_animals <- animals[c(1, 2, 3, 2, 1, 1, 1, 1, 1, 4)]\n",
    "more_animals"
   ]
  },
  {
   "cell_type": "markdown",
   "metadata": {},
   "source": [
    "* **NOTE**: R indices start at 1. Programming languages like Fortran, MATLAB, Julia, and R start counting at 1, because that’s what human beings typically do. Languages in the C family (including C++, Java, Perl, and Python) count from 0 because that’s simpler for computers to do."
   ]
  },
  {
   "cell_type": "markdown",
   "metadata": {},
   "source": [
    "### Conditional subsetting"
   ]
  },
  {
   "cell_type": "markdown",
   "metadata": {},
   "source": [
    "Another common way of subsetting is by using a logical vector. `TRUE` will select the element with the same index, while `FALSE` will not."
   ]
  },
  {
   "cell_type": "code",
   "execution_count": 38,
   "metadata": {},
   "outputs": [
    {
     "data": {
      "text/html": [
       "'character'"
      ],
      "text/latex": [
       "'character'"
      ],
      "text/markdown": [
       "'character'"
      ],
      "text/plain": [
       "[1] \"character\""
      ]
     },
     "metadata": {},
     "output_type": "display_data"
    }
   ],
   "source": [
    "animals <- c(\"mouse\", \"rat\", \"dog\", \"bear\")\n",
    "class(animals)"
   ]
  },
  {
   "cell_type": "code",
   "execution_count": 48,
   "metadata": {},
   "outputs": [
    {
     "data": {
      "text/html": [
       "<ol class=list-inline>\n",
       "\t<li>TRUE</li>\n",
       "\t<li>TRUE</li>\n",
       "\t<li>TRUE</li>\n",
       "\t<li>FALSE</li>\n",
       "</ol>\n"
      ],
      "text/latex": [
       "\\begin{enumerate*}\n",
       "\\item TRUE\n",
       "\\item TRUE\n",
       "\\item TRUE\n",
       "\\item FALSE\n",
       "\\end{enumerate*}\n"
      ],
      "text/markdown": [
       "1. TRUE\n",
       "2. TRUE\n",
       "3. TRUE\n",
       "4. FALSE\n",
       "\n",
       "\n"
      ],
      "text/plain": [
       "[1]  TRUE  TRUE  TRUE FALSE"
      ]
     },
     "metadata": {},
     "output_type": "display_data"
    }
   ],
   "source": [
    "has_tail <- c(TRUE, TRUE, TRUE, FALSE)\n",
    "has_tail "
   ]
  },
  {
   "cell_type": "code",
   "execution_count": 49,
   "metadata": {},
   "outputs": [
    {
     "data": {
      "text/html": [
       "<ol class=list-inline>\n",
       "\t<li>'mouse'</li>\n",
       "\t<li>'rat'</li>\n",
       "\t<li>'dog'</li>\n",
       "</ol>\n"
      ],
      "text/latex": [
       "\\begin{enumerate*}\n",
       "\\item 'mouse'\n",
       "\\item 'rat'\n",
       "\\item 'dog'\n",
       "\\end{enumerate*}\n"
      ],
      "text/markdown": [
       "1. 'mouse'\n",
       "2. 'rat'\n",
       "3. 'dog'\n",
       "\n",
       "\n"
      ],
      "text/plain": [
       "[1] \"mouse\" \"rat\"   \"dog\"  "
      ]
     },
     "metadata": {},
     "output_type": "display_data"
    }
   ],
   "source": [
    "animals[has_tail]"
   ]
  },
  {
   "cell_type": "code",
   "execution_count": 47,
   "metadata": {},
   "outputs": [
    {
     "data": {
      "text/html": [
       "<ol class=list-inline>\n",
       "\t<li>'mouse'</li>\n",
       "\t<li>'rat'</li>\n",
       "\t<li>'dog'</li>\n",
       "\t<li>'rat'</li>\n",
       "\t<li>'mouse'</li>\n",
       "\t<li>'mouse'</li>\n",
       "\t<li>'mouse'</li>\n",
       "\t<li>'mouse'</li>\n",
       "\t<li>'mouse'</li>\n",
       "\t<li>'bear'</li>\n",
       "</ol>\n"
      ],
      "text/latex": [
       "\\begin{enumerate*}\n",
       "\\item 'mouse'\n",
       "\\item 'rat'\n",
       "\\item 'dog'\n",
       "\\item 'rat'\n",
       "\\item 'mouse'\n",
       "\\item 'mouse'\n",
       "\\item 'mouse'\n",
       "\\item 'mouse'\n",
       "\\item 'mouse'\n",
       "\\item 'bear'\n",
       "\\end{enumerate*}\n"
      ],
      "text/markdown": [
       "1. 'mouse'\n",
       "2. 'rat'\n",
       "3. 'dog'\n",
       "4. 'rat'\n",
       "5. 'mouse'\n",
       "6. 'mouse'\n",
       "7. 'mouse'\n",
       "8. 'mouse'\n",
       "9. 'mouse'\n",
       "10. 'bear'\n",
       "\n",
       "\n"
      ],
      "text/plain": [
       " [1] \"mouse\" \"rat\"   \"dog\"   \"rat\"   \"mouse\" \"mouse\" \"mouse\" \"mouse\" \"mouse\"\n",
       "[10] \"bear\" "
      ]
     },
     "metadata": {},
     "output_type": "display_data"
    }
   ],
   "source": [
    "more_animals <- animals[c(1, 2, 3, 2, 1, 1, 1, 1, 1, 4)]\n",
    "more_animals"
   ]
  },
  {
   "cell_type": "code",
   "execution_count": 50,
   "metadata": {},
   "outputs": [
    {
     "data": {
      "text/html": [
       "<ol class=list-inline>\n",
       "\t<li>'mouse'</li>\n",
       "\t<li>'rat'</li>\n",
       "\t<li>'dog'</li>\n",
       "\t<li>'mouse'</li>\n",
       "\t<li>'mouse'</li>\n",
       "\t<li>'mouse'</li>\n",
       "\t<li>'mouse'</li>\n",
       "\t<li>'bear'</li>\n",
       "</ol>\n"
      ],
      "text/latex": [
       "\\begin{enumerate*}\n",
       "\\item 'mouse'\n",
       "\\item 'rat'\n",
       "\\item 'dog'\n",
       "\\item 'mouse'\n",
       "\\item 'mouse'\n",
       "\\item 'mouse'\n",
       "\\item 'mouse'\n",
       "\\item 'bear'\n",
       "\\end{enumerate*}\n"
      ],
      "text/markdown": [
       "1. 'mouse'\n",
       "2. 'rat'\n",
       "3. 'dog'\n",
       "4. 'mouse'\n",
       "5. 'mouse'\n",
       "6. 'mouse'\n",
       "7. 'mouse'\n",
       "8. 'bear'\n",
       "\n",
       "\n"
      ],
      "text/plain": [
       "[1] \"mouse\" \"rat\"   \"dog\"   \"mouse\" \"mouse\" \"mouse\" \"mouse\" \"bear\" "
      ]
     },
     "metadata": {},
     "output_type": "display_data"
    }
   ],
   "source": [
    "more_animals[has_tail]"
   ]
  },
  {
   "cell_type": "markdown",
   "metadata": {},
   "source": [
    "To search for certain strings in a vector. One could use the `“or”` operator `|` to test for equality to multiple values, but this can quickly become tedious. The function `%in%` allows you to test if any of the elements of a search vector are found:"
   ]
  },
  {
   "cell_type": "code",
   "execution_count": 51,
   "metadata": {},
   "outputs": [
    {
     "data": {
      "text/html": [
       "<ol class=list-inline>\n",
       "\t<li>'rat'</li>\n",
       "\t<li>'bear'</li>\n",
       "</ol>\n"
      ],
      "text/latex": [
       "\\begin{enumerate*}\n",
       "\\item 'rat'\n",
       "\\item 'bear'\n",
       "\\end{enumerate*}\n"
      ],
      "text/markdown": [
       "1. 'rat'\n",
       "2. 'bear'\n",
       "\n",
       "\n"
      ],
      "text/plain": [
       "[1] \"rat\"  \"bear\""
      ]
     },
     "metadata": {},
     "output_type": "display_data"
    }
   ],
   "source": [
    "animals[animals == \"bear\" | animals == \"rat\"] # returns both rat and cat"
   ]
  },
  {
   "cell_type": "code",
   "execution_count": 52,
   "metadata": {},
   "outputs": [
    {
     "data": {
      "text/html": [
       "<ol class=list-inline>\n",
       "\t<li>FALSE</li>\n",
       "\t<li>TRUE</li>\n",
       "\t<li>TRUE</li>\n",
       "\t<li>FALSE</li>\n",
       "</ol>\n"
      ],
      "text/latex": [
       "\\begin{enumerate*}\n",
       "\\item FALSE\n",
       "\\item TRUE\n",
       "\\item TRUE\n",
       "\\item FALSE\n",
       "\\end{enumerate*}\n"
      ],
      "text/markdown": [
       "1. FALSE\n",
       "2. TRUE\n",
       "3. TRUE\n",
       "4. FALSE\n",
       "\n",
       "\n"
      ],
      "text/plain": [
       "[1] FALSE  TRUE  TRUE FALSE"
      ]
     },
     "metadata": {},
     "output_type": "display_data"
    }
   ],
   "source": [
    "animals %in% c(\"rat\", \"cat\", \"dog\", \"duck\", \"goat\")"
   ]
  },
  {
   "cell_type": "code",
   "execution_count": 54,
   "metadata": {},
   "outputs": [
    {
     "data": {
      "text/html": [
       "<ol class=list-inline>\n",
       "\t<li>21</li>\n",
       "\t<li>34</li>\n",
       "\t<li>39</li>\n",
       "\t<li>54</li>\n",
       "\t<li>55</li>\n",
       "</ol>\n"
      ],
      "text/latex": [
       "\\begin{enumerate*}\n",
       "\\item 21\n",
       "\\item 34\n",
       "\\item 39\n",
       "\\item 54\n",
       "\\item 55\n",
       "\\end{enumerate*}\n"
      ],
      "text/markdown": [
       "1. 21\n",
       "2. 34\n",
       "3. 39\n",
       "4. 54\n",
       "5. 55\n",
       "\n",
       "\n"
      ],
      "text/plain": [
       "[1] 21 34 39 54 55"
      ]
     },
     "metadata": {},
     "output_type": "display_data"
    }
   ],
   "source": [
    "weight_g <- c(21, 34, 39, 54, 55)\n",
    "weight_g"
   ]
  },
  {
   "cell_type": "code",
   "execution_count": 55,
   "metadata": {},
   "outputs": [
    {
     "data": {
      "text/html": [
       "<ol class=list-inline>\n",
       "\t<li>FALSE</li>\n",
       "\t<li>FALSE</li>\n",
       "\t<li>FALSE</li>\n",
       "\t<li>TRUE</li>\n",
       "\t<li>TRUE</li>\n",
       "</ol>\n"
      ],
      "text/latex": [
       "\\begin{enumerate*}\n",
       "\\item FALSE\n",
       "\\item FALSE\n",
       "\\item FALSE\n",
       "\\item TRUE\n",
       "\\item TRUE\n",
       "\\end{enumerate*}\n"
      ],
      "text/markdown": [
       "1. FALSE\n",
       "2. FALSE\n",
       "3. FALSE\n",
       "4. TRUE\n",
       "5. TRUE\n",
       "\n",
       "\n"
      ],
      "text/plain": [
       "[1] FALSE FALSE FALSE  TRUE  TRUE"
      ]
     },
     "metadata": {},
     "output_type": "display_data"
    }
   ],
   "source": [
    "weight_g > 50    # will return logicals with TRUE for the indices that meet the condition"
   ]
  },
  {
   "cell_type": "markdown",
   "metadata": {},
   "source": [
    "You can combine multiple tests using `&` (both conditions are true,`AND`) or `|` (at least one of the conditions is true, `OR`):"
   ]
  },
  {
   "cell_type": "code",
   "execution_count": 58,
   "metadata": {},
   "outputs": [
    {
     "data": {
      "text/html": [
       "<ol class=list-inline>\n",
       "\t<li>21</li>\n",
       "\t<li>54</li>\n",
       "\t<li>55</li>\n",
       "</ol>\n"
      ],
      "text/latex": [
       "\\begin{enumerate*}\n",
       "\\item 21\n",
       "\\item 54\n",
       "\\item 55\n",
       "\\end{enumerate*}\n"
      ],
      "text/markdown": [
       "1. 21\n",
       "2. 54\n",
       "3. 55\n",
       "\n",
       "\n"
      ],
      "text/plain": [
       "[1] 21 54 55"
      ]
     },
     "metadata": {},
     "output_type": "display_data"
    }
   ],
   "source": [
    "weight_g[weight_g < 30 | weight_g > 50]"
   ]
  },
  {
   "cell_type": "code",
   "execution_count": 59,
   "metadata": {},
   "outputs": [
    {
     "data": {
      "text/html": [],
      "text/latex": [],
      "text/markdown": [],
      "text/plain": [
       "numeric(0)"
      ]
     },
     "metadata": {},
     "output_type": "display_data"
    }
   ],
   "source": [
    "weight_g[weight_g >= 30 & weight_g == 21]"
   ]
  },
  {
   "cell_type": "markdown",
   "metadata": {},
   "source": [
    "## Missing data"
   ]
  },
  {
   "cell_type": "markdown",
   "metadata": {},
   "source": [
    "As `R` was designed to analyze datasets, it includes the concept of missing data (which is uncommon in other programming languages). Missing data are represented in vectors as `NA`."
   ]
  },
  {
   "cell_type": "markdown",
   "metadata": {},
   "source": [
    "When doing operations on numbers, most functions will return `NA` if the data you are working with include missing values. This feature makes it harder to overlook the cases where you are dealing with missing data."
   ]
  },
  {
   "cell_type": "code",
   "execution_count": 61,
   "metadata": {},
   "outputs": [
    {
     "data": {
      "text/html": [
       "<ol class=list-inline>\n",
       "\t<li>2</li>\n",
       "\t<li>4</li>\n",
       "\t<li>4</li>\n",
       "\t<li>&lt;NA&gt;</li>\n",
       "\t<li>6</li>\n",
       "</ol>\n"
      ],
      "text/latex": [
       "\\begin{enumerate*}\n",
       "\\item 2\n",
       "\\item 4\n",
       "\\item 4\n",
       "\\item <NA>\n",
       "\\item 6\n",
       "\\end{enumerate*}\n"
      ],
      "text/markdown": [
       "1. 2\n",
       "2. 4\n",
       "3. 4\n",
       "4. &lt;NA&gt;\n",
       "5. 6\n",
       "\n",
       "\n"
      ],
      "text/plain": [
       "[1]  2  4  4 NA  6"
      ]
     },
     "metadata": {},
     "output_type": "display_data"
    }
   ],
   "source": [
    "heights <- c(2, 4, 4, NA, 6)\n",
    "heights"
   ]
  },
  {
   "cell_type": "code",
   "execution_count": 62,
   "metadata": {},
   "outputs": [
    {
     "data": {
      "text/html": [
       "&lt;NA&gt;"
      ],
      "text/latex": [
       "<NA>"
      ],
      "text/markdown": [
       "&lt;NA&gt;"
      ],
      "text/plain": [
       "[1] NA"
      ]
     },
     "metadata": {},
     "output_type": "display_data"
    }
   ],
   "source": [
    "max(heights)"
   ]
  },
  {
   "cell_type": "code",
   "execution_count": 63,
   "metadata": {},
   "outputs": [
    {
     "data": {
      "text/html": [
       "&lt;NA&gt;"
      ],
      "text/latex": [
       "<NA>"
      ],
      "text/markdown": [
       "&lt;NA&gt;"
      ],
      "text/plain": [
       "[1] NA"
      ]
     },
     "metadata": {},
     "output_type": "display_data"
    }
   ],
   "source": [
    "sum(heights)"
   ]
  },
  {
   "cell_type": "markdown",
   "metadata": {},
   "source": [
    "You can add the argument `na.rm=TRUE` to calculate the result while ignoring the missing values."
   ]
  },
  {
   "cell_type": "code",
   "execution_count": 64,
   "metadata": {},
   "outputs": [
    {
     "data": {
      "text/html": [
       "6"
      ],
      "text/latex": [
       "6"
      ],
      "text/markdown": [
       "6"
      ],
      "text/plain": [
       "[1] 6"
      ]
     },
     "metadata": {},
     "output_type": "display_data"
    }
   ],
   "source": [
    "max(heights, na.rm = TRUE)"
   ]
  },
  {
   "cell_type": "code",
   "execution_count": 65,
   "metadata": {},
   "outputs": [
    {
     "data": {
      "text/html": [
       "16"
      ],
      "text/latex": [
       "16"
      ],
      "text/markdown": [
       "16"
      ],
      "text/plain": [
       "[1] 16"
      ]
     },
     "metadata": {},
     "output_type": "display_data"
    }
   ],
   "source": [
    "sum(heights, na.rm = TRUE)"
   ]
  },
  {
   "cell_type": "markdown",
   "metadata": {},
   "source": [
    "### Dealing with NA"
   ]
  },
  {
   "cell_type": "markdown",
   "metadata": {},
   "source": [
    "If your data include missing values, you may want to become familiar with the functions:\n",
    "* `is.na()`, \n",
    "* `na.omit()`, and \n",
    "* `complete.cases()`"
   ]
  },
  {
   "cell_type": "code",
   "execution_count": 69,
   "metadata": {},
   "outputs": [
    {
     "data": {
      "text/html": [
       "<ol class=list-inline>\n",
       "\t<li>2</li>\n",
       "\t<li>4</li>\n",
       "\t<li>4</li>\n",
       "\t<li>6</li>\n",
       "</ol>\n"
      ],
      "text/latex": [
       "\\begin{enumerate*}\n",
       "\\item 2\n",
       "\\item 4\n",
       "\\item 4\n",
       "\\item 6\n",
       "\\end{enumerate*}\n"
      ],
      "text/markdown": [
       "1. 2\n",
       "2. 4\n",
       "3. 4\n",
       "4. 6\n",
       "\n",
       "\n"
      ],
      "text/plain": [
       "[1] 2 4 4 6"
      ]
     },
     "metadata": {},
     "output_type": "display_data"
    }
   ],
   "source": [
    "# Extract elements which are not missing values.\n",
    "heights[!is.na(heights)] "
   ]
  },
  {
   "cell_type": "code",
   "execution_count": 70,
   "metadata": {},
   "outputs": [
    {
     "data": {
      "text/html": [
       "<ol class=list-inline>\n",
       "\t<li>2</li>\n",
       "\t<li>4</li>\n",
       "\t<li>4</li>\n",
       "\t<li>6</li>\n",
       "</ol>\n"
      ],
      "text/latex": [
       "\\begin{enumerate*}\n",
       "\\item 2\n",
       "\\item 4\n",
       "\\item 4\n",
       "\\item 6\n",
       "\\end{enumerate*}\n"
      ],
      "text/markdown": [
       "1. 2\n",
       "2. 4\n",
       "3. 4\n",
       "4. 6\n",
       "\n",
       "\n"
      ],
      "text/plain": [
       "[1] 2 4 4 6\n",
       "attr(,\"na.action\")\n",
       "[1] 4\n",
       "attr(,\"class\")\n",
       "[1] \"omit\""
      ]
     },
     "metadata": {},
     "output_type": "display_data"
    }
   ],
   "source": [
    "# Returns the object with incomplete cases removed. The returned object is atomic.\n",
    "na.omit(heights)"
   ]
  },
  {
   "cell_type": "code",
   "execution_count": 75,
   "metadata": {},
   "outputs": [
    {
     "data": {
      "text/html": [
       "<ol class=list-inline>\n",
       "\t<li>2</li>\n",
       "\t<li>4</li>\n",
       "\t<li>4</li>\n",
       "\t<li>6</li>\n",
       "</ol>\n"
      ],
      "text/latex": [
       "\\begin{enumerate*}\n",
       "\\item 2\n",
       "\\item 4\n",
       "\\item 4\n",
       "\\item 6\n",
       "\\end{enumerate*}\n"
      ],
      "text/markdown": [
       "1. 2\n",
       "2. 4\n",
       "3. 4\n",
       "4. 6\n",
       "\n",
       "\n"
      ],
      "text/plain": [
       "[1] 2 4 4 6"
      ]
     },
     "metadata": {},
     "output_type": "display_data"
    }
   ],
   "source": [
    "# Extract elements which are complete cases.\n",
    "heights[complete.cases(heights)]"
   ]
  },
  {
   "cell_type": "markdown",
   "metadata": {},
   "source": [
    "Challenge\n",
    "Using this vector of length measurements, create a new vector with the NAs removed."
   ]
  },
  {
   "cell_type": "code",
   "execution_count": 77,
   "metadata": {},
   "outputs": [
    {
     "data": {
      "text/html": [
       "<ol class=list-inline>\n",
       "\t<li>10</li>\n",
       "\t<li>24</li>\n",
       "\t<li>&lt;NA&gt;</li>\n",
       "\t<li>18</li>\n",
       "\t<li>&lt;NA&gt;</li>\n",
       "\t<li>20</li>\n",
       "</ol>\n"
      ],
      "text/latex": [
       "\\begin{enumerate*}\n",
       "\\item 10\n",
       "\\item 24\n",
       "\\item <NA>\n",
       "\\item 18\n",
       "\\item <NA>\n",
       "\\item 20\n",
       "\\end{enumerate*}\n"
      ],
      "text/markdown": [
       "1. 10\n",
       "2. 24\n",
       "3. &lt;NA&gt;\n",
       "4. 18\n",
       "5. &lt;NA&gt;\n",
       "6. 20\n",
       "\n",
       "\n"
      ],
      "text/plain": [
       "[1] 10 24 NA 18 NA 20"
      ]
     },
     "metadata": {},
     "output_type": "display_data"
    }
   ],
   "source": [
    "lengths <- c(10,24,NA,18,NA,20)\n",
    "lengths"
   ]
  },
  {
   "cell_type": "code",
   "execution_count": 79,
   "metadata": {},
   "outputs": [
    {
     "data": {
      "text/html": [
       "<ol class=list-inline>\n",
       "\t<li>10</li>\n",
       "\t<li>24</li>\n",
       "\t<li>18</li>\n",
       "\t<li>20</li>\n",
       "</ol>\n"
      ],
      "text/latex": [
       "\\begin{enumerate*}\n",
       "\\item 10\n",
       "\\item 24\n",
       "\\item 18\n",
       "\\item 20\n",
       "\\end{enumerate*}\n"
      ],
      "text/markdown": [
       "1. 10\n",
       "2. 24\n",
       "3. 18\n",
       "4. 20\n",
       "\n",
       "\n"
      ],
      "text/plain": [
       "[1] 10 24 18 20\n",
       "attr(,\"na.action\")\n",
       "[1] 3 5\n",
       "attr(,\"class\")\n",
       "[1] \"omit\""
      ]
     },
     "metadata": {},
     "output_type": "display_data"
    }
   ],
   "source": [
    "na.omit(lengths)"
   ]
  },
  {
   "cell_type": "code",
   "execution_count": 80,
   "metadata": {},
   "outputs": [
    {
     "data": {
      "text/html": [
       "19"
      ],
      "text/latex": [
       "19"
      ],
      "text/markdown": [
       "19"
      ],
      "text/plain": [
       "[1] 19"
      ]
     },
     "metadata": {},
     "output_type": "display_data"
    }
   ],
   "source": [
    "median(lengths, na.rm = TRUE)"
   ]
  },
  {
   "cell_type": "code",
   "execution_count": 81,
   "metadata": {},
   "outputs": [
    {
     "data": {
      "text/html": [
       "18"
      ],
      "text/latex": [
       "18"
      ],
      "text/markdown": [
       "18"
      ],
      "text/plain": [
       "[1] 18"
      ]
     },
     "metadata": {},
     "output_type": "display_data"
    }
   ],
   "source": [
    "mean(lengths, na.rm = TRUE)"
   ]
  },
  {
   "cell_type": "markdown",
   "metadata": {},
   "source": [
    "## Common R Data Structures"
   ]
  },
  {
   "cell_type": "markdown",
   "metadata": {},
   "source": [
    "Vectors are one of the many data structures that R uses. Other important ones are matrices (`matrix`), tables (`data.frame`), lists (`list`), and factors (`factor`)."
   ]
  },
  {
   "cell_type": "markdown",
   "metadata": {},
   "source": [
    "### Matrix"
   ]
  },
  {
   "cell_type": "markdown",
   "metadata": {},
   "source": [
    "To construct a matrix, we use a function conveniently called `matrix()`."
   ]
  },
  {
   "cell_type": "code",
   "execution_count": 82,
   "metadata": {},
   "outputs": [
    {
     "data": {
      "text/html": [
       "<table>\n",
       "<tbody>\n",
       "\t<tr><td>1 </td><td> 6</td><td>11</td><td>16</td></tr>\n",
       "\t<tr><td>2 </td><td> 7</td><td>12</td><td>17</td></tr>\n",
       "\t<tr><td>3 </td><td> 8</td><td>13</td><td>18</td></tr>\n",
       "\t<tr><td>4 </td><td> 9</td><td>14</td><td>19</td></tr>\n",
       "\t<tr><td>5 </td><td>10</td><td>15</td><td>20</td></tr>\n",
       "</tbody>\n",
       "</table>\n"
      ],
      "text/latex": [
       "\\begin{tabular}{llll}\n",
       "\t 1  &  6 & 11 & 16\\\\\n",
       "\t 2  &  7 & 12 & 17\\\\\n",
       "\t 3  &  8 & 13 & 18\\\\\n",
       "\t 4  &  9 & 14 & 19\\\\\n",
       "\t 5  & 10 & 15 & 20\\\\\n",
       "\\end{tabular}\n"
      ],
      "text/markdown": [
       "\n",
       "| 1  |  6 | 11 | 16 | \n",
       "| 2  |  7 | 12 | 17 | \n",
       "| 3  |  8 | 13 | 18 | \n",
       "| 4  |  9 | 14 | 19 | \n",
       "| 5  | 10 | 15 | 20 | \n",
       "\n",
       "\n"
      ],
      "text/plain": [
       "     [,1] [,2] [,3] [,4]\n",
       "[1,] 1     6   11   16  \n",
       "[2,] 2     7   12   17  \n",
       "[3,] 3     8   13   18  \n",
       "[4,] 4     9   14   19  \n",
       "[5,] 5    10   15   20  "
      ]
     },
     "metadata": {},
     "output_type": "display_data"
    }
   ],
   "source": [
    "y <- matrix(1:20, nrow=5,ncol=4) # generates 5 x 4 numeric matrix\n",
    "y"
   ]
  },
  {
   "cell_type": "markdown",
   "metadata": {},
   "source": [
    "Subset a matrix with `[row , column]`:"
   ]
  },
  {
   "cell_type": "code",
   "execution_count": 85,
   "metadata": {},
   "outputs": [
    {
     "data": {
      "text/html": [
       "<ol class=list-inline>\n",
       "\t<li>16</li>\n",
       "\t<li>17</li>\n",
       "\t<li>18</li>\n",
       "\t<li>19</li>\n",
       "\t<li>20</li>\n",
       "</ol>\n"
      ],
      "text/latex": [
       "\\begin{enumerate*}\n",
       "\\item 16\n",
       "\\item 17\n",
       "\\item 18\n",
       "\\item 19\n",
       "\\item 20\n",
       "\\end{enumerate*}\n"
      ],
      "text/markdown": [
       "1. 16\n",
       "2. 17\n",
       "3. 18\n",
       "4. 19\n",
       "5. 20\n",
       "\n",
       "\n"
      ],
      "text/plain": [
       "[1] 16 17 18 19 20"
      ]
     },
     "metadata": {},
     "output_type": "display_data"
    }
   ],
   "source": [
    "y[,4]       # 4th column of matrix"
   ]
  },
  {
   "cell_type": "code",
   "execution_count": 86,
   "metadata": {},
   "outputs": [
    {
     "data": {
      "text/html": [
       "<ol class=list-inline>\n",
       "\t<li>3</li>\n",
       "\t<li>8</li>\n",
       "\t<li>13</li>\n",
       "\t<li>18</li>\n",
       "</ol>\n"
      ],
      "text/latex": [
       "\\begin{enumerate*}\n",
       "\\item 3\n",
       "\\item 8\n",
       "\\item 13\n",
       "\\item 18\n",
       "\\end{enumerate*}\n"
      ],
      "text/markdown": [
       "1. 3\n",
       "2. 8\n",
       "3. 13\n",
       "4. 18\n",
       "\n",
       "\n"
      ],
      "text/plain": [
       "[1]  3  8 13 18"
      ]
     },
     "metadata": {},
     "output_type": "display_data"
    }
   ],
   "source": [
    "y[3,]       # 3rd row of matrix"
   ]
  },
  {
   "cell_type": "code",
   "execution_count": 87,
   "metadata": {},
   "outputs": [
    {
     "data": {
      "text/html": [
       "<table>\n",
       "<tbody>\n",
       "\t<tr><td>2 </td><td>7 </td><td>12</td></tr>\n",
       "\t<tr><td>3 </td><td>8 </td><td>13</td></tr>\n",
       "\t<tr><td>4 </td><td>9 </td><td>14</td></tr>\n",
       "</tbody>\n",
       "</table>\n"
      ],
      "text/latex": [
       "\\begin{tabular}{lll}\n",
       "\t 2  & 7  & 12\\\\\n",
       "\t 3  & 8  & 13\\\\\n",
       "\t 4  & 9  & 14\\\\\n",
       "\\end{tabular}\n"
      ],
      "text/markdown": [
       "\n",
       "| 2  | 7  | 12 | \n",
       "| 3  | 8  | 13 | \n",
       "| 4  | 9  | 14 | \n",
       "\n",
       "\n"
      ],
      "text/plain": [
       "     [,1] [,2] [,3]\n",
       "[1,] 2    7    12  \n",
       "[2,] 3    8    13  \n",
       "[3,] 4    9    14  "
      ]
     },
     "metadata": {},
     "output_type": "display_data"
    }
   ],
   "source": [
    "y[2:4,1:3]  # rows 2,3,4 of columns 1,2,3"
   ]
  },
  {
   "cell_type": "markdown",
   "metadata": {},
   "source": [
    "### List"
   ]
  },
  {
   "cell_type": "markdown",
   "metadata": {},
   "source": [
    "Lists can have elements of any type. Here is how we construct lists. You may have guessed that to construct a list, we use the `list()` function:"
   ]
  },
  {
   "cell_type": "code",
   "execution_count": 89,
   "metadata": {},
   "outputs": [
    {
     "data": {
      "text/html": [
       "<dl>\n",
       "\t<dt>$id</dt>\n",
       "\t\t<dd>'ID_1'</dd>\n",
       "\t<dt>$a_vector</dt>\n",
       "\t\t<dd><ol class=list-inline>\n",
       "\t<li>'mouse'</li>\n",
       "\t<li>'rat'</li>\n",
       "\t<li>'dog'</li>\n",
       "\t<li>'bear'</li>\n",
       "</ol>\n",
       "</dd>\n",
       "\t<dt>$a_matrix</dt>\n",
       "\t\t<dd><table>\n",
       "<tbody>\n",
       "\t<tr><td>1 </td><td> 6</td><td>11</td><td>16</td></tr>\n",
       "\t<tr><td>2 </td><td> 7</td><td>12</td><td>17</td></tr>\n",
       "\t<tr><td>3 </td><td> 8</td><td>13</td><td>18</td></tr>\n",
       "\t<tr><td>4 </td><td> 9</td><td>14</td><td>19</td></tr>\n",
       "\t<tr><td>5 </td><td>10</td><td>15</td><td>20</td></tr>\n",
       "</tbody>\n",
       "</table>\n",
       "</dd>\n",
       "\t<dt>$age</dt>\n",
       "\t\t<dd>5.3</dd>\n",
       "</dl>\n"
      ],
      "text/latex": [
       "\\begin{description}\n",
       "\\item[\\$id] 'ID\\_1'\n",
       "\\item[\\$a\\_vector] \\begin{enumerate*}\n",
       "\\item 'mouse'\n",
       "\\item 'rat'\n",
       "\\item 'dog'\n",
       "\\item 'bear'\n",
       "\\end{enumerate*}\n",
       "\n",
       "\\item[\\$a\\_matrix] \\begin{tabular}{llll}\n",
       "\t 1  &  6 & 11 & 16\\\\\n",
       "\t 2  &  7 & 12 & 17\\\\\n",
       "\t 3  &  8 & 13 & 18\\\\\n",
       "\t 4  &  9 & 14 & 19\\\\\n",
       "\t 5  & 10 & 15 & 20\\\\\n",
       "\\end{tabular}\n",
       "\n",
       "\\item[\\$age] 5.3\n",
       "\\end{description}\n"
      ],
      "text/markdown": [
       "$id\n",
       ":   'ID_1'\n",
       "$a_vector\n",
       ":   1. 'mouse'\n",
       "2. 'rat'\n",
       "3. 'dog'\n",
       "4. 'bear'\n",
       "\n",
       "\n",
       "\n",
       "$a_matrix\n",
       ":   \n",
       "| 1  |  6 | 11 | 16 | \n",
       "| 2  |  7 | 12 | 17 | \n",
       "| 3  |  8 | 13 | 18 | \n",
       "| 4  |  9 | 14 | 19 | \n",
       "| 5  | 10 | 15 | 20 | \n",
       "\n",
       "\n",
       "\n",
       "$age\n",
       ":   5.3\n",
       "\n",
       "\n"
      ],
      "text/plain": [
       "$id\n",
       "[1] \"ID_1\"\n",
       "\n",
       "$a_vector\n",
       "[1] \"mouse\" \"rat\"   \"dog\"   \"bear\" \n",
       "\n",
       "$a_matrix\n",
       "     [,1] [,2] [,3] [,4]\n",
       "[1,]    1    6   11   16\n",
       "[2,]    2    7   12   17\n",
       "[3,]    3    8   13   18\n",
       "[4,]    4    9   14   19\n",
       "[5,]    5   10   15   20\n",
       "\n",
       "$age\n",
       "[1] 5.3\n"
      ]
     },
     "metadata": {},
     "output_type": "display_data"
    }
   ],
   "source": [
    "myl <- list(id=\"ID_1\", a_vector=animals, a_matrix=y, age=5.3) # example of a list with 4 components\n",
    "myl"
   ]
  },
  {
   "cell_type": "code",
   "execution_count": 93,
   "metadata": {},
   "outputs": [
    {
     "data": {
      "text/html": [
       "<ol class=list-inline>\n",
       "\t<li>'mouse'</li>\n",
       "\t<li>'rat'</li>\n",
       "\t<li>'dog'</li>\n",
       "\t<li>'bear'</li>\n",
       "</ol>\n"
      ],
      "text/latex": [
       "\\begin{enumerate*}\n",
       "\\item 'mouse'\n",
       "\\item 'rat'\n",
       "\\item 'dog'\n",
       "\\item 'bear'\n",
       "\\end{enumerate*}\n"
      ],
      "text/markdown": [
       "1. 'mouse'\n",
       "2. 'rat'\n",
       "3. 'dog'\n",
       "4. 'bear'\n",
       "\n",
       "\n"
      ],
      "text/plain": [
       "[1] \"mouse\" \"rat\"   \"dog\"   \"bear\" "
      ]
     },
     "metadata": {},
     "output_type": "display_data"
    }
   ],
   "source": [
    "myl[[2]] # 2nd component of the list"
   ]
  },
  {
   "cell_type": "code",
   "execution_count": 96,
   "metadata": {},
   "outputs": [
    {
     "data": {
      "text/html": [
       "'ID_1'"
      ],
      "text/latex": [
       "'ID\\_1'"
      ],
      "text/markdown": [
       "'ID_1'"
      ],
      "text/plain": [
       "[1] \"ID_1\""
      ]
     },
     "metadata": {},
     "output_type": "display_data"
    }
   ],
   "source": [
    "myl[[\"id\"]] # component named id in list"
   ]
  },
  {
   "cell_type": "markdown",
   "metadata": {},
   "source": [
    "### Data frame"
   ]
  },
  {
   "cell_type": "markdown",
   "metadata": {},
   "source": [
    "Data frames in R are a special case of lists, as they can have elements of any type, but they have to all be of the same length.\n",
    "\n",
    "A data frame is the most common way of storing tabular data in R and something you will likely deal with a lot. As a first approximation, which holds true, probably in the most cases, you can really think of it as a table or a spreadsheet."
   ]
  },
  {
   "cell_type": "code",
   "execution_count": 97,
   "metadata": {},
   "outputs": [
    {
     "data": {
      "text/html": [
       "<table>\n",
       "<thead><tr><th scope=col>ID</th><th scope=col>Color</th><th scope=col>Passed</th><th scope=col>Weight</th><th scope=col>Height</th></tr></thead>\n",
       "<tbody>\n",
       "\t<tr><td>1    </td><td>red  </td><td> TRUE</td><td>99   </td><td>1.78 </td></tr>\n",
       "\t<tr><td>2    </td><td>white</td><td> TRUE</td><td>54   </td><td>1.67 </td></tr>\n",
       "\t<tr><td>3    </td><td>red  </td><td> TRUE</td><td>85   </td><td>1.82 </td></tr>\n",
       "\t<tr><td>4    </td><td>NA   </td><td>FALSE</td><td>70   </td><td>1.59 </td></tr>\n",
       "</tbody>\n",
       "</table>\n"
      ],
      "text/latex": [
       "\\begin{tabular}{r|lllll}\n",
       " ID & Color & Passed & Weight & Height\\\\\n",
       "\\hline\n",
       "\t 1     & red   &  TRUE & 99    & 1.78 \\\\\n",
       "\t 2     & white &  TRUE & 54    & 1.67 \\\\\n",
       "\t 3     & red   &  TRUE & 85    & 1.82 \\\\\n",
       "\t 4     & NA    & FALSE & 70    & 1.59 \\\\\n",
       "\\end{tabular}\n"
      ],
      "text/markdown": [
       "\n",
       "ID | Color | Passed | Weight | Height | \n",
       "|---|---|---|---|\n",
       "| 1     | red   |  TRUE | 99    | 1.78  | \n",
       "| 2     | white |  TRUE | 54    | 1.67  | \n",
       "| 3     | red   |  TRUE | 85    | 1.82  | \n",
       "| 4     | NA    | FALSE | 70    | 1.59  | \n",
       "\n",
       "\n"
      ],
      "text/plain": [
       "  ID Color Passed Weight Height\n",
       "1 1  red    TRUE  99     1.78  \n",
       "2 2  white  TRUE  54     1.67  \n",
       "3 3  red    TRUE  85     1.82  \n",
       "4 4  NA    FALSE  70     1.59  "
      ]
     },
     "metadata": {},
     "output_type": "display_data"
    }
   ],
   "source": [
    "mydf <- data.frame(ID=c(1:4),\n",
    "                   Color=c(\"red\", \"white\", \"red\", NA),\n",
    "                   Passed=c(TRUE,TRUE,TRUE,FALSE),\n",
    "                   Weight=c(99, 54, 85, 70),\n",
    "                   Height=c(1.78, 1.67, 1.82, 1.59))\n",
    "\n",
    "mydf"
   ]
  },
  {
   "cell_type": "markdown",
   "metadata": {},
   "source": [
    "Challenge\n",
    "1. Create a data frame that holds the following information for yourself, your right and your left neighbor:\n",
    "    * first name\n",
    "    * last name\n",
    "    * lucky number\n",
    "2. There are a few mistakes in this hand-crafted data.frame, can you spot and fix them? Don’t hesitate to experiment!"
   ]
  },
  {
   "cell_type": "code",
   "execution_count": 103,
   "metadata": {},
   "outputs": [
    {
     "data": {
      "text/html": [
       "<table>\n",
       "<thead><tr><th scope=col>ID</th><th scope=col>first_name</th><th scope=col>last_name</th><th scope=col>lucky_number</th></tr></thead>\n",
       "<tbody>\n",
       "\t<tr><td>1      </td><td>Jacobo </td><td>León   </td><td>1      </td></tr>\n",
       "\t<tr><td>2      </td><td>Gerardo</td><td>León   </td><td>3      </td></tr>\n",
       "</tbody>\n",
       "</table>\n"
      ],
      "text/latex": [
       "\\begin{tabular}{r|llll}\n",
       " ID & first\\_name & last\\_name & lucky\\_number\\\\\n",
       "\\hline\n",
       "\t 1       & Jacobo  & León    & 1      \\\\\n",
       "\t 2       & Gerardo & León    & 3      \\\\\n",
       "\\end{tabular}\n"
      ],
      "text/markdown": [
       "\n",
       "ID | first_name | last_name | lucky_number | \n",
       "|---|---|\n",
       "| 1       | Jacobo  | León    | 1       | \n",
       "| 2       | Gerardo | León    | 3       | \n",
       "\n",
       "\n"
      ],
      "text/plain": [
       "  ID first_name last_name lucky_number\n",
       "1 1  Jacobo     León      1           \n",
       "2 2  Gerardo    León      3           "
      ]
     },
     "metadata": {},
     "output_type": "display_data"
    }
   ],
   "source": [
    "df <- data.frame(ID=c(1:2),\n",
    "                 first_name=c('Jacobo','Gerardo'), \n",
    "                 last_name=c('León', 'León'), \n",
    "                 lucky_number=c(1, 3))\n",
    "df"
   ]
  },
  {
   "cell_type": "code",
   "execution_count": 108,
   "metadata": {},
   "outputs": [
    {
     "data": {
      "text/html": [
       "<table>\n",
       "<thead><tr><th scope=col>animal</th><th scope=col>feel</th><th scope=col>weight</th></tr></thead>\n",
       "<tbody>\n",
       "\t<tr><td>dog         </td><td>furry       </td><td>45.0        </td></tr>\n",
       "\t<tr><td>cat         </td><td>squishy     </td><td> 8.0        </td></tr>\n",
       "\t<tr><td>sea cucumber</td><td>spiny       </td><td> 1.1        </td></tr>\n",
       "\t<tr><td>sea urchin  </td><td>NA          </td><td> 0.8        </td></tr>\n",
       "</tbody>\n",
       "</table>\n"
      ],
      "text/latex": [
       "\\begin{tabular}{r|lll}\n",
       " animal & feel & weight\\\\\n",
       "\\hline\n",
       "\t dog          & furry        & 45.0        \\\\\n",
       "\t cat          & squishy      &  8.0        \\\\\n",
       "\t sea cucumber & spiny        &  1.1        \\\\\n",
       "\t sea urchin   & NA           &  0.8        \\\\\n",
       "\\end{tabular}\n"
      ],
      "text/markdown": [
       "\n",
       "animal | feel | weight | \n",
       "|---|---|---|---|\n",
       "| dog          | furry        | 45.0         | \n",
       "| cat          | squishy      |  8.0         | \n",
       "| sea cucumber | spiny        |  1.1         | \n",
       "| sea urchin   | NA           |  0.8         | \n",
       "\n",
       "\n"
      ],
      "text/plain": [
       "  animal       feel    weight\n",
       "1 dog          furry   45.0  \n",
       "2 cat          squishy  8.0  \n",
       "3 sea cucumber spiny    1.1  \n",
       "4 sea urchin   NA       0.8  "
      ]
     },
     "metadata": {},
     "output_type": "display_data"
    }
   ],
   "source": [
    "animal_data <- data.frame(animal=c(\"dog\", \"cat\", \"sea cucumber\", \"sea urchin\"),\n",
    "                          feel=c(\"furry\", \"squishy\", \"spiny\", NA),\n",
    "                          weight=c(45, 8, 1.1, 0.8))\n",
    "\n",
    "animal_data"
   ]
  },
  {
   "cell_type": "markdown",
   "metadata": {},
   "source": [
    "## Extending R base functionality"
   ]
  },
  {
   "cell_type": "markdown",
   "metadata": {},
   "source": [
    "Install from the R console like this"
   ]
  },
  {
   "cell_type": "code",
   "execution_count": 109,
   "metadata": {},
   "outputs": [
    {
     "name": "stderr",
     "output_type": "stream",
     "text": [
      "Warning message:\n",
      "“unable to access index for repository https://cran.r-project.org/src/contrib:\n",
      "  cannot open URL 'https://cran.r-project.org/src/contrib/PACKAGES'”Warning message:\n",
      "“package ‘lubridate’ is not available (for R version 3.4.3)”"
     ]
    }
   ],
   "source": [
    "install.packages(\"lubridate\", dependencies = TRUE)"
   ]
  },
  {
   "cell_type": "markdown",
   "metadata": {},
   "source": [
    "### Make use of the installed packages"
   ]
  },
  {
   "cell_type": "markdown",
   "metadata": {},
   "source": [
    "In order to actually use commands from the installed packages you also will need to load the installed packages:\n",
    "* `library(lubridate)`\n",
    "* `require(lubridate)`\n",
    "\n",
    "The difference between the two is that `library` will result in an error, if the library does not exist, whereas `require` will result in a warning."
   ]
  },
  {
   "cell_type": "markdown",
   "metadata": {},
   "source": [
    "### How to ask for help"
   ]
  },
  {
   "cell_type": "markdown",
   "metadata": {},
   "source": [
    "To share an object with someone else, if it’s relatively small, you can use the function `dput()`. It will output R code that can be used to recreate the exact same object as the one in memory:"
   ]
  },
  {
   "cell_type": "code",
   "execution_count": 112,
   "metadata": {},
   "outputs": [
    {
     "name": "stdout",
     "output_type": "stream",
     "text": [
      "structure(list(Sepal.Length = c(5.1, 4.9, 4.7, 4.6, 5, 5.4), \n",
      "    Sepal.Width = c(3.5, 3, 3.2, 3.1, 3.6, 3.9), Petal.Length = c(1.4, \n",
      "    1.4, 1.3, 1.5, 1.4, 1.7), Petal.Width = c(0.2, 0.2, 0.2, \n",
      "    0.2, 0.2, 0.4), Species = structure(c(1L, 1L, 1L, 1L, 1L, \n",
      "    1L), .Label = c(\"setosa\", \"versicolor\", \"virginica\"), class = \"factor\")), .Names = c(\"Sepal.Length\", \n",
      "\"Sepal.Width\", \"Petal.Length\", \"Petal.Width\", \"Species\"), row.names = c(NA, \n",
      "6L), class = \"data.frame\")\n"
     ]
    }
   ],
   "source": [
    "dput(head(iris)) # iris is an example data frame that comes with R and head() is a function that returns the first part of the data frame"
   ]
  },
  {
   "cell_type": "markdown",
   "metadata": {},
   "source": [
    "Last, but certainly not least, always include the output of sessionInfo() as it provides critical information about your platform, the versions of R and the packages that you are using, and other information that can be very helpful to understand your problem."
   ]
  },
  {
   "cell_type": "code",
   "execution_count": 115,
   "metadata": {},
   "outputs": [
    {
     "data": {
      "text/plain": [
       "R version 3.4.3 (2017-11-30)\n",
       "Platform: x86_64-apple-darwin13.4.0 (64-bit)\n",
       "Running under: OS X El Capitan 10.11.6\n",
       "\n",
       "Matrix products: default\n",
       "BLAS: /System/Library/Frameworks/Accelerate.framework/Versions/A/Frameworks/vecLib.framework/Versions/A/libBLAS.dylib\n",
       "LAPACK: /System/Library/Frameworks/Accelerate.framework/Versions/A/Frameworks/vecLib.framework/Versions/A/libLAPACK.dylib\n",
       "\n",
       "locale:\n",
       "[1] C/UTF-8/C/C/C/C\n",
       "\n",
       "attached base packages:\n",
       "[1] stats     graphics  grDevices utils     datasets  methods   base     \n",
       "\n",
       "loaded via a namespace (and not attached):\n",
       " [1] compiler_3.4.3  magrittr_1.5    IRdisplay_0.5.0 pbdZMQ_0.3-3   \n",
       " [5] tools_3.4.3     htmltools_0.3.6 base64enc_0.1-3 crayon_1.3.4   \n",
       " [9] Rcpp_0.12.17    uuid_0.1-2      stringi_1.2.3   IRkernel_0.8.11\n",
       "[13] jsonlite_1.5    stringr_1.3.1   digest_0.6.15   repr_0.15.0    \n",
       "[17] evaluate_0.10.1"
      ]
     },
     "metadata": {},
     "output_type": "display_data"
    }
   ],
   "source": [
    "sessionInfo()"
   ]
  },
  {
   "cell_type": "code",
   "execution_count": null,
   "metadata": {},
   "outputs": [],
   "source": []
  }
 ],
 "metadata": {
  "kernelspec": {
   "display_name": "R",
   "language": "R",
   "name": "ir"
  },
  "language_info": {
   "codemirror_mode": "r",
   "file_extension": ".r",
   "mimetype": "text/x-r-source",
   "name": "R",
   "pygments_lexer": "r",
   "version": "3.4.3"
  }
 },
 "nbformat": 4,
 "nbformat_minor": 2
}
