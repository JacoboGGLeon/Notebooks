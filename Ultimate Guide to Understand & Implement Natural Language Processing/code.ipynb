{
 "cells": [
  {
   "cell_type": "code",
   "execution_count": 11,
   "metadata": {},
   "outputs": [
    {
     "data": {
      "text/plain": [
       "'sample text'"
      ]
     },
     "execution_count": 11,
     "metadata": {},
     "output_type": "execute_result"
    }
   ],
   "source": [
    "# 2.1 Code 1: Sample code to remove noisy words from a text\n",
    "noise_list = [\"is\", \"a\", \"this\", \"...\"] \n",
    "\n",
    "def _remove_noise(input_text):\n",
    "    words = input_text.split() \n",
    "    noise_free_words = [word for word in words if word not in noise_list] \n",
    "    noise_free_text = \" \".join(noise_free_words) \n",
    "    return noise_free_text\n",
    "\n",
    "_remove_noise(\"this is a sample text\")"
   ]
  },
  {
   "cell_type": "code",
   "execution_count": 14,
   "metadata": {},
   "outputs": [
    {
     "data": {
      "text/plain": [
       "'remove this  from analytics'"
      ]
     },
     "execution_count": 14,
     "metadata": {},
     "output_type": "execute_result"
    }
   ],
   "source": [
    "# 2.1 Code 2: Sample code to remove a regex pattern\n",
    "import re\n",
    "\n",
    "regex_pattern = \"#[\\w]*\"\n",
    "\n",
    "def _remove_regex(input_text, regex_pattern):\n",
    "    urls = re.finditer(regex_pattern, input_text)\n",
    "    for i in urls:\n",
    "        input_text = re.sub(i.group().strip(), '', input_text)\n",
    "    return input_text\n",
    "\n",
    "_remove_regex(\"remove this #hashtag from analytics\", \n",
    "              regex_pattern)"
   ]
  },
  {
   "cell_type": "code",
   "execution_count": 47,
   "metadata": {},
   "outputs": [
    {
     "name": "stdout",
     "output_type": "stream",
     "text": [
      "lemmatization:  multiply\n",
      "stemming:  multipli\n"
     ]
    }
   ],
   "source": [
    "# 2.2 Code 3: Sample code that performs lemmatization and stemming\n",
    "\n",
    "from nltk.stem.wordnet import WordNetLemmatizer\n",
    "from nltk.stem.porter import PorterStemmer\n",
    "\n",
    "#nltk.download('wordnet')\n",
    "\n",
    "word = \"multiplying\"\n",
    "\n",
    "_lem_and_stem(word)\n",
    "\n",
    "def _lem_and_stem(word):\n",
    "    lem = WordNetLemmatizer()\n",
    "    stem = PorterStemmer()\n",
    "    \n",
    "    print(\"lemmatization: \", lem.lemmatize(word, \"v\"))\n",
    "    print(\"stemming: \", stem.stem(word))"
   ]
  },
  {
   "cell_type": "code",
   "execution_count": 46,
   "metadata": {},
   "outputs": [
    {
     "name": "stdout",
     "output_type": "stream",
     "text": [
      "original:  Rt this tweet by the autor, xoxo\n",
      "lookup: retweet this tweet by the autor, hugs and kisses\n"
     ]
    }
   ],
   "source": [
    "# 2.3  Code 4: sample code of a dictionary lookup  method to replace social media slangs from a text\n",
    "\n",
    "lookup_dict = {\"rt\" : \"retweet\", \n",
    "              \"dm\" : \"direct message\",\n",
    "              \"awsm\" : \"awesome\",\n",
    "              \"luv\" : \"love\",\n",
    "              \"xoxo\" : \"hugs and kisses\"}\n",
    "\n",
    "input_text = \"Rt this tweet by the autor, xoxo\"\n",
    "\n",
    "_lookup_words(input_text, lookup_dict)\n",
    "\n",
    "def _lookup_words(input_text, lookup_dict):\n",
    "    words = input_text.split() \n",
    "    new_words = [] \n",
    "    \n",
    "    for word in words:\n",
    "        if word.lower() in lookup_dict:\n",
    "            word = lookup_dict[word.lower()]\n",
    "        new_words.append(word) \n",
    "        new_text = \" \".join(new_words) \n",
    "        \n",
    "    print(\"original: \", input_text)    \n",
    "    print(\"lookup:\", new_text)\n",
    "    return new_text"
   ]
  },
  {
   "cell_type": "code",
   "execution_count": null,
   "metadata": {},
   "outputs": [],
   "source": []
  }
 ],
 "metadata": {
  "kernelspec": {
   "display_name": "Python 3",
   "language": "python",
   "name": "python3"
  },
  "language_info": {
   "codemirror_mode": {
    "name": "ipython",
    "version": 3
   },
   "file_extension": ".py",
   "mimetype": "text/x-python",
   "name": "python",
   "nbconvert_exporter": "python",
   "pygments_lexer": "ipython3",
   "version": "3.6.3"
  }
 },
 "nbformat": 4,
 "nbformat_minor": 2
}
