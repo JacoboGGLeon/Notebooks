{
 "cells": [
  {
   "cell_type": "code",
   "execution_count": 5,
   "metadata": {},
   "outputs": [],
   "source": [
    "import pandas as pd\n",
    "df_wine = pd.read_csv('../Datasets/Reviews.csv')"
   ]
  },
  {
   "cell_type": "code",
   "execution_count": 11,
   "metadata": {},
   "outputs": [
    {
     "name": "stdout",
     "output_type": "stream",
     "text": [
      "Index(['Id', 'ProductId', 'UserId', 'ProfileName', 'HelpfulnessNumerator',\n",
      "       'HelpfulnessDenominator', 'Score', 'Time', 'Summary', 'Text'],\n",
      "      dtype='object')\n",
      "(568454, 10)\n"
     ]
    }
   ],
   "source": [
    "print(df_wine.columns)\n",
    "print(df_wine.shape)\n"
   ]
  },
  {
   "cell_type": "code",
   "execution_count": 2,
   "metadata": {},
   "outputs": [],
   "source": [
    "#1. Standardizing the data\n",
    "\n",
    "# separate training and test sets—using 70 percent and 30 percent of the data\n",
    "from sklearn.model_selection import train_test_split\n",
    "#slice X=[all rows, 1 to all col] y=[all rows, only first col]\n",
    "X, y = df_wine.iloc[:, 1:].values, df_wine.iloc[:, 0].values \n",
    "#Split arrays or matrices into random train and test subsets \n",
    "X_train, X_test, y_train, y_test = train_test_split(X, y, test_size=0.3, stratify=y, random_state=0)"
   ]
  },
  {
   "cell_type": "code",
   "execution_count": 3,
   "metadata": {},
   "outputs": [],
   "source": [
    "# standardize the features\n",
    "from sklearn.preprocessing import StandardScaler\n",
    "#Standardize features by removing the mean and scaling to unit variance\n",
    "sc = StandardScaler()\n",
    "X_train_std = sc.fit_transform(X_train)\n",
    "X_test_std = sc.transform(X_test)"
   ]
  },
  {
   "cell_type": "code",
   "execution_count": 4,
   "metadata": {},
   "outputs": [
    {
     "name": "stdout",
     "output_type": "stream",
     "text": [
      "\n",
      "Matriz de covarianza Σ \n",
      "[[ 1.00813008  0.06709556  0.17405351 -0.35439069  0.26374703  0.29079481\n",
      "   0.21835807 -0.08111974  0.10436705  0.54282846  0.05893536 -0.01797029\n",
      "   0.6415292 ]\n",
      " [ 0.06709556  1.00813008  0.08326463  0.26356776 -0.11349172 -0.33735555\n",
      "  -0.41035281  0.33653916 -0.21602672  0.17504154 -0.551593   -0.40561695\n",
      "  -0.24089991]\n",
      " [ 0.17405351  0.08326463  1.00813008  0.46420355  0.29092834  0.18020384\n",
      "   0.15537535  0.15918823 -0.00703776  0.20549146  0.00665422  0.02039019\n",
      "   0.223495  ]\n",
      " [-0.35439069  0.26356776  0.46420355  1.00813008 -0.07406447 -0.28060672\n",
      "  -0.31391899  0.31581353 -0.24621059 -0.08872685 -0.22595587 -0.16799906\n",
      "  -0.46393412]\n",
      " [ 0.26374703 -0.11349172  0.29092834 -0.07406447  1.00813008  0.25667578\n",
      "   0.21025773 -0.26003426  0.19601657  0.20606456  0.13359768  0.06633258\n",
      "   0.41810999]\n",
      " [ 0.29079481 -0.33735555  0.18020384 -0.28060672  0.25667578  1.00813008\n",
      "   0.87123661 -0.44979792  0.62334099 -0.05689854  0.50664086  0.71978745\n",
      "   0.52986924]\n",
      " [ 0.21835807 -0.41035281  0.15537535 -0.31391899  0.21025773  0.87123661\n",
      "   1.00813008 -0.54824079  0.64800868 -0.15864896  0.60417124  0.79319622\n",
      "   0.52836141]\n",
      " [-0.08111974  0.33653916  0.15918823  0.31581353 -0.26003426 -0.44979792\n",
      "  -0.54824079  1.00813008 -0.39989328  0.19810581 -0.36629252 -0.57622953\n",
      "  -0.34099709]\n",
      " [ 0.10436705 -0.21602672 -0.00703776 -0.24621059  0.19601657  0.62334099\n",
      "   0.64800868 -0.39989328  1.00813008 -0.00330144  0.32019524  0.50615495\n",
      "   0.32976133]\n",
      " [ 0.54282846  0.17504154  0.20549146 -0.08872685  0.20606456 -0.05689854\n",
      "  -0.15864896  0.19810581 -0.00330144  1.00813008 -0.45834115 -0.4666752\n",
      "   0.32156154]\n",
      " [ 0.05893536 -0.551593    0.00665422 -0.22595587  0.13359768  0.50664086\n",
      "   0.60417124 -0.36629252  0.32019524 -0.45834115  1.00813008  0.6435365\n",
      "   0.35356248]\n",
      " [-0.01797029 -0.40561695  0.02039019 -0.16799906  0.06633258  0.71978745\n",
      "   0.79319622 -0.57622953  0.50615495 -0.4666752   0.6435365   1.00813008\n",
      "   0.26670793]\n",
      " [ 0.6415292  -0.24089991  0.223495   -0.46393412  0.41810999  0.52986924\n",
      "   0.52836141 -0.34099709  0.32976133  0.32156154  0.35356248  0.26670793\n",
      "   1.00813008]]\n",
      "\n",
      "Eigen-valores \n",
      "[ 4.84274532  2.41602459  1.54845825  0.96120438  0.84166161  0.6620634\n",
      "  0.51828472  0.34650377  0.3131368   0.10754642  0.21357215  0.15362835\n",
      "  0.1808613 ]\n",
      "\n",
      "Eigen-vectores \n",
      "[[ -1.37242175e-01   5.03034778e-01  -1.37748734e-01  -3.29610003e-03\n",
      "   -2.90625226e-01   2.99096847e-01   7.90529293e-02  -3.68176414e-01\n",
      "   -3.98377017e-01  -9.44869777e-02   3.74638877e-01  -1.27834515e-01\n",
      "    2.62834263e-01]\n",
      " [  2.47243265e-01   1.64871190e-01   9.61503863e-02   5.62646692e-01\n",
      "    8.95378697e-02   6.27036396e-01  -2.74002014e-01  -1.25775752e-02\n",
      "    1.10458230e-01   2.63652406e-02  -1.37405597e-01   8.06401578e-02\n",
      "   -2.66769211e-01]\n",
      " [ -2.54515927e-02   2.44564761e-01   6.77775667e-01  -1.08977111e-01\n",
      "   -1.60834991e-01   3.89128239e-04   1.32328045e-01   1.77578177e-01\n",
      "    3.82496856e-01   1.42747511e-01   4.61583035e-01   1.67924873e-02\n",
      "   -1.15542548e-01]\n",
      " [  2.06945084e-01  -1.13529045e-01   6.25040550e-01   3.38187002e-02\n",
      "    5.15873402e-02  -4.05836452e-02   2.23999097e-01  -4.40592110e-01\n",
      "   -2.43373853e-01  -1.30485780e-01  -4.18953989e-01  -1.10845657e-01\n",
      "    1.99483410e-01]\n",
      " [ -1.54365821e-01   2.89745182e-01   1.96135481e-01  -3.67511070e-01\n",
      "    6.76487073e-01   6.57772614e-02  -4.05268966e-01   1.16617503e-01\n",
      "   -2.58982359e-01  -6.76080782e-02   1.00470630e-02   7.93879562e-02\n",
      "    2.89018810e-02]\n",
      " [ -3.93769523e-01   5.08010391e-02   1.40310572e-01   2.40245127e-01\n",
      "   -1.18511144e-01  -5.89776247e-02  -3.47419412e-02   3.50192127e-01\n",
      "   -3.42312860e-01   4.59917661e-01  -2.21254241e-01  -4.91459313e-01\n",
      "   -6.63868598e-02]\n",
      " [ -4.17351064e-01  -2.28733792e-02   1.17053859e-01   1.87053299e-01\n",
      "   -1.07100349e-01  -3.01103180e-02   4.17835724e-02   2.18718183e-01\n",
      "   -3.61231642e-02  -8.14583947e-01  -4.17513600e-02  -5.03074004e-02\n",
      "   -2.13349079e-01]\n",
      " [  3.05728961e-01   9.04888470e-02   1.31217777e-01  -2.29262234e-02\n",
      "   -5.07581610e-01  -2.71728086e-01  -6.31145686e-01   1.97129425e-01\n",
      "   -1.71436883e-01  -9.57480885e-02  -8.87569452e-02   1.75328030e-01\n",
      "    1.86391279e-01]\n",
      " [ -3.06683469e-01   8.35232677e-03   3.04309008e-02   4.96262330e-01\n",
      "    2.01634619e-01  -4.39997519e-01  -3.23122775e-01  -4.33055871e-01\n",
      "    2.44370210e-01   6.72468934e-02   1.99921861e-01  -3.67595797e-03\n",
      "    1.68082985e-01]\n",
      " [  7.55406578e-02   5.49775805e-01  -7.99299713e-02   1.06482939e-01\n",
      "    5.73607091e-03  -4.11743459e-01   2.69082623e-01  -6.68411823e-02\n",
      "   -1.55514919e-01   8.73336218e-02  -2.21668868e-01   3.59756535e-01\n",
      "   -4.66369031e-01]\n",
      " [ -3.26132628e-01  -2.07164328e-01   5.30591506e-02  -3.69053747e-01\n",
      "   -2.76914216e-01   1.41673377e-01  -3.02640661e-01  -4.59762295e-01\n",
      "    2.11961247e-02   1.29061125e-01  -9.84694573e-02   4.04669797e-02\n",
      "   -5.32483880e-01]\n",
      " [ -3.68610222e-01  -2.49025357e-01   1.32391030e-01   1.42016088e-01\n",
      "   -6.66275572e-02   1.75842384e-01   1.30540143e-01   1.10827548e-01\n",
      "   -2.38089559e-01   1.87646268e-01   1.91205783e-02   7.42229543e-01\n",
      "    2.37835283e-01]\n",
      " [ -2.96696514e-01   3.80229423e-01  -7.06502178e-02  -1.67682173e-01\n",
      "   -1.28029045e-01   1.38018388e-01   8.11335043e-04   5.60817288e-03\n",
      "    5.17278463e-01   1.21112574e-02  -5.42532072e-01   3.87395209e-02\n",
      "    3.67763359e-01]]\n"
     ]
    }
   ],
   "source": [
    "#linalg.eig function from NumPy to obtain the eigenpairs of the Wine covariance matrix\n",
    "import numpy as np\n",
    "cov_mat = np.cov(X_train_std.T)\n",
    "eigen_vals, eigen_vecs = np.linalg.eig(cov_mat)\n",
    "print('\\nMatriz de covarianza Σ \\n%s' % cov_mat)\n",
    "print('\\nEigen-valores \\n%s' % eigen_vals)\n",
    "print('\\nEigen-vectores \\n%s' % eigen_vecs)"
   ]
  },
  {
   "cell_type": "code",
   "execution_count": 5,
   "metadata": {},
   "outputs": [],
   "source": [
    "#cumsum we can then calculate the cumulative sum of explained variances\n",
    "tot = sum(eigen_vals)\n",
    "var_exp = [(i / tot) for i in\n",
    "sorted(eigen_vals, reverse=True)]\n",
    "cum_var_exp = np.cumsum(var_exp)"
   ]
  },
  {
   "cell_type": "code",
   "execution_count": 6,
   "metadata": {},
   "outputs": [
    {
     "data": {
      "text/plain": [
       "<matplotlib.figure.Figure at 0x1a0969bdd8>"
      ]
     },
     "metadata": {},
     "output_type": "display_data"
    }
   ],
   "source": [
    "#plot via Matplotlib's step function\n",
    "import matplotlib.pyplot as plt\n",
    "plt.bar(range(1,14), var_exp, alpha=0.5, align='center', label='varianza explicada individual')\n",
    "plt.step(range(1,14), cum_var_exp, where='mid', label='varianza explicada acumulada')\n",
    "plt.ylabel('Relación de varianza explicada ')\n",
    "plt.xlabel('Índice del Componente Principal')\n",
    "plt.title('Variance Explained Ratios')\n",
    "plt.legend(loc='best')\n",
    "plt.show()"
   ]
  },
  {
   "cell_type": "code",
   "execution_count": 7,
   "metadata": {},
   "outputs": [
    {
     "name": "stdout",
     "output_type": "stream",
     "text": [
      "Matriz W:\n",
      " [[-0.13724218  0.50303478]\n",
      " [ 0.24724326  0.16487119]\n",
      " [-0.02545159  0.24456476]\n",
      " [ 0.20694508 -0.11352904]\n",
      " [-0.15436582  0.28974518]\n",
      " [-0.39376952  0.05080104]\n",
      " [-0.41735106 -0.02287338]\n",
      " [ 0.30572896  0.09048885]\n",
      " [-0.30668347  0.00835233]\n",
      " [ 0.07554066  0.54977581]\n",
      " [-0.32613263 -0.20716433]\n",
      " [-0.36861022 -0.24902536]\n",
      " [-0.29669651  0.38022942]]\n"
     ]
    }
   ],
   "source": [
    "# Make a list of (eigenvalue, eigenvector) tuples\n",
    "eigen_pairs = [(np.abs(eigen_vals[i]), eigen_vecs[:, i])\n",
    "\n",
    "for i in range(len(eigen_vals))]\n",
    "# Sort the (eigenvalue, eigenvector) tuples from high to low\n",
    "eigen_pairs.sort(key=lambda k: k[0], reverse=True)\n",
    "\n",
    "#collect the two eigenvectors that correspond to the two largest eigenvalues\n",
    "w = np.hstack((eigen_pairs[0][1][:, np.newaxis], eigen_pairs[1][1][:, np.newaxis]))\n",
    "print('Matriz W:\\n', w)"
   ]
  },
  {
   "cell_type": "code",
   "execution_count": 8,
   "metadata": {},
   "outputs": [],
   "source": [
    "#we can now transform a sample x (represented as a 1 x 13-dimensional row vector) onto the PCA subspace\n",
    "X_train_std[0].dot(w)\n",
    "\n",
    "#transform the entire 124 x 13-dimensional training dataset onto the two principal components by calculating the matrix dot product\n",
    "X_train_pca = X_train_std.dot(w)"
   ]
  },
  {
   "cell_type": "code",
   "execution_count": 9,
   "metadata": {},
   "outputs": [
    {
     "data": {
      "image/png": "[encoded data removed]",
      "text/plain": [
       "<matplotlib.figure.Figure at 0x1a12286080>"
      ]
     },
     "metadata": {},
     "output_type": "display_data"
    }
   ],
   "source": [
    "colors = ['r', 'b', 'g']\n",
    "markers = ['s', 'x', 'o']\n",
    "for l, c, m in zip(np.unique(y_train), colors, markers):\n",
    "    plt.scatter(X_train_pca[y_train==l, 0],X_train_pca[y_train==l, 1],c=c, label=l, marker=m)\n",
    "    \n",
    "plt.xlabel('Componente Principal 1')\n",
    "plt.ylabel('Componente Principal 2')\n",
    "plt.title('PCA 2-dimensional')\n",
    "plt.legend(loc='lower left')\n",
    "plt.show()"
   ]
  },
  {
   "cell_type": "code",
   "execution_count": 10,
   "metadata": {},
   "outputs": [],
   "source": [
    "#classify the transformed samples via logistic regression, and visualize the decision regions via the plot_decision_region function\n",
    "from matplotlib.colors import ListedColormap\n",
    "def plot_decision_regions(X, y, classifier, resolution=0.02):\n",
    "    # setup marker generator and color map\n",
    "    markers = ('s', 'x', 'o', '^', 'v')\n",
    "    colors = ('red', 'blue', 'lightgreen', 'gray', 'cyan')\n",
    "    cmap = ListedColormap(colors[:len(np.unique(y))])\n",
    "    \n",
    "    # plot the decision surface\n",
    "    x1_min, x1_max = X[:, 0].min() - 1, X[:, 0].max() + 1\n",
    "    x2_min, x2_max = X[:, 1].min() - 1, X[:, 1].max() + 1\n",
    "    xx1, xx2 = np.meshgrid(np.arange(x1_min, x1_max, resolution),\n",
    "                           np.arange(x2_min, x2_max, resolution))\n",
    "    Z = classifier.predict(np.array([xx1.ravel(), xx2.ravel()]).T)\n",
    "    Z = Z.reshape(xx1.shape)\n",
    "    plt.contourf(xx1, xx2, Z, alpha=0.4, cmap=cmap)\n",
    "    plt.xlim(xx1.min(), xx1.max())\n",
    "    plt.ylim(xx2.min(), xx2.max())\n",
    "\n",
    "    # plot class samples\n",
    "    for idx, cl in enumerate(np.unique(y)):\n",
    "        plt.scatter(x=X[y == cl, 0], \n",
    "                    y=X[y == cl, 1],\n",
    "                    alpha=0.6, \n",
    "                    c=cmap(idx),\n",
    "                    edgecolor='black',\n",
    "                    marker=markers[idx], \n",
    "                    label=cl)"
   ]
  },
  {
   "cell_type": "code",
   "execution_count": 11,
   "metadata": {},
   "outputs": [
    {
     "data": {
      "image/png": "[encoded data removed]",
      "text/plain": [
       "<matplotlib.figure.Figure at 0x1a12547128>"
      ]
     },
     "metadata": {},
     "output_type": "display_data"
    },
    {
     "data": {
      "image/png": "[encoded data removed]",
      "text/plain": [
       "<matplotlib.figure.Figure at 0x1a13f32e10>"
      ]
     },
     "metadata": {},
     "output_type": "display_data"
    }
   ],
   "source": [
    "#Training Simple Machine Learning Algorithms for Classification\n",
    "from sklearn.linear_model import LogisticRegression\n",
    "from sklearn.decomposition import PCA\n",
    "pca = PCA(n_components=2)\n",
    "lr = LogisticRegression()\n",
    "X_train_pca = pca.fit_transform(X_train_std)\n",
    "X_test_pca = pca.transform(X_test_std)\n",
    "lr.fit(X_train_pca, y_train)\n",
    "\n",
    "#trainning\n",
    "plot_decision_regions(X_train_pca, y_train, classifier=lr)\n",
    "plt.xlabel('Componente Principal 1')\n",
    "plt.ylabel('Componente Principal 2')\n",
    "plt.title('Set: trainning')\n",
    "plt.legend(loc='lower left')\n",
    "plt.show()\n",
    "\n",
    "#test\n",
    "plot_decision_regions(X_test_pca, y_test, classifier=lr)\n",
    "plt.xlabel('Componente Principal 1')\n",
    "plt.ylabel('Componente Principal 2')\n",
    "plt.title('Set: test')\n",
    "plt.legend(loc='lower left')\n",
    "plt.show()"
   ]
  },
  {
   "cell_type": "code",
   "execution_count": 12,
   "metadata": {},
   "outputs": [
    {
     "data": {
      "text/plain": [
       "array([ 0.36951469,  0.18434927,  0.11815159,  0.07334252,  0.06422108,\n",
       "        0.05051724,  0.03954654,  0.02643918,  0.02389319,  0.01629614,\n",
       "        0.01380021,  0.01172226,  0.00820609])"
      ]
     },
     "execution_count": 12,
     "metadata": {},
     "output_type": "execute_result"
    }
   ],
   "source": [
    "#explained variance ratios of the different principal components\n",
    "pca = PCA(n_components=None)\n",
    "X_train_pca = pca.fit_transform(X_train_std)\n",
    "pca.explained_variance_ratio_"
   ]
  },
  {
   "cell_type": "code",
   "execution_count": null,
   "metadata": {},
   "outputs": [],
   "source": []
  }
 ],
 "metadata": {
  "kernelspec": {
   "display_name": "Python 3",
   "language": "python",
   "name": "python3"
  },
  "language_info": {
   "codemirror_mode": {
    "name": "ipython",
    "version": 3
   },
   "file_extension": ".py",
   "mimetype": "text/x-python",
   "name": "python",
   "nbconvert_exporter": "python",
   "pygments_lexer": "ipython3",
   "version": "3.6.3"
  }
 },
 "nbformat": 4,
 "nbformat_minor": 2
}
