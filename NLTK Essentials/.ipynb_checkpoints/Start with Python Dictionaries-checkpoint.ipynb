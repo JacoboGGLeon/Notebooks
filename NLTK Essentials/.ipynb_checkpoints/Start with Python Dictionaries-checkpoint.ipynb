{
 "cells": [
  {
   "cell_type": "code",
   "execution_count": 8,
   "metadata": {},
   "outputs": [
    {
     "name": "stdout",
     "output_type": "stream",
     "text": [
      "i:  And\n",
      "i:  the\n",
      "i:  Monty\n",
      "i:  Python\n",
      "i:  !\n",
      "i:  And\n",
      "i:  the\n",
      "i:  holy\n",
      "i:  Grail\n",
      "i:  !\n",
      "Word frequency:  {'And': 2, 'the': 2, 'Monty': 1, 'Python': 1, '!': 2, 'holy': 1, 'Grail': 1}\n"
     ]
    }
   ],
   "source": [
    "\"\"\"\n",
    "Dictionaries are a commonly used data structures also known as associative arrays/memories\n",
    "Dictionaries are data structures that are indexed by keys, which can be any immutable type, such as strings and numbers\n",
    "Dictionaries are handy data structure that used across programming languages\n",
    "\"\"\"\n",
    "\n",
    "# example to get the frequency of words\n",
    "\n",
    "mystring = \"And the Monty Python !  And the holy Grail ! \\n\"\n",
    "\n",
    "# declare a dictionary\n",
    "word_freq = {}\n",
    "\n",
    "for i in mystring.split():\n",
    "    print(\"i: \", i)\n",
    "    if i in word_freq:\n",
    "        word_freq[i] += 1\n",
    "    else:\n",
    "        word_freq[i] = 1\n",
    "        \n",
    "print(\"Word frequency: \", word_freq)"
   ]
  },
  {
   "cell_type": "code",
   "execution_count": null,
   "metadata": {},
   "outputs": [],
   "source": []
  }
 ],
 "metadata": {
  "kernelspec": {
   "display_name": "Python 3",
   "language": "python",
   "name": "python3"
  },
  "language_info": {
   "codemirror_mode": {
    "name": "ipython",
    "version": 3
   },
   "file_extension": ".py",
   "mimetype": "text/x-python",
   "name": "python",
   "nbconvert_exporter": "python",
   "pygments_lexer": "ipython3",
   "version": "3.6.3"
  }
 },
 "nbformat": 4,
 "nbformat_minor": 2
}
