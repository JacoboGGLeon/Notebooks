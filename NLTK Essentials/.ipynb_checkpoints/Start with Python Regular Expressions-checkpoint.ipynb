{
 "cells": [
  {
   "cell_type": "code",
   "execution_count": 1,
   "metadata": {},
   "outputs": [
    {
     "data": {
      "text/plain": [
       "'\\nRegular expressions is effectively patter matching on strings.\\nWe heavily use pattern extrication to get meaningful information from large amounts of messy data\\n\\n(a period): this expression matches any signle character expcept newline \\n\\n\\\\w: this expression will match a character or a digit equivalent to [a-z A-Z 0-9]\\n\\\\W: this expression matches any non-world character\\n\\\\s: this expression matches a single whitespace character - space, newline, return, tab, form[\\n\\r\\t\\x0c]\\n\\\\S: this expression matches any non-whitespace character\\n\\t: this expression performs a tab operation\\n\\n: this expression is used for a newline character\\n\\r: this expression is used for a return character\\n\\\\d: decimal digir [0-9]\\n^: this expression is used at the start of the string\\n$: this expression is used at the end of the string\\n\\\\: this expression is used to nullify the especialness of the special character\\n'"
      ]
     },
     "execution_count": 1,
     "metadata": {},
     "output_type": "execute_result"
    }
   ],
   "source": [
    "\"\"\"\n",
    "Regular expressions is effectively patter matching on strings.\n",
    "We heavily use pattern extrication to get meaningful information from large amounts of messy data\n",
    "\n",
    "(a period): this expression matches any signle character expcept newline \\n\n",
    "\\w: this expression will match a character or a digit equivalent to [a-z A-Z 0-9]\n",
    "\\W: this expression matches any non-world character\n",
    "\\s: this expression matches a single whitespace character - space, newline, return, tab, form[\\n\\r\\t\\f]\n",
    "\\S: this expression matches any non-whitespace character\n",
    "\\t: this expression performs a tab operation\n",
    "\\n: this expression is used for a newline character\n",
    "\\r: this expression is used for a return character\n",
    "\\d: decimal digir [0-9]\n",
    "^: this expression is used at the start of the string\n",
    "$: this expression is used at the end of the string\n",
    "\\: this expression is used to nullify the especialness of the special character\n",
    "\"\"\""
   ]
  },
  {
   "cell_type": "code",
   "execution_count": 16,
   "metadata": {},
   "outputs": [
    {
     "name": "stdout",
     "output_type": "stream",
     "text": [
      "we found Python\n"
     ]
    }
   ],
   "source": [
    "# we have to import re module to use regular expression\n",
    "import re \n",
    "\n",
    "mystring = \"! ! Monty Python ! And the holy Grail ! \\n\"\n",
    "\n",
    "if re.search(\"Py\", mystring):\n",
    "    print(\"we found Python\")\n",
    "else:\n",
    "    print(\"Python no found\")"
   ]
  },
  {
   "cell_type": "code",
   "execution_count": 17,
   "metadata": {},
   "outputs": [
    {
     "name": "stdout",
     "output_type": "stream",
     "text": [
      "['!', '!', '!', '!']\n"
     ]
    }
   ],
   "source": [
    "# findall: finding all the patterns in a string\n",
    "print(re.findall(\"!\", mystring))"
   ]
  },
  {
   "cell_type": "code",
   "execution_count": null,
   "metadata": {},
   "outputs": [],
   "source": []
  }
 ],
 "metadata": {
  "kernelspec": {
   "display_name": "Python 3",
   "language": "python",
   "name": "python3"
  },
  "language_info": {
   "codemirror_mode": {
    "name": "ipython",
    "version": 3
   },
   "file_extension": ".py",
   "mimetype": "text/x-python",
   "name": "python",
   "nbconvert_exporter": "python",
   "pygments_lexer": "ipython3",
   "version": "3.6.3"
  }
 },
 "nbformat": 4,
 "nbformat_minor": 2
}
