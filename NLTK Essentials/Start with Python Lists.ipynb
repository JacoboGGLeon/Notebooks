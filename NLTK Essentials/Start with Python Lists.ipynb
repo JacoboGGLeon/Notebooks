{
 "cells": [
  {
   "cell_type": "code",
   "execution_count": 58,
   "metadata": {},
   "outputs": [
    {
     "name": "stdout",
     "output_type": "stream",
     "text": [
      "['A', 2, 'c', 4, 5.5]\n"
     ]
    }
   ],
   "source": [
    "# mostly like arrays in typical languages\n",
    "lst = [\"A\", 2, \"c\", 4, 5.5]\n",
    "print(lst)"
   ]
  },
  {
   "cell_type": "code",
   "execution_count": 59,
   "metadata": {},
   "outputs": [
    {
     "name": "stdout",
     "output_type": "stream",
     "text": [
      "First element:  A\n",
      "Last element:  5.5\n",
      "First three elements:  ['A', 2, 'c']\n",
      "Last three elements:  ['c', 4, 5.5]\n"
     ]
    }
   ],
   "source": [
    "# Python lists can be accessed using much more flexible indexing\n",
    "print(\"First element: \", lst[0])\n",
    "print(\"Last element: \", lst[-1])\n",
    "print(\"First three elements: \", lst[0:3])\n",
    "print(\"Last three elements: \", lst[-3:])"
   ]
  },
  {
   "cell_type": "code",
   "execution_count": 60,
   "metadata": {},
   "outputs": [
    {
     "data": {
      "text/plain": [
       "'__add__,__class__,__contains__,__delattr__,__delitem__,__dir__,__doc__,__eq__,__format__,__ge__,__getattribute__,__getitem__,__gt__,__hash__,__iadd__,__imul__,__init__,__init_subclass__,__iter__,__le__,__len__,__lt__,__mul__,__ne__,__new__,__reduce__,__reduce_ex__,__repr__,__reversed__,__rmul__,__setattr__,__setitem__,__sizeof__,__str__,__subclasshook__,append,clear,copy,count,extend,index,insert,pop,remove,reverse,sort'"
      ]
     },
     "execution_count": 60,
     "metadata": {},
     "output_type": "execute_result"
    }
   ],
   "source": [
    "#dir(Python object) command is used to list all the given attributes of the given Python object\n",
    "\",\".join(dir(lst))"
   ]
  },
  {
   "cell_type": "code",
   "execution_count": 61,
   "metadata": {},
   "outputs": [
    {
     "name": "stdout",
     "output_type": "stream",
     "text": [
      "Help on built-in function index:\n",
      "\n",
      "index(...) method of builtins.list instance\n",
      "    L.index(value, [start, [stop]]) -> integer -- return first index of value.\n",
      "    Raises ValueError if the value is not present.\n",
      "\n"
     ]
    }
   ],
   "source": [
    "#help(python object) command is used to get detailed documentation for given Python object\n",
    "help(lst.index)"
   ]
  },
  {
   "cell_type": "code",
   "execution_count": 62,
   "metadata": {},
   "outputs": [
    {
     "name": "stdout",
     "output_type": "stream",
     "text": [
      "Monty Python ! And the holy Grail ! \n",
      "\n",
      "['Monty', 'Python', '!', 'And', 'the', 'holy', 'Grail', '!']\n"
     ]
    }
   ],
   "source": [
    "# split: this is a method to split the string based on some delimiters\n",
    "mystring = \"Monty Python ! And the holy Grail ! \\n\"\n",
    "\n",
    "print(mystring)\n",
    "print(mystring.split())"
   ]
  },
  {
   "cell_type": "code",
   "execution_count": 63,
   "metadata": {},
   "outputs": [
    {
     "name": "stdout",
     "output_type": "stream",
     "text": [
      "Monty Python ! And the holy Grail ! \n",
      "\n",
      "Monty Python ! And the holy Grail !\n",
      "Monty Python ! And the holy Grail !\n",
      "Monty Python ! And the holy Grail ! \n",
      "\n"
     ]
    }
   ],
   "source": [
    "# strip: this is a method that can remove trailing whitespace\n",
    "print(mystring)\n",
    "print(mystring.strip())\n",
    "\n",
    "# methods like rstrip() and lstrip() trailing whitespaces to the right and left fo the string\n",
    "print(mystring.rstrip())\n",
    "print(mystring.lstrip())"
   ]
  },
  {
   "cell_type": "code",
   "execution_count": 64,
   "metadata": {},
   "outputs": [
    {
     "name": "stdout",
     "output_type": "stream",
     "text": [
      "MONTY PYTHON ! AND THE HOLY GRAIL ! \n",
      "\n",
      "monty python ! and the holy grail ! \n",
      "\n"
     ]
    }
   ],
   "source": [
    "# upper() and lower(): to change the case of the string \n",
    "print(mystring.upper())\n",
    "print(mystring.lower())"
   ]
  },
  {
   "cell_type": "code",
   "execution_count": 65,
   "metadata": {},
   "outputs": [
    {
     "name": "stdout",
     "output_type": "stream",
     "text": [
      "Monty Python * And the holy Grail * \n",
      "\n"
     ]
    }
   ],
   "source": [
    "# replace(): this will help you substitute a substring from the string\n",
    "print(mystring.replace(\"!\", \"*\"))"
   ]
  },
  {
   "cell_type": "code",
   "execution_count": null,
   "metadata": {},
   "outputs": [],
   "source": []
  }
 ],
 "metadata": {
  "kernelspec": {
   "display_name": "Python 3",
   "language": "python",
   "name": "python3"
  },
  "language_info": {
   "codemirror_mode": {
    "name": "ipython",
    "version": 3
   },
   "file_extension": ".py",
   "mimetype": "text/x-python",
   "name": "python",
   "nbconvert_exporter": "python",
   "pygments_lexer": "ipython3",
   "version": "3.6.3"
  }
 },
 "nbformat": 4,
 "nbformat_minor": 2
}
