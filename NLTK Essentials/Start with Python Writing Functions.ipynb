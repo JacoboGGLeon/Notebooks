{
 "cells": [
  {
   "cell_type": "code",
   "execution_count": 6,
   "metadata": {},
   "outputs": [
    {
     "name": "stdout",
     "output_type": "stream",
     "text": [
      "String:  This is my fist python program\n",
      "Word frequency:  {'This': 1, 'is': 1, 'my': 1, 'fist': 1, 'python': 1, 'program': 1}\n"
     ]
    }
   ],
   "source": [
    "# functions starts with keyword 'def' followed by the function name and parentheses '()'\n",
    "# the actual code starts with ':' colon symbol \n",
    "# the initial lines of the code are typically doc strings (comments)\n",
    "# the functions ends with a return statement\n",
    "\n",
    "import sys\n",
    "\n",
    "\n",
    "def word_freq(mystring):\n",
    "    # function to generated the frequency distribution of the givin text\n",
    "    print(\"String: \", mystring)\n",
    "    \n",
    "    # declare a dictionary\n",
    "    word_freq = {}\n",
    "    \n",
    "    for i in mystring.split():\n",
    "        if i in word_freq:\n",
    "            word_freq[i] += 1\n",
    "        else:\n",
    "            word_freq[i] = 1\n",
    "            \n",
    "    print(\"Word frequency: \", word_freq)\n",
    "            \n",
    "def main():\n",
    "    str = \"This is my fist python program\"\n",
    "    word_freq(str)\n",
    "    \n",
    "if __name__ == '__main__':\n",
    "    main()\n",
    "\n",
    "#mystring = \"And the Monty Python !  And the holy Grail ! \\n\""
   ]
  },
  {
   "cell_type": "code",
   "execution_count": null,
   "metadata": {},
   "outputs": [],
   "source": []
  }
 ],
 "metadata": {
  "kernelspec": {
   "display_name": "Python 3",
   "language": "python",
   "name": "python3"
  },
  "language_info": {
   "codemirror_mode": {
    "name": "ipython",
    "version": 3
   },
   "file_extension": ".py",
   "mimetype": "text/x-python",
   "name": "python",
   "nbconvert_exporter": "python",
   "pygments_lexer": "ipython3",
   "version": "3.6.3"
  }
 },
 "nbformat": 4,
 "nbformat_minor": 2
}
